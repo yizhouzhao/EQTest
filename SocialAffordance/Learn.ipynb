{
 "cells": [
  {
   "cell_type": "code",
   "execution_count": 1,
   "metadata": {},
   "outputs": [],
   "source": [
    "import os\n",
    "import numpy as np"
   ]
  },
  {
   "cell_type": "code",
   "execution_count": 2,
   "metadata": {},
   "outputs": [],
   "source": [
    "from Params import *"
   ]
  },
  {
   "cell_type": "code",
   "execution_count": 3,
   "metadata": {},
   "outputs": [
    {
     "data": {
      "text/plain": [
       "'E:\\\\researches\\\\EQTest\\\\SocialAffordance'"
      ]
     },
     "execution_count": 3,
     "metadata": {},
     "output_type": "execute_result"
    }
   ],
   "source": [
    "os.getcwd()"
   ]
  },
  {
   "cell_type": "code",
   "execution_count": 4,
   "metadata": {},
   "outputs": [],
   "source": [
    "survey = []"
   ]
  },
  {
   "cell_type": "code",
   "execution_count": 5,
   "metadata": {},
   "outputs": [],
   "source": [
    "label_path = \"../data/label.txt\""
   ]
  },
  {
   "cell_type": "code",
   "execution_count": 6,
   "metadata": {},
   "outputs": [],
   "source": [
    "with open(label_path, \"r\") as f:\n",
    "    for line in f.readlines():\n",
    "        line_info = line.strip().split(\",\")\n",
    "        #print(line_info)\n",
    "        sample_info = line_info[0].split(\"_\")\n",
    "        item = {\"m1\": sample_info[0], \"e11\": sample_info[1], \"e12\": sample_info[2],\n",
    "               \"m2\": sample_info[3], \"e21\": sample_info[4], \"e22\": sample_info[5],\n",
    "               \"d\": sample_info[6], \"t\": sample_info[7]}\n",
    "        label_info = line_info[1].split(\"_\")\n",
    "        item[\"quality\"] = label_info[0]\n",
    "        item[\"dominance\"] = label_info[1]\n",
    "        item[\"intimacy\"] = label_info[2]\n",
    "        \n",
    "        survey.append(item)\n",
    "        \n",
    "        "
   ]
  },
  {
   "cell_type": "code",
   "execution_count": 7,
   "metadata": {},
   "outputs": [
    {
     "name": "stdout",
     "output_type": "stream",
     "text": [
      "{'m1': 'Sad', 'e11': 'Scared', 'e12': 'Mock', 'm2': 'Laughing', 'e21': 'Sad', 'e22': 'Neutral', 'd': '4', 't': '2', 'quality': 'Bad', 'dominance': 'Equal', 'intimacy': 'Medium'} {'m1': 'Wiping', 'e11': 'Tired', 'e12': 'Surprise', 'm2': 'Whatever', 'e21': 'Confused', 'e22': 'Sad', 'd': '4', 't': '1', 'quality': 'Good', 'dominance': 'Character two', 'intimacy': 'Close'} {'m1': 'Defeat', 'e11': 'Excited', 'e12': 'Confused', 'm2': 'Shaking', 'e21': 'Curious', 'e22': 'Frustrated', 'd': '4', 't': '-2', 'quality': 'Good', 'dominance': 'Character one', 'intimacy': 'Medium'} {'m1': 'Arguing', 'e11': 'Frustrated', 'e12': 'Tired', 'm2': 'Shaking', 'e21': 'Dissatisfied', 'e22': 'Embarrased', 'd': '4', 't': '-2', 'quality': 'Good', 'dominance': 'Character two', 'intimacy': 'Alienated'} {'m1': 'Bow', 'e11': 'Tired', 'e12': 'Confused', 'm2': 'Bow', 'e21': 'Disgust', 'e22': 'Curious', 'd': '4', 't': '2', 'quality': 'Good', 'dominance': 'Equal', 'intimacy': 'Medium'} {'m1': 'Offensive', 'e11': 'Embarrased', 'e12': 'Surprise', 'm2': 'Clapping', 'e21': 'Surprise', 'e22': 'Confused', 'd': '2', 't': '2', 'quality': 'Bad', 'dominance': 'Character one', 'intimacy': 'Alienated'} {'m1': 'Clapping', 'e11': 'Excited', 'e12': 'Dissatisfied', 'm2': 'Head Shake', 'e21': 'Tired', 'e22': 'Mock', 'd': '8', 't': '0', 'quality': 'Just so so', 'dominance': 'Character two', 'intimacy': 'Medium'} {'m1': 'Agreeing', 'e11': 'Madness', 'e12': 'Frustrated', 'm2': 'Rubbing', 'e21': 'Mock', 'e22': 'Annoyed', 'd': '4', 't': '0', 'quality': 'Just so so', 'dominance': 'Equal', 'intimacy': 'Medium'} {'m1': 'Kiss', 'e11': 'Sad', 'e12': 'Happy', 'm2': 'Taunt', 'e21': 'Angry', 'e22': 'Disgust', 'd': '8', 't': '0', 'quality': 'Bad', 'dominance': 'Character two', 'intimacy': 'Alienated'} {'m1': 'Forward', 'e11': 'Surprise', 'e12': 'Annoyed', 'm2': 'Waving', 'e21': 'Dissatisfied', 'e22': 'Curious', 'd': '4', 't': '2', 'quality': 'Good', 'dominance': 'Character two', 'intimacy': 'Medium'} {'m1': 'Excited', 'e11': 'Excited', 'e12': 'Sad', 'm2': 'Charge', 'e21': 'Happy', 'e22': 'Madness', 'd': '2', 't': '0', 'quality': 'Bad', 'dominance': 'Character two', 'intimacy': 'Medium'} {'m1': 'Forward', 'e11': 'Excited', 'e12': 'Surprise', 'm2': 'Terrified', 'e21': 'Happy', 'e22': 'Hate', 'd': '8', 't': '-2', 'quality': 'Just so so', 'dominance': 'Character one', 'intimacy': 'Medium'} {'m1': 'Acknowledging', 'e11': 'Embarrased', 'e12': 'Scared', 'm2': 'Clapping', 'e21': 'Sad', 'e22': 'Delight', 'd': '2', 't': '-1', 'quality': 'Good', 'dominance': 'Character two', 'intimacy': 'Close'} {'m1': 'Head Shake', 'e11': 'Sad', 'e12': 'Annoyed', 'm2': 'Charge', 'e21': 'Angry', 'e22': 'Confused', 'd': '8', 't': '2', 'quality': 'Just so so', 'dominance': 'Character two', 'intimacy': 'Medium'} {'m1': 'Terrified', 'e11': 'Confused', 'e12': 'Scared', 'm2': 'Strong', 'e21': 'Confused', 'e22': 'Hate', 'd': '2', 't': '2', 'quality': 'Bad', 'dominance': 'Character two', 'intimacy': 'Medium'} {'m1': 'Talking', 'e11': 'Sad', 'e12': 'Dissatisfied', 'm2': 'Laughing', 'e21': 'Happy', 'e22': 'Concerned', 'd': '2', 't': '2', 'quality': 'Just so so', 'dominance': 'Character two', 'intimacy': 'Alienated'} {'m1': 'Disappointed', 'e11': 'Hate', 'e12': 'Embarrased', 'm2': 'Dizzy', 'e21': 'Frustrated', 'e22': 'Dissatisfied', 'd': '2', 't': '0', 'quality': 'Bad', 'dominance': 'Character one', 'intimacy': 'Medium'} {'m1': 'Dizzy', 'e11': 'Tired', 'e12': 'Concerned', 'm2': 'Strong', 'e21': 'Neutral', 'e22': 'Embarrased', 'd': '4', 't': '-2', 'quality': 'Good', 'dominance': 'Equal', 'intimacy': 'Close'} {'m1': 'Loser', 'e11': 'Annoyed', 'e12': 'Disgust', 'm2': 'Fist', 'e21': 'Embarrased', 'e22': 'Disgust', 'd': '8', 't': '2', 'quality': 'Good', 'dominance': 'Character one', 'intimacy': 'Alienated'} {'m1': 'Strong', 'e11': 'Madness', 'e12': 'Scared', 'm2': 'Neck', 'e21': 'Madness', 'e22': 'Surprise', 'd': '2', 't': '0', 'quality': 'Just so so', 'dominance': 'Character two', 'intimacy': 'Medium'} {'m1': 'Drunk', 'e11': 'Annoyed', 'e12': 'Curious', 'm2': 'Stomping', 'e21': 'Curious', 'e22': 'Neutral', 'd': '2', 't': '2', 'quality': 'Bad', 'dominance': 'Character two', 'intimacy': 'Close'} {'m1': 'Terrified', 'e11': 'Embarrased', 'e12': 'Neutral', 'm2': 'Thoughtful', 'e21': 'Happy', 'e22': 'Mock', 'd': '4', 't': '2', 'quality': 'Good', 'dominance': 'Equal', 'intimacy': 'Close'} {'m1': 'Rubbing', 'e11': 'Madness', 'e12': 'Scared', 'm2': 'Head Nod', 'e21': 'Excited', 'e22': 'Annoyed', 'd': '2', 't': '2', 'quality': 'Good', 'dominance': 'Equal', 'intimacy': 'Medium'} {'m1': 'Shaking', 'e11': 'Madness', 'e12': 'Sad', 'm2': 'Sad', 'e21': 'Frustrated', 'e22': 'Sad', 'd': '2', 't': '2', 'quality': 'Bad', 'dominance': 'Character one', 'intimacy': 'Alienated'} {'m1': 'Laughing', 'e11': 'Surprise', 'e12': 'Hate', 'm2': 'Kneeling', 'e21': 'Concerned', 'e22': 'Neutral', 'd': '2', 't': '2', 'quality': 'Bad', 'dominance': 'Equal', 'intimacy': 'Medium'} {'m1': 'Excited', 'e11': 'Disgust', 'e12': 'Sad', 'm2': 'Singing', 'e21': 'Curious', 'e22': 'Surprise', 'd': '8', 't': '1', 'quality': 'Good', 'dominance': 'Equal', 'intimacy': 'Close'} {'m1': 'Charge', 'e11': 'Tired', 'e12': 'Excited', 'm2': 'Shaking', 'e21': 'Dissatisfied', 'e22': 'Delight', 'd': '2', 't': '-1', 'quality': 'Bad', 'dominance': 'Character one', 'intimacy': 'Alienated'} {'m1': 'Acknowledging', 'e11': 'Angry', 'e12': 'Annoyed', 'm2': 'Acknowledging', 'e21': 'Scared', 'e22': 'Tired', 'd': '4', 't': '-1', 'quality': 'Good', 'dominance': 'Character one', 'intimacy': 'Close'} {'m1': 'Shrugging', 'e11': 'Sad', 'e12': 'Hate', 'm2': 'Victory', 'e21': 'Surprise', 'e22': 'Surprise', 'd': '2', 't': '2', 'quality': 'Good', 'dominance': 'Character two', 'intimacy': 'Close'} {'m1': 'Acknowledging', 'e11': 'Scared', 'e12': 'Curious', 'm2': 'Surprised', 'e21': 'Madness', 'e22': 'Frustrated', 'd': '8', 't': '-2', 'quality': 'Just so so', 'dominance': 'Character two', 'intimacy': 'Medium'} {'m1': 'Bored', 'e11': 'Scared', 'e12': 'Concerned', 'm2': 'Kneeling', 'e21': 'Tired', 'e22': 'Sad', 'd': '8', 't': '-2', 'quality': 'Bad', 'dominance': 'Character one', 'intimacy': 'Alienated'} {'m1': 'Threatening', 'e11': 'Surprise', 'e12': 'Madness', 'm2': 'Neck', 'e21': 'Annoyed', 'e22': 'Delight', 'd': '2', 't': '1', 'quality': 'Just so so', 'dominance': 'Character two', 'intimacy': 'Medium'} {'m1': 'Clapping', 'e11': 'Delight', 'e12': 'Scared', 'm2': 'Reaching', 'e21': 'Mock', 'e22': 'Curious', 'd': '2', 't': '1', 'quality': 'Bad', 'dominance': 'Character two', 'intimacy': 'Medium'} {'m1': 'Kneeling', 'e11': 'Frustrated', 'e12': 'Annoyed', 'm2': 'Dismissing', 'e21': 'Frustrated', 'e22': 'Happy', 'd': '2', 't': '-2', 'quality': 'Good', 'dominance': 'Character two', 'intimacy': 'Medium'} {'m1': 'Yelling', 'e11': 'Confused', 'e12': 'Delight', 'm2': 'Surprised', 'e21': 'Confused', 'e22': 'Delight', 'd': '4', 't': '-2', 'quality': 'Bad', 'dominance': 'Character one', 'intimacy': 'Alienated'} {'m1': 'Salute', 'e11': 'Disgust', 'e12': 'Dissatisfied', 'm2': 'Bored', 'e21': 'Frustrated', 'e22': 'Scared', 'd': '2', 't': '-2', 'quality': 'Bad', 'dominance': 'Character two', 'intimacy': 'Medium'} {'m1': 'Terrified', 'e11': 'Curious', 'e12': 'Excited', 'm2': 'Threatening', 'e21': 'Embarrased', 'e22': 'Concerned', 'd': '8', 't': '-2', 'quality': 'Bad', 'dominance': 'Character two', 'intimacy': 'Alienated'} {'m1': 'Head Shake', 'e11': 'Surprise', 'e12': 'Mock', 'm2': 'Dizzy', 'e21': 'Mock', 'e22': 'Delight', 'd': '4', 't': '2', 'quality': 'Just so so', 'dominance': 'Equal', 'intimacy': 'Alienated'} {'m1': 'Singing', 'e11': 'Annoyed', 'e12': 'Happy', 'm2': 'Roar', 'e21': 'Curious', 'e22': 'Confused', 'd': '2', 't': '2', 'quality': 'Bad', 'dominance': 'Character one', 'intimacy': 'Medium'} {'m1': 'Pointing', 'e11': 'Excited', 'e12': 'Angry', 'm2': 'Head Shake', 'e21': 'Embarrased', 'e22': 'Concerned', 'd': '4', 't': '2', 'quality': 'Just so so', 'dominance': 'Character one', 'intimacy': 'Medium'} {'m1': 'Rejected', 'e11': 'Tired', 'e12': 'Disgust', 'm2': 'Victory', 'e21': 'Madness', 'e22': 'Happy', 'd': '4', 't': '-2', 'quality': 'Good', 'dominance': 'Equal', 'intimacy': 'Medium'} {'m1': 'Acknowledging', 'e11': 'Hate', 'e12': 'Surprise', 'm2': 'Relieved', 'e21': 'Hate', 'e22': 'Frustrated', 'd': '8', 't': '-2', 'quality': 'Good', 'dominance': 'Equal', 'intimacy': 'Close'} {'m1': 'Happy', 'e11': 'Happy', 'e12': 'Scared', 'm2': 'Whatever', 'e21': 'Sad', 'e22': 'Disgust', 'd': '2', 't': '2', 'quality': 'Good', 'dominance': 'Equal', 'intimacy': 'Close'} {'m1': 'Happy', 'e11': 'Curious', 'e12': 'Tired', 'm2': 'Neck', 'e21': 'Confused', 'e22': 'Embarrased', 'd': '4', 't': '-2', 'quality': 'Just so so', 'dominance': 'Equal', 'intimacy': 'Alienated'} {'m1': 'Pain', 'e11': 'Disgust', 'e12': 'Surprise', 'm2': 'Bow', 'e21': 'Confused', 'e22': 'Mock', 'd': '4', 't': '-2', 'quality': 'Bad', 'dominance': 'Equal', 'intimacy': 'Alienated'} {'m1': 'Rejected', 'e11': 'Confused', 'e12': 'Sad', 'm2': 'Idle', 'e21': 'Disgust', 'e22': 'Madness', 'd': '4', 't': '2', 'quality': 'Good', 'dominance': 'Character two', 'intimacy': 'Alienated'} {'m1': 'Bored', 'e11': 'Embarrased', 'e12': 'Confused', 'm2': 'Surprised', 'e21': 'Madness', 'e22': 'Dissatisfied', 'd': '4', 't': '-1', 'quality': 'Just so so', 'dominance': 'Equal', 'intimacy': 'Medium'} {'m1': 'Bored', 'e11': 'Concerned', 'e12': 'Neutral', 'm2': 'Cocky', 'e21': 'Disgust', 'e22': 'Dissatisfied', 'd': '4', 't': '-1', 'quality': 'Just so so', 'dominance': 'Character two', 'intimacy': 'Medium'} {'m1': 'Taunt', 'e11': 'Confused', 'e12': 'Scared', 'm2': 'Rejected', 'e21': 'Sad', 'e22': 'Frustrated', 'd': '2', 't': '2', 'quality': 'Bad', 'dominance': 'Equal', 'intimacy': 'Medium'} {'m1': 'Laughing', 'e11': 'Surprise', 'e12': 'Scared', 'm2': 'Happy', 'e21': 'Happy', 'e22': 'Frustrated', 'd': '2', 't': '2', 'quality': 'Good', 'dominance': 'Equal', 'intimacy': 'Medium'} {'m1': 'Thinking', 'e11': 'Hate', 'e12': 'Tired', 'm2': 'Clapping', 'e21': 'Embarrased', 'e22': 'Embarrased', 'd': '8', 't': '2', 'quality': 'Just so so', 'dominance': 'Equal', 'intimacy': 'Medium'} {'m1': 'Pointing', 'e11': 'Tired', 'e12': 'Confused', 'm2': 'Yawn', 'e21': 'Frustrated', 'e22': 'Frustrated', 'd': '2', 't': '-2', 'quality': 'Good', 'dominance': 'Character two', 'intimacy': 'Medium'} {'m1': 'Agreeing', 'e11': 'Dissatisfied', 'e12': 'Angry', 'm2': 'Excited', 'e21': 'Angry', 'e22': 'Angry', 'd': '8', 't': '-2', 'quality': 'Bad', 'dominance': 'Equal', 'intimacy': 'Alienated'} {'m1': 'Yawn', 'e11': 'Neutral', 'e12': 'Delight', 'm2': 'Neck', 'e21': 'Concerned', 'e22': 'Concerned', 'd': '8', 't': '-1', 'quality': 'Good', 'dominance': 'Character one', 'intimacy': 'Medium'} {'m1': 'Waving', 'e11': 'Disgust', 'e12': 'Neutral', 'm2': 'Greeting', 'e21': 'Happy', 'e22': 'Curious', 'd': '4', 't': '0', 'quality': 'Good', 'dominance': 'Equal', 'intimacy': 'Close'} {'m1': 'Neck', 'e11': 'Dissatisfied', 'e12': 'Tired', 'm2': 'Shaking', 'e21': 'Madness', 'e22': 'Dissatisfied', 'd': '2', 't': '0', 'quality': 'Bad', 'dominance': 'Character two', 'intimacy': 'Medium'} {'m1': 'Drunk', 'e11': 'Frustrated', 'e12': 'Madness', 'm2': 'Yawn', 'e21': 'Sad', 'e22': 'Surprise', 'd': '8', 't': '-2', 'quality': 'Just so so', 'dominance': 'Equal', 'intimacy': 'Alienated'} {'m1': 'Rubbing', 'e11': 'Scared', 'e12': 'Tired', 'm2': 'Head Shake', 'e21': 'Frustrated', 'e22': 'Neutral', 'd': '2', 't': '-2', 'quality': 'Good', 'dominance': 'Equal', 'intimacy': 'Close'} {'m1': 'Kneeling', 'e11': 'Surprise', 'e12': 'Concerned', 'm2': 'Excited', 'e21': 'Excited', 'e22': 'Frustrated', 'd': '2', 't': '0', 'quality': 'Bad', 'dominance': 'Character two', 'intimacy': 'Medium'} {'m1': 'Idle', 'e11': 'Scared', 'e12': 'Confused', 'm2': 'Pointing', 'e21': 'Happy', 'e22': 'Surprise', 'd': '4', 't': '0', 'quality': 'Good', 'dominance': 'Character two', 'intimacy': 'Medium'} {'m1': 'Wiping', 'e11': 'Scared', 'e12': 'Frustrated', 'm2': 'Rubbing', 'e21': 'Frustrated', 'e22': 'Embarrased', 'd': '2', 't': '0', 'quality': 'Bad', 'dominance': 'Character two', 'intimacy': 'Close'} {'m1': 'Rubbing', 'e11': 'Tired', 'e12': 'Madness', 'm2': 'Stomping', 'e21': 'Annoyed', 'e22': 'Tired', 'd': '2', 't': '0', 'quality': 'Good', 'dominance': 'Equal', 'intimacy': 'Close'} {'m1': 'Whatever', 'e11': 'Delight', 'e12': 'Scared', 'm2': 'Charge', 'e21': 'Confused', 'e22': 'Confused', 'd': '4', 't': '2', 'quality': 'Bad', 'dominance': 'Character two', 'intimacy': 'Medium'} {'m1': 'Idle', 'e11': 'Concerned', 'e12': 'Delight', 'm2': 'Agreeing', 'e21': 'Angry', 'e22': 'Disgust', 'd': '2', 't': '0', 'quality': 'Just so so', 'dominance': 'Character two', 'intimacy': 'Medium'} {'m1': 'Yelling', 'e11': 'Dissatisfied', 'e12': 'Confused', 'm2': 'Crying', 'e21': 'Embarrased', 'e22': 'Madness', 'd': '4', 't': '0', 'quality': 'Bad', 'dominance': 'Equal', 'intimacy': 'Alienated'} {'m1': 'Dwarf', 'e11': 'Tired', 'e12': 'Tired', 'm2': 'Sad', 'e21': 'Angry', 'e22': 'Surprise', 'd': '2', 't': '1', 'quality': 'Just so so', 'dominance': 'Equal', 'intimacy': 'Medium'} {'m1': 'Shrugging', 'e11': 'Disgust', 'e12': 'Hate', 'm2': 'Forward', 'e21': 'Neutral', 'e22': 'Frustrated', 'd': '2', 't': '2', 'quality': 'Just so so', 'dominance': 'Equal', 'intimacy': 'Close'} {'m1': 'Forward', 'e11': 'Delight', 'e12': 'Annoyed', 'm2': 'Loser', 'e21': 'Mock', 'e22': 'Scared', 'd': '2', 't': '2', 'quality': 'Bad', 'dominance': 'Character two', 'intimacy': 'Medium'} {'m1': 'Greeting', 'e11': 'Disgust', 'e12': 'Disgust', 'm2': 'Waving', 'e21': 'Confused', 'e22': 'Scared', 'd': '8', 't': '0', 'quality': 'Good', 'dominance': 'Equal', 'intimacy': 'Close'} {'m1': 'Forward', 'e11': 'Scared', 'e12': 'Annoyed', 'm2': 'Loser', 'e21': 'Madness', 'e22': 'Mock', 'd': '4', 't': '0', 'quality': 'Just so so', 'dominance': 'Character one', 'intimacy': 'Medium'} {'m1': 'Singing', 'e11': 'Disgust', 'e12': 'Mock', 'm2': 'Defeat', 'e21': 'Embarrased', 'e22': 'Hate', 'd': '4', 't': '2', 'quality': 'Good', 'dominance': 'Character one', 'intimacy': 'Close'} {'m1': 'Joyful', 'e11': 'Dissatisfied', 'e12': 'Curious', 'm2': 'Telling', 'e21': 'Mock', 'e22': 'Dissatisfied', 'd': '2', 't': '-2', 'quality': 'Just so so', 'dominance': 'Equal', 'intimacy': 'Close'} {'m1': 'Praying', 'e11': 'Disgust', 'e12': 'Dissatisfied', 'm2': 'Thankful', 'e21': 'Happy', 'e22': 'Excited', 'd': '8', 't': '-2', 'quality': 'Good', 'dominance': 'Character two', 'intimacy': 'Medium'} {'m1': 'Neck', 'e11': 'Surprise', 'e12': 'Mock', 'm2': 'Loser', 'e21': 'Angry', 'e22': 'Curious', 'd': '4', 't': '-2', 'quality': 'Bad', 'dominance': 'Character one', 'intimacy': 'Alienated'} {'m1': 'Excited', 'e11': 'Annoyed', 'e12': 'Confused', 'm2': 'Praying', 'e21': 'Happy', 'e22': 'Surprise', 'd': '4', 't': '-2', 'quality': 'Good', 'dominance': 'Character one', 'intimacy': 'Medium'} {'m1': 'Forward', 'e11': 'Dissatisfied', 'e12': 'Neutral', 'm2': 'Head Shake', 'e21': 'Sad', 'e22': 'Annoyed', 'd': '2', 't': '0', 'quality': 'Good', 'dominance': 'Equal', 'intimacy': 'Medium'} {'m1': 'Thumbs', 'e11': 'Confused', 'e12': 'Curious', 'm2': 'Kiss', 'e21': 'Curious', 'e22': 'Disgust', 'd': '8', 't': '0', 'quality': 'Good', 'dominance': 'Equal', 'intimacy': 'Alienated'} {'m1': 'Neck', 'e11': 'Surprise', 'e12': 'Neutral', 'm2': 'Dizzy', 'e21': 'Annoyed', 'e22': 'Embarrased', 'd': '2', 't': '-1', 'quality': 'Just so so', 'dominance': 'Equal', 'intimacy': 'Alienated'} {'m1': 'Acknowledging', 'e11': 'Neutral', 'e12': 'Confused', 'm2': 'Kiss', 'e21': 'Embarrased', 'e22': 'Confused', 'd': '8', 't': '-1', 'quality': 'Just so so', 'dominance': 'Character two', 'intimacy': 'Medium'} {'m1': 'Nervously', 'e11': 'Mock', 'e12': 'Sad', 'm2': 'Taunt', 'e21': 'Excited', 'e22': 'Surprise', 'd': '8', 't': '-1', 'quality': 'Bad', 'dominance': 'Equal', 'intimacy': 'Medium'} {'m1': 'Thumbs', 'e11': 'Angry', 'e12': 'Tired', 'm2': 'Sad', 'e21': 'Curious', 'e22': 'Curious', 'd': '8', 't': '1', 'quality': 'Good', 'dominance': 'Character one', 'intimacy': 'Medium'} {'m1': 'Stomping', 'e11': 'Disgust', 'e12': 'Confused', 'm2': 'Threatening', 'e21': 'Surprise', 'e22': 'Tired', 'd': '4', 't': '0', 'quality': 'Bad', 'dominance': 'Character two', 'intimacy': 'Alienated'} {'m1': 'Taunt', 'e11': 'Surprise', 'e12': 'Madness', 'm2': 'Dismissing', 'e21': 'Delight', 'e22': 'Surprise', 'd': '8', 't': '0', 'quality': 'Bad', 'dominance': 'Equal', 'intimacy': 'Medium'} {'m1': 'Offensive', 'e11': 'Dissatisfied', 'e12': 'Concerned', 'm2': 'Acknowledging', 'e21': 'Curious', 'e22': 'Embarrased', 'd': '2', 't': '0', 'quality': 'Good', 'dominance': 'Equal', 'intimacy': 'Close'} {'m1': 'Pointing', 'e11': 'Confused', 'e12': 'Happy', 'm2': 'Sarcastic', 'e21': 'Tired', 'e22': 'Surprise', 'd': '2', 't': '-1', 'quality': 'Just so so', 'dominance': 'Character one', 'intimacy': 'Close'} {'m1': 'Stomping', 'e11': 'Angry', 'e12': 'Confused', 'm2': 'Stomping', 'e21': 'Sad', 'e22': 'Hate', 'd': '8', 't': '2', 'quality': 'Bad', 'dominance': 'Character two', 'intimacy': 'Close'} {'m1': 'Sad', 'e11': 'Happy', 'e12': 'Scared', 'm2': 'Laughing', 'e21': 'Disgust', 'e22': 'Mock', 'd': '4', 't': '2', 'quality': 'Bad', 'dominance': 'Character two', 'intimacy': 'Close'} {'m1': 'Thumbs', 'e11': 'Tired', 'e12': 'Surprise', 'm2': 'Cocky', 'e21': 'Angry', 'e22': 'Surprise', 'd': '8', 't': '0', 'quality': 'Just so so', 'dominance': 'Character one', 'intimacy': 'Medium'} {'m1': 'Pain', 'e11': 'Curious', 'e12': 'Surprise', 'm2': 'Crazy', 'e21': 'Disgust', 'e22': 'Angry', 'd': '4', 't': '0', 'quality': 'Bad', 'dominance': 'Equal', 'intimacy': 'Medium'} {'m1': 'Fist', 'e11': 'Curious', 'e12': 'Curious', 'm2': 'Neck', 'e21': 'Happy', 'e22': 'Curious', 'd': '2', 't': '-1', 'quality': 'Just so so', 'dominance': 'Equal', 'intimacy': 'Medium'} {'m1': 'Waving', 'e11': 'Sad', 'e12': 'Scared', 'm2': 'Forward', 'e21': 'Scared', 'e22': 'Excited', 'd': '4', 't': '2', 'quality': 'Good', 'dominance': 'Equal', 'intimacy': 'Close'} {'m1': 'Yelling', 'e11': 'Tired', 'e12': 'Annoyed', 'm2': 'Focus', 'e21': 'Surprise', 'e22': 'Disgust', 'd': '2', 't': '0', 'quality': 'Bad', 'dominance': 'Character one', 'intimacy': 'Medium'} {'m1': 'Pain', 'e11': 'Scared', 'e12': 'Scared', 'm2': 'Strong', 'e21': 'Surprise', 'e22': 'Dissatisfied', 'd': '4', 't': '0', 'quality': 'Bad', 'dominance': 'Equal', 'intimacy': 'Medium'} {'m1': 'Praying', 'e11': 'Hate', 'e12': 'Excited', 'm2': 'Singing', 'e21': 'Delight', 'e22': 'Annoyed', 'd': '8', 't': '0', 'quality': 'Good', 'dominance': 'Character two', 'intimacy': 'Medium'} {'m1': 'Victory', 'e11': 'Frustrated', 'e12': 'Frustrated', 'm2': 'Excited', 'e21': 'Disgust', 'e22': 'Neutral', 'd': '8', 't': '2', 'quality': 'Just so so', 'dominance': 'Equal', 'intimacy': 'Alienated'} {'m1': 'Loser', 'e11': 'Concerned', 'e12': 'Madness', 'm2': 'Crying', 'e21': 'Confused', 'e22': 'Tired', 'd': '2', 't': '2', 'quality': 'Bad', 'dominance': 'Character one', 'intimacy': 'Alienated'} {'m1': 'Clapping', 'e11': 'Hate', 'e12': 'Curious', 'm2': 'Talking', 'e21': 'Scared', 'e22': 'Surprise', 'd': '4', 't': '-1', 'quality': 'Good', 'dominance': 'Character two', 'intimacy': 'Close'} {'m1': 'Greeting', 'e11': 'Disgust', 'e12': 'Concerned', 'm2': 'Thumbs', 'e21': 'Tired', 'e22': 'Delight', 'd': '2', 't': '-1', 'quality': 'Bad', 'dominance': 'Character two', 'intimacy': 'Alienated'} {'m1': 'Agreeing', 'e11': 'Tired', 'e12': 'Disgust', 'm2': 'Threatening', 'e21': 'Delight', 'e22': 'Tired', 'd': '2', 't': '1', 'quality': 'Good', 'dominance': 'Equal', 'intimacy': 'Medium'} {'m1': 'Thankful', 'e11': 'Madness', 'e12': 'Madness', 'm2': 'Angry', 'e21': 'Embarrased', 'e22': 'Tired', 'd': '8', 't': '2', 'quality': 'Just so so', 'dominance': 'Equal', 'intimacy': 'Alienated'} {'m1': 'Crazy', 'e11': 'Embarrased', 'e12': 'Angry', 'm2': 'Offensive', 'e21': 'Mock', 'e22': 'Concerned', 'd': '8', 't': '2', 'quality': 'Good', 'dominance': 'Equal', 'intimacy': 'Medium'} {'m1': 'Greeting', 'e11': 'Frustrated', 'e12': 'Embarrased', 'm2': 'Praying', 'e21': 'Embarrased', 'e22': 'Confused', 'd': '2', 't': '2', 'quality': 'Bad', 'dominance': 'Character one', 'intimacy': 'Alienated'} {'m1': 'Disappointed', 'e11': 'Concerned', 'e12': 'Dissatisfied', 'm2': 'Bow', 'e21': 'Neutral', 'e22': 'Angry', 'd': '8', 't': '-1', 'quality': 'Just so so', 'dominance': 'Equal', 'intimacy': 'Medium'} {'m1': 'Pouting', 'e11': 'Delight', 'e12': 'Madness', 'm2': 'Neck', 'e21': 'Angry', 'e22': 'Neutral', 'd': '4', 't': '-1', 'quality': 'Good', 'dominance': 'Equal', 'intimacy': 'Alienated'} {'m1': 'Arguing', 'e11': 'Delight', 'e12': 'Delight', 'm2': 'Arguing', 'e21': 'Embarrased', 'e22': 'Delight', 'd': '8', 't': '0', 'quality': 'Just so so', 'dominance': 'Equal', 'intimacy': 'Medium'} {'m1': 'Thankful', 'e11': 'Neutral', 'e12': 'Hate', 'm2': 'Neck', 'e21': 'Happy', 'e22': 'Disgust', 'd': '8', 't': '0', 'quality': 'Bad', 'dominance': 'Equal', 'intimacy': 'Alienated'}\n"
     ]
    }
   ],
   "source": [
    "print(*survey)"
   ]
  },
  {
   "cell_type": "code",
   "execution_count": 8,
   "metadata": {},
   "outputs": [],
   "source": [
    "c1_motion_data = np.asarray([G_INTEACT_KEY_WORDS.index(item['m1']) for item in survey], dtype=int)\n",
    "c1_motion_one_hot = np.zeros((c1_motion_data.size, len(G_INTEACT_KEY_WORDS)))\n",
    "c1_motion_one_hot[np.arange(c1_motion_data.size),c1_motion_data] = 1"
   ]
  },
  {
   "cell_type": "code",
   "execution_count": 9,
   "metadata": {},
   "outputs": [],
   "source": [
    "#print(c1_motion_data)"
   ]
  },
  {
   "cell_type": "code",
   "execution_count": 10,
   "metadata": {},
   "outputs": [],
   "source": [
    "c2_motion_data = np.asarray([G_INTEACT_KEY_WORDS.index(item['m2']) for item in survey], dtype=int)\n",
    "c2_motion_one_hot = np.zeros((c2_motion_data.size, len(G_INTEACT_KEY_WORDS)))\n",
    "c2_motion_one_hot[np.arange(c2_motion_data.size),c2_motion_data] = 1"
   ]
  },
  {
   "cell_type": "code",
   "execution_count": 11,
   "metadata": {},
   "outputs": [],
   "source": [
    "c1_emotion_start_data = np.asarray([G_BASIC_EMOTIONS.index(item['e11']) for item in survey], dtype=int)\n",
    "c1_emotion_start_one_hot = np.zeros((c1_emotion_start_data.size, len(G_BASIC_EMOTIONS)))\n",
    "c1_emotion_start_one_hot[np.arange(c1_emotion_start_data.size),c1_emotion_start_data] = 1"
   ]
  },
  {
   "cell_type": "code",
   "execution_count": 12,
   "metadata": {},
   "outputs": [],
   "source": [
    "c1_emotion_end_data = np.asarray([G_BASIC_EMOTIONS.index(item['e12']) for item in survey], dtype=int)\n",
    "c1_emotion_end_one_hot = np.zeros((c1_emotion_end_data.size, len(G_BASIC_EMOTIONS)))\n",
    "c1_emotion_end_one_hot[np.arange(c1_emotion_end_data.size),c1_emotion_end_data] = 1"
   ]
  },
  {
   "cell_type": "code",
   "execution_count": 13,
   "metadata": {},
   "outputs": [],
   "source": [
    "c2_emotion_start_data = np.asarray([G_BASIC_EMOTIONS.index(item['e21']) for item in survey], dtype=int)\n",
    "c2_emotion_start_one_hot = np.zeros((c2_emotion_start_data.size, len(G_BASIC_EMOTIONS)))\n",
    "c2_emotion_start_one_hot[np.arange(c2_emotion_start_data.size),c2_emotion_start_data] = 1"
   ]
  },
  {
   "cell_type": "code",
   "execution_count": 14,
   "metadata": {},
   "outputs": [],
   "source": [
    "c2_emotion_end_data = np.asarray([G_BASIC_EMOTIONS.index(item['e22']) for item in survey], dtype=int)\n",
    "c2_emotion_end_one_hot = np.zeros((c2_emotion_end_data.size, len(G_BASIC_EMOTIONS)))\n",
    "c2_emotion_end_one_hot[np.arange(c2_emotion_end_data.size),c2_emotion_end_data] = 1"
   ]
  },
  {
   "cell_type": "code",
   "execution_count": 15,
   "metadata": {},
   "outputs": [],
   "source": [
    "distance_scores = {'2': -1, '4': 0, '8': 1}"
   ]
  },
  {
   "cell_type": "code",
   "execution_count": 16,
   "metadata": {},
   "outputs": [],
   "source": [
    "distance = np.asarray([[distance_scores[item['d']]] for item in survey], dtype=int)"
   ]
  },
  {
   "cell_type": "code",
   "execution_count": 17,
   "metadata": {},
   "outputs": [],
   "source": [
    "time_difference = np.asarray([[int(item['t'])] for item in survey], dtype=int)"
   ]
  },
  {
   "cell_type": "code",
   "execution_count": 18,
   "metadata": {},
   "outputs": [],
   "source": [
    "quality_scores = {\"Bad\":0, \"Just so so\":1, \"Good\": 2}"
   ]
  },
  {
   "cell_type": "code",
   "execution_count": 19,
   "metadata": {},
   "outputs": [],
   "source": [
    "quality_data = np.asarray([quality_scores[item['quality']] for item in survey], dtype=int)\n",
    "quality_data_one_hot = np.zeros((quality_data.size, len(quality_scores)))\n",
    "quality_data_one_hot[np.arange(quality_data.size),quality_data] = 1"
   ]
  },
  {
   "cell_type": "code",
   "execution_count": 20,
   "metadata": {},
   "outputs": [],
   "source": [
    "dominance_scores = {\"Character one\":0, \"Equal\":1, \"Character two\": 2}"
   ]
  },
  {
   "cell_type": "code",
   "execution_count": 21,
   "metadata": {},
   "outputs": [],
   "source": [
    "dominance_data = np.asarray([dominance_scores[item['dominance']] for item in survey], dtype=int)\n",
    "dominance_data_one_hot = np.zeros((dominance_data.size, len(dominance_scores)))\n",
    "dominance_data_one_hot[np.arange(dominance_data.size),dominance_data] = 1"
   ]
  },
  {
   "cell_type": "code",
   "execution_count": 22,
   "metadata": {},
   "outputs": [],
   "source": [
    "intimacy_scores = {\"Alienated\":0, \"Medium\":1, \"Close\": 2}"
   ]
  },
  {
   "cell_type": "code",
   "execution_count": 23,
   "metadata": {},
   "outputs": [],
   "source": [
    "intimacy_data = np.asarray([intimacy_scores[item['intimacy']] for item in survey], dtype=int)\n",
    "intimacy_data_one_hot = np.zeros((intimacy_data.size, len(intimacy_scores)))\n",
    "intimacy_data_one_hot[np.arange(intimacy_data.size),intimacy_data] = 1"
   ]
  },
  {
   "cell_type": "code",
   "execution_count": 24,
   "metadata": {},
   "outputs": [
    {
     "data": {
      "text/plain": [
       "array([1, 2, 1, 0, 1, 0, 1, 1, 0, 1, 1, 1, 2, 1, 1, 0, 1, 2, 0, 1, 2, 2,\n",
       "       1, 0, 1, 2, 0, 2, 2, 1, 0, 1, 1, 1, 0, 1, 0, 0, 1, 1, 1, 2, 2, 0,\n",
       "       0, 0, 1, 1, 1, 1, 1, 1, 0, 1, 2, 1, 0, 2, 1, 1, 2, 2, 1, 1, 0, 1,\n",
       "       2, 1, 2, 1, 2, 2, 1, 0, 1, 1, 0, 0, 1, 1, 1, 0, 1, 2, 2, 2, 2, 1,\n",
       "       1, 1, 2, 1, 1, 1, 0, 0, 2, 0, 1, 0, 1, 0, 1, 0, 1, 0])"
      ]
     },
     "execution_count": 24,
     "metadata": {},
     "output_type": "execute_result"
    }
   ],
   "source": [
    "intimacy_data"
   ]
  },
  {
   "cell_type": "markdown",
   "metadata": {},
   "source": [
    "# Train Motion 2 Intimacy"
   ]
  },
  {
   "cell_type": "code",
   "execution_count": 25,
   "metadata": {},
   "outputs": [],
   "source": [
    "all_X = np.concatenate([c1_motion_one_hot, c2_motion_one_hot, distance], axis = 1)"
   ]
  },
  {
   "cell_type": "code",
   "execution_count": 26,
   "metadata": {},
   "outputs": [
    {
     "data": {
      "text/plain": [
       "(106, 139)"
      ]
     },
     "execution_count": 26,
     "metadata": {},
     "output_type": "execute_result"
    }
   ],
   "source": [
    "all_X.shape"
   ]
  },
  {
   "cell_type": "code",
   "execution_count": 27,
   "metadata": {},
   "outputs": [],
   "source": [
    "all_Y1 = dominance_data"
   ]
  },
  {
   "cell_type": "code",
   "execution_count": 28,
   "metadata": {},
   "outputs": [
    {
     "data": {
      "text/plain": [
       "(106,)"
      ]
     },
     "execution_count": 28,
     "metadata": {},
     "output_type": "execute_result"
    }
   ],
   "source": [
    "all_Y1.shape"
   ]
  },
  {
   "cell_type": "code",
   "execution_count": 29,
   "metadata": {},
   "outputs": [],
   "source": [
    "import torch\n",
    "import torch.nn as nn\n",
    "from torch.utils.data import TensorDataset, DataLoader"
   ]
  },
  {
   "cell_type": "code",
   "execution_count": 30,
   "metadata": {},
   "outputs": [],
   "source": [
    "class DomNet(nn.Module):\n",
    "    def __init__(self, input_dim, hidden_dim, output_dim):\n",
    "        super(DomNet, self).__init__()\n",
    "        self.network = nn.Sequential(\n",
    "            nn.Linear(input_dim, hidden_dim),\n",
    "            nn.ReLU(),\n",
    "            nn.Linear(hidden_dim, hidden_dim),\n",
    "            nn.ReLU(), \n",
    "            nn.Linear(hidden_dim, output_dim),\n",
    "            nn.Softmax(dim=1)\n",
    "        )\n",
    "    def forward(self, x):\n",
    "        x = self.network(x)\n",
    "        return x"
   ]
  },
  {
   "cell_type": "code",
   "execution_count": 31,
   "metadata": {},
   "outputs": [],
   "source": [
    "dom_net = DomNet(all_X.shape[1], 128, 3)"
   ]
  },
  {
   "cell_type": "code",
   "execution_count": 32,
   "metadata": {},
   "outputs": [],
   "source": [
    "#a = torch.randn(16, all_X.shape[1])"
   ]
  },
  {
   "cell_type": "code",
   "execution_count": 33,
   "metadata": {},
   "outputs": [],
   "source": [
    "#dom_net(a)"
   ]
  },
  {
   "cell_type": "code",
   "execution_count": 34,
   "metadata": {},
   "outputs": [],
   "source": [
    "learning_rate = 0.01\n",
    "epochs = 200\n",
    "batch_size = 4\n",
    "print_every = 20"
   ]
  },
  {
   "cell_type": "code",
   "execution_count": 35,
   "metadata": {},
   "outputs": [],
   "source": [
    "tensor_x = torch.Tensor(all_X) # transform to torch tensor\n",
    "tensor_y = torch.Tensor(all_Y1).long()"
   ]
  },
  {
   "cell_type": "code",
   "execution_count": 36,
   "metadata": {},
   "outputs": [],
   "source": [
    "all_dataset = TensorDataset(tensor_x,tensor_y) # create your datset"
   ]
  },
  {
   "cell_type": "code",
   "execution_count": 37,
   "metadata": {},
   "outputs": [],
   "source": [
    "train_num = int(0.8 * len(all_dataset))\n",
    "text_num = len(all_dataset) - train_num"
   ]
  },
  {
   "cell_type": "code",
   "execution_count": 38,
   "metadata": {},
   "outputs": [],
   "source": [
    "train_dataset, test_dataset = torch.utils.data.random_split(all_dataset, [train_num, text_num])"
   ]
  },
  {
   "cell_type": "code",
   "execution_count": 39,
   "metadata": {},
   "outputs": [
    {
     "name": "stdout",
     "output_type": "stream",
     "text": [
      "84 22\n"
     ]
    }
   ],
   "source": [
    "print(len(train_dataset), len(test_dataset))"
   ]
  },
  {
   "cell_type": "code",
   "execution_count": 40,
   "metadata": {},
   "outputs": [],
   "source": [
    "train_dataloader = DataLoader(train_dataset, batch_size=batch_size, shuffle=True)\n",
    "test_dataloader = DataLoader(test_dataset, batch_size=batch_size, shuffle=True)"
   ]
  },
  {
   "cell_type": "code",
   "execution_count": 41,
   "metadata": {},
   "outputs": [],
   "source": [
    "loss_fun = nn.CrossEntropyLoss()\n",
    "optimizer = torch.optim.Adam(dom_net.parameters(), lr=learning_rate)"
   ]
  },
  {
   "cell_type": "code",
   "execution_count": 42,
   "metadata": {},
   "outputs": [
    {
     "name": "stdout",
     "output_type": "stream",
     "text": [
      "epoch: 0 train loss: 1.1253826022148132 test loss: 1.0657631357510884 acc: 0.4166666666666667\n",
      "epoch: 20 train loss: 0.587308509009225 test loss: 1.0794252653916676 acc: 0.4166666666666667\n",
      "epoch: 40 train loss: 0.5752545424870082 test loss: 0.9919184048970541 acc: 0.5416666666666666\n",
      "epoch: 60 train loss: 0.5752544176010859 test loss: 1.0720948378245037 acc: 0.4583333333333333\n",
      "epoch: 80 train loss: 0.5752543466431754 test loss: 1.0277364154656727 acc: 0.5\n",
      "epoch: 100 train loss: 0.5752543040684291 test loss: 1.0669161975383759 acc: 0.5\n",
      "epoch: 120 train loss: 0.575254275685265 test loss: 1.02326105038325 acc: 0.5416666666666666\n",
      "epoch: 140 train loss: 0.5752542614936829 test loss: 0.9798869887987772 acc: 0.5833333333333334\n",
      "epoch: 160 train loss: 0.5752542444637844 test loss: 1.0617965658505757 acc: 0.5\n",
      "epoch: 180 train loss: 0.5752542331105187 test loss: 0.9771893719832102 acc: 0.5833333333333334\n"
     ]
    }
   ],
   "source": [
    "for i in range(epochs):\n",
    "    train_loss = []\n",
    "    test_loss = []\n",
    "    acc = []\n",
    "    \n",
    "    dom_net.train()\n",
    "    for batch_sample, batch_label in train_dataloader:\n",
    "        pred_label = dom_net(batch_sample)\n",
    "        loss = loss_fun(pred_label, batch_label)\n",
    "        optimizer.zero_grad()\n",
    "        loss.backward()\n",
    "        optimizer.step()\n",
    "        train_loss.append(loss.item())\n",
    "    \n",
    "    dom_net.eval()\n",
    "    for batch_sample, batch_label in test_dataloader:\n",
    "        pred_label = dom_net(batch_sample)\n",
    "        pred = torch.argmax(pred_label, dim=1)\n",
    "        loss = loss_fun(pred_label, batch_label)\n",
    "        test_loss.append(loss.item())\n",
    "        acc.append(torch.sum(pred == batch_label).item()/len(batch_label))\n",
    "    \n",
    "    if i % print_every == 0:\n",
    "        print(\"epoch:\", i,\"train loss:\", sum(train_loss)/len(train_loss), \"test loss:\", sum(test_loss)/len(test_loss), \n",
    "              \"acc:\", sum(acc)/len(acc))\n",
    "    "
   ]
  },
  {
   "cell_type": "code",
   "execution_count": null,
   "metadata": {},
   "outputs": [],
   "source": []
  }
 ],
 "metadata": {
  "kernelspec": {
   "display_name": "Python 3",
   "language": "python",
   "name": "python3"
  },
  "language_info": {
   "codemirror_mode": {
    "name": "ipython",
    "version": 3
   },
   "file_extension": ".py",
   "mimetype": "text/x-python",
   "name": "python",
   "nbconvert_exporter": "python",
   "pygments_lexer": "ipython3",
   "version": "3.7.7"
  }
 },
 "nbformat": 4,
 "nbformat_minor": 4
}
