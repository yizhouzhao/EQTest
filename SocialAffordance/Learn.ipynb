{
 "cells": [
  {
   "cell_type": "code",
   "execution_count": 1,
   "metadata": {},
   "outputs": [],
   "source": [
    "import os\n",
    "import numpy as np"
   ]
  },
  {
   "cell_type": "code",
   "execution_count": 2,
   "metadata": {},
   "outputs": [],
   "source": [
    "from Params import *"
   ]
  },
  {
   "cell_type": "code",
   "execution_count": 3,
   "metadata": {},
   "outputs": [
    {
     "data": {
      "text/plain": [
       "'E:\\\\researches\\\\EQTest\\\\SocialAffordance'"
      ]
     },
     "execution_count": 3,
     "metadata": {},
     "output_type": "execute_result"
    }
   ],
   "source": [
    "os.getcwd()"
   ]
  },
  {
   "cell_type": "code",
   "execution_count": 4,
   "metadata": {},
   "outputs": [],
   "source": [
    "label_path = \"../data/label2.txt\""
   ]
  },
  {
   "cell_type": "code",
   "execution_count": 5,
   "metadata": {},
   "outputs": [],
   "source": [
    "def load_survey(label_path):\n",
    "    survey = []\n",
    "    with open(label_path, \"r\") as f:\n",
    "        for c, line in enumerate(f.readlines()):\n",
    "            line_info = line.strip().split(\",\")\n",
    "            #print(c)\n",
    "            sample_info = line_info[0].split(\"_\")\n",
    "            #print(item)\n",
    "            item = {\"m1\": sample_info[0], \"e11\": sample_info[1], \"e12\": sample_info[2],\n",
    "                   \"m2\": sample_info[3], \"e21\": sample_info[4], \"e22\": sample_info[5],\n",
    "                   \"d\": sample_info[6], \"t\": sample_info[7]}\n",
    "            label_info = line_info[1].split(\"_\")\n",
    "            item[\"quality\"] = label_info[0]\n",
    "            item[\"dominance\"] = label_info[1]\n",
    "            item[\"intimacy\"] = label_info[2]\n",
    "\n",
    "            survey.append(item)\n",
    "    \n",
    "    return survey\n",
    "        "
   ]
  },
  {
   "cell_type": "code",
   "execution_count": 6,
   "metadata": {},
   "outputs": [],
   "source": [
    "survey = load_survey(label_path)"
   ]
  },
  {
   "cell_type": "code",
   "execution_count": 7,
   "metadata": {},
   "outputs": [
    {
     "name": "stdout",
     "output_type": "stream",
     "text": [
      "{'m1': 'Sad', 'e11': 'Scared', 'e12': 'Mock', 'm2': 'Laughing', 'e21': 'Sad', 'e22': 'Neutral', 'd': '4', 't': '2', 'quality': 'Bad', 'dominance': 'Equal', 'intimacy': 'Medium'} {'m1': 'Wiping', 'e11': 'Tired', 'e12': 'Surprise', 'm2': 'Whatever', 'e21': 'Confused', 'e22': 'Sad', 'd': '4', 't': '1', 'quality': 'Good', 'dominance': 'Character two', 'intimacy': 'Close'} {'m1': 'Defeat', 'e11': 'Excited', 'e12': 'Confused', 'm2': 'Shaking', 'e21': 'Curious', 'e22': 'Frustrated', 'd': '4', 't': '-2', 'quality': 'Good', 'dominance': 'Character one', 'intimacy': 'Medium'} {'m1': 'Arguing', 'e11': 'Frustrated', 'e12': 'Tired', 'm2': 'Shaking', 'e21': 'Dissatisfied', 'e22': 'Embarrased', 'd': '4', 't': '-2', 'quality': 'Good', 'dominance': 'Character two', 'intimacy': 'Alienated'} {'m1': 'Bow', 'e11': 'Tired', 'e12': 'Confused', 'm2': 'Bow', 'e21': 'Disgust', 'e22': 'Curious', 'd': '4', 't': '2', 'quality': 'Good', 'dominance': 'Equal', 'intimacy': 'Medium'} {'m1': 'Offensive', 'e11': 'Embarrased', 'e12': 'Surprise', 'm2': 'Clapping', 'e21': 'Surprise', 'e22': 'Confused', 'd': '2', 't': '2', 'quality': 'Bad', 'dominance': 'Character one', 'intimacy': 'Alienated'} {'m1': 'Clapping', 'e11': 'Excited', 'e12': 'Dissatisfied', 'm2': 'Head Shake', 'e21': 'Tired', 'e22': 'Mock', 'd': '8', 't': '0', 'quality': 'Just so so', 'dominance': 'Character two', 'intimacy': 'Medium'} {'m1': 'Agreeing', 'e11': 'Madness', 'e12': 'Frustrated', 'm2': 'Rubbing', 'e21': 'Mock', 'e22': 'Annoyed', 'd': '4', 't': '0', 'quality': 'Just so so', 'dominance': 'Equal', 'intimacy': 'Medium'} {'m1': 'Kiss', 'e11': 'Sad', 'e12': 'Happy', 'm2': 'Taunt', 'e21': 'Angry', 'e22': 'Disgust', 'd': '8', 't': '0', 'quality': 'Bad', 'dominance': 'Character two', 'intimacy': 'Alienated'} {'m1': 'Forward', 'e11': 'Surprise', 'e12': 'Annoyed', 'm2': 'Waving', 'e21': 'Dissatisfied', 'e22': 'Curious', 'd': '4', 't': '2', 'quality': 'Good', 'dominance': 'Character two', 'intimacy': 'Medium'} {'m1': 'Excited', 'e11': 'Excited', 'e12': 'Sad', 'm2': 'Charge', 'e21': 'Happy', 'e22': 'Madness', 'd': '2', 't': '0', 'quality': 'Bad', 'dominance': 'Character two', 'intimacy': 'Medium'} {'m1': 'Forward', 'e11': 'Excited', 'e12': 'Surprise', 'm2': 'Terrified', 'e21': 'Happy', 'e22': 'Hate', 'd': '8', 't': '-2', 'quality': 'Just so so', 'dominance': 'Character one', 'intimacy': 'Medium'} {'m1': 'Acknowledging', 'e11': 'Embarrased', 'e12': 'Scared', 'm2': 'Clapping', 'e21': 'Sad', 'e22': 'Delight', 'd': '2', 't': '-1', 'quality': 'Good', 'dominance': 'Character two', 'intimacy': 'Close'} {'m1': 'Head Shake', 'e11': 'Sad', 'e12': 'Annoyed', 'm2': 'Charge', 'e21': 'Angry', 'e22': 'Confused', 'd': '8', 't': '2', 'quality': 'Just so so', 'dominance': 'Character two', 'intimacy': 'Medium'} {'m1': 'Terrified', 'e11': 'Confused', 'e12': 'Scared', 'm2': 'Strong', 'e21': 'Confused', 'e22': 'Hate', 'd': '2', 't': '2', 'quality': 'Bad', 'dominance': 'Character two', 'intimacy': 'Medium'} {'m1': 'Talking', 'e11': 'Sad', 'e12': 'Dissatisfied', 'm2': 'Laughing', 'e21': 'Happy', 'e22': 'Concerned', 'd': '2', 't': '2', 'quality': 'Just so so', 'dominance': 'Character two', 'intimacy': 'Alienated'} {'m1': 'Disappointed', 'e11': 'Hate', 'e12': 'Embarrased', 'm2': 'Dizzy', 'e21': 'Frustrated', 'e22': 'Dissatisfied', 'd': '2', 't': '0', 'quality': 'Bad', 'dominance': 'Character one', 'intimacy': 'Medium'} {'m1': 'Dizzy', 'e11': 'Tired', 'e12': 'Concerned', 'm2': 'Strong', 'e21': 'Neutral', 'e22': 'Embarrased', 'd': '4', 't': '-2', 'quality': 'Good', 'dominance': 'Equal', 'intimacy': 'Close'} {'m1': 'Loser', 'e11': 'Annoyed', 'e12': 'Disgust', 'm2': 'Fist', 'e21': 'Embarrased', 'e22': 'Disgust', 'd': '8', 't': '2', 'quality': 'Good', 'dominance': 'Character one', 'intimacy': 'Alienated'} {'m1': 'Strong', 'e11': 'Madness', 'e12': 'Scared', 'm2': 'Neck', 'e21': 'Madness', 'e22': 'Surprise', 'd': '2', 't': '0', 'quality': 'Just so so', 'dominance': 'Character two', 'intimacy': 'Medium'} {'m1': 'Drunk', 'e11': 'Annoyed', 'e12': 'Curious', 'm2': 'Stomping', 'e21': 'Curious', 'e22': 'Neutral', 'd': '2', 't': '2', 'quality': 'Bad', 'dominance': 'Character two', 'intimacy': 'Close'} {'m1': 'Terrified', 'e11': 'Embarrased', 'e12': 'Neutral', 'm2': 'Thoughtful', 'e21': 'Happy', 'e22': 'Mock', 'd': '4', 't': '2', 'quality': 'Good', 'dominance': 'Equal', 'intimacy': 'Close'} {'m1': 'Rubbing', 'e11': 'Madness', 'e12': 'Scared', 'm2': 'Head Nod', 'e21': 'Excited', 'e22': 'Annoyed', 'd': '2', 't': '2', 'quality': 'Good', 'dominance': 'Equal', 'intimacy': 'Medium'} {'m1': 'Shaking', 'e11': 'Madness', 'e12': 'Sad', 'm2': 'Sad', 'e21': 'Frustrated', 'e22': 'Sad', 'd': '2', 't': '2', 'quality': 'Bad', 'dominance': 'Character one', 'intimacy': 'Alienated'} {'m1': 'Laughing', 'e11': 'Surprise', 'e12': 'Hate', 'm2': 'Kneeling', 'e21': 'Concerned', 'e22': 'Neutral', 'd': '2', 't': '2', 'quality': 'Bad', 'dominance': 'Equal', 'intimacy': 'Medium'} {'m1': 'Excited', 'e11': 'Disgust', 'e12': 'Sad', 'm2': 'Singing', 'e21': 'Curious', 'e22': 'Surprise', 'd': '8', 't': '1', 'quality': 'Good', 'dominance': 'Equal', 'intimacy': 'Close'} {'m1': 'Charge', 'e11': 'Tired', 'e12': 'Excited', 'm2': 'Shaking', 'e21': 'Dissatisfied', 'e22': 'Delight', 'd': '2', 't': '-1', 'quality': 'Bad', 'dominance': 'Character one', 'intimacy': 'Alienated'} {'m1': 'Acknowledging', 'e11': 'Angry', 'e12': 'Annoyed', 'm2': 'Acknowledging', 'e21': 'Scared', 'e22': 'Tired', 'd': '4', 't': '-1', 'quality': 'Good', 'dominance': 'Character one', 'intimacy': 'Close'} {'m1': 'Shrugging', 'e11': 'Sad', 'e12': 'Hate', 'm2': 'Victory', 'e21': 'Surprise', 'e22': 'Surprise', 'd': '2', 't': '2', 'quality': 'Good', 'dominance': 'Character two', 'intimacy': 'Close'} {'m1': 'Acknowledging', 'e11': 'Scared', 'e12': 'Curious', 'm2': 'Surprised', 'e21': 'Madness', 'e22': 'Frustrated', 'd': '8', 't': '-2', 'quality': 'Just so so', 'dominance': 'Character two', 'intimacy': 'Medium'} {'m1': 'Bored', 'e11': 'Scared', 'e12': 'Concerned', 'm2': 'Kneeling', 'e21': 'Tired', 'e22': 'Sad', 'd': '8', 't': '-2', 'quality': 'Bad', 'dominance': 'Character one', 'intimacy': 'Alienated'} {'m1': 'Threatening', 'e11': 'Surprise', 'e12': 'Madness', 'm2': 'Neck', 'e21': 'Annoyed', 'e22': 'Delight', 'd': '2', 't': '1', 'quality': 'Just so so', 'dominance': 'Character two', 'intimacy': 'Medium'} {'m1': 'Clapping', 'e11': 'Delight', 'e12': 'Scared', 'm2': 'Reaching', 'e21': 'Mock', 'e22': 'Curious', 'd': '2', 't': '1', 'quality': 'Bad', 'dominance': 'Character two', 'intimacy': 'Medium'} {'m1': 'Kneeling', 'e11': 'Frustrated', 'e12': 'Annoyed', 'm2': 'Dismissing', 'e21': 'Frustrated', 'e22': 'Happy', 'd': '2', 't': '-2', 'quality': 'Good', 'dominance': 'Character two', 'intimacy': 'Medium'} {'m1': 'Yelling', 'e11': 'Confused', 'e12': 'Delight', 'm2': 'Surprised', 'e21': 'Confused', 'e22': 'Delight', 'd': '4', 't': '-2', 'quality': 'Bad', 'dominance': 'Character one', 'intimacy': 'Alienated'} {'m1': 'Salute', 'e11': 'Disgust', 'e12': 'Dissatisfied', 'm2': 'Bored', 'e21': 'Frustrated', 'e22': 'Scared', 'd': '2', 't': '-2', 'quality': 'Bad', 'dominance': 'Character two', 'intimacy': 'Medium'} {'m1': 'Terrified', 'e11': 'Curious', 'e12': 'Excited', 'm2': 'Threatening', 'e21': 'Embarrased', 'e22': 'Concerned', 'd': '8', 't': '-2', 'quality': 'Bad', 'dominance': 'Character two', 'intimacy': 'Alienated'} {'m1': 'Head Shake', 'e11': 'Surprise', 'e12': 'Mock', 'm2': 'Dizzy', 'e21': 'Mock', 'e22': 'Delight', 'd': '4', 't': '2', 'quality': 'Just so so', 'dominance': 'Equal', 'intimacy': 'Alienated'} {'m1': 'Singing', 'e11': 'Annoyed', 'e12': 'Happy', 'm2': 'Roar', 'e21': 'Curious', 'e22': 'Confused', 'd': '2', 't': '2', 'quality': 'Bad', 'dominance': 'Character one', 'intimacy': 'Medium'} {'m1': 'Pointing', 'e11': 'Excited', 'e12': 'Angry', 'm2': 'Head Shake', 'e21': 'Embarrased', 'e22': 'Concerned', 'd': '4', 't': '2', 'quality': 'Just so so', 'dominance': 'Character one', 'intimacy': 'Medium'} {'m1': 'Rejected', 'e11': 'Tired', 'e12': 'Disgust', 'm2': 'Victory', 'e21': 'Madness', 'e22': 'Happy', 'd': '4', 't': '-2', 'quality': 'Good', 'dominance': 'Equal', 'intimacy': 'Medium'} {'m1': 'Acknowledging', 'e11': 'Hate', 'e12': 'Surprise', 'm2': 'Relieved', 'e21': 'Hate', 'e22': 'Frustrated', 'd': '8', 't': '-2', 'quality': 'Good', 'dominance': 'Equal', 'intimacy': 'Close'} {'m1': 'Happy', 'e11': 'Happy', 'e12': 'Scared', 'm2': 'Whatever', 'e21': 'Sad', 'e22': 'Disgust', 'd': '2', 't': '2', 'quality': 'Good', 'dominance': 'Equal', 'intimacy': 'Close'} {'m1': 'Happy', 'e11': 'Curious', 'e12': 'Tired', 'm2': 'Neck', 'e21': 'Confused', 'e22': 'Embarrased', 'd': '4', 't': '-2', 'quality': 'Just so so', 'dominance': 'Equal', 'intimacy': 'Alienated'} {'m1': 'Pain', 'e11': 'Disgust', 'e12': 'Surprise', 'm2': 'Bow', 'e21': 'Confused', 'e22': 'Mock', 'd': '4', 't': '-2', 'quality': 'Bad', 'dominance': 'Equal', 'intimacy': 'Alienated'} {'m1': 'Rejected', 'e11': 'Confused', 'e12': 'Sad', 'm2': 'Idle', 'e21': 'Disgust', 'e22': 'Madness', 'd': '4', 't': '2', 'quality': 'Good', 'dominance': 'Character two', 'intimacy': 'Alienated'} {'m1': 'Bored', 'e11': 'Embarrased', 'e12': 'Confused', 'm2': 'Surprised', 'e21': 'Madness', 'e22': 'Dissatisfied', 'd': '4', 't': '-1', 'quality': 'Just so so', 'dominance': 'Equal', 'intimacy': 'Medium'} {'m1': 'Bored', 'e11': 'Concerned', 'e12': 'Neutral', 'm2': 'Cocky', 'e21': 'Disgust', 'e22': 'Dissatisfied', 'd': '4', 't': '-1', 'quality': 'Just so so', 'dominance': 'Character two', 'intimacy': 'Medium'} {'m1': 'Taunt', 'e11': 'Confused', 'e12': 'Scared', 'm2': 'Rejected', 'e21': 'Sad', 'e22': 'Frustrated', 'd': '2', 't': '2', 'quality': 'Bad', 'dominance': 'Equal', 'intimacy': 'Medium'} {'m1': 'Laughing', 'e11': 'Surprise', 'e12': 'Scared', 'm2': 'Happy', 'e21': 'Happy', 'e22': 'Frustrated', 'd': '2', 't': '2', 'quality': 'Good', 'dominance': 'Equal', 'intimacy': 'Medium'} {'m1': 'Thinking', 'e11': 'Hate', 'e12': 'Tired', 'm2': 'Clapping', 'e21': 'Embarrased', 'e22': 'Embarrased', 'd': '8', 't': '2', 'quality': 'Just so so', 'dominance': 'Equal', 'intimacy': 'Medium'} {'m1': 'Pointing', 'e11': 'Tired', 'e12': 'Confused', 'm2': 'Yawn', 'e21': 'Frustrated', 'e22': 'Frustrated', 'd': '2', 't': '-2', 'quality': 'Good', 'dominance': 'Character two', 'intimacy': 'Medium'} {'m1': 'Agreeing', 'e11': 'Dissatisfied', 'e12': 'Angry', 'm2': 'Excited', 'e21': 'Angry', 'e22': 'Angry', 'd': '8', 't': '-2', 'quality': 'Bad', 'dominance': 'Equal', 'intimacy': 'Alienated'} {'m1': 'Yawn', 'e11': 'Neutral', 'e12': 'Delight', 'm2': 'Neck', 'e21': 'Concerned', 'e22': 'Concerned', 'd': '8', 't': '-1', 'quality': 'Good', 'dominance': 'Character one', 'intimacy': 'Medium'} {'m1': 'Waving', 'e11': 'Disgust', 'e12': 'Neutral', 'm2': 'Greeting', 'e21': 'Happy', 'e22': 'Curious', 'd': '4', 't': '0', 'quality': 'Good', 'dominance': 'Equal', 'intimacy': 'Close'} {'m1': 'Neck', 'e11': 'Dissatisfied', 'e12': 'Tired', 'm2': 'Shaking', 'e21': 'Madness', 'e22': 'Dissatisfied', 'd': '2', 't': '0', 'quality': 'Bad', 'dominance': 'Character two', 'intimacy': 'Medium'} {'m1': 'Drunk', 'e11': 'Frustrated', 'e12': 'Madness', 'm2': 'Yawn', 'e21': 'Sad', 'e22': 'Surprise', 'd': '8', 't': '-2', 'quality': 'Just so so', 'dominance': 'Equal', 'intimacy': 'Alienated'} {'m1': 'Rubbing', 'e11': 'Scared', 'e12': 'Tired', 'm2': 'Head Shake', 'e21': 'Frustrated', 'e22': 'Neutral', 'd': '2', 't': '-2', 'quality': 'Good', 'dominance': 'Equal', 'intimacy': 'Close'} {'m1': 'Kneeling', 'e11': 'Surprise', 'e12': 'Concerned', 'm2': 'Excited', 'e21': 'Excited', 'e22': 'Frustrated', 'd': '2', 't': '0', 'quality': 'Bad', 'dominance': 'Character two', 'intimacy': 'Medium'} {'m1': 'Idle', 'e11': 'Scared', 'e12': 'Confused', 'm2': 'Pointing', 'e21': 'Happy', 'e22': 'Surprise', 'd': '4', 't': '0', 'quality': 'Good', 'dominance': 'Character two', 'intimacy': 'Medium'} {'m1': 'Wiping', 'e11': 'Scared', 'e12': 'Frustrated', 'm2': 'Rubbing', 'e21': 'Frustrated', 'e22': 'Embarrased', 'd': '2', 't': '0', 'quality': 'Bad', 'dominance': 'Character two', 'intimacy': 'Close'} {'m1': 'Rubbing', 'e11': 'Tired', 'e12': 'Madness', 'm2': 'Stomping', 'e21': 'Annoyed', 'e22': 'Tired', 'd': '2', 't': '0', 'quality': 'Good', 'dominance': 'Equal', 'intimacy': 'Close'} {'m1': 'Whatever', 'e11': 'Delight', 'e12': 'Scared', 'm2': 'Charge', 'e21': 'Confused', 'e22': 'Confused', 'd': '4', 't': '2', 'quality': 'Bad', 'dominance': 'Character two', 'intimacy': 'Medium'} {'m1': 'Idle', 'e11': 'Concerned', 'e12': 'Delight', 'm2': 'Agreeing', 'e21': 'Angry', 'e22': 'Disgust', 'd': '2', 't': '0', 'quality': 'Just so so', 'dominance': 'Character two', 'intimacy': 'Medium'} {'m1': 'Yelling', 'e11': 'Dissatisfied', 'e12': 'Confused', 'm2': 'Crying', 'e21': 'Embarrased', 'e22': 'Madness', 'd': '4', 't': '0', 'quality': 'Bad', 'dominance': 'Equal', 'intimacy': 'Alienated'} {'m1': 'Dwarf', 'e11': 'Tired', 'e12': 'Tired', 'm2': 'Sad', 'e21': 'Angry', 'e22': 'Surprise', 'd': '2', 't': '1', 'quality': 'Just so so', 'dominance': 'Equal', 'intimacy': 'Medium'} {'m1': 'Shrugging', 'e11': 'Disgust', 'e12': 'Hate', 'm2': 'Forward', 'e21': 'Neutral', 'e22': 'Frustrated', 'd': '2', 't': '2', 'quality': 'Just so so', 'dominance': 'Equal', 'intimacy': 'Close'} {'m1': 'Forward', 'e11': 'Delight', 'e12': 'Annoyed', 'm2': 'Loser', 'e21': 'Mock', 'e22': 'Scared', 'd': '2', 't': '2', 'quality': 'Bad', 'dominance': 'Character two', 'intimacy': 'Medium'} {'m1': 'Greeting', 'e11': 'Disgust', 'e12': 'Disgust', 'm2': 'Waving', 'e21': 'Confused', 'e22': 'Scared', 'd': '8', 't': '0', 'quality': 'Good', 'dominance': 'Equal', 'intimacy': 'Close'} {'m1': 'Forward', 'e11': 'Scared', 'e12': 'Annoyed', 'm2': 'Loser', 'e21': 'Madness', 'e22': 'Mock', 'd': '4', 't': '0', 'quality': 'Just so so', 'dominance': 'Character one', 'intimacy': 'Medium'} {'m1': 'Singing', 'e11': 'Disgust', 'e12': 'Mock', 'm2': 'Defeat', 'e21': 'Embarrased', 'e22': 'Hate', 'd': '4', 't': '2', 'quality': 'Good', 'dominance': 'Character one', 'intimacy': 'Close'} {'m1': 'Joyful', 'e11': 'Dissatisfied', 'e12': 'Curious', 'm2': 'Telling', 'e21': 'Mock', 'e22': 'Dissatisfied', 'd': '2', 't': '-2', 'quality': 'Just so so', 'dominance': 'Equal', 'intimacy': 'Close'} {'m1': 'Praying', 'e11': 'Disgust', 'e12': 'Dissatisfied', 'm2': 'Thankful', 'e21': 'Happy', 'e22': 'Excited', 'd': '8', 't': '-2', 'quality': 'Good', 'dominance': 'Character two', 'intimacy': 'Medium'} {'m1': 'Neck', 'e11': 'Surprise', 'e12': 'Mock', 'm2': 'Loser', 'e21': 'Angry', 'e22': 'Curious', 'd': '4', 't': '-2', 'quality': 'Bad', 'dominance': 'Character one', 'intimacy': 'Alienated'} {'m1': 'Excited', 'e11': 'Annoyed', 'e12': 'Confused', 'm2': 'Praying', 'e21': 'Happy', 'e22': 'Surprise', 'd': '4', 't': '-2', 'quality': 'Good', 'dominance': 'Character one', 'intimacy': 'Medium'} {'m1': 'Forward', 'e11': 'Dissatisfied', 'e12': 'Neutral', 'm2': 'Head Shake', 'e21': 'Sad', 'e22': 'Annoyed', 'd': '2', 't': '0', 'quality': 'Good', 'dominance': 'Equal', 'intimacy': 'Medium'} {'m1': 'Thumbs', 'e11': 'Confused', 'e12': 'Curious', 'm2': 'Kiss', 'e21': 'Curious', 'e22': 'Disgust', 'd': '8', 't': '0', 'quality': 'Good', 'dominance': 'Equal', 'intimacy': 'Alienated'} {'m1': 'Neck', 'e11': 'Surprise', 'e12': 'Neutral', 'm2': 'Dizzy', 'e21': 'Annoyed', 'e22': 'Embarrased', 'd': '2', 't': '-1', 'quality': 'Just so so', 'dominance': 'Equal', 'intimacy': 'Alienated'} {'m1': 'Acknowledging', 'e11': 'Neutral', 'e12': 'Confused', 'm2': 'Kiss', 'e21': 'Embarrased', 'e22': 'Confused', 'd': '8', 't': '-1', 'quality': 'Just so so', 'dominance': 'Character two', 'intimacy': 'Medium'} {'m1': 'Nervously', 'e11': 'Mock', 'e12': 'Sad', 'm2': 'Taunt', 'e21': 'Excited', 'e22': 'Surprise', 'd': '8', 't': '-1', 'quality': 'Bad', 'dominance': 'Equal', 'intimacy': 'Medium'} {'m1': 'Thumbs', 'e11': 'Angry', 'e12': 'Tired', 'm2': 'Sad', 'e21': 'Curious', 'e22': 'Curious', 'd': '8', 't': '1', 'quality': 'Good', 'dominance': 'Character one', 'intimacy': 'Medium'} {'m1': 'Stomping', 'e11': 'Disgust', 'e12': 'Confused', 'm2': 'Threatening', 'e21': 'Surprise', 'e22': 'Tired', 'd': '4', 't': '0', 'quality': 'Bad', 'dominance': 'Character two', 'intimacy': 'Alienated'} {'m1': 'Taunt', 'e11': 'Surprise', 'e12': 'Madness', 'm2': 'Dismissing', 'e21': 'Delight', 'e22': 'Surprise', 'd': '8', 't': '0', 'quality': 'Bad', 'dominance': 'Equal', 'intimacy': 'Medium'} {'m1': 'Offensive', 'e11': 'Dissatisfied', 'e12': 'Concerned', 'm2': 'Acknowledging', 'e21': 'Curious', 'e22': 'Embarrased', 'd': '2', 't': '0', 'quality': 'Good', 'dominance': 'Equal', 'intimacy': 'Close'} {'m1': 'Pointing', 'e11': 'Confused', 'e12': 'Happy', 'm2': 'Sarcastic', 'e21': 'Tired', 'e22': 'Surprise', 'd': '2', 't': '-1', 'quality': 'Just so so', 'dominance': 'Character one', 'intimacy': 'Close'} {'m1': 'Stomping', 'e11': 'Angry', 'e12': 'Confused', 'm2': 'Stomping', 'e21': 'Sad', 'e22': 'Hate', 'd': '8', 't': '2', 'quality': 'Bad', 'dominance': 'Character two', 'intimacy': 'Close'} {'m1': 'Sad', 'e11': 'Happy', 'e12': 'Scared', 'm2': 'Laughing', 'e21': 'Disgust', 'e22': 'Mock', 'd': '4', 't': '2', 'quality': 'Bad', 'dominance': 'Character two', 'intimacy': 'Close'} {'m1': 'Thumbs', 'e11': 'Tired', 'e12': 'Surprise', 'm2': 'Cocky', 'e21': 'Angry', 'e22': 'Surprise', 'd': '8', 't': '0', 'quality': 'Just so so', 'dominance': 'Character one', 'intimacy': 'Medium'} {'m1': 'Pain', 'e11': 'Curious', 'e12': 'Surprise', 'm2': 'Crazy', 'e21': 'Disgust', 'e22': 'Angry', 'd': '4', 't': '0', 'quality': 'Bad', 'dominance': 'Equal', 'intimacy': 'Medium'} {'m1': 'Fist', 'e11': 'Curious', 'e12': 'Curious', 'm2': 'Neck', 'e21': 'Happy', 'e22': 'Curious', 'd': '2', 't': '-1', 'quality': 'Just so so', 'dominance': 'Equal', 'intimacy': 'Medium'} {'m1': 'Waving', 'e11': 'Sad', 'e12': 'Scared', 'm2': 'Forward', 'e21': 'Scared', 'e22': 'Excited', 'd': '4', 't': '2', 'quality': 'Good', 'dominance': 'Equal', 'intimacy': 'Close'} {'m1': 'Yelling', 'e11': 'Tired', 'e12': 'Annoyed', 'm2': 'Focus', 'e21': 'Surprise', 'e22': 'Disgust', 'd': '2', 't': '0', 'quality': 'Bad', 'dominance': 'Character one', 'intimacy': 'Medium'} {'m1': 'Pain', 'e11': 'Scared', 'e12': 'Scared', 'm2': 'Strong', 'e21': 'Surprise', 'e22': 'Dissatisfied', 'd': '4', 't': '0', 'quality': 'Bad', 'dominance': 'Equal', 'intimacy': 'Medium'} {'m1': 'Praying', 'e11': 'Hate', 'e12': 'Excited', 'm2': 'Singing', 'e21': 'Delight', 'e22': 'Annoyed', 'd': '8', 't': '0', 'quality': 'Good', 'dominance': 'Character two', 'intimacy': 'Medium'} {'m1': 'Victory', 'e11': 'Frustrated', 'e12': 'Frustrated', 'm2': 'Excited', 'e21': 'Disgust', 'e22': 'Neutral', 'd': '8', 't': '2', 'quality': 'Just so so', 'dominance': 'Equal', 'intimacy': 'Alienated'} {'m1': 'Loser', 'e11': 'Concerned', 'e12': 'Madness', 'm2': 'Crying', 'e21': 'Confused', 'e22': 'Tired', 'd': '2', 't': '2', 'quality': 'Bad', 'dominance': 'Character one', 'intimacy': 'Alienated'} {'m1': 'Clapping', 'e11': 'Hate', 'e12': 'Curious', 'm2': 'Talking', 'e21': 'Scared', 'e22': 'Surprise', 'd': '4', 't': '-1', 'quality': 'Good', 'dominance': 'Character two', 'intimacy': 'Close'} {'m1': 'Greeting', 'e11': 'Disgust', 'e12': 'Concerned', 'm2': 'Thumbs', 'e21': 'Tired', 'e22': 'Delight', 'd': '2', 't': '-1', 'quality': 'Bad', 'dominance': 'Character two', 'intimacy': 'Alienated'} {'m1': 'Agreeing', 'e11': 'Tired', 'e12': 'Disgust', 'm2': 'Threatening', 'e21': 'Delight', 'e22': 'Tired', 'd': '2', 't': '1', 'quality': 'Good', 'dominance': 'Equal', 'intimacy': 'Medium'} {'m1': 'Thankful', 'e11': 'Madness', 'e12': 'Madness', 'm2': 'Angry', 'e21': 'Embarrased', 'e22': 'Tired', 'd': '8', 't': '2', 'quality': 'Just so so', 'dominance': 'Equal', 'intimacy': 'Alienated'} {'m1': 'Crazy', 'e11': 'Embarrased', 'e12': 'Angry', 'm2': 'Offensive', 'e21': 'Mock', 'e22': 'Concerned', 'd': '8', 't': '2', 'quality': 'Good', 'dominance': 'Equal', 'intimacy': 'Medium'} {'m1': 'Greeting', 'e11': 'Frustrated', 'e12': 'Embarrased', 'm2': 'Praying', 'e21': 'Embarrased', 'e22': 'Confused', 'd': '2', 't': '2', 'quality': 'Bad', 'dominance': 'Character one', 'intimacy': 'Alienated'} {'m1': 'Disappointed', 'e11': 'Concerned', 'e12': 'Dissatisfied', 'm2': 'Bow', 'e21': 'Neutral', 'e22': 'Angry', 'd': '8', 't': '-1', 'quality': 'Just so so', 'dominance': 'Equal', 'intimacy': 'Medium'} {'m1': 'Pouting', 'e11': 'Delight', 'e12': 'Madness', 'm2': 'Neck', 'e21': 'Angry', 'e22': 'Neutral', 'd': '4', 't': '-1', 'quality': 'Good', 'dominance': 'Equal', 'intimacy': 'Alienated'} {'m1': 'Arguing', 'e11': 'Delight', 'e12': 'Delight', 'm2': 'Arguing', 'e21': 'Embarrased', 'e22': 'Delight', 'd': '8', 't': '0', 'quality': 'Just so so', 'dominance': 'Equal', 'intimacy': 'Medium'} {'m1': 'Thankful', 'e11': 'Neutral', 'e12': 'Hate', 'm2': 'Neck', 'e21': 'Happy', 'e22': 'Disgust', 'd': '8', 't': '0', 'quality': 'Bad', 'dominance': 'Equal', 'intimacy': 'Alienated'} {'m1': 'Happy', 'e11': 'Madness', 'e12': 'Excited', 'm2': 'Thinking', 'e21': 'Hate', 'e22': 'Excited', 'd': '4', 't': '0', 'quality': 'Just so so', 'dominance': 'Equal', 'intimacy': 'Close'} {'m1': 'Praying', 'e11': 'Scared', 'e12': 'Sad', 'm2': 'Whatever', 'e21': 'Neutral', 'e22': 'Embarrased', 'd': '4', 't': '-2', 'quality': 'Just so so', 'dominance': 'Character two', 'intimacy': 'Medium'} {'m1': 'Terrified', 'e11': 'Frustrated', 'e12': 'Surprise', 'm2': 'Disappointed', 'e21': 'Sad', 'e22': 'Neutral', 'd': '2', 't': '-2', 'quality': 'Just so so', 'dominance': 'Character two', 'intimacy': 'Close'} {'m1': 'Clapping', 'e11': 'Delight', 'e12': 'Embarrased', 'm2': 'Talking', 'e21': 'Embarrased', 'e22': 'Hate', 'd': '2', 't': '-2', 'quality': 'Just so so', 'dominance': 'Character two', 'intimacy': 'Medium'} {'m1': 'Forward', 'e11': 'Sad', 'e12': 'Hate', 'm2': 'Dwarf', 'e21': 'Excited', 'e22': 'Excited', 'd': '4', 't': '-2', 'quality': 'Just so so', 'dominance': 'Equal', 'intimacy': 'Medium'} {'m1': 'Forward', 'e11': 'Tired', 'e12': 'Neutral', 'm2': 'Disappointed', 'e21': 'Tired', 'e22': 'Madness', 'd': '8', 't': '-2', 'quality': 'Good', 'dominance': 'Character two', 'intimacy': 'Medium'} {'m1': 'Stomping', 'e11': 'Surprise', 'e12': 'Concerned', 'm2': 'Pain', 'e21': 'Disgust', 'e22': 'Happy', 'd': '4', 't': '-2', 'quality': 'Just so so', 'dominance': 'Character two', 'intimacy': 'Medium'} {'m1': 'Greeting', 'e11': 'Delight', 'e12': 'Dissatisfied', 'm2': 'Telling', 'e21': 'Dissatisfied', 'e22': 'Madness', 'd': '2', 't': '-2', 'quality': 'Good', 'dominance': 'Equal', 'intimacy': 'Close'} {'m1': 'Telling', 'e11': 'Dissatisfied', 'e12': 'Happy', 'm2': 'Rubbing', 'e21': 'Excited', 'e22': 'Concerned', 'd': '8', 't': '-2', 'quality': 'Bad', 'dominance': 'Character two', 'intimacy': 'Medium'} {'m1': 'Thankful', 'e11': 'Embarrased', 'e12': 'Frustrated', 'm2': 'Wiping', 'e21': 'Annoyed', 'e22': 'Concerned', 'd': '4', 't': '-2', 'quality': 'Just so so', 'dominance': 'Character two', 'intimacy': 'Medium'} {'m1': 'Laughing', 'e11': 'Annoyed', 'e12': 'Hate', 'm2': 'Telling', 'e21': 'Madness', 'e22': 'Mock', 'd': '2', 't': '0', 'quality': 'Good', 'dominance': 'Equal', 'intimacy': 'Close'} {'m1': 'Cocky', 'e11': 'Concerned', 'e12': 'Scared', 'm2': 'Charge', 'e21': 'Curious', 'e22': 'Dissatisfied', 'd': '8', 't': '0', 'quality': 'Just so so', 'dominance': 'Character two', 'intimacy': 'Close'} {'m1': 'Look', 'e11': 'Confused', 'e12': 'Excited', 'm2': 'Praying', 'e21': 'Confused', 'e22': 'Dissatisfied', 'd': '2', 't': '0', 'quality': 'Good', 'dominance': 'Character one', 'intimacy': 'Close'} {'m1': 'Telling', 'e11': 'Sad', 'e12': 'Frustrated', 'm2': 'Dismissing', 'e21': 'Confused', 'e22': 'Confused', 'd': '8', 't': '-2', 'quality': 'Just so so', 'dominance': 'Character two', 'intimacy': 'Medium'} {'m1': 'Offensive', 'e11': 'Tired', 'e12': 'Madness', 'm2': 'Idle', 'e21': 'Scared', 'e22': 'Delight', 'd': '4', 't': '-2', 'quality': 'Just so so', 'dominance': 'Equal', 'intimacy': 'Medium'} {'m1': 'Nervously', 'e11': 'Concerned', 'e12': 'Excited', 'm2': 'Terrified', 'e21': 'Curious', 'e22': 'Confused', 'd': '2', 't': '0', 'quality': 'Bad', 'dominance': 'Equal', 'intimacy': 'Close'} {'m1': 'Crying', 'e11': 'Delight', 'e12': 'Tired', 'm2': 'Neck', 'e21': 'Tired', 'e22': 'Tired', 'd': '8', 't': '0', 'quality': 'Good', 'dominance': 'Equal', 'intimacy': 'Alienated'} {'m1': 'Sarcastic', 'e11': 'Madness', 'e12': 'Surprise', 'm2': 'Head Nod', 'e21': 'Concerned', 'e22': 'Confused', 'd': '2', 't': '0', 'quality': 'Good', 'dominance': 'Equal', 'intimacy': 'Close'} {'m1': 'Talking', 'e11': 'Happy', 'e12': 'Scared', 'm2': 'Defeat', 'e21': 'Surprise', 'e22': 'Sad', 'd': '4', 't': '0', 'quality': 'Good', 'dominance': 'Equal', 'intimacy': 'Medium'} {'m1': 'Pointing', 'e11': 'Dissatisfied', 'e12': 'Confused', 'm2': 'Dizzy', 'e21': 'Madness', 'e22': 'Sad', 'd': '2', 't': '0', 'quality': 'Just so so', 'dominance': 'Equal', 'intimacy': 'Close'} {'m1': 'Rejected', 'e11': 'Neutral', 'e12': 'Neutral', 'm2': 'Bored', 'e21': 'Mock', 'e22': 'Frustrated', 'd': '4', 't': '0', 'quality': 'Bad', 'dominance': 'Character two', 'intimacy': 'Medium'} {'m1': 'Cocky', 'e11': 'Madness', 'e12': 'Frustrated', 'm2': 'Singing', 'e21': 'Embarrased', 'e22': 'Dissatisfied', 'd': '4', 't': '0', 'quality': 'Just so so', 'dominance': 'Character two', 'intimacy': 'Medium'} {'m1': 'Happy', 'e11': 'Embarrased', 'e12': 'Frustrated', 'm2': 'Threatening', 'e21': 'Dissatisfied', 'e22': 'Annoyed', 'd': '4', 't': '0', 'quality': 'Just so so', 'dominance': 'Equal', 'intimacy': 'Medium'} {'m1': 'Roar', 'e11': 'Neutral', 'e12': 'Happy', 'm2': 'Laughing', 'e21': 'Surprise', 'e22': 'Concerned', 'd': '4', 't': '0', 'quality': 'Good', 'dominance': 'Equal', 'intimacy': 'Close'} {'m1': 'Drunk', 'e11': 'Annoyed', 'e12': 'Embarrased', 'm2': 'Praying', 'e21': 'Confused', 'e22': 'Embarrased', 'd': '8', 't': '0', 'quality': 'Good', 'dominance': 'Character one', 'intimacy': 'Medium'} {'m1': 'Fist', 'e11': 'Neutral', 'e12': 'Surprise', 'm2': 'Angry', 'e21': 'Tired', 'e22': 'Curious', 'd': '2', 't': '0', 'quality': 'Good', 'dominance': 'Character two', 'intimacy': 'Close'} {'m1': 'Sad', 'e11': 'Curious', 'e12': 'Excited', 'm2': 'Disappointed', 'e21': 'Frustrated', 'e22': 'Confused', 'd': '8', 't': '-2', 'quality': 'Good', 'dominance': 'Equal', 'intimacy': 'Close'} {'m1': 'Thoughtful', 'e11': 'Sad', 'e12': 'Surprise', 'm2': 'Laughing', 'e21': 'Tired', 'e22': 'Scared', 'd': '4', 't': '0', 'quality': 'Good', 'dominance': 'Character two', 'intimacy': 'Close'} {'m1': 'Thinking', 'e11': 'Embarrased', 'e12': 'Neutral', 'm2': 'Sad', 'e21': 'Concerned', 'e22': 'Disgust', 'd': '4', 't': '0', 'quality': 'Just so so', 'dominance': 'Character one', 'intimacy': 'Medium'} {'m1': 'Bow', 'e11': 'Concerned', 'e12': 'Annoyed', 'm2': 'Look', 'e21': 'Disgust', 'e22': 'Happy', 'd': '8', 't': '0', 'quality': 'Just so so', 'dominance': 'Character two', 'intimacy': 'Alienated'} {'m1': 'Shrugging', 'e11': 'Neutral', 'e12': 'Embarrased', 'm2': 'Rubbing', 'e21': 'Scared', 'e22': 'Happy', 'd': '4', 't': '0', 'quality': 'Just so so', 'dominance': 'Character two', 'intimacy': 'Medium'} {'m1': 'Joyful', 'e11': 'Embarrased', 'e12': 'Angry', 'm2': 'Bow', 'e21': 'Excited', 'e22': 'Hate', 'd': '4', 't': '0', 'quality': 'Bad', 'dominance': 'Equal', 'intimacy': 'Medium'} {'m1': 'Disappointed', 'e11': 'Confused', 'e12': 'Annoyed', 'm2': 'Yawn', 'e21': 'Annoyed', 'e22': 'Excited', 'd': '4', 't': '-2', 'quality': 'Good', 'dominance': 'Character two', 'intimacy': 'Medium'} {'m1': 'Fist', 'e11': 'Annoyed', 'e12': 'Confused', 'm2': 'Offensive', 'e21': 'Happy', 'e22': 'Disgust', 'd': '2', 't': '-2', 'quality': 'Just so so', 'dominance': 'Character two', 'intimacy': 'Close'} {'m1': 'Stomping', 'e11': 'Frustrated', 'e12': 'Concerned', 'm2': 'Head Shake', 'e21': 'Surprise', 'e22': 'Angry', 'd': '8', 't': '0', 'quality': 'Just so so', 'dominance': 'Character two', 'intimacy': 'Alienated'} {'m1': 'Rubbing', 'e11': 'Tired', 'e12': 'Curious', 'm2': 'Salute', 'e21': 'Annoyed', 'e22': 'Hate', 'd': '2', 't': '0', 'quality': 'Good', 'dominance': 'Equal', 'intimacy': 'Close'} {'m1': 'Salute', 'e11': 'Embarrased', 'e12': 'Neutral', 'm2': 'Rejected', 'e21': 'Madness', 'e22': 'Disgust', 'd': '2', 't': '0', 'quality': 'Good', 'dominance': 'Character one', 'intimacy': 'Close'} {'m1': 'Thoughtful', 'e11': 'Tired', 'e12': 'Embarrased', 'm2': 'Joyful', 'e21': 'Mock', 'e22': 'Surprise', 'd': '8', 't': '0', 'quality': 'Good', 'dominance': 'Equal', 'intimacy': 'Medium'} {'m1': 'Crazy', 'e11': 'Frustrated', 'e12': 'Hate', 'm2': 'Disappointed', 'e21': 'Frustrated', 'e22': 'Dissatisfied', 'd': '2', 't': '2', 'quality': 'Just so so', 'dominance': 'Equal', 'intimacy': 'Close'} {'m1': 'Focus', 'e11': 'Delight', 'e12': 'Tired', 'm2': 'Stomping', 'e21': 'Tired', 'e22': 'Angry', 'd': '2', 't': '2', 'quality': 'Just so so', 'dominance': 'Character two', 'intimacy': 'Close'} {'m1': 'Crazy', 'e11': 'Surprise', 'e12': 'Happy', 'm2': 'Charge', 'e21': 'Neutral', 'e22': 'Delight', 'd': '4', 't': '-2', 'quality': 'Good', 'dominance': 'Equal', 'intimacy': 'Close'} {'m1': 'Talking', 'e11': 'Madness', 'e12': 'Sad', 'm2': 'Pointing', 'e21': 'Tired', 'e22': 'Tired', 'd': '2', 't': '-2', 'quality': 'Good', 'dominance': 'Character one', 'intimacy': 'Close'} {'m1': 'Waving', 'e11': 'Frustrated', 'e12': 'Annoyed', 'm2': 'Nervously', 'e21': 'Confused', 'e22': 'Madness', 'd': '2', 't': '-2', 'quality': 'Good', 'dominance': 'Character one', 'intimacy': 'Close'} {'m1': 'Drunk', 'e11': 'Excited', 'e12': 'Excited', 'm2': 'Surprised', 'e21': 'Scared', 'e22': 'Embarrased', 'd': '2', 't': '-2', 'quality': 'Just so so', 'dominance': 'Equal', 'intimacy': 'Close'} {'m1': 'Sad', 'e11': 'Sad', 'e12': 'Surprise', 'm2': 'Angry', 'e21': 'Hate', 'e22': 'Excited', 'd': '8', 't': '-2', 'quality': 'Good', 'dominance': 'Character two', 'intimacy': 'Alienated'} {'m1': 'Thoughtful', 'e11': 'Neutral', 'e12': 'Curious', 'm2': 'Bored', 'e21': 'Neutral', 'e22': 'Concerned', 'd': '4', 't': '-2', 'quality': 'Bad', 'dominance': 'Equal', 'intimacy': 'Medium'} {'m1': 'Threatening', 'e11': 'Curious', 'e12': 'Sad', 'm2': 'Rubbing', 'e21': 'Dissatisfied', 'e22': 'Frustrated', 'd': '4', 't': '-2', 'quality': 'Good', 'dominance': 'Equal', 'intimacy': 'Medium'} {'m1': 'Wiping', 'e11': 'Mock', 'e12': 'Delight', 'm2': 'Dwarf', 'e21': 'Confused', 'e22': 'Tired', 'd': '8', 't': '-2', 'quality': 'Bad', 'dominance': 'Equal', 'intimacy': 'Medium'} {'m1': 'Rejected', 'e11': 'Madness', 'e12': 'Tired', 'm2': 'Kneeling', 'e21': 'Surprise', 'e22': 'Curious', 'd': '8', 't': '0', 'quality': 'Bad', 'dominance': 'Equal', 'intimacy': 'Medium'} {'m1': 'Salute', 'e11': 'Curious', 'e12': 'Scared', 'm2': 'Disappointed', 'e21': 'Happy', 'e22': 'Curious', 'd': '8', 't': '0', 'quality': 'Just so so', 'dominance': 'Equal', 'intimacy': 'Medium'} {'m1': 'Excited', 'e11': 'Hate', 'e12': 'Happy', 'm2': 'Focus', 'e21': 'Mock', 'e22': 'Surprise', 'd': '4', 't': '0', 'quality': 'Bad', 'dominance': 'Equal', 'intimacy': 'Medium'} {'m1': 'Arguing', 'e11': 'Tired', 'e12': 'Concerned', 'm2': 'Rubbing', 'e21': 'Scared', 'e22': 'Concerned', 'd': '8', 't': '0', 'quality': 'Good', 'dominance': 'Character two', 'intimacy': 'Medium'} {'m1': 'Laughing', 'e11': 'Dissatisfied', 'e12': 'Confused', 'm2': 'Idle', 'e21': 'Neutral', 'e22': 'Surprise', 'd': '8', 't': '0', 'quality': 'Good', 'dominance': 'Equal', 'intimacy': 'Medium'} {'m1': 'Shrugging', 'e11': 'Delight', 'e12': 'Neutral', 'm2': 'Forward', 'e21': 'Neutral', 'e22': 'Hate', 'd': '2', 't': '0', 'quality': 'Good', 'dominance': 'Equal', 'intimacy': 'Close'} {'m1': 'Happy', 'e11': 'Angry', 'e12': 'Scared', 'm2': 'Forward', 'e21': 'Confused', 'e22': 'Neutral', 'd': '2', 't': '0', 'quality': 'Good', 'dominance': 'Equal', 'intimacy': 'Close'} {'m1': 'Taunt', 'e11': 'Frustrated', 'e12': 'Scared', 'm2': 'Agreeing', 'e21': 'Surprise', 'e22': 'Angry', 'd': '8', 't': '0', 'quality': 'Just so so', 'dominance': 'Equal', 'intimacy': 'Medium'} {'m1': 'Charge', 'e11': 'Neutral', 'e12': 'Hate', 'm2': 'Offensive', 'e21': 'Delight', 'e22': 'Mock', 'd': '8', 't': '0', 'quality': 'Just so so', 'dominance': 'Character one', 'intimacy': 'Medium'} {'m1': 'Thumbs', 'e11': 'Tired', 'e12': 'Happy', 'm2': 'Thoughtful', 'e21': 'Excited', 'e22': 'Annoyed', 'd': '4', 't': '0', 'quality': 'Just so so', 'dominance': 'Equal', 'intimacy': 'Medium'} {'m1': 'Stomping', 'e11': 'Madness', 'e12': 'Madness', 'm2': 'Dizzy', 'e21': 'Scared', 'e22': 'Embarrased', 'd': '8', 't': '2', 'quality': 'Good', 'dominance': 'Character two', 'intimacy': 'Alienated'} {'m1': 'Head Shake', 'e11': 'Delight', 'e12': 'Madness', 'm2': 'Acknowledging', 'e21': 'Disgust', 'e22': 'Delight', 'd': '4', 't': '2', 'quality': 'Good', 'dominance': 'Equal', 'intimacy': 'Medium'} {'m1': 'Pouting', 'e11': 'Concerned', 'e12': 'Annoyed', 'm2': 'Roar', 'e21': 'Mock', 'e22': 'Disgust', 'd': '8', 't': '2', 'quality': 'Just so so', 'dominance': 'Equal', 'intimacy': 'Close'} {'m1': 'Yelling', 'e11': 'Hate', 'e12': 'Madness', 'm2': 'Acknowledging', 'e21': 'Sad', 'e22': 'Surprise', 'd': '2', 't': '-2', 'quality': 'Good', 'dominance': 'Equal', 'intimacy': 'Close'} {'m1': 'Neck', 'e11': 'Mock', 'e12': 'Delight', 'm2': 'Wiping', 'e21': 'Annoyed', 'e22': 'Disgust', 'd': '8', 't': '-2', 'quality': 'Just so so', 'dominance': 'Character two', 'intimacy': 'Alienated'} {'m1': 'Shrugging', 'e11': 'Annoyed', 'e12': 'Curious', 'm2': 'Acknowledging', 'e21': 'Sad', 'e22': 'Neutral', 'd': '4', 't': '-2', 'quality': 'Good', 'dominance': 'Character one', 'intimacy': 'Close'} {'m1': 'Pouting', 'e11': 'Confused', 'e12': 'Hate', 'm2': 'Kneeling', 'e21': 'Frustrated', 'e22': 'Confused', 'd': '4', 't': '-2', 'quality': 'Good', 'dominance': 'Character one', 'intimacy': 'Close'} {'m1': 'Pointing', 'e11': 'Annoyed', 'e12': 'Delight', 'm2': 'Talking', 'e21': 'Hate', 'e22': 'Scared', 'd': '4', 't': '-2', 'quality': 'Just so so', 'dominance': 'Character two', 'intimacy': 'Medium'} {'m1': 'Idle', 'e11': 'Concerned', 'e12': 'Concerned', 'm2': 'Wiping', 'e21': 'Embarrased', 'e22': 'Sad', 'd': '4', 't': '-2', 'quality': 'Good', 'dominance': 'Character two', 'intimacy': 'Close'} {'m1': 'Victory', 'e11': 'Concerned', 'e12': 'Scared', 'm2': 'Excited', 'e21': 'Tired', 'e22': 'Happy', 'd': '4', 't': '-2', 'quality': 'Just so so', 'dominance': 'Equal', 'intimacy': 'Medium'} {'m1': 'Yelling', 'e11': 'Excited', 'e12': 'Delight', 'm2': 'Angry', 'e21': 'Angry', 'e22': 'Dissatisfied', 'd': '2', 't': '-2', 'quality': 'Good', 'dominance': 'Character one', 'intimacy': 'Close'} {'m1': 'Terrified', 'e11': 'Neutral', 'e12': 'Neutral', 'm2': 'Charge', 'e21': 'Sad', 'e22': 'Hate', 'd': '4', 't': '-2', 'quality': 'Good', 'dominance': 'Character two', 'intimacy': 'Close'} {'m1': 'Threatening', 'e11': 'Neutral', 'e12': 'Happy', 'm2': 'Pain', 'e21': 'Surprise', 'e22': 'Sad', 'd': '8', 't': '-2', 'quality': 'Just so so', 'dominance': 'Equal', 'intimacy': 'Medium'} {'m1': 'Joyful', 'e11': 'Scared', 'e12': 'Sad', 'm2': 'Taunt', 'e21': 'Hate', 'e22': 'Surprise', 'd': '8', 't': '0', 'quality': 'Good', 'dominance': 'Equal', 'intimacy': 'Medium'} {'m1': 'Excited', 'e11': 'Hate', 'e12': 'Angry', 'm2': 'Victory', 'e21': 'Delight', 'e22': 'Happy', 'd': '2', 't': '0', 'quality': 'Bad', 'dominance': 'Equal', 'intimacy': 'Medium'} {'m1': 'Relieved', 'e11': 'Curious', 'e12': 'Frustrated', 'm2': 'Angry', 'e21': 'Neutral', 'e22': 'Confused', 'd': '2', 't': '0', 'quality': 'Good', 'dominance': 'Character two', 'intimacy': 'Close'} {'m1': 'Wiping', 'e11': 'Madness', 'e12': 'Embarrased', 'm2': 'Loser', 'e21': 'Scared', 'e22': 'Tired', 'd': '4', 't': '0', 'quality': 'Bad', 'dominance': 'Character two', 'intimacy': 'Close'} {'m1': 'Arguing', 'e11': 'Angry', 'e12': 'Madness', 'm2': 'Nervously', 'e21': 'Annoyed', 'e22': 'Confused', 'd': '8', 't': '0', 'quality': 'Good', 'dominance': 'Character one', 'intimacy': 'Medium'} {'m1': 'Bored', 'e11': 'Annoyed', 'e12': 'Sad', 'm2': 'Laughing', 'e21': 'Hate', 'e22': 'Annoyed', 'd': '4', 't': '0', 'quality': 'Good', 'dominance': 'Equal', 'intimacy': 'Medium'} {'m1': 'Defeat', 'e11': 'Madness', 'e12': 'Dissatisfied', 'm2': 'Relieved', 'e21': 'Surprise', 'e22': 'Disgust', 'd': '8', 't': '0', 'quality': 'Just so so', 'dominance': 'Character two', 'intimacy': 'Medium'} {'m1': 'Cocky', 'e11': 'Frustrated', 'e12': 'Surprise', 'm2': 'Focus', 'e21': 'Dissatisfied', 'e22': 'Mock', 'd': '2', 't': '0', 'quality': 'Just so so', 'dominance': 'Character one', 'intimacy': 'Close'} {'m1': 'Yawn', 'e11': 'Surprise', 'e12': 'Concerned', 'm2': 'Forward', 'e21': 'Scared', 'e22': 'Mock', 'd': '2', 't': '0', 'quality': 'Just so so', 'dominance': 'Equal', 'intimacy': 'Close'} {'m1': 'Telling', 'e11': 'Madness', 'e12': 'Annoyed', 'm2': 'Thinking', 'e21': 'Hate', 'e22': 'Scared', 'd': '8', 't': '-2', 'quality': 'Just so so', 'dominance': 'Character two', 'intimacy': 'Alienated'} {'m1': 'Roar', 'e11': 'Concerned', 'e12': 'Surprise', 'm2': 'Crying', 'e21': 'Angry', 'e22': 'Angry', 'd': '8', 't': '-2', 'quality': 'Just so so', 'dominance': 'Equal', 'intimacy': 'Medium'} {'m1': 'Sarcastic', 'e11': 'Embarrased', 'e12': 'Frustrated', 'm2': 'Greeting', 'e21': 'Mock', 'e22': 'Madness', 'd': '4', 't': '-2', 'quality': 'Good', 'dominance': 'Equal', 'intimacy': 'Medium'} {'m1': 'Head Shake', 'e11': 'Curious', 'e12': 'Happy', 'm2': 'Arguing', 'e21': 'Angry', 'e22': 'Angry', 'd': '8', 't': '-2', 'quality': 'Good', 'dominance': 'Equal', 'intimacy': 'Alienated'} {'m1': 'Telling', 'e11': 'Frustrated', 'e12': 'Delight', 'm2': 'Look', 'e21': 'Hate', 'e22': 'Madness', 'd': '4', 't': '-2', 'quality': 'Bad', 'dominance': 'Equal', 'intimacy': 'Medium'} {'m1': 'Look', 'e11': 'Annoyed', 'e12': 'Curious', 'm2': 'Happy', 'e21': 'Neutral', 'e22': 'Hate', 'd': '8', 't': '-2', 'quality': 'Bad', 'dominance': 'Equal', 'intimacy': 'Medium'} {'m1': 'Loser', 'e11': 'Disgust', 'e12': 'Sad', 'm2': 'Sad', 'e21': 'Concerned', 'e22': 'Dissatisfied', 'd': '2', 't': '2', 'quality': 'Just so so', 'dominance': 'Character one', 'intimacy': 'Close'} {'m1': 'Drunk', 'e11': 'Sad', 'e12': 'Annoyed', 'm2': 'Shrugging', 'e21': 'Confused', 'e22': 'Sad', 'd': '8', 't': '0', 'quality': 'Just so so', 'dominance': 'Equal', 'intimacy': 'Medium'} {'m1': 'Surprised', 'e11': 'Frustrated', 'e12': 'Tired', 'm2': 'Laughing', 'e21': 'Sad', 'e22': 'Concerned', 'd': '4', 't': '0', 'quality': 'Bad', 'dominance': 'Equal', 'intimacy': 'Medium'} {'m1': 'Shaking', 'e11': 'Hate', 'e12': 'Hate', 'm2': 'Dwarf', 'e21': 'Happy', 'e22': 'Happy', 'd': '2', 't': '0', 'quality': 'Good', 'dominance': 'Character two', 'intimacy': 'Close'} {'m1': 'Thoughtful', 'e11': 'Excited', 'e12': 'Excited', 'm2': 'Nervously', 'e21': 'Frustrated', 'e22': 'Angry', 'd': '8', 't': '0', 'quality': 'Just so so', 'dominance': 'Equal', 'intimacy': 'Medium'} {'m1': 'Charge', 'e11': 'Mock', 'e12': 'Curious', 'm2': 'Rejected', 'e21': 'Confused', 'e22': 'Mock', 'd': '8', 't': '0', 'quality': 'Just so so', 'dominance': 'Character one', 'intimacy': 'Medium'} {'m1': 'Loser', 'e11': 'Happy', 'e12': 'Scared', 'm2': 'Shaking', 'e21': 'Happy', 'e22': 'Confused', 'd': '4', 't': '0', 'quality': 'Just so so', 'dominance': 'Character one', 'intimacy': 'Close'} {'m1': 'Idle', 'e11': 'Hate', 'e12': 'Hate', 'm2': 'Bored', 'e21': 'Delight', 'e22': 'Concerned', 'd': '2', 't': '0', 'quality': 'Bad', 'dominance': 'Equal', 'intimacy': 'Close'} {'m1': 'Thankful', 'e11': 'Disgust', 'e12': 'Confused', 'm2': 'Dismissing', 'e21': 'Curious', 'e22': 'Tired', 'd': '8', 't': '-2', 'quality': 'Just so so', 'dominance': 'Equal', 'intimacy': 'Medium'} {'m1': 'Thankful', 'e11': 'Surprise', 'e12': 'Tired', 'm2': 'Clapping', 'e21': 'Dissatisfied', 'e22': 'Surprise', 'd': '2', 't': '0', 'quality': 'Just so so', 'dominance': 'Equal', 'intimacy': 'Close'} {'m1': 'Bow', 'e11': 'Excited', 'e12': 'Sad', 'm2': 'Idle', 'e21': 'Confused', 'e22': 'Disgust', 'd': '2', 't': '0', 'quality': 'Just so so', 'dominance': 'Equal', 'intimacy': 'Close'} {'m1': 'Pain', 'e11': 'Madness', 'e12': 'Tired', 'm2': 'Threatening', 'e21': 'Dissatisfied', 'e22': 'Confused', 'd': '4', 't': '0', 'quality': 'Just so so', 'dominance': 'Equal', 'intimacy': 'Medium'} {'m1': 'Praying', 'e11': 'Frustrated', 'e12': 'Happy', 'm2': 'Taunt', 'e21': 'Excited', 'e22': 'Angry', 'd': '8', 't': '0', 'quality': 'Just so so', 'dominance': 'Character two', 'intimacy': 'Medium'} {'m1': 'Talking', 'e11': 'Happy', 'e12': 'Sad', 'm2': 'Taunt', 'e21': 'Frustrated', 'e22': 'Disgust', 'd': '2', 't': '0', 'quality': 'Bad', 'dominance': 'Equal', 'intimacy': 'Close'} {'m1': 'Arguing', 'e11': 'Neutral', 'e12': 'Neutral', 'm2': 'Pointing', 'e21': 'Disgust', 'e22': 'Mock', 'd': '2', 't': '0', 'quality': 'Good', 'dominance': 'Equal', 'intimacy': 'Close'} {'m1': 'Clapping', 'e11': 'Curious', 'e12': 'Happy', 'm2': 'Drunk', 'e21': 'Neutral', 'e22': 'Curious', 'd': '8', 't': '0', 'quality': 'Bad', 'dominance': 'Equal', 'intimacy': 'Medium'} {'m1': 'Salute', 'e11': 'Delight', 'e12': 'Frustrated', 'm2': 'Dismissing', 'e21': 'Confused', 'e22': 'Delight', 'd': '4', 't': '0', 'quality': 'Good', 'dominance': 'Equal', 'intimacy': 'Medium'} {'m1': 'Talking', 'e11': 'Disgust', 'e12': 'Sad', 'm2': 'Acknowledging', 'e21': 'Neutral', 'e22': 'Curious', 'd': '8', 't': '0', 'quality': 'Good', 'dominance': 'Character one', 'intimacy': 'Medium'} {'m1': 'Yelling', 'e11': 'Happy', 'e12': 'Hate', 'm2': 'Bash', 'e21': 'Happy', 'e22': 'Confused', 'd': '8', 't': '0', 'quality': 'Just so so', 'dominance': 'Equal', 'intimacy': 'Medium'} {'m1': 'Nervously', 'e11': 'Delight', 'e12': 'Angry', 'm2': 'Happy', 'e21': 'Confused', 'e22': 'Surprise', 'd': '8', 't': '0', 'quality': 'Just so so', 'dominance': 'Character two', 'intimacy': 'Medium'} {'m1': 'Focus', 'e11': 'Dissatisfied', 'e12': 'Confused', 'm2': 'Focus', 'e21': 'Embarrased', 'e22': 'Tired', 'd': '2', 't': '0', 'quality': 'Good', 'dominance': 'Equal', 'intimacy': 'Close'} {'m1': 'Kiss', 'e11': 'Confused', 'e12': 'Dissatisfied', 'm2': 'Fist', 'e21': 'Frustrated', 'e22': 'Happy', 'd': '8', 't': '0', 'quality': 'Just so so', 'dominance': 'Equal', 'intimacy': 'Medium'} {'m1': 'Sarcastic', 'e11': 'Embarrased', 'e12': 'Frustrated', 'm2': 'Rubbing', 'e21': 'Sad', 'e22': 'Mock', 'd': '8', 't': '0', 'quality': 'Just so so', 'dominance': 'Equal', 'intimacy': 'Medium'} {'m1': 'Praying', 'e11': 'Disgust', 'e12': 'Delight', 'm2': 'Clapping', 'e21': 'Mock', 'e22': 'Excited', 'd': '8', 't': '0', 'quality': 'Good', 'dominance': 'Character two', 'intimacy': 'Alienated'} {'m1': 'Roar', 'e11': 'Frustrated', 'e12': 'Mock', 'm2': 'Kiss', 'e21': 'Neutral', 'e22': 'Confused', 'd': '4', 't': '0', 'quality': 'Just so so', 'dominance': 'Character two', 'intimacy': 'Medium'} {'m1': 'Yawn', 'e11': 'Angry', 'e12': 'Delight', 'm2': 'Joyful', 'e21': 'Curious', 'e22': 'Disgust', 'd': '4', 't': '0', 'quality': 'Good', 'dominance': 'Character one', 'intimacy': 'Medium'} {'m1': 'Disappointed', 'e11': 'Neutral', 'e12': 'Curious', 'm2': 'Happy', 'e21': 'Confused', 'e22': 'Sad', 'd': '8', 't': '0', 'quality': 'Bad', 'dominance': 'Equal', 'intimacy': 'Medium'} {'m1': 'Joyful', 'e11': 'Curious', 'e12': 'Neutral', 'm2': 'Taunt', 'e21': 'Dissatisfied', 'e22': 'Madness', 'd': '8', 't': '0', 'quality': 'Just so so', 'dominance': 'Equal', 'intimacy': 'Close'} {'m1': 'Thumbs', 'e11': 'Hate', 'e12': 'Dissatisfied', 'm2': 'Shaking', 'e21': 'Tired', 'e22': 'Hate', 'd': '2', 't': '0', 'quality': 'Just so so', 'dominance': 'Equal', 'intimacy': 'Close'} {'m1': 'Focus', 'e11': 'Delight', 'e12': 'Excited', 'm2': 'Relieved', 'e21': 'Annoyed', 'e22': 'Confused', 'd': '2', 't': '0', 'quality': 'Just so so', 'dominance': 'Character two', 'intimacy': 'Close'} {'m1': 'Telling', 'e11': 'Disgust', 'e12': 'Confused', 'm2': 'Pain', 'e21': 'Concerned', 'e22': 'Annoyed', 'd': '8', 't': '2', 'quality': 'Bad', 'dominance': 'Equal', 'intimacy': 'Alienated'} {'m1': 'Disappointed', 'e11': 'Tired', 'e12': 'Curious', 'm2': 'Threatening', 'e21': 'Dissatisfied', 'e22': 'Tired', 'd': '8', 't': '2', 'quality': 'Just so so', 'dominance': 'Equal', 'intimacy': 'Alienated'} {'m1': 'Head Shake', 'e11': 'Excited', 'e12': 'Concerned', 'm2': 'Greeting', 'e21': 'Mock', 'e22': 'Disgust', 'd': '4', 't': '2', 'quality': 'Good', 'dominance': 'Character one', 'intimacy': 'Medium'} {'m1': 'Talking', 'e11': 'Surprise', 'e12': 'Confused', 'm2': 'Singing', 'e21': 'Embarrased', 'e22': 'Neutral', 'd': '2', 't': '0', 'quality': 'Bad', 'dominance': 'Equal', 'intimacy': 'Close'} {'m1': 'Joyful', 'e11': 'Curious', 'e12': 'Hate', 'm2': 'Sarcastic', 'e21': 'Concerned', 'e22': 'Surprise', 'd': '8', 't': '0', 'quality': 'Good', 'dominance': 'Equal', 'intimacy': 'Medium'} {'m1': 'Sad', 'e11': 'Frustrated', 'e12': 'Excited', 'm2': 'Greeting', 'e21': 'Curious', 'e22': 'Delight', 'd': '4', 't': '0', 'quality': 'Good', 'dominance': 'Character two', 'intimacy': 'Medium'} {'m1': 'Crying', 'e11': 'Happy', 'e12': 'Angry', 'm2': 'Charge', 'e21': 'Scared', 'e22': 'Concerned', 'd': '2', 't': '0', 'quality': 'Just so so', 'dominance': 'Character two', 'intimacy': 'Close'} {'m1': 'Happy', 'e11': 'Surprise', 'e12': 'Embarrased', 'm2': 'Surprised', 'e21': 'Happy', 'e22': 'Sad', 'd': '2', 't': '0', 'quality': 'Just so so', 'dominance': 'Equal', 'intimacy': 'Close'} {'m1': 'Bash', 'e11': 'Sad', 'e12': 'Madness', 'm2': 'Pain', 'e21': 'Mock', 'e22': 'Hate', 'd': '2', 't': '0', 'quality': 'Bad', 'dominance': 'Equal', 'intimacy': 'Close'} {'m1': 'Sad', 'e11': 'Happy', 'e12': 'Angry', 'm2': 'Dizzy', 'e21': 'Disgust', 'e22': 'Hate', 'd': '2', 't': '0', 'quality': 'Good', 'dominance': 'Character two', 'intimacy': 'Close'} {'m1': 'Idle', 'e11': 'Curious', 'e12': 'Embarrased', 'm2': 'Rejected', 'e21': 'Confused', 'e22': 'Happy', 'd': '2', 't': '0', 'quality': 'Just so so', 'dominance': 'Character one', 'intimacy': 'Close'} {'m1': 'Crazy', 'e11': 'Sad', 'e12': 'Neutral', 'm2': 'Shrugging', 'e21': 'Neutral', 'e22': 'Excited', 'd': '4', 't': '0', 'quality': 'Good', 'dominance': 'Equal', 'intimacy': 'Medium'} {'m1': 'Angry', 'e11': 'Annoyed', 'e12': 'Madness', 'm2': 'Praying', 'e21': 'Curious', 'e22': 'Angry', 'd': '8', 't': '0', 'quality': 'Good', 'dominance': 'Character one', 'intimacy': 'Alienated'} {'m1': 'Taunt', 'e11': 'Embarrased', 'e12': 'Sad', 'm2': 'Loser', 'e21': 'Confused', 'e22': 'Disgust', 'd': '2', 't': '0', 'quality': 'Just so so', 'dominance': 'Equal', 'intimacy': 'Close'} {'m1': 'Laughing', 'e11': 'Dissatisfied', 'e12': 'Angry', 'm2': 'Pouting', 'e21': 'Delight', 'e22': 'Curious', 'd': '8', 't': '0', 'quality': 'Just so so', 'dominance': 'Equal', 'intimacy': 'Medium'} {'m1': 'Surprised', 'e11': 'Sad', 'e12': 'Hate', 'm2': 'Wiping', 'e21': 'Happy', 'e22': 'Embarrased', 'd': '2', 't': '0', 'quality': 'Just so so', 'dominance': 'Equal', 'intimacy': 'Close'} {'m1': 'Yawn', 'e11': 'Embarrased', 'e12': 'Neutral', 'm2': 'Forward', 'e21': 'Surprise', 'e22': 'Neutral', 'd': '2', 't': '0', 'quality': 'Good', 'dominance': 'Equal', 'intimacy': 'Close'} {'m1': 'Forward', 'e11': 'Concerned', 'e12': 'Happy', 'm2': 'Yawn', 'e21': 'Frustrated', 'e22': 'Tired', 'd': '4', 't': '0', 'quality': 'Good', 'dominance': 'Equal', 'intimacy': 'Medium'} {'m1': 'Offensive', 'e11': 'Surprise', 'e12': 'Scared', 'm2': 'Terrified', 'e21': 'Delight', 'e22': 'Madness', 'd': '4', 't': '0', 'quality': 'Just so so', 'dominance': 'Character one', 'intimacy': 'Medium'} {'m1': 'Head Nod', 'e11': 'Happy', 'e12': 'Excited', 'm2': 'Relieved', 'e21': 'Neutral', 'e22': 'Dissatisfied', 'd': '4', 't': '0', 'quality': 'Good', 'dominance': 'Equal', 'intimacy': 'Medium'} {'m1': 'Wiping', 'e11': 'Surprise', 'e12': 'Hate', 'm2': 'Nervously', 'e21': 'Dissatisfied', 'e22': 'Surprise', 'd': '4', 't': '0', 'quality': 'Good', 'dominance': 'Character two', 'intimacy': 'Medium'} {'m1': 'Shrugging', 'e11': 'Concerned', 'e12': 'Dissatisfied', 'm2': 'Acknowledging', 'e21': 'Dissatisfied', 'e22': 'Excited', 'd': '8', 't': '0', 'quality': 'Good', 'dominance': 'Character one', 'intimacy': 'Alienated'} {'m1': 'Singing', 'e11': 'Delight', 'e12': 'Happy', 'm2': 'Salute', 'e21': 'Dissatisfied', 'e22': 'Dissatisfied', 'd': '4', 't': '0', 'quality': 'Good', 'dominance': 'Equal', 'intimacy': 'Medium'} {'m1': 'Crazy', 'e11': 'Tired', 'e12': 'Happy', 'm2': 'Relieved', 'e21': 'Annoyed', 'e22': 'Concerned', 'd': '4', 't': '0', 'quality': 'Good', 'dominance': 'Equal', 'intimacy': 'Medium'} {'m1': 'Rejected', 'e11': 'Annoyed', 'e12': 'Scared', 'm2': 'Look', 'e21': 'Surprise', 'e22': 'Neutral', 'd': '8', 't': '0', 'quality': 'Bad', 'dominance': 'Equal', 'intimacy': 'Medium'} {'m1': 'Idle', 'e11': 'Happy', 'e12': 'Embarrased', 'm2': 'Terrified', 'e21': 'Mock', 'e22': 'Frustrated', 'd': '8', 't': '0', 'quality': 'Bad', 'dominance': 'Character one', 'intimacy': 'Alienated'} {'m1': 'Charge', 'e11': 'Tired', 'e12': 'Hate', 'm2': 'Kneeling', 'e21': 'Scared', 'e22': 'Scared', 'd': '8', 't': '0', 'quality': 'Just so so', 'dominance': 'Character one', 'intimacy': 'Medium'} {'m1': 'Stomping', 'e11': 'Disgust', 'e12': 'Sad', 'm2': 'Offensive', 'e21': 'Dissatisfied', 'e22': 'Happy', 'd': '4', 't': '0', 'quality': 'Just so so', 'dominance': 'Character two', 'intimacy': 'Medium'} {'m1': 'Talking', 'e11': 'Annoyed', 'e12': 'Hate', 'm2': 'Pointing', 'e21': 'Scared', 'e22': 'Embarrased', 'd': '4', 't': '0', 'quality': 'Good', 'dominance': 'Equal', 'intimacy': 'Medium'} {'m1': 'Roar', 'e11': 'Disgust', 'e12': 'Hate', 'm2': 'Laughing', 'e21': 'Surprise', 'e22': 'Tired', 'd': '2', 't': '0', 'quality': 'Bad', 'dominance': 'Equal', 'intimacy': 'Close'} {'m1': 'Cocky', 'e11': 'Happy', 'e12': 'Hate', 'm2': 'Nervously', 'e21': 'Angry', 'e22': 'Concerned', 'd': '4', 't': '0', 'quality': 'Just so so', 'dominance': 'Equal', 'intimacy': 'Medium'} {'m1': 'Angry', 'e11': 'Neutral', 'e12': 'Disgust', 'm2': 'Telling', 'e21': 'Dissatisfied', 'e22': 'Disgust', 'd': '4', 't': '0', 'quality': 'Bad', 'dominance': 'Character two', 'intimacy': 'Medium'} {'m1': 'Neck', 'e11': 'Scared', 'e12': 'Tired', 'm2': 'Head Shake', 'e21': 'Mock', 'e22': 'Mock', 'd': '2', 't': '0', 'quality': 'Good', 'dominance': 'Equal', 'intimacy': 'Close'} {'m1': 'Cocky', 'e11': 'Tired', 'e12': 'Frustrated', 'm2': 'Yawn', 'e21': 'Concerned', 'e22': 'Annoyed', 'd': '2', 't': '0', 'quality': 'Good', 'dominance': 'Equal', 'intimacy': 'Close'} {'m1': 'Threatening', 'e11': 'Frustrated', 'e12': 'Happy', 'm2': 'Clapping', 'e21': 'Neutral', 'e22': 'Neutral', 'd': '4', 't': '0', 'quality': 'Good', 'dominance': 'Equal', 'intimacy': 'Medium'} {'m1': 'Dismissing', 'e11': 'Embarrased', 'e12': 'Dissatisfied', 'm2': 'Bored', 'e21': 'Madness', 'e22': 'Dissatisfied', 'd': '2', 't': '0', 'quality': 'Bad', 'dominance': 'Equal', 'intimacy': 'Medium'} {'m1': 'Relieved', 'e11': 'Sad', 'e12': 'Delight', 'm2': 'Reaching', 'e21': 'Excited', 'e22': 'Dissatisfied', 'd': '2', 't': '0', 'quality': 'Just so so', 'dominance': 'Equal', 'intimacy': 'Close'} {'m1': 'Idle', 'e11': 'Embarrased', 'e12': 'Madness', 'm2': 'Yelling', 'e21': 'Scared', 'e22': 'Confused', 'd': '2', 't': '0', 'quality': 'Just so so', 'dominance': 'Equal', 'intimacy': 'Close'} {'m1': 'Arguing', 'e11': 'Sad', 'e12': 'Tired', 'm2': 'Charge', 'e21': 'Frustrated', 'e22': 'Confused', 'd': '4', 't': '0', 'quality': 'Bad', 'dominance': 'Character two', 'intimacy': 'Close'} {'m1': 'Kneeling', 'e11': 'Tired', 'e12': 'Confused', 'm2': 'Greeting', 'e21': 'Sad', 'e22': 'Embarrased', 'd': '2', 't': '0', 'quality': 'Good', 'dominance': 'Character two', 'intimacy': 'Close'} {'m1': 'Dizzy', 'e11': 'Madness', 'e12': 'Frustrated', 'm2': 'Nervously', 'e21': 'Concerned', 'e22': 'Madness', 'd': '2', 't': '0', 'quality': 'Good', 'dominance': 'Equal', 'intimacy': 'Close'} {'m1': 'Shaking', 'e11': 'Hate', 'e12': 'Tired', 'm2': 'Praying', 'e21': 'Disgust', 'e22': 'Embarrased', 'd': '2', 't': '0', 'quality': 'Good', 'dominance': 'Character one', 'intimacy': 'Close'} {'m1': 'Greeting', 'e11': 'Embarrased', 'e12': 'Hate', 'm2': 'Pain', 'e21': 'Scared', 'e22': 'Embarrased', 'd': '2', 't': '0', 'quality': 'Bad', 'dominance': 'Equal', 'intimacy': 'Close'} {'m1': 'Stomping', 'e11': 'Disgust', 'e12': 'Hate', 'm2': 'Offensive', 'e21': 'Neutral', 'e22': 'Curious', 'd': '2', 't': '0', 'quality': 'Just so so', 'dominance': 'Character two', 'intimacy': 'Close'} {'m1': 'Neck', 'e11': 'Disgust', 'e12': 'Delight', 'm2': 'Shaking', 'e21': 'Curious', 'e22': 'Concerned', 'd': '2', 't': '0', 'quality': 'Bad', 'dominance': 'Equal', 'intimacy': 'Close'} {'m1': 'Focus', 'e11': 'Curious', 'e12': 'Dissatisfied', 'm2': 'Shaking', 'e21': 'Delight', 'e22': 'Embarrased', 'd': '2', 't': '0', 'quality': 'Bad', 'dominance': 'Equal', 'intimacy': 'Close'} {'m1': 'Threatening', 'e11': 'Mock', 'e12': 'Confused', 'm2': 'Stomping', 'e21': 'Surprise', 'e22': 'Frustrated', 'd': '8', 't': '0', 'quality': 'Bad', 'dominance': 'Equal', 'intimacy': 'Alienated'} {'m1': 'Acknowledging', 'e11': 'Concerned', 'e12': 'Embarrased', 'm2': 'Relieved', 'e21': 'Happy', 'e22': 'Annoyed', 'd': '2', 't': '0', 'quality': 'Good', 'dominance': 'Equal', 'intimacy': 'Close'} {'m1': 'Wiping', 'e11': 'Neutral', 'e12': 'Embarrased', 'm2': 'Pain', 'e21': 'Surprise', 'e22': 'Curious', 'd': '4', 't': '0', 'quality': 'Just so so', 'dominance': 'Character two', 'intimacy': 'Medium'} {'m1': 'Telling', 'e11': 'Embarrased', 'e12': 'Madness', 'm2': 'Acknowledging', 'e21': 'Scared', 'e22': 'Hate', 'd': '2', 't': '0', 'quality': 'Good', 'dominance': 'Character two', 'intimacy': 'Close'} {'m1': 'Pain', 'e11': 'Annoyed', 'e12': 'Madness', 'm2': 'Victory', 'e21': 'Tired', 'e22': 'Scared', 'd': '8', 't': '2', 'quality': 'Just so so', 'dominance': 'Equal', 'intimacy': 'Close'} {'m1': 'Acknowledging', 'e11': 'Excited', 'e12': 'Scared', 'm2': 'Clapping', 'e21': 'Neutral', 'e22': 'Annoyed', 'd': '8', 't': '2', 'quality': 'Good', 'dominance': 'Character two', 'intimacy': 'Close'} {'m1': 'Sarcastic', 'e11': 'Surprise', 'e12': 'Excited', 'm2': 'Roar', 'e21': 'Madness', 'e22': 'Annoyed', 'd': '2', 't': '2', 'quality': 'Bad', 'dominance': 'Equal', 'intimacy': 'Close'} {'m1': 'Dwarf', 'e11': 'Surprise', 'e12': 'Dissatisfied', 'm2': 'Agreeing', 'e21': 'Neutral', 'e22': 'Hate', 'd': '4', 't': '2', 'quality': 'Good', 'dominance': 'Character one', 'intimacy': 'Alienated'} {'m1': 'Rejected', 'e11': 'Happy', 'e12': 'Angry', 'm2': 'Kneeling', 'e21': 'Confused', 'e22': 'Tired', 'd': '4', 't': '2', 'quality': 'Just so so', 'dominance': 'Character one', 'intimacy': 'Medium'} {'m1': 'Drunk', 'e11': 'Annoyed', 'e12': 'Embarrased', 'm2': 'Victory', 'e21': 'Excited', 'e22': 'Curious', 'd': '8', 't': '1', 'quality': 'Just so so', 'dominance': 'Equal', 'intimacy': 'Close'} {'m1': 'Surprised', 'e11': 'Tired', 'e12': 'Tired', 'm2': 'Victory', 'e21': 'Sad', 'e22': 'Sad', 'd': '8', 't': '1', 'quality': 'Just so so', 'dominance': 'Equal', 'intimacy': 'Medium'} {'m1': 'Clapping', 'e11': 'Dissatisfied', 'e12': 'Scared', 'm2': 'Pouting', 'e21': 'Dissatisfied', 'e22': 'Mock', 'd': '2', 't': '1', 'quality': 'Just so so', 'dominance': 'Character one', 'intimacy': 'Medium'} {'m1': 'Loser', 'e11': 'Madness', 'e12': 'Frustrated', 'm2': 'Pain', 'e21': 'Surprise', 'e22': 'Embarrased', 'd': '2', 't': '1', 'quality': 'Bad', 'dominance': 'Equal', 'intimacy': 'Close'} {'m1': 'Shrugging', 'e11': 'Annoyed', 'e12': 'Concerned', 'm2': 'Clapping', 'e21': 'Annoyed', 'e22': 'Confused', 'd': '8', 't': '1', 'quality': 'Bad', 'dominance': 'Equal', 'intimacy': 'Medium'} {'m1': 'Joyful', 'e11': 'Madness', 'e12': 'Happy', 'm2': 'Drunk', 'e21': 'Scared', 'e22': 'Frustrated', 'd': '8', 't': '-1', 'quality': 'Just so so', 'dominance': 'Equal', 'intimacy': 'Close'} {'m1': 'Victory', 'e11': 'Happy', 'e12': 'Tired', 'm2': 'Taunt', 'e21': 'Confused', 'e22': 'Madness', 'd': '4', 't': '-1', 'quality': 'Just so so', 'dominance': 'Equal', 'intimacy': 'Close'} {'m1': 'Clapping', 'e11': 'Hate', 'e12': 'Disgust', 'm2': 'Defeat', 'e21': 'Madness', 'e22': 'Excited', 'd': '8', 't': '-1', 'quality': 'Just so so', 'dominance': 'Character one', 'intimacy': 'Close'} {'m1': 'Head Shake', 'e11': 'Angry', 'e12': 'Sad', 'm2': 'Stomping', 'e21': 'Scared', 'e22': 'Hate', 'd': '2', 't': '-1', 'quality': 'Bad', 'dominance': 'Character one', 'intimacy': 'Close'} {'m1': 'Agreeing', 'e11': 'Madness', 'e12': 'Happy', 'm2': 'Pointing', 'e21': 'Curious', 'e22': 'Disgust', 'd': '8', 't': '-1', 'quality': 'Just so so', 'dominance': 'Character two', 'intimacy': 'Medium'} {'m1': 'Wiping', 'e11': 'Delight', 'e12': 'Annoyed', 'm2': 'Loser', 'e21': 'Happy', 'e22': 'Angry', 'd': '2', 't': '-1', 'quality': 'Bad', 'dominance': 'Equal', 'intimacy': 'Medium'} {'m1': 'Charge', 'e11': 'Concerned', 'e12': 'Hate', 'm2': 'Drunk', 'e21': 'Confused', 'e22': 'Angry', 'd': '8', 't': '-1', 'quality': 'Just so so', 'dominance': 'Character one', 'intimacy': 'Medium'} {'m1': 'Strong', 'e11': 'Scared', 'e12': 'Embarrased', 'm2': 'Rubbing', 'e21': 'Scared', 'e22': 'Tired', 'd': '8', 't': '-1', 'quality': 'Just so so', 'dominance': 'Equal', 'intimacy': 'Medium'} {'m1': 'Reaching', 'e11': 'Disgust', 'e12': 'Frustrated', 'm2': 'Threatening', 'e21': 'Curious', 'e22': 'Hate', 'd': '4', 't': '-2', 'quality': 'Just so so', 'dominance': 'Character two', 'intimacy': 'Medium'} {'m1': 'Whatever', 'e11': 'Annoyed', 'e12': 'Annoyed', 'm2': 'Bored', 'e21': 'Sad', 'e22': 'Scared', 'd': '8', 't': '0', 'quality': 'Bad', 'dominance': 'Equal', 'intimacy': 'Medium'} {'m1': 'Threatening', 'e11': 'Madness', 'e12': 'Surprise', 'm2': 'Crying', 'e21': 'Happy', 'e22': 'Confused', 'd': '2', 't': '0', 'quality': 'Good', 'dominance': 'Equal', 'intimacy': 'Close'} {'m1': 'Pouting', 'e11': 'Annoyed', 'e12': 'Scared', 'm2': 'Forward', 'e21': 'Hate', 'e22': 'Sad', 'd': '2', 't': '0', 'quality': 'Good', 'dominance': 'Character two', 'intimacy': 'Close'} {'m1': 'Arguing', 'e11': 'Madness', 'e12': 'Delight', 'm2': 'Drunk', 'e21': 'Hate', 'e22': 'Madness', 'd': '4', 't': '0', 'quality': 'Just so so', 'dominance': 'Equal', 'intimacy': 'Medium'} {'m1': 'Bored', 'e11': 'Confused', 'e12': 'Embarrased', 'm2': 'Kneeling', 'e21': 'Annoyed', 'e22': 'Concerned', 'd': '8', 't': '0', 'quality': 'Just so so', 'dominance': 'Character one', 'intimacy': 'Medium'} {'m1': 'Dwarf', 'e11': 'Neutral', 'e12': 'Annoyed', 'm2': 'Bored', 'e21': 'Delight', 'e22': 'Mock', 'd': '8', 't': '0', 'quality': 'Bad', 'dominance': 'Equal', 'intimacy': 'Alienated'} {'m1': 'Fist', 'e11': 'Concerned', 'e12': 'Excited', 'm2': 'Clapping', 'e21': 'Concerned', 'e22': 'Madness', 'd': '2', 't': '0', 'quality': 'Good', 'dominance': 'Equal', 'intimacy': 'Close'} {'m1': 'Praying', 'e11': 'Embarrased', 'e12': 'Madness', 'm2': 'Strong', 'e21': 'Madness', 'e22': 'Curious', 'd': '2', 't': '0', 'quality': 'Good', 'dominance': 'Character two', 'intimacy': 'Close'} {'m1': 'Focus', 'e11': 'Neutral', 'e12': 'Madness', 'm2': 'Thumbs', 'e21': 'Concerned', 'e22': 'Surprise', 'd': '8', 't': '0', 'quality': 'Good', 'dominance': 'Character two', 'intimacy': 'Close'} {'m1': 'Dwarf', 'e11': 'Confused', 'e12': 'Excited', 'm2': 'Yawn', 'e21': 'Angry', 'e22': 'Delight', 'd': '4', 't': '0', 'quality': 'Bad', 'dominance': 'Equal', 'intimacy': 'Medium'} {'m1': 'Shrugging', 'e11': 'Madness', 'e12': 'Tired', 'm2': 'Dwarf', 'e21': 'Embarrased', 'e22': 'Surprise', 'd': '8', 't': '0', 'quality': 'Good', 'dominance': 'Equal', 'intimacy': 'Medium'} {'m1': 'Dwarf', 'e11': 'Angry', 'e12': 'Excited', 'm2': 'Angry', 'e21': 'Disgust', 'e22': 'Concerned', 'd': '2', 't': '0', 'quality': 'Bad', 'dominance': 'Equal', 'intimacy': 'Close'} {'m1': 'Fist', 'e11': 'Delight', 'e12': 'Happy', 'm2': 'Dismissing', 'e21': 'Sad', 'e22': 'Frustrated', 'd': '4', 't': '0', 'quality': 'Good', 'dominance': 'Equal', 'intimacy': 'Medium'} {'m1': 'Crazy', 'e11': 'Madness', 'e12': 'Hate', 'm2': 'Crazy', 'e21': 'Angry', 'e22': 'Sad', 'd': '8', 't': '0', 'quality': 'Good', 'dominance': 'Equal', 'intimacy': 'Medium'} {'m1': 'Head Nod', 'e11': 'Angry', 'e12': 'Annoyed', 'm2': 'Taunt', 'e21': 'Scared', 'e22': 'Surprise', 'd': '8', 't': '0', 'quality': 'Just so so', 'dominance': 'Equal', 'intimacy': 'Medium'} {'m1': 'Arguing', 'e11': 'Scared', 'e12': 'Delight', 'm2': 'Excited', 'e21': 'Mock', 'e22': 'Sad', 'd': '4', 't': '0', 'quality': 'Bad', 'dominance': 'Equal', 'intimacy': 'Medium'} {'m1': 'Wiping', 'e11': 'Confused', 'e12': 'Frustrated', 'm2': 'Pain', 'e21': 'Surprise', 'e22': 'Excited', 'd': '2', 't': '0', 'quality': 'Bad', 'dominance': 'Character two', 'intimacy': 'Close'} {'m1': 'Victory', 'e11': 'Neutral', 'e12': 'Dissatisfied', 'm2': 'Angry', 'e21': 'Angry', 'e22': 'Embarrased', 'd': '4', 't': '0', 'quality': 'Good', 'dominance': 'Character two', 'intimacy': 'Medium'} {'m1': 'Clapping', 'e11': 'Neutral', 'e12': 'Angry', 'm2': 'Victory', 'e21': 'Tired', 'e22': 'Hate', 'd': '2', 't': '0', 'quality': 'Just so so', 'dominance': 'Equal', 'intimacy': 'Close'} {'m1': 'Clapping', 'e11': 'Angry', 'e12': 'Surprise', 'm2': 'Forward', 'e21': 'Angry', 'e22': 'Happy', 'd': '2', 't': '0', 'quality': 'Just so so', 'dominance': 'Equal', 'intimacy': 'Close'} {'m1': 'Telling', 'e11': 'Disgust', 'e12': 'Angry', 'm2': 'Sad', 'e21': 'Delight', 'e22': 'Embarrased', 'd': '4', 't': '0', 'quality': 'Good', 'dominance': 'Equal', 'intimacy': 'Medium'} {'m1': 'Loser', 'e11': 'Disgust', 'e12': 'Angry', 'm2': 'Pointing', 'e21': 'Excited', 'e22': 'Disgust', 'd': '2', 't': '0', 'quality': 'Good', 'dominance': 'Equal', 'intimacy': 'Medium'} {'m1': 'Charge', 'e11': 'Sad', 'e12': 'Delight', 'm2': 'Telling', 'e21': 'Embarrased', 'e22': 'Confused', 'd': '2', 't': '0', 'quality': 'Good', 'dominance': 'Equal', 'intimacy': 'Close'} {'m1': 'Whatever', 'e11': 'Embarrased', 'e12': 'Excited', 'm2': 'Shrugging', 'e21': 'Hate', 'e22': 'Surprise', 'd': '2', 't': '0', 'quality': 'Good', 'dominance': 'Equal', 'intimacy': 'Close'} {'m1': 'Clapping', 'e11': 'Madness', 'e12': 'Excited', 'm2': 'Excited', 'e21': 'Surprise', 'e22': 'Happy', 'd': '2', 't': '0', 'quality': 'Good', 'dominance': 'Equal', 'intimacy': 'Close'} {'m1': 'Stomping', 'e11': 'Curious', 'e12': 'Angry', 'm2': 'Nervously', 'e21': 'Dissatisfied', 'e22': 'Annoyed', 'd': '8', 't': '0', 'quality': 'Just so so', 'dominance': 'Equal', 'intimacy': 'Medium'} {'m1': 'Head Nod', 'e11': 'Madness', 'e12': 'Happy', 'm2': 'Drunk', 'e21': 'Tired', 'e22': 'Hate', 'd': '8', 't': '0', 'quality': 'Bad', 'dominance': 'Character two', 'intimacy': 'Medium'} {'m1': 'Agreeing', 'e11': 'Embarrased', 'e12': 'Excited', 'm2': 'Thumbs', 'e21': 'Frustrated', 'e22': 'Frustrated', 'd': '4', 't': '0', 'quality': 'Just so so', 'dominance': 'Character two', 'intimacy': 'Medium'} {'m1': 'Pointing', 'e11': 'Sad', 'e12': 'Concerned', 'm2': 'Singing', 'e21': 'Disgust', 'e22': 'Happy', 'd': '2', 't': '0', 'quality': 'Just so so', 'dominance': 'Equal', 'intimacy': 'Close'} {'m1': 'Joyful', 'e11': 'Frustrated', 'e12': 'Concerned', 'm2': 'Arguing', 'e21': 'Dissatisfied', 'e22': 'Scared', 'd': '4', 't': '0', 'quality': 'Just so so', 'dominance': 'Equal', 'intimacy': 'Medium'} {'m1': 'Nervously', 'e11': 'Hate', 'e12': 'Mock', 'm2': 'Neck', 'e21': 'Confused', 'e22': 'Frustrated', 'd': '2', 't': '0', 'quality': 'Just so so', 'dominance': 'Character two', 'intimacy': 'Close'} {'m1': 'Victory', 'e11': 'Madness', 'e12': 'Neutral', 'm2': 'Laughing', 'e21': 'Curious', 'e22': 'Tired', 'd': '4', 't': '0', 'quality': 'Just so so', 'dominance': 'Equal', 'intimacy': 'Medium'} {'m1': 'Neck', 'e11': 'Angry', 'e12': 'Delight', 'm2': 'Thumbs', 'e21': 'Embarrased', 'e22': 'Excited', 'd': '2', 't': '0', 'quality': 'Bad', 'dominance': 'Character two', 'intimacy': 'Close'} {'m1': 'Head Shake', 'e11': 'Excited', 'e12': 'Annoyed', 'm2': 'Bored', 'e21': 'Hate', 'e22': 'Sad', 'd': '4', 't': '0', 'quality': 'Just so so', 'dominance': 'Equal', 'intimacy': 'Medium'} {'m1': 'Strong', 'e11': 'Frustrated', 'e12': 'Delight', 'm2': 'Loser', 'e21': 'Annoyed', 'e22': 'Curious', 'd': '2', 't': '0', 'quality': 'Bad', 'dominance': 'Equal', 'intimacy': 'Close'} {'m1': 'Nervously', 'e11': 'Embarrased', 'e12': 'Sad', 'm2': 'Victory', 'e21': 'Sad', 'e22': 'Disgust', 'd': '8', 't': '0', 'quality': 'Just so so', 'dominance': 'Character two', 'intimacy': 'Medium'} {'m1': 'Clapping', 'e11': 'Concerned', 'e12': 'Angry', 'm2': 'Crazy', 'e21': 'Mock', 'e22': 'Mock', 'd': '4', 't': '0', 'quality': 'Good', 'dominance': 'Equal', 'intimacy': 'Medium'} {'m1': 'Strong', 'e11': 'Angry', 'e12': 'Tired', 'm2': 'Dismissing', 'e21': 'Curious', 'e22': 'Tired', 'd': '4', 't': '0', 'quality': 'Good', 'dominance': 'Equal', 'intimacy': 'Medium'} {'m1': 'Pain', 'e11': 'Concerned', 'e12': 'Confused', 'm2': 'Thankful', 'e21': 'Embarrased', 'e22': 'Happy', 'd': '2', 't': '0', 'quality': 'Bad', 'dominance': 'Equal', 'intimacy': 'Close'} {'m1': 'Arguing', 'e11': 'Sad', 'e12': 'Excited', 'm2': 'Pain', 'e21': 'Sad', 'e22': 'Delight', 'd': '8', 't': '0', 'quality': 'Bad', 'dominance': 'Equal', 'intimacy': 'Medium'} {'m1': 'Drunk', 'e11': 'Embarrased', 'e12': 'Scared', 'm2': 'Yawn', 'e21': 'Concerned', 'e22': 'Mock', 'd': '4', 't': '0', 'quality': 'Just so so', 'dominance': 'Equal', 'intimacy': 'Medium'} {'m1': 'Telling', 'e11': 'Scared', 'e12': 'Annoyed', 'm2': 'Thinking', 'e21': 'Embarrased', 'e22': 'Tired', 'd': '8', 't': '0', 'quality': 'Good', 'dominance': 'Character two', 'intimacy': 'Alienated'} {'m1': 'Laughing', 'e11': 'Confused', 'e12': 'Excited', 'm2': 'Agreeing', 'e21': 'Hate', 'e22': 'Annoyed', 'd': '8', 't': '2', 'quality': 'Just so so', 'dominance': 'Equal', 'intimacy': 'Medium'} {'m1': 'Kneeling', 'e11': 'Sad', 'e12': 'Disgust', 'm2': 'Arguing', 'e21': 'Sad', 'e22': 'Disgust', 'd': '8', 't': '2', 'quality': 'Just so so', 'dominance': 'Character two', 'intimacy': 'Medium'} {'m1': 'Roar', 'e11': 'Disgust', 'e12': 'Curious', 'm2': 'Thinking', 'e21': 'Neutral', 'e22': 'Angry', 'd': '2', 't': '2', 'quality': 'Bad', 'dominance': 'Equal', 'intimacy': 'Close'} {'m1': 'Shrugging', 'e11': 'Tired', 'e12': 'Excited', 'm2': 'Head Nod', 'e21': 'Concerned', 'e22': 'Dissatisfied', 'd': '8', 't': '2', 'quality': 'Good', 'dominance': 'Character one', 'intimacy': 'Medium'} {'m1': 'Drunk', 'e11': 'Happy', 'e12': 'Happy', 'm2': 'Stomping', 'e21': 'Madness', 'e22': 'Embarrased', 'd': '2', 't': '2', 'quality': 'Bad', 'dominance': 'Equal', 'intimacy': 'Close'} {'m1': 'Crazy', 'e11': 'Angry', 'e12': 'Sad', 'm2': 'Laughing', 'e21': 'Frustrated', 'e22': 'Disgust', 'd': '4', 't': '2', 'quality': 'Bad', 'dominance': 'Equal', 'intimacy': 'Medium'} {'m1': 'Sad', 'e11': 'Happy', 'e12': 'Neutral', 'm2': 'Arguing', 'e21': 'Concerned', 'e22': 'Surprise', 'd': '8', 't': '2', 'quality': 'Good', 'dominance': 'Character two', 'intimacy': 'Medium'} {'m1': 'Bash', 'e11': 'Frustrated', 'e12': 'Hate', 'm2': 'Crying', 'e21': 'Surprise', 'e22': 'Annoyed', 'd': '8', 't': '-2', 'quality': 'Good', 'dominance': 'Character two', 'intimacy': 'Medium'} {'m1': 'Head Shake', 'e11': 'Delight', 'e12': 'Confused', 'm2': 'Wiping', 'e21': 'Tired', 'e22': 'Annoyed', 'd': '8', 't': '-2', 'quality': 'Good', 'dominance': 'Character two', 'intimacy': 'Medium'} {'m1': 'Nervously', 'e11': 'Concerned', 'e12': 'Curious', 'm2': 'Excited', 'e21': 'Surprise', 'e22': 'Angry', 'd': '8', 't': '-2', 'quality': 'Good', 'dominance': 'Character two', 'intimacy': 'Medium'} {'m1': 'Offensive', 'e11': 'Curious', 'e12': 'Dissatisfied', 'm2': 'Dismissing', 'e21': 'Excited', 'e22': 'Scared', 'd': '2', 't': '-2', 'quality': 'Good', 'dominance': 'Equal', 'intimacy': 'Close'} {'m1': 'Dizzy', 'e11': 'Mock', 'e12': 'Surprise', 'm2': 'Fist', 'e21': 'Angry', 'e22': 'Hate', 'd': '4', 't': '0', 'quality': 'Good', 'dominance': 'Equal', 'intimacy': 'Close'} {'m1': 'Drunk', 'e11': 'Happy', 'e12': 'Concerned', 'm2': 'Dizzy', 'e21': 'Annoyed', 'e22': 'Annoyed', 'd': '8', 't': '0', 'quality': 'Just so so', 'dominance': 'Equal', 'intimacy': 'Alienated'} {'m1': 'Neck', 'e11': 'Hate', 'e12': 'Delight', 'm2': 'Head Shake', 'e21': 'Curious', 'e22': 'Mock', 'd': '8', 't': '0', 'quality': 'Just so so', 'dominance': 'Equal', 'intimacy': 'Medium'} {'m1': 'Defeat', 'e11': 'Delight', 'e12': 'Curious', 'm2': 'Focus', 'e21': 'Embarrased', 'e22': 'Scared', 'd': '4', 't': '0', 'quality': 'Good', 'dominance': 'Equal', 'intimacy': 'Medium'} {'m1': 'Rejected', 'e11': 'Curious', 'e12': 'Annoyed', 'm2': 'Yelling', 'e21': 'Excited', 'e22': 'Disgust', 'd': '2', 't': '0', 'quality': 'Bad', 'dominance': 'Equal', 'intimacy': 'Close'} {'m1': 'Acknowledging', 'e11': 'Confused', 'e12': 'Concerned', 'm2': 'Clapping', 'e21': 'Hate', 'e22': 'Sad', 'd': '4', 't': '0', 'quality': 'Good', 'dominance': 'Equal', 'intimacy': 'Medium'} {'m1': 'Head Shake', 'e11': 'Annoyed', 'e12': 'Madness', 'm2': 'Arguing', 'e21': 'Hate', 'e22': 'Happy', 'd': '2', 't': '0', 'quality': 'Good', 'dominance': 'Character two', 'intimacy': 'Close'} {'m1': 'Kneeling', 'e11': 'Happy', 'e12': 'Delight', 'm2': 'Acknowledging', 'e21': 'Curious', 'e22': 'Delight', 'd': '2', 't': '2', 'quality': 'Good', 'dominance': 'Character two', 'intimacy': 'Close'} {'m1': 'Forward', 'e11': 'Surprise', 'e12': 'Dissatisfied', 'm2': 'Praying', 'e21': 'Angry', 'e22': 'Mock', 'd': '2', 't': '0', 'quality': 'Good', 'dominance': 'Character one', 'intimacy': 'Close'} {'m1': 'Kiss', 'e11': 'Madness', 'e12': 'Embarrased', 'm2': 'Focus', 'e21': 'Disgust', 'e22': 'Hate', 'd': '8', 't': '0', 'quality': 'Good', 'dominance': 'Equal', 'intimacy': 'Medium'} {'m1': 'Pointing', 'e11': 'Angry', 'e12': 'Concerned', 'm2': 'Kneeling', 'e21': 'Confused', 'e22': 'Delight', 'd': '8', 't': '0', 'quality': 'Good', 'dominance': 'Character one', 'intimacy': 'Medium'} {'m1': 'Dwarf', 'e11': 'Curious', 'e12': 'Madness', 'm2': 'Surprised', 'e21': 'Annoyed', 'e22': 'Excited', 'd': '4', 't': '0', 'quality': 'Good', 'dominance': 'Equal', 'intimacy': 'Medium'} {'m1': 'Shrugging', 'e11': 'Frustrated', 'e12': 'Surprise', 'm2': 'Dizzy', 'e21': 'Surprise', 'e22': 'Excited', 'd': '8', 't': '0', 'quality': 'Good', 'dominance': 'Equal', 'intimacy': 'Alienated'} {'m1': 'Disappointed', 'e11': 'Tired', 'e12': 'Sad', 'm2': 'Head Nod', 'e21': 'Madness', 'e22': 'Madness', 'd': '8', 't': '0', 'quality': 'Just so so', 'dominance': 'Equal', 'intimacy': 'Alienated'} {'m1': 'Charge', 'e11': 'Confused', 'e12': 'Scared', 'm2': 'Bow', 'e21': 'Sad', 'e22': 'Excited', 'd': '2', 't': '0', 'quality': 'Bad', 'dominance': 'Equal', 'intimacy': 'Close'} {'m1': 'Head Nod', 'e11': 'Concerned', 'e12': 'Frustrated', 'm2': 'Shrugging', 'e21': 'Curious', 'e22': 'Concerned', 'd': '4', 't': '0', 'quality': 'Good', 'dominance': 'Character two', 'intimacy': 'Medium'} {'m1': 'Waving', 'e11': 'Embarrased', 'e12': 'Disgust', 'm2': 'Thankful', 'e21': 'Disgust', 'e22': 'Sad', 'd': '8', 't': '0', 'quality': 'Good', 'dominance': 'Equal', 'intimacy': 'Medium'} {'m1': 'Stomping', 'e11': 'Embarrased', 'e12': 'Frustrated', 'm2': 'Nervously', 'e21': 'Madness', 'e22': 'Frustrated', 'd': '8', 't': '0', 'quality': 'Bad', 'dominance': 'Equal', 'intimacy': 'Medium'} {'m1': 'Shrugging', 'e11': 'Hate', 'e12': 'Angry', 'm2': 'Praying', 'e21': 'Embarrased', 'e22': 'Hate', 'd': '4', 't': '0', 'quality': 'Good', 'dominance': 'Character one', 'intimacy': 'Medium'} {'m1': 'Shaking', 'e11': 'Disgust', 'e12': 'Neutral', 'm2': 'Victory', 'e21': 'Confused', 'e22': 'Frustrated', 'd': '2', 't': '0', 'quality': 'Bad', 'dominance': 'Equal', 'intimacy': 'Close'} {'m1': 'Dismissing', 'e11': 'Mock', 'e12': 'Disgust', 'm2': 'Thumbs', 'e21': 'Frustrated', 'e22': 'Curious', 'd': '4', 't': '0', 'quality': 'Bad', 'dominance': 'Equal', 'intimacy': 'Medium'} {'m1': 'Shaking', 'e11': 'Excited', 'e12': 'Curious', 'm2': 'Dizzy', 'e21': 'Scared', 'e22': 'Hate', 'd': '2', 't': '0', 'quality': 'Just so so', 'dominance': 'Character two', 'intimacy': 'Medium'} {'m1': 'Telling', 'e11': 'Madness', 'e12': 'Excited', 'm2': 'Clapping', 'e21': 'Disgust', 'e22': 'Mock', 'd': '4', 't': '0', 'quality': 'Good', 'dominance': 'Equal', 'intimacy': 'Close'} {'m1': 'Waving', 'e11': 'Neutral', 'e12': 'Happy', 'm2': 'Crazy', 'e21': 'Disgust', 'e22': 'Sad', 'd': '8', 't': '0', 'quality': 'Bad', 'dominance': 'Equal', 'intimacy': 'Medium'} {'m1': 'Head Nod', 'e11': 'Embarrased', 'e12': 'Confused', 'm2': 'Loser', 'e21': 'Happy', 'e22': 'Tired', 'd': '8', 't': '-2', 'quality': 'Just so so', 'dominance': 'Character one', 'intimacy': 'Alienated'} {'m1': 'Talking', 'e11': 'Scared', 'e12': 'Scared', 'm2': 'Wiping', 'e21': 'Happy', 'e22': 'Madness', 'd': '2', 't': '1', 'quality': 'Just so so', 'dominance': 'Character two', 'intimacy': 'Close'} {'m1': 'Dizzy', 'e11': 'Dissatisfied', 'e12': 'Surprise', 'm2': 'Rubbing', 'e21': 'Hate', 'e22': 'Angry', 'd': '4', 't': '1', 'quality': 'Just so so', 'dominance': 'Equal', 'intimacy': 'Close'} {'m1': 'Drunk', 'e11': 'Hate', 'e12': 'Embarrased', 'm2': 'Reaching', 'e21': 'Happy', 'e22': 'Delight', 'd': '4', 't': '1', 'quality': 'Bad', 'dominance': 'Equal', 'intimacy': 'Medium'} {'m1': 'Forward', 'e11': 'Scared', 'e12': 'Dissatisfied', 'm2': 'Praying', 'e21': 'Frustrated', 'e22': 'Disgust', 'd': '4', 't': '1', 'quality': 'Good', 'dominance': 'Character one', 'intimacy': 'Alienated'} {'m1': 'Kneeling', 'e11': 'Sad', 'e12': 'Concerned', 'm2': 'Clapping', 'e21': 'Scared', 'e22': 'Hate', 'd': '2', 't': '1', 'quality': 'Just so so', 'dominance': 'Character two', 'intimacy': 'Medium'} {'m1': 'Rubbing', 'e11': 'Disgust', 'e12': 'Happy', 'm2': 'Head Shake', 'e21': 'Concerned', 'e22': 'Angry', 'd': '2', 't': '1', 'quality': 'Bad', 'dominance': 'Character two', 'intimacy': 'Close'} {'m1': 'Salute', 'e11': 'Madness', 'e12': 'Annoyed', 'm2': 'Kiss', 'e21': 'Frustrated', 'e22': 'Scared', 'd': '4', 't': '-2', 'quality': 'Just so so', 'dominance': 'Character one', 'intimacy': 'Medium'} {'m1': 'Loser', 'e11': 'Concerned', 'e12': 'Annoyed', 'm2': 'Taunt', 'e21': 'Frustrated', 'e22': 'Frustrated', 'd': '2', 't': '1', 'quality': 'Just so so', 'dominance': 'Character one', 'intimacy': 'Close'} {'m1': 'Victory', 'e11': 'Dissatisfied', 'e12': 'Tired', 'm2': 'Defeat', 'e21': 'Curious', 'e22': 'Mock', 'd': '4', 't': '1', 'quality': 'Bad', 'dominance': 'Equal', 'intimacy': 'Medium'} {'m1': 'Sad', 'e11': 'Mock', 'e12': 'Tired', 'm2': 'Loser', 'e21': 'Concerned', 'e22': 'Tired', 'd': '8', 't': '0', 'quality': 'Just so so', 'dominance': 'Character two', 'intimacy': 'Medium'} {'m1': 'Greeting', 'e11': 'Delight', 'e12': 'Surprise', 'm2': 'Crazy', 'e21': 'Madness', 'e22': 'Sad', 'd': '8', 't': '2', 'quality': 'Just so so', 'dominance': 'Character two', 'intimacy': 'Medium'} {'m1': 'Roar', 'e11': 'Concerned', 'e12': 'Delight', 'm2': 'Rejected', 'e21': 'Embarrased', 'e22': 'Annoyed', 'd': '8', 't': '2', 'quality': 'Bad', 'dominance': 'Equal', 'intimacy': 'Alienated'} {'m1': 'Charge', 'e11': 'Surprise', 'e12': 'Angry', 'm2': 'Relieved', 'e21': 'Tired', 'e22': 'Delight', 'd': '2', 't': '2', 'quality': 'Just so so', 'dominance': 'Character one', 'intimacy': 'Medium'} {'m1': 'Relieved', 'e11': 'Sad', 'e12': 'Neutral', 'm2': 'Loser', 'e21': 'Hate', 'e22': 'Delight', 'd': '8', 't': '2', 'quality': 'Bad', 'dominance': 'Character two', 'intimacy': 'Medium'} {'m1': 'Thumbs', 'e11': 'Disgust', 'e12': 'Madness', 'm2': 'Sad', 'e21': 'Happy', 'e22': 'Delight', 'd': '2', 't': '2', 'quality': 'Just so so', 'dominance': 'Character two', 'intimacy': 'Close'} {'m1': 'Reaching', 'e11': 'Embarrased', 'e12': 'Embarrased', 'm2': 'Shaking', 'e21': 'Tired', 'e22': 'Disgust', 'd': '8', 't': '2', 'quality': 'Just so so', 'dominance': 'Character two', 'intimacy': 'Medium'} {'m1': 'Kneeling', 'e11': 'Excited', 'e12': 'Excited', 'm2': 'Thankful', 'e21': 'Tired', 'e22': 'Angry', 'd': '2', 't': '2', 'quality': 'Just so so', 'dominance': 'Character two', 'intimacy': 'Close'} {'m1': 'Kiss', 'e11': 'Angry', 'e12': 'Neutral', 'm2': 'Singing', 'e21': 'Confused', 'e22': 'Angry', 'd': '2', 't': '2', 'quality': 'Just so so', 'dominance': 'Character two', 'intimacy': 'Close'} {'m1': 'Rejected', 'e11': 'Excited', 'e12': 'Hate', 'm2': 'Fist', 'e21': 'Mock', 'e22': 'Madness', 'd': '4', 't': '2', 'quality': 'Bad', 'dominance': 'Equal', 'intimacy': 'Alienated'} {'m1': 'Singing', 'e11': 'Scared', 'e12': 'Concerned', 'm2': 'Cocky', 'e21': 'Madness', 'e22': 'Dissatisfied', 'd': '4', 't': '2', 'quality': 'Just so so', 'dominance': 'Equal', 'intimacy': 'Medium'} {'m1': 'Terrified', 'e11': 'Embarrased', 'e12': 'Sad', 'm2': 'Angry', 'e21': 'Madness', 'e22': 'Disgust', 'd': '2', 't': '2', 'quality': 'Good', 'dominance': 'Character two', 'intimacy': 'Close'} {'m1': 'Telling', 'e11': 'Confused', 'e12': 'Neutral', 'm2': 'Agreeing', 'e21': 'Frustrated', 'e22': 'Neutral', 'd': '8', 't': '2', 'quality': 'Good', 'dominance': 'Character one', 'intimacy': 'Medium'} {'m1': 'Sad', 'e11': 'Surprise', 'e12': 'Concerned', 'm2': 'Victory', 'e21': 'Curious', 'e22': 'Concerned', 'd': '2', 't': '2', 'quality': 'Just so so', 'dominance': 'Equal', 'intimacy': 'Close'} {'m1': 'Terrified', 'e11': 'Disgust', 'e12': 'Madness', 'm2': 'Stomping', 'e21': 'Annoyed', 'e22': 'Frustrated', 'd': '2', 't': '2', 'quality': 'Just so so', 'dominance': 'Character two', 'intimacy': 'Close'} {'m1': 'Salute', 'e11': 'Scared', 'e12': 'Angry', 'm2': 'Singing', 'e21': 'Sad', 'e22': 'Madness', 'd': '2', 't': '-2', 'quality': 'Just so so', 'dominance': 'Character one', 'intimacy': 'Medium'} {'m1': 'Crazy', 'e11': 'Disgust', 'e12': 'Disgust', 'm2': 'Rejected', 'e21': 'Confused', 'e22': 'Confused', 'd': '8', 't': '0', 'quality': 'Just so so', 'dominance': 'Character one', 'intimacy': 'Alienated'} {'m1': 'Drunk', 'e11': 'Scared', 'e12': 'Tired', 'm2': 'Defeat', 'e21': 'Delight', 'e22': 'Excited', 'd': '8', 't': '0', 'quality': 'Bad', 'dominance': 'Equal', 'intimacy': 'Alienated'} {'m1': 'Offensive', 'e11': 'Hate', 'e12': 'Delight', 'm2': 'Laughing', 'e21': 'Disgust', 'e22': 'Embarrased', 'd': '8', 't': '0', 'quality': 'Bad', 'dominance': 'Equal', 'intimacy': 'Alienated'} {'m1': 'Agreeing', 'e11': 'Happy', 'e12': 'Frustrated', 'm2': 'Bow', 'e21': 'Mock', 'e22': 'Hate', 'd': '4', 't': '2', 'quality': 'Good', 'dominance': 'Character one', 'intimacy': 'Medium'} {'m1': 'Offensive', 'e11': 'Concerned', 'e12': 'Delight', 'm2': 'Pouting', 'e21': 'Neutral', 'e22': 'Curious', 'd': '2', 't': '2', 'quality': 'Just so so', 'dominance': 'Equal', 'intimacy': 'Close'} {'m1': 'Agreeing', 'e11': 'Tired', 'e12': 'Sad', 'm2': 'Wiping', 'e21': 'Neutral', 'e22': 'Neutral', 'd': '8', 't': '2', 'quality': 'Just so so', 'dominance': 'Character two', 'intimacy': 'Medium'} {'m1': 'Threatening', 'e11': 'Neutral', 'e12': 'Annoyed', 'm2': 'Pouting', 'e21': 'Excited', 'e22': 'Excited', 'd': '8', 't': '2', 'quality': 'Good', 'dominance': 'Character one', 'intimacy': 'Medium'} {'m1': 'Roar', 'e11': 'Delight', 'e12': 'Scared', 'm2': 'Relieved', 'e21': 'Curious', 'e22': 'Confused', 'd': '8', 't': '2', 'quality': 'Just so so', 'dominance': 'Equal', 'intimacy': 'Alienated'} {'m1': 'Yelling', 'e11': 'Neutral', 'e12': 'Delight', 'm2': 'Victory', 'e21': 'Tired', 'e22': 'Dissatisfied', 'd': '8', 't': '2', 'quality': 'Bad', 'dominance': 'Equal', 'intimacy': 'Close'} {'m1': 'Excited', 'e11': 'Hate', 'e12': 'Dissatisfied', 'm2': 'Singing', 'e21': 'Sad', 'e22': 'Disgust', 'd': '4', 't': '2', 'quality': 'Bad', 'dominance': 'Equal', 'intimacy': 'Medium'} {'m1': 'Kneeling', 'e11': 'Angry', 'e12': 'Madness', 'm2': 'Sarcastic', 'e21': 'Mock', 'e22': 'Annoyed', 'd': '4', 't': '2', 'quality': 'Just so so', 'dominance': 'Character two', 'intimacy': 'Medium'} {'m1': 'Terrified', 'e11': 'Madness', 'e12': 'Happy', 'm2': 'Yawn', 'e21': 'Embarrased', 'e22': 'Dissatisfied', 'd': '2', 't': '2', 'quality': 'Good', 'dominance': 'Character two', 'intimacy': 'Close'} {'m1': 'Strong', 'e11': 'Tired', 'e12': 'Embarrased', 'm2': 'Laughing', 'e21': 'Delight', 'e22': 'Madness', 'd': '8', 't': '2', 'quality': 'Just so so', 'dominance': 'Character two', 'intimacy': 'Medium'} {'m1': 'Thinking', 'e11': 'Hate', 'e12': 'Happy', 'm2': 'Bored', 'e21': 'Sad', 'e22': 'Dissatisfied', 'd': '4', 't': '2', 'quality': 'Just so so', 'dominance': 'Character one', 'intimacy': 'Medium'} {'m1': 'Pain', 'e11': 'Madness', 'e12': 'Surprise', 'm2': 'Taunt', 'e21': 'Frustrated', 'e22': 'Frustrated', 'd': '8', 't': '-2', 'quality': 'Just so so', 'dominance': 'Equal', 'intimacy': 'Close'} {'m1': 'Crying', 'e11': 'Surprise', 'e12': 'Sad', 'm2': 'Taunt', 'e21': 'Dissatisfied', 'e22': 'Happy', 'd': '4', 't': '-2', 'quality': 'Bad', 'dominance': 'Equal', 'intimacy': 'Close'} {'m1': 'Arguing', 'e11': 'Mock', 'e12': 'Madness', 'm2': 'Yelling', 'e21': 'Annoyed', 'e22': 'Curious', 'd': '4', 't': '-2', 'quality': 'Good', 'dominance': 'Equal', 'intimacy': 'Medium'} {'m1': 'Yawn', 'e11': 'Embarrased', 'e12': 'Delight', 'm2': 'Praying', 'e21': 'Tired', 'e22': 'Excited', 'd': '8', 't': '-2', 'quality': 'Good', 'dominance': 'Equal', 'intimacy': 'Medium'} {'m1': 'Agreeing', 'e11': 'Embarrased', 'e12': 'Annoyed', 'm2': 'Fist', 'e21': 'Annoyed', 'e22': 'Annoyed', 'd': '4', 't': '-2', 'quality': 'Just so so', 'dominance': 'Character two', 'intimacy': 'Medium'} {'m1': 'Excited', 'e11': 'Happy', 'e12': 'Concerned', 'm2': 'Whatever', 'e21': 'Madness', 'e22': 'Tired', 'd': '4', 't': '-2', 'quality': 'Just so so', 'dominance': 'Character two', 'intimacy': 'Medium'} {'m1': 'Look', 'e11': 'Hate', 'e12': 'Disgust', 'm2': 'Dismissing', 'e21': 'Happy', 'e22': 'Excited', 'd': '2', 't': '-2', 'quality': 'Just so so', 'dominance': 'Equal', 'intimacy': 'Medium'} {'m1': 'Yelling', 'e11': 'Happy', 'e12': 'Scared', 'm2': 'Greeting', 'e21': 'Delight', 'e22': 'Confused', 'd': '2', 't': '-2', 'quality': 'Good', 'dominance': 'Character one', 'intimacy': 'Medium'} {'m1': 'Praying', 'e11': 'Mock', 'e12': 'Dissatisfied', 'm2': 'Surprised', 'e21': 'Angry', 'e22': 'Mock', 'd': '4', 't': '-2', 'quality': 'Good', 'dominance': 'Character two', 'intimacy': 'Medium'} {'m1': 'Shrugging', 'e11': 'Mock', 'e12': 'Confused', 'm2': 'Thankful', 'e21': 'Sad', 'e22': 'Sad', 'd': '4', 't': '-2', 'quality': 'Good', 'dominance': 'Character one', 'intimacy': 'Medium'} {'m1': 'Head Shake', 'e11': 'Surprise', 'e12': 'Sad', 'm2': 'Dizzy', 'e21': 'Dissatisfied', 'e22': 'Sad', 'd': '8', 't': '-2', 'quality': 'Just so so', 'dominance': 'Equal', 'intimacy': 'Alienated'} {'m1': 'Cocky', 'e11': 'Angry', 'e12': 'Disgust', 'm2': 'Head Shake', 'e21': 'Frustrated', 'e22': 'Disgust', 'd': '2', 't': '-1', 'quality': 'Just so so', 'dominance': 'Character one', 'intimacy': 'Close'} {'m1': 'Thoughtful', 'e11': 'Disgust', 'e12': 'Happy', 'm2': 'Pointing', 'e21': 'Excited', 'e22': 'Delight', 'd': '8', 't': '-1', 'quality': 'Just so so', 'dominance': 'Equal', 'intimacy': 'Medium'} {'m1': 'Kneeling', 'e11': 'Dissatisfied', 'e12': 'Mock', 'm2': 'Bored', 'e21': 'Madness', 'e22': 'Confused', 'd': '4', 't': '-1', 'quality': 'Good', 'dominance': 'Character two', 'intimacy': 'Medium'} {'m1': 'Shrugging', 'e11': 'Angry', 'e12': 'Curious', 'm2': 'Kneeling', 'e21': 'Scared', 'e22': 'Angry', 'd': '2', 't': '1', 'quality': 'Good', 'dominance': 'Character one', 'intimacy': 'Close'} {'m1': 'Bored', 'e11': 'Hate', 'e12': 'Confused', 'm2': 'Joyful', 'e21': 'Disgust', 'e22': 'Concerned', 'd': '8', 't': '1', 'quality': 'Just so so', 'dominance': 'Equal', 'intimacy': 'Medium'} {'m1': 'Kiss', 'e11': 'Concerned', 'e12': 'Frustrated', 'm2': 'Thoughtful', 'e21': 'Excited', 'e22': 'Annoyed', 'd': '2', 't': '1', 'quality': 'Just so so', 'dominance': 'Character two', 'intimacy': 'Close'} {'m1': 'Bow', 'e11': 'Madness', 'e12': 'Hate', 'm2': 'Salute', 'e21': 'Sad', 'e22': 'Scared', 'd': '2', 't': '1', 'quality': 'Good', 'dominance': 'Character two', 'intimacy': 'Close'} {'m1': 'Dismissing', 'e11': 'Tired', 'e12': 'Mock', 'm2': 'Acknowledging', 'e21': 'Confused', 'e22': 'Curious', 'd': '8', 't': '1', 'quality': 'Good', 'dominance': 'Character one', 'intimacy': 'Medium'} {'m1': 'Focus', 'e11': 'Happy', 'e12': 'Curious', 'm2': 'Salute', 'e21': 'Hate', 'e22': 'Excited', 'd': '4', 't': '1', 'quality': 'Bad', 'dominance': 'Character one', 'intimacy': 'Close'} {'m1': 'Kiss', 'e11': 'Surprise', 'e12': 'Angry', 'm2': 'Laughing', 'e21': 'Sad', 'e22': 'Happy', 'd': '2', 't': '1', 'quality': 'Bad', 'dominance': 'Character one', 'intimacy': 'Close'} {'m1': 'Bash', 'e11': 'Concerned', 'e12': 'Hate', 'm2': 'Salute', 'e21': 'Curious', 'e22': 'Excited', 'd': '8', 't': '1', 'quality': 'Just so so', 'dominance': 'Character one', 'intimacy': 'Medium'} {'m1': 'Greeting', 'e11': 'Confused', 'e12': 'Frustrated', 'm2': 'Strong', 'e21': 'Happy', 'e22': 'Tired', 'd': '2', 't': '1', 'quality': 'Just so so', 'dominance': 'Equal', 'intimacy': 'Close'} {'m1': 'Wiping', 'e11': 'Curious', 'e12': 'Disgust', 'm2': 'Taunt', 'e21': 'Mock', 'e22': 'Hate', 'd': '4', 't': '1', 'quality': 'Just so so', 'dominance': 'Character one', 'intimacy': 'Medium'} {'m1': 'Whatever', 'e11': 'Tired', 'e12': 'Disgust', 'm2': 'Sarcastic', 'e21': 'Dissatisfied', 'e22': 'Neutral', 'd': '2', 't': '1', 'quality': 'Just so so', 'dominance': 'Equal', 'intimacy': 'Close'} {'m1': 'Head Nod', 'e11': 'Concerned', 'e12': 'Delight', 'm2': 'Nervously', 'e21': 'Curious', 'e22': 'Mock', 'd': '2', 't': '0', 'quality': 'Good', 'dominance': 'Character two', 'intimacy': 'Close'} {'m1': 'Bow', 'e11': 'Surprise', 'e12': 'Hate', 'm2': 'Whatever', 'e21': 'Excited', 'e22': 'Happy', 'd': '4', 't': '0', 'quality': 'Just so so', 'dominance': 'Character two', 'intimacy': 'Medium'} {'m1': 'Greeting', 'e11': 'Surprise', 'e12': 'Surprise', 'm2': 'Strong', 'e21': 'Disgust', 'e22': 'Sad', 'd': '8', 't': '0', 'quality': 'Just so so', 'dominance': 'Equal', 'intimacy': 'Alienated'} {'m1': 'Whatever', 'e11': 'Surprise', 'e12': 'Happy', 'm2': 'Excited', 'e21': 'Embarrased', 'e22': 'Concerned', 'd': '8', 't': '0', 'quality': 'Just so so', 'dominance': 'Equal', 'intimacy': 'Alienated'} {'m1': 'Terrified', 'e11': 'Hate', 'e12': 'Surprise', 'm2': 'Cocky', 'e21': 'Tired', 'e22': 'Hate', 'd': '8', 't': '0', 'quality': 'Just so so', 'dominance': 'Character two', 'intimacy': 'Alienated'} {'m1': 'Shaking', 'e11': 'Annoyed', 'e12': 'Frustrated', 'm2': 'Disappointed', 'e21': 'Scared', 'e22': 'Concerned', 'd': '4', 't': '0', 'quality': 'Just so so', 'dominance': 'Character two', 'intimacy': 'Medium'} {'m1': 'Cocky', 'e11': 'Sad', 'e12': 'Delight', 'm2': 'Cocky', 'e21': 'Concerned', 'e22': 'Surprise', 'd': '4', 't': '0', 'quality': 'Just so so', 'dominance': 'Equal', 'intimacy': 'Medium'}\n"
     ]
    }
   ],
   "source": [
    "print(*survey)"
   ]
  },
  {
   "cell_type": "code",
   "execution_count": 8,
   "metadata": {},
   "outputs": [
    {
     "data": {
      "text/plain": [
       "69"
      ]
     },
     "execution_count": 8,
     "metadata": {},
     "output_type": "execute_result"
    }
   ],
   "source": [
    "len(G_INTEACT_KEY_WORDS)"
   ]
  },
  {
   "cell_type": "code",
   "execution_count": 9,
   "metadata": {},
   "outputs": [],
   "source": [
    "c_good = []\n",
    "c_bad = []"
   ]
  },
  {
   "cell_type": "code",
   "execution_count": 10,
   "metadata": {},
   "outputs": [],
   "source": [
    "c_m = np.zeros((len(G_INTEACT_KEY_WORDS), len(G_INTEACT_KEY_WORDS)))\n",
    "c_e = np.zeros((len(G_BASIC_EMOTIONS), len(G_BASIC_EMOTIONS)))"
   ]
  },
  {
   "cell_type": "code",
   "execution_count": 11,
   "metadata": {},
   "outputs": [],
   "source": [
    "import seaborn as sns"
   ]
  },
  {
   "cell_type": "code",
   "execution_count": null,
   "metadata": {},
   "outputs": [],
   "source": []
  },
  {
   "cell_type": "code",
   "execution_count": 12,
   "metadata": {},
   "outputs": [],
   "source": [
    "for item in survey:\n",
    "    i = G_INTEACT_KEY_WORDS.index(item[\"m1\"])\n",
    "    j = G_INTEACT_KEY_WORDS.index(item[\"m2\"])\n",
    "    c_m[i,j] += 1\n",
    "    \n",
    "    i = G_BASIC_EMOTIONS.index(item[\"e12\"])\n",
    "    j = G_BASIC_EMOTIONS.index(item[\"e22\"])\n",
    "    c_e[i,j] += 1\n",
    "    \n",
    "    if item[\"quality\"] == \"Good\":\n",
    "        c_good.append(1.0)\n",
    "    else:\n",
    "        c_good.append(0)\n",
    "        \n",
    "    if item[\"quality\"] == \"Bad\":\n",
    "        c_bad.append(1.0)\n",
    "    else:\n",
    "        c_bad.append(0)\n",
    "        \n",
    "        \n",
    "    "
   ]
  },
  {
   "cell_type": "code",
   "execution_count": 13,
   "metadata": {},
   "outputs": [
    {
     "name": "stdout",
     "output_type": "stream",
     "text": [
      "0.37\n"
     ]
    }
   ],
   "source": [
    "print(np.mean(c_good[:100]))"
   ]
  },
  {
   "cell_type": "code",
   "execution_count": 14,
   "metadata": {
    "scrolled": true
   },
   "outputs": [
    {
     "name": "stdout",
     "output_type": "stream",
     "text": [
      "0.395\n"
     ]
    }
   ],
   "source": [
    "print(np.mean(c_good[:200]))"
   ]
  },
  {
   "cell_type": "code",
   "execution_count": 15,
   "metadata": {
    "scrolled": true
   },
   "outputs": [
    {
     "name": "stdout",
     "output_type": "stream",
     "text": [
      "0.36818181818181817\n"
     ]
    }
   ],
   "source": [
    "print(np.mean(c_good))"
   ]
  },
  {
   "cell_type": "code",
   "execution_count": 16,
   "metadata": {},
   "outputs": [
    {
     "name": "stdout",
     "output_type": "stream",
     "text": [
      "0.36\n",
      "0.26\n",
      "0.2409090909090909\n"
     ]
    }
   ],
   "source": [
    "print(np.mean(c_bad[:100]))\n",
    "print(np.mean(c_bad[:200]))\n",
    "print(np.mean(c_bad))"
   ]
  },
  {
   "cell_type": "code",
   "execution_count": null,
   "metadata": {},
   "outputs": [],
   "source": []
  },
  {
   "cell_type": "code",
   "execution_count": null,
   "metadata": {},
   "outputs": [],
   "source": []
  },
  {
   "cell_type": "code",
   "execution_count": 17,
   "metadata": {
    "scrolled": false
   },
   "outputs": [
    {
     "data": {
      "text/plain": [
       "<AxesSubplot:>"
      ]
     },
     "execution_count": 17,
     "metadata": {},
     "output_type": "execute_result"
    },
    {
     "data": {
      "image/png": "[encoded data removed]",
      "text/plain": [
       "<Figure size 432x288 with 2 Axes>"
      ]
     },
     "metadata": {
      "needs_background": "light"
     },
     "output_type": "display_data"
    }
   ],
   "source": [
    "sns.heatmap(c_m, cmap=\"coolwarm\")"
   ]
  },
  {
   "cell_type": "code",
   "execution_count": 18,
   "metadata": {},
   "outputs": [
    {
     "data": {
      "text/plain": [
       "<AxesSubplot:>"
      ]
     },
     "execution_count": 18,
     "metadata": {},
     "output_type": "execute_result"
    },
    {
     "data": {
      "image/png": "[encoded data removed]",
      "text/plain": [
       "<Figure size 432x288 with 2 Axes>"
      ]
     },
     "metadata": {
      "needs_background": "light"
     },
     "output_type": "display_data"
    }
   ],
   "source": [
    "sns.heatmap(c_e, cmap=\"coolwarm\")"
   ]
  },
  {
   "cell_type": "code",
   "execution_count": null,
   "metadata": {},
   "outputs": [],
   "source": []
  },
  {
   "cell_type": "code",
   "execution_count": null,
   "metadata": {},
   "outputs": [],
   "source": []
  },
  {
   "cell_type": "code",
   "execution_count": 19,
   "metadata": {},
   "outputs": [],
   "source": [
    "c1_motion_data = np.asarray([G_INTEACT_KEY_WORDS.index(item['m1']) for item in survey], dtype=int)\n",
    "c1_motion_one_hot = np.zeros((c1_motion_data.size, len(G_INTEACT_KEY_WORDS)))\n",
    "c1_motion_one_hot[np.arange(c1_motion_data.size),c1_motion_data] = 1"
   ]
  },
  {
   "cell_type": "code",
   "execution_count": 20,
   "metadata": {},
   "outputs": [],
   "source": [
    "#print(c1_motion_data)"
   ]
  },
  {
   "cell_type": "code",
   "execution_count": 21,
   "metadata": {},
   "outputs": [],
   "source": [
    "c2_motion_data = np.asarray([G_INTEACT_KEY_WORDS.index(item['m2']) for item in survey], dtype=int)\n",
    "c2_motion_one_hot = np.zeros((c2_motion_data.size, len(G_INTEACT_KEY_WORDS)))\n",
    "c2_motion_one_hot[np.arange(c2_motion_data.size),c2_motion_data] = 1"
   ]
  },
  {
   "cell_type": "code",
   "execution_count": 22,
   "metadata": {},
   "outputs": [],
   "source": [
    "c1_emotion_start_data = np.asarray([G_BASIC_EMOTIONS.index(item['e11']) for item in survey], dtype=int)\n",
    "c1_emotion_start_one_hot = np.zeros((c1_emotion_start_data.size, len(G_BASIC_EMOTIONS)))\n",
    "c1_emotion_start_one_hot[np.arange(c1_emotion_start_data.size),c1_emotion_start_data] = 1"
   ]
  },
  {
   "cell_type": "code",
   "execution_count": 23,
   "metadata": {},
   "outputs": [],
   "source": [
    "c1_emotion_end_data = np.asarray([G_BASIC_EMOTIONS.index(item['e12']) for item in survey], dtype=int)\n",
    "c1_emotion_end_one_hot = np.zeros((c1_emotion_end_data.size, len(G_BASIC_EMOTIONS)))\n",
    "c1_emotion_end_one_hot[np.arange(c1_emotion_end_data.size),c1_emotion_end_data] = 1"
   ]
  },
  {
   "cell_type": "code",
   "execution_count": 24,
   "metadata": {},
   "outputs": [],
   "source": [
    "c2_emotion_start_data = np.asarray([G_BASIC_EMOTIONS.index(item['e21']) for item in survey], dtype=int)\n",
    "c2_emotion_start_one_hot = np.zeros((c2_emotion_start_data.size, len(G_BASIC_EMOTIONS)))\n",
    "c2_emotion_start_one_hot[np.arange(c2_emotion_start_data.size),c2_emotion_start_data] = 1"
   ]
  },
  {
   "cell_type": "code",
   "execution_count": 25,
   "metadata": {},
   "outputs": [],
   "source": [
    "c2_emotion_end_data = np.asarray([G_BASIC_EMOTIONS.index(item['e22']) for item in survey], dtype=int)\n",
    "c2_emotion_end_one_hot = np.zeros((c2_emotion_end_data.size, len(G_BASIC_EMOTIONS)))\n",
    "c2_emotion_end_one_hot[np.arange(c2_emotion_end_data.size),c2_emotion_end_data] = 1"
   ]
  },
  {
   "cell_type": "code",
   "execution_count": 26,
   "metadata": {},
   "outputs": [],
   "source": [
    "distance_scores = {'2': -1, '4': 0, '8': 1}"
   ]
  },
  {
   "cell_type": "code",
   "execution_count": 27,
   "metadata": {},
   "outputs": [],
   "source": [
    "distance = np.asarray([[distance_scores[item['d']]] for item in survey], dtype=int)"
   ]
  },
  {
   "cell_type": "code",
   "execution_count": 28,
   "metadata": {},
   "outputs": [],
   "source": [
    "time_difference = np.asarray([[int(item['t'])] for item in survey], dtype=int)"
   ]
  },
  {
   "cell_type": "code",
   "execution_count": 29,
   "metadata": {},
   "outputs": [],
   "source": [
    "quality_scores = {\"Bad\":0, \"Just so so\":1, \"Good\": 2}"
   ]
  },
  {
   "cell_type": "code",
   "execution_count": 30,
   "metadata": {},
   "outputs": [],
   "source": [
    "quality_data = np.asarray([quality_scores[item['quality']] for item in survey], dtype=int)\n",
    "quality_data_one_hot = np.zeros((quality_data.size, len(quality_scores)))\n",
    "quality_data_one_hot[np.arange(quality_data.size),quality_data] = 1"
   ]
  },
  {
   "cell_type": "code",
   "execution_count": 31,
   "metadata": {},
   "outputs": [],
   "source": [
    "dominance_scores = {\"Character one\":0, \"Equal\":1, \"Character two\": 2}"
   ]
  },
  {
   "cell_type": "code",
   "execution_count": 32,
   "metadata": {},
   "outputs": [],
   "source": [
    "dominance_data = np.asarray([dominance_scores[item['dominance']] for item in survey], dtype=int)\n",
    "dominance_data_one_hot = np.zeros((dominance_data.size, len(dominance_scores)))\n",
    "dominance_data_one_hot[np.arange(dominance_data.size),dominance_data] = 1"
   ]
  },
  {
   "cell_type": "code",
   "execution_count": 33,
   "metadata": {},
   "outputs": [],
   "source": [
    "intimacy_scores = {\"Alienated\":0, \"Medium\":1, \"Close\": 2}"
   ]
  },
  {
   "cell_type": "code",
   "execution_count": 34,
   "metadata": {},
   "outputs": [],
   "source": [
    "intimacy_data = np.asarray([intimacy_scores[item['intimacy']] for item in survey], dtype=int)\n",
    "intimacy_data_one_hot = np.zeros((intimacy_data.size, len(intimacy_scores)))\n",
    "intimacy_data_one_hot[np.arange(intimacy_data.size),intimacy_data] = 1"
   ]
  },
  {
   "cell_type": "code",
   "execution_count": 35,
   "metadata": {},
   "outputs": [
    {
     "data": {
      "text/plain": [
       "array([1, 2, 1, 0, 1, 0, 1, 1, 0, 1, 1, 1, 2, 1, 1, 0, 1, 2, 0, 1, 2, 2,\n",
       "       1, 0, 1, 2, 0, 2, 2, 1, 0, 1, 1, 1, 0, 1, 0, 0, 1, 1, 1, 2, 2, 0,\n",
       "       0, 0, 1, 1, 1, 1, 1, 1, 0, 1, 2, 1, 0, 2, 1, 1, 2, 2, 1, 1, 0, 1,\n",
       "       2, 1, 2, 1, 2, 2, 1, 0, 1, 1, 0, 0, 1, 1, 1, 0, 1, 2, 2, 2, 2, 1,\n",
       "       1, 1, 2, 1, 1, 1, 0, 0, 2, 0, 1, 0, 1, 0, 1, 0, 1, 0, 2, 1, 2, 1,\n",
       "       1, 1, 1, 2, 1, 1, 2, 2, 2, 1, 1, 2, 0, 2, 1, 2, 1, 1, 1, 2, 1, 2,\n",
       "       2, 2, 1, 0, 1, 1, 1, 2, 0, 2, 2, 1, 2, 2, 2, 2, 2, 2, 0, 1, 1, 1,\n",
       "       1, 1, 1, 1, 1, 2, 2, 1, 1, 1, 0, 1, 2, 2, 0, 2, 2, 1, 2, 1, 2, 2,\n",
       "       1, 1, 1, 2, 2, 1, 1, 1, 2, 2, 0, 1, 1, 0, 1, 1, 2, 1, 1, 2, 1, 1,\n",
       "       2, 2, 1, 2, 2, 1, 1, 2, 2, 1, 1, 1, 1, 1, 2, 1, 1, 0, 1, 1, 1, 2,\n",
       "       2, 2, 0, 0, 1, 2, 1, 1, 2, 2, 2, 2, 2, 1, 0, 2, 1, 2, 2, 1, 1, 1,\n",
       "       1, 0, 1, 1, 1, 0, 1, 1, 1, 2, 1, 1, 2, 2, 1, 1, 2, 2, 2, 2, 2, 2,\n",
       "       2, 2, 2, 2, 0, 2, 1, 2, 2, 2, 2, 0, 1, 2, 1, 1, 2, 1, 2, 2, 2, 2,\n",
       "       1, 1, 1, 1, 1, 1, 2, 2, 1, 1, 0, 2, 2, 2, 1, 1, 2, 1, 1, 1, 1, 2,\n",
       "       1, 2, 2, 1, 1, 2, 2, 2, 1, 1, 1, 2, 1, 2, 1, 2, 1, 2, 1, 1, 1, 2,\n",
       "       1, 1, 0, 1, 1, 2, 1, 2, 1, 1, 1, 1, 1, 2, 2, 0, 1, 1, 2, 1, 2, 2,\n",
       "       2, 1, 1, 1, 0, 0, 2, 1, 1, 1, 1, 2, 1, 1, 2, 1, 0, 2, 2, 1, 0, 1,\n",
       "       2, 1, 2, 1, 1, 1, 0, 1, 1, 2, 1, 2, 2, 0, 1, 2, 1, 2, 2, 1, 0, 0,\n",
       "       0, 1, 2, 1, 1, 0, 2, 1, 1, 2, 1, 1, 2, 2, 1, 1, 1, 1, 1, 1, 1, 1,\n",
       "       0, 2, 1, 1, 2, 1, 2, 2, 1, 2, 2, 1, 2, 1, 2, 2, 1, 0, 0, 0, 1, 1])"
      ]
     },
     "execution_count": 35,
     "metadata": {},
     "output_type": "execute_result"
    }
   ],
   "source": [
    "intimacy_data"
   ]
  },
  {
   "cell_type": "markdown",
   "metadata": {},
   "source": [
    "# Train Motion 2 Intimacy"
   ]
  },
  {
   "cell_type": "code",
   "execution_count": 36,
   "metadata": {},
   "outputs": [],
   "source": [
    "all_X = np.concatenate([c1_motion_one_hot, c2_motion_one_hot, distance], axis = 1)"
   ]
  },
  {
   "cell_type": "code",
   "execution_count": 37,
   "metadata": {},
   "outputs": [
    {
     "data": {
      "text/plain": [
       "(440, 139)"
      ]
     },
     "execution_count": 37,
     "metadata": {},
     "output_type": "execute_result"
    }
   ],
   "source": [
    "all_X.shape"
   ]
  },
  {
   "cell_type": "code",
   "execution_count": 38,
   "metadata": {},
   "outputs": [],
   "source": [
    "all_Y1 = dominance_data"
   ]
  },
  {
   "cell_type": "code",
   "execution_count": 39,
   "metadata": {},
   "outputs": [
    {
     "data": {
      "text/plain": [
       "(440,)"
      ]
     },
     "execution_count": 39,
     "metadata": {},
     "output_type": "execute_result"
    }
   ],
   "source": [
    "all_Y1.shape"
   ]
  },
  {
   "cell_type": "code",
   "execution_count": 40,
   "metadata": {},
   "outputs": [],
   "source": [
    "import torch\n",
    "import torch.nn as nn\n",
    "from torch.utils.data import TensorDataset, DataLoader"
   ]
  },
  {
   "cell_type": "code",
   "execution_count": 41,
   "metadata": {},
   "outputs": [],
   "source": [
    "class DomNet(nn.Module):\n",
    "    def __init__(self, input_dim, hidden_dim, output_dim):\n",
    "        super(DomNet, self).__init__()\n",
    "        self.network = nn.Sequential(\n",
    "            nn.Linear(input_dim, hidden_dim),\n",
    "            nn.ReLU(),\n",
    "            nn.Linear(hidden_dim, hidden_dim),\n",
    "            nn.ReLU(), \n",
    "            nn.Linear(hidden_dim, output_dim),\n",
    "            nn.Softmax(dim=1)\n",
    "        )\n",
    "    def forward(self, x):\n",
    "        x = self.network(x)\n",
    "        return x"
   ]
  },
  {
   "cell_type": "code",
   "execution_count": 42,
   "metadata": {},
   "outputs": [],
   "source": [
    "dom_net = DomNet(all_X.shape[1], 128, 3)"
   ]
  },
  {
   "cell_type": "code",
   "execution_count": 43,
   "metadata": {},
   "outputs": [],
   "source": [
    "#a = torch.randn(16, all_X.shape[1])"
   ]
  },
  {
   "cell_type": "code",
   "execution_count": 44,
   "metadata": {},
   "outputs": [],
   "source": [
    "#dom_net(a)"
   ]
  },
  {
   "cell_type": "code",
   "execution_count": 45,
   "metadata": {},
   "outputs": [],
   "source": [
    "learning_rate = 0.001\n",
    "epochs = 200\n",
    "batch_size = 4\n",
    "print_every = 20"
   ]
  },
  {
   "cell_type": "code",
   "execution_count": 46,
   "metadata": {},
   "outputs": [],
   "source": [
    "tensor_x = torch.Tensor(all_X) # transform to torch tensor\n",
    "tensor_y = torch.Tensor(all_Y1).long()"
   ]
  },
  {
   "cell_type": "code",
   "execution_count": 47,
   "metadata": {},
   "outputs": [],
   "source": [
    "all_dataset = TensorDataset(tensor_x,tensor_y) # create your datset"
   ]
  },
  {
   "cell_type": "code",
   "execution_count": 48,
   "metadata": {},
   "outputs": [],
   "source": [
    "train_num = int(0.8 * len(all_dataset))\n",
    "text_num = len(all_dataset) - train_num"
   ]
  },
  {
   "cell_type": "code",
   "execution_count": 49,
   "metadata": {},
   "outputs": [],
   "source": [
    "train_dataset, test_dataset = torch.utils.data.random_split(all_dataset, [train_num, text_num])"
   ]
  },
  {
   "cell_type": "code",
   "execution_count": 50,
   "metadata": {},
   "outputs": [
    {
     "name": "stdout",
     "output_type": "stream",
     "text": [
      "352 88\n"
     ]
    }
   ],
   "source": [
    "print(len(train_dataset), len(test_dataset))"
   ]
  },
  {
   "cell_type": "code",
   "execution_count": 51,
   "metadata": {},
   "outputs": [],
   "source": [
    "train_dataloader = DataLoader(train_dataset, batch_size=batch_size, shuffle=True)\n",
    "test_dataloader = DataLoader(test_dataset, batch_size=batch_size, shuffle=True)"
   ]
  },
  {
   "cell_type": "code",
   "execution_count": 52,
   "metadata": {},
   "outputs": [],
   "source": [
    "loss_fun = nn.CrossEntropyLoss()\n",
    "optimizer = torch.optim.Adam(dom_net.parameters(), lr=learning_rate)"
   ]
  },
  {
   "cell_type": "code",
   "execution_count": 53,
   "metadata": {},
   "outputs": [
    {
     "name": "stdout",
     "output_type": "stream",
     "text": [
      "epoch: 0 train loss: 1.0590261918577282 test loss: 1.0249954705888575 acc: 0.5113636363636364\n",
      "epoch: 20 train loss: 0.5776687853715636 test loss: 1.0067734257741408 acc: 0.5227272727272727\n",
      "epoch: 40 train loss: 0.5755940547043626 test loss: 1.0053518143567173 acc: 0.5454545454545454\n",
      "epoch: 60 train loss: 0.5713937411254103 test loss: 0.993874270807613 acc: 0.5568181818181818\n",
      "epoch: 80 train loss: 0.5713548626412045 test loss: 0.9999862231991508 acc: 0.5568181818181818\n",
      "epoch: 100 train loss: 0.5713409930467606 test loss: 1.0022710372101178 acc: 0.5454545454545454\n",
      "epoch: 120 train loss: 0.5713355514136228 test loss: 1.0034359937364405 acc: 0.5454545454545454\n",
      "epoch: 140 train loss: 0.5713386623696848 test loss: 1.0069071487946943 acc: 0.5454545454545454\n",
      "epoch: 160 train loss: 0.5713353035124865 test loss: 1.0127822783860294 acc: 0.5340909090909091\n",
      "epoch: 180 train loss: 0.5713332200592215 test loss: 1.0174061981114475 acc: 0.5227272727272727\n"
     ]
    }
   ],
   "source": [
    "for i in range(epochs):\n",
    "    train_loss = []\n",
    "    test_loss = []\n",
    "    acc = []\n",
    "    \n",
    "    dom_net.train()\n",
    "    for batch_sample, batch_label in train_dataloader:\n",
    "        pred_label = dom_net(batch_sample)\n",
    "        loss = loss_fun(pred_label, batch_label)\n",
    "        optimizer.zero_grad()\n",
    "        loss.backward()\n",
    "        optimizer.step()\n",
    "        train_loss.append(loss.item())\n",
    "    \n",
    "    dom_net.eval()\n",
    "    for batch_sample, batch_label in test_dataloader:\n",
    "        pred_label = dom_net(batch_sample)\n",
    "        pred = torch.argmax(pred_label, dim=1)\n",
    "        loss = loss_fun(pred_label, batch_label)\n",
    "        test_loss.append(loss.item())\n",
    "        acc.append(torch.sum(pred == batch_label).item()/len(batch_label))\n",
    "    \n",
    "    if i % print_every == 0:\n",
    "        print(\"epoch:\", i,\"train loss:\", sum(train_loss)/len(train_loss), \"test loss:\", sum(test_loss)/len(test_loss), \n",
    "              \"acc:\", sum(acc)/len(acc))\n",
    "    "
   ]
  },
  {
   "cell_type": "code",
   "execution_count": null,
   "metadata": {},
   "outputs": [],
   "source": []
  }
 ],
 "metadata": {
  "kernelspec": {
   "display_name": "Python 3",
   "language": "python",
   "name": "python3"
  },
  "language_info": {
   "codemirror_mode": {
    "name": "ipython",
    "version": 3
   },
   "file_extension": ".py",
   "mimetype": "text/x-python",
   "name": "python",
   "nbconvert_exporter": "python",
   "pygments_lexer": "ipython3",
   "version": "3.7.9"
  }
 },
 "nbformat": 4,
 "nbformat_minor": 4
}
