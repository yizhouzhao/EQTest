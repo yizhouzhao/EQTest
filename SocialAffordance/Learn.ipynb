{
 "cells": [
  {
   "cell_type": "code",
   "execution_count": 34,
   "metadata": {},
   "outputs": [],
   "source": [
    "import os\n",
    "import numpy as np"
   ]
  },
  {
   "cell_type": "code",
   "execution_count": 30,
   "metadata": {},
   "outputs": [],
   "source": [
    "from Params import *"
   ]
  },
  {
   "cell_type": "code",
   "execution_count": 2,
   "metadata": {},
   "outputs": [
    {
     "data": {
      "text/plain": [
       "'E:\\\\researches\\\\EQTest\\\\SocialAffordance'"
      ]
     },
     "execution_count": 2,
     "metadata": {},
     "output_type": "execute_result"
    }
   ],
   "source": [
    "os.getcwd()"
   ]
  },
  {
   "cell_type": "code",
   "execution_count": 24,
   "metadata": {},
   "outputs": [],
   "source": [
    "survey = []"
   ]
  },
  {
   "cell_type": "code",
   "execution_count": 25,
   "metadata": {},
   "outputs": [],
   "source": [
    "label_path = \"../data/label.txt\""
   ]
  },
  {
   "cell_type": "code",
   "execution_count": 26,
   "metadata": {},
   "outputs": [],
   "source": [
    "with open(label_path, \"r\") as f:\n",
    "    for line in f.readlines():\n",
    "        line_info = line.strip().split(\",\")\n",
    "        #print(line_info)\n",
    "        sample_info = line_info[0].split(\"_\")\n",
    "        item = {\"m1\": sample_info[0], \"e11\": sample_info[1], \"e12\": sample_info[2],\n",
    "               \"m2\": sample_info[3], \"e21\": sample_info[4], \"e22\": sample_info[5],\n",
    "               \"d\": sample_info[6], \"t\": sample_info[7]}\n",
    "        label_info = line_info[1].split(\"_\")\n",
    "        item[\"quality\"] = label_info[0]\n",
    "        item[\"dominance\"] = label_info[1]\n",
    "        item[\"intimacy\"] = label_info[2]\n",
    "        \n",
    "        survey.append(item)\n",
    "        \n",
    "        "
   ]
  },
  {
   "cell_type": "code",
   "execution_count": 27,
   "metadata": {},
   "outputs": [
    {
     "name": "stdout",
     "output_type": "stream",
     "text": [
      "{'m1': 'Sad', 'e11': 'Scared', 'e12': 'Mock', 'm2': 'Laughing', 'e21': 'Sad', 'e22': 'Neutral', 'd': '4', 't': '2', 'quality': 'Bad', 'dominance': 'Equal', 'intimacy': 'Medium'} {'m1': 'Wiping', 'e11': 'Tired', 'e12': 'Surprise', 'm2': 'Whatever', 'e21': 'Confused', 'e22': 'Sad', 'd': '4', 't': '1', 'quality': 'Good', 'dominance': 'Character two', 'intimacy': 'Close'} {'m1': 'Defeat', 'e11': 'Excited', 'e12': 'Confused', 'm2': 'Shaking', 'e21': 'Curious', 'e22': 'Frustrated', 'd': '4', 't': '-2', 'quality': 'Good', 'dominance': 'Character one', 'intimacy': 'Medium'} {'m1': 'Arguing', 'e11': 'Frustrated', 'e12': 'Tired', 'm2': 'Shaking', 'e21': 'Dissatisfied', 'e22': 'Embarrased', 'd': '4', 't': '-2', 'quality': 'Good', 'dominance': 'Character two', 'intimacy': 'Alienated'} {'m1': 'Bow', 'e11': 'Tired', 'e12': 'Confused', 'm2': 'Bow', 'e21': 'Disgust', 'e22': 'Curious', 'd': '4', 't': '2', 'quality': 'Good', 'dominance': 'Equal', 'intimacy': 'Medium'} {'m1': 'Offensive', 'e11': 'Embarrased', 'e12': 'Surprise', 'm2': 'Clapping', 'e21': 'Surprise', 'e22': 'Confused', 'd': '2', 't': '2', 'quality': 'Bad', 'dominance': 'Character one', 'intimacy': 'Alienated'} {'m1': 'Clapping', 'e11': 'Excited', 'e12': 'Dissatisfied', 'm2': 'Head Shake', 'e21': 'Tired', 'e22': 'Mock', 'd': '8', 't': '0', 'quality': 'Just so so', 'dominance': 'Character two', 'intimacy': 'Medium'} {'m1': 'Agreeing', 'e11': 'Madness', 'e12': 'Frustrated', 'm2': 'Rubbing', 'e21': 'Mock', 'e22': 'Annoyed', 'd': '4', 't': '0', 'quality': 'Just so so', 'dominance': 'Equal', 'intimacy': 'Medium'} {'m1': 'Kiss', 'e11': 'Sad', 'e12': 'Happy', 'm2': 'Taunt', 'e21': 'Angry', 'e22': 'Disgust', 'd': '8', 't': '0', 'quality': 'Bad', 'dominance': 'Character two', 'intimacy': 'Alienated'} {'m1': 'Forward', 'e11': 'Surprise', 'e12': 'Annoyed', 'm2': 'Waving', 'e21': 'Dissatisfied', 'e22': 'Curious', 'd': '4', 't': '2', 'quality': 'Good', 'dominance': 'Character two', 'intimacy': 'Medium'} {'m1': 'Excited', 'e11': 'Excited', 'e12': 'Sad', 'm2': 'Charge', 'e21': 'Happy', 'e22': 'Madness', 'd': '2', 't': '0', 'quality': 'Bad', 'dominance': 'Character two', 'intimacy': 'Medium'} {'m1': 'Forward', 'e11': 'Excited', 'e12': 'Surprise', 'm2': 'Terrified', 'e21': 'Happy', 'e22': 'Hate', 'd': '8', 't': '-2', 'quality': 'Just so so', 'dominance': 'Character one', 'intimacy': 'Medium'} {'m1': 'Acknowledging', 'e11': 'Embarrased', 'e12': 'Scared', 'm2': 'Clapping', 'e21': 'Sad', 'e22': 'Delight', 'd': '2', 't': '-1', 'quality': 'Good', 'dominance': 'Character two', 'intimacy': 'Close'} {'m1': 'Head Shake', 'e11': 'Sad', 'e12': 'Annoyed', 'm2': 'Charge', 'e21': 'Angry', 'e22': 'Confused', 'd': '8', 't': '2', 'quality': 'Just so so', 'dominance': 'Character two', 'intimacy': 'Medium'} {'m1': 'Terrified', 'e11': 'Confused', 'e12': 'Scared', 'm2': 'Strong', 'e21': 'Confused', 'e22': 'Hate', 'd': '2', 't': '2', 'quality': 'Bad', 'dominance': 'Character two', 'intimacy': 'Medium'} {'m1': 'Talking', 'e11': 'Sad', 'e12': 'Dissatisfied', 'm2': 'Laughing', 'e21': 'Happy', 'e22': 'Concerned', 'd': '2', 't': '2', 'quality': 'Just so so', 'dominance': 'Character two', 'intimacy': 'Alienated'} {'m1': 'Disappointed', 'e11': 'Hate', 'e12': 'Embarrased', 'm2': 'Dizzy', 'e21': 'Frustrated', 'e22': 'Dissatisfied', 'd': '2', 't': '0', 'quality': 'Bad', 'dominance': 'Character one', 'intimacy': 'Medium'} {'m1': 'Dizzy', 'e11': 'Tired', 'e12': 'Concerned', 'm2': 'Strong', 'e21': 'Neutral', 'e22': 'Embarrased', 'd': '4', 't': '-2', 'quality': 'Good', 'dominance': 'Equal', 'intimacy': 'Close'} {'m1': 'Loser', 'e11': 'Annoyed', 'e12': 'Disgust', 'm2': 'Fist', 'e21': 'Embarrased', 'e22': 'Disgust', 'd': '8', 't': '2', 'quality': 'Good', 'dominance': 'Character one', 'intimacy': 'Alienated'} {'m1': 'Strong', 'e11': 'Madness', 'e12': 'Scared', 'm2': 'Neck', 'e21': 'Madness', 'e22': 'Surprise', 'd': '2', 't': '0', 'quality': 'Just so so', 'dominance': 'Character two', 'intimacy': 'Medium'} {'m1': 'Drunk', 'e11': 'Annoyed', 'e12': 'Curious', 'm2': 'Stomping', 'e21': 'Curious', 'e22': 'Neutral', 'd': '2', 't': '2', 'quality': 'Bad', 'dominance': 'Character two', 'intimacy': 'Close'} {'m1': 'Terrified', 'e11': 'Embarrased', 'e12': 'Neutral', 'm2': 'Thoughtful', 'e21': 'Happy', 'e22': 'Mock', 'd': '4', 't': '2', 'quality': 'Good', 'dominance': 'Equal', 'intimacy': 'Close'} {'m1': 'Rubbing', 'e11': 'Madness', 'e12': 'Scared', 'm2': 'Head Nod', 'e21': 'Excited', 'e22': 'Annoyed', 'd': '2', 't': '2', 'quality': 'Good', 'dominance': 'Equal', 'intimacy': 'Medium'} {'m1': 'Shaking', 'e11': 'Madness', 'e12': 'Sad', 'm2': 'Sad', 'e21': 'Frustrated', 'e22': 'Sad', 'd': '2', 't': '2', 'quality': 'Bad', 'dominance': 'Character one', 'intimacy': 'Alienated'} {'m1': 'Laughing', 'e11': 'Surprise', 'e12': 'Hate', 'm2': 'Kneeling', 'e21': 'Concerned', 'e22': 'Neutral', 'd': '2', 't': '2', 'quality': 'Bad', 'dominance': 'Equal', 'intimacy': 'Medium'} {'m1': 'Excited', 'e11': 'Disgust', 'e12': 'Sad', 'm2': 'Singing', 'e21': 'Curious', 'e22': 'Surprise', 'd': '8', 't': '1', 'quality': 'Good', 'dominance': 'Equal', 'intimacy': 'Close'} {'m1': 'Charge', 'e11': 'Tired', 'e12': 'Excited', 'm2': 'Shaking', 'e21': 'Dissatisfied', 'e22': 'Delight', 'd': '2', 't': '-1', 'quality': 'Bad', 'dominance': 'Character one', 'intimacy': 'Alienated'} {'m1': 'Acknowledging', 'e11': 'Angry', 'e12': 'Annoyed', 'm2': 'Acknowledging', 'e21': 'Scared', 'e22': 'Tired', 'd': '4', 't': '-1', 'quality': 'Good', 'dominance': 'Character one', 'intimacy': 'Close'} {'m1': 'Shrugging', 'e11': 'Sad', 'e12': 'Hate', 'm2': 'Victory', 'e21': 'Surprise', 'e22': 'Surprise', 'd': '2', 't': '2', 'quality': 'Good', 'dominance': 'Character two', 'intimacy': 'Close'} {'m1': 'Acknowledging', 'e11': 'Scared', 'e12': 'Curious', 'm2': 'Surprised', 'e21': 'Madness', 'e22': 'Frustrated', 'd': '8', 't': '-2', 'quality': 'Just so so', 'dominance': 'Character two', 'intimacy': 'Medium'} {'m1': 'Bored', 'e11': 'Scared', 'e12': 'Concerned', 'm2': 'Kneeling', 'e21': 'Tired', 'e22': 'Sad', 'd': '8', 't': '-2', 'quality': 'Bad', 'dominance': 'Character one', 'intimacy': 'Alienated'} {'m1': 'Threatening', 'e11': 'Surprise', 'e12': 'Madness', 'm2': 'Neck', 'e21': 'Annoyed', 'e22': 'Delight', 'd': '2', 't': '1', 'quality': 'Just so so', 'dominance': 'Character two', 'intimacy': 'Medium'} {'m1': 'Clapping', 'e11': 'Delight', 'e12': 'Scared', 'm2': 'Reaching', 'e21': 'Mock', 'e22': 'Curious', 'd': '2', 't': '1', 'quality': 'Bad', 'dominance': 'Character two', 'intimacy': 'Medium'} {'m1': 'Kneeling', 'e11': 'Frustrated', 'e12': 'Annoyed', 'm2': 'Dismissing', 'e21': 'Frustrated', 'e22': 'Happy', 'd': '2', 't': '-2', 'quality': 'Good', 'dominance': 'Character two', 'intimacy': 'Medium'} {'m1': 'Yelling', 'e11': 'Confused', 'e12': 'Delight', 'm2': 'Surprised', 'e21': 'Confused', 'e22': 'Delight', 'd': '4', 't': '-2', 'quality': 'Bad', 'dominance': 'Character one', 'intimacy': 'Alienated'} {'m1': 'Salute', 'e11': 'Disgust', 'e12': 'Dissatisfied', 'm2': 'Bored', 'e21': 'Frustrated', 'e22': 'Scared', 'd': '2', 't': '-2', 'quality': 'Bad', 'dominance': 'Character two', 'intimacy': 'Medium'} {'m1': 'Terrified', 'e11': 'Curious', 'e12': 'Excited', 'm2': 'Threatening', 'e21': 'Embarrased', 'e22': 'Concerned', 'd': '8', 't': '-2', 'quality': 'Bad', 'dominance': 'Character two', 'intimacy': 'Alienated'} {'m1': 'Head Shake', 'e11': 'Surprise', 'e12': 'Mock', 'm2': 'Dizzy', 'e21': 'Mock', 'e22': 'Delight', 'd': '4', 't': '2', 'quality': 'Just so so', 'dominance': 'Equal', 'intimacy': 'Alienated'} {'m1': 'Singing', 'e11': 'Annoyed', 'e12': 'Happy', 'm2': 'Roar', 'e21': 'Curious', 'e22': 'Confused', 'd': '2', 't': '2', 'quality': 'Bad', 'dominance': 'Character one', 'intimacy': 'Medium'} {'m1': 'Pointing', 'e11': 'Excited', 'e12': 'Angry', 'm2': 'Head Shake', 'e21': 'Embarrased', 'e22': 'Concerned', 'd': '4', 't': '2', 'quality': 'Just so so', 'dominance': 'Character one', 'intimacy': 'Medium'} {'m1': 'Rejected', 'e11': 'Tired', 'e12': 'Disgust', 'm2': 'Victory', 'e21': 'Madness', 'e22': 'Happy', 'd': '4', 't': '-2', 'quality': 'Good', 'dominance': 'Equal', 'intimacy': 'Medium'} {'m1': 'Acknowledging', 'e11': 'Hate', 'e12': 'Surprise', 'm2': 'Relieved', 'e21': 'Hate', 'e22': 'Frustrated', 'd': '8', 't': '-2', 'quality': 'Good', 'dominance': 'Equal', 'intimacy': 'Close'} {'m1': 'Happy', 'e11': 'Happy', 'e12': 'Scared', 'm2': 'Whatever', 'e21': 'Sad', 'e22': 'Disgust', 'd': '2', 't': '2', 'quality': 'Good', 'dominance': 'Equal', 'intimacy': 'Close'} {'m1': 'Happy', 'e11': 'Curious', 'e12': 'Tired', 'm2': 'Neck', 'e21': 'Confused', 'e22': 'Embarrased', 'd': '4', 't': '-2', 'quality': 'Just so so', 'dominance': 'Equal', 'intimacy': 'Alienated'} {'m1': 'Pain', 'e11': 'Disgust', 'e12': 'Surprise', 'm2': 'Bow', 'e21': 'Confused', 'e22': 'Mock', 'd': '4', 't': '-2', 'quality': 'Bad', 'dominance': 'Equal', 'intimacy': 'Alienated'} {'m1': 'Rejected', 'e11': 'Confused', 'e12': 'Sad', 'm2': 'Idle', 'e21': 'Disgust', 'e22': 'Madness', 'd': '4', 't': '2', 'quality': 'Good', 'dominance': 'Character two', 'intimacy': 'Alienated'} {'m1': 'Bored', 'e11': 'Embarrased', 'e12': 'Confused', 'm2': 'Surprised', 'e21': 'Madness', 'e22': 'Dissatisfied', 'd': '4', 't': '-1', 'quality': 'Just so so', 'dominance': 'Equal', 'intimacy': 'Medium'} {'m1': 'Bored', 'e11': 'Concerned', 'e12': 'Neutral', 'm2': 'Cocky', 'e21': 'Disgust', 'e22': 'Dissatisfied', 'd': '4', 't': '-1', 'quality': 'Just so so', 'dominance': 'Character two', 'intimacy': 'Medium'} {'m1': 'Taunt', 'e11': 'Confused', 'e12': 'Scared', 'm2': 'Rejected', 'e21': 'Sad', 'e22': 'Frustrated', 'd': '2', 't': '2', 'quality': 'Bad', 'dominance': 'Equal', 'intimacy': 'Medium'} {'m1': 'Laughing', 'e11': 'Surprise', 'e12': 'Scared', 'm2': 'Happy', 'e21': 'Happy', 'e22': 'Frustrated', 'd': '2', 't': '2', 'quality': 'Good', 'dominance': 'Equal', 'intimacy': 'Medium'} {'m1': 'Thinking', 'e11': 'Hate', 'e12': 'Tired', 'm2': 'Clapping', 'e21': 'Embarrased', 'e22': 'Embarrased', 'd': '8', 't': '2', 'quality': 'Just so so', 'dominance': 'Equal', 'intimacy': 'Medium'} {'m1': 'Pointing', 'e11': 'Tired', 'e12': 'Confused', 'm2': 'Yawn', 'e21': 'Frustrated', 'e22': 'Frustrated', 'd': '2', 't': '-2', 'quality': 'Good', 'dominance': 'Character two', 'intimacy': 'Medium'} {'m1': 'Agreeing', 'e11': 'Dissatisfied', 'e12': 'Angry', 'm2': 'Excited', 'e21': 'Angry', 'e22': 'Angry', 'd': '8', 't': '-2', 'quality': 'Bad', 'dominance': 'Equal', 'intimacy': 'Alienated'} {'m1': 'Yawn', 'e11': 'Neutral', 'e12': 'Delight', 'm2': 'Neck', 'e21': 'Concerned', 'e22': 'Concerned', 'd': '8', 't': '-1', 'quality': 'Good', 'dominance': 'Character one', 'intimacy': 'Medium'} {'m1': 'Waving', 'e11': 'Disgust', 'e12': 'Neutral', 'm2': 'Greeting', 'e21': 'Happy', 'e22': 'Curious', 'd': '4', 't': '0', 'quality': 'Good', 'dominance': 'Equal', 'intimacy': 'Close'} {'m1': 'Neck', 'e11': 'Dissatisfied', 'e12': 'Tired', 'm2': 'Shaking', 'e21': 'Madness', 'e22': 'Dissatisfied', 'd': '2', 't': '0', 'quality': 'Bad', 'dominance': 'Character two', 'intimacy': 'Medium'} {'m1': 'Drunk', 'e11': 'Frustrated', 'e12': 'Madness', 'm2': 'Yawn', 'e21': 'Sad', 'e22': 'Surprise', 'd': '8', 't': '-2', 'quality': 'Just so so', 'dominance': 'Equal', 'intimacy': 'Alienated'} {'m1': 'Rubbing', 'e11': 'Scared', 'e12': 'Tired', 'm2': 'Head Shake', 'e21': 'Frustrated', 'e22': 'Neutral', 'd': '2', 't': '-2', 'quality': 'Good', 'dominance': 'Equal', 'intimacy': 'Close'} {'m1': 'Kneeling', 'e11': 'Surprise', 'e12': 'Concerned', 'm2': 'Excited', 'e21': 'Excited', 'e22': 'Frustrated', 'd': '2', 't': '0', 'quality': 'Bad', 'dominance': 'Character two', 'intimacy': 'Medium'} {'m1': 'Idle', 'e11': 'Scared', 'e12': 'Confused', 'm2': 'Pointing', 'e21': 'Happy', 'e22': 'Surprise', 'd': '4', 't': '0', 'quality': 'Good', 'dominance': 'Character two', 'intimacy': 'Medium'} {'m1': 'Wiping', 'e11': 'Scared', 'e12': 'Frustrated', 'm2': 'Rubbing', 'e21': 'Frustrated', 'e22': 'Embarrased', 'd': '2', 't': '0', 'quality': 'Bad', 'dominance': 'Character two', 'intimacy': 'Close'} {'m1': 'Rubbing', 'e11': 'Tired', 'e12': 'Madness', 'm2': 'Stomping', 'e21': 'Annoyed', 'e22': 'Tired', 'd': '2', 't': '0', 'quality': 'Good', 'dominance': 'Equal', 'intimacy': 'Close'} {'m1': 'Whatever', 'e11': 'Delight', 'e12': 'Scared', 'm2': 'Charge', 'e21': 'Confused', 'e22': 'Confused', 'd': '4', 't': '2', 'quality': 'Bad', 'dominance': 'Character two', 'intimacy': 'Medium'} {'m1': 'Idle', 'e11': 'Concerned', 'e12': 'Delight', 'm2': 'Agreeing', 'e21': 'Angry', 'e22': 'Disgust', 'd': '2', 't': '0', 'quality': 'Just so so', 'dominance': 'Character two', 'intimacy': 'Medium'} {'m1': 'Yelling', 'e11': 'Dissatisfied', 'e12': 'Confused', 'm2': 'Crying', 'e21': 'Embarrased', 'e22': 'Madness', 'd': '4', 't': '0', 'quality': 'Bad', 'dominance': 'Equal', 'intimacy': 'Alienated'} {'m1': 'Dwarf', 'e11': 'Tired', 'e12': 'Tired', 'm2': 'Sad', 'e21': 'Angry', 'e22': 'Surprise', 'd': '2', 't': '1', 'quality': 'Just so so', 'dominance': 'Equal', 'intimacy': 'Medium'} {'m1': 'Shrugging', 'e11': 'Disgust', 'e12': 'Hate', 'm2': 'Forward', 'e21': 'Neutral', 'e22': 'Frustrated', 'd': '2', 't': '2', 'quality': 'Just so so', 'dominance': 'Equal', 'intimacy': 'Close'} {'m1': 'Forward', 'e11': 'Delight', 'e12': 'Annoyed', 'm2': 'Loser', 'e21': 'Mock', 'e22': 'Scared', 'd': '2', 't': '2', 'quality': 'Bad', 'dominance': 'Character two', 'intimacy': 'Medium'} {'m1': 'Greeting', 'e11': 'Disgust', 'e12': 'Disgust', 'm2': 'Waving', 'e21': 'Confused', 'e22': 'Scared', 'd': '8', 't': '0', 'quality': 'Good', 'dominance': 'Equal', 'intimacy': 'Close'} {'m1': 'Forward', 'e11': 'Scared', 'e12': 'Annoyed', 'm2': 'Loser', 'e21': 'Madness', 'e22': 'Mock', 'd': '4', 't': '0', 'quality': 'Just so so', 'dominance': 'Character one', 'intimacy': 'Medium'} {'m1': 'Singing', 'e11': 'Disgust', 'e12': 'Mock', 'm2': 'Defeat', 'e21': 'Embarrased', 'e22': 'Hate', 'd': '4', 't': '2', 'quality': 'Good', 'dominance': 'Character one', 'intimacy': 'Close'} {'m1': 'Joyful', 'e11': 'Dissatisfied', 'e12': 'Curious', 'm2': 'Telling', 'e21': 'Mock', 'e22': 'Dissatisfied', 'd': '2', 't': '-2', 'quality': 'Just so so', 'dominance': 'Equal', 'intimacy': 'Close'} {'m1': 'Praying', 'e11': 'Disgust', 'e12': 'Dissatisfied', 'm2': 'Thankful', 'e21': 'Happy', 'e22': 'Excited', 'd': '8', 't': '-2', 'quality': 'Good', 'dominance': 'Character two', 'intimacy': 'Medium'} {'m1': 'Neck', 'e11': 'Surprise', 'e12': 'Mock', 'm2': 'Loser', 'e21': 'Angry', 'e22': 'Curious', 'd': '4', 't': '-2', 'quality': 'Bad', 'dominance': 'Character one', 'intimacy': 'Alienated'} {'m1': 'Excited', 'e11': 'Annoyed', 'e12': 'Confused', 'm2': 'Praying', 'e21': 'Happy', 'e22': 'Surprise', 'd': '4', 't': '-2', 'quality': 'Good', 'dominance': 'Character one', 'intimacy': 'Medium'} {'m1': 'Forward', 'e11': 'Dissatisfied', 'e12': 'Neutral', 'm2': 'Head Shake', 'e21': 'Sad', 'e22': 'Annoyed', 'd': '2', 't': '0', 'quality': 'Good', 'dominance': 'Equal', 'intimacy': 'Medium'} {'m1': 'Thumbs', 'e11': 'Confused', 'e12': 'Curious', 'm2': 'Kiss', 'e21': 'Curious', 'e22': 'Disgust', 'd': '8', 't': '0', 'quality': 'Good', 'dominance': 'Equal', 'intimacy': 'Alienated'} {'m1': 'Neck', 'e11': 'Surprise', 'e12': 'Neutral', 'm2': 'Dizzy', 'e21': 'Annoyed', 'e22': 'Embarrased', 'd': '2', 't': '-1', 'quality': 'Just so so', 'dominance': 'Equal', 'intimacy': 'Alienated'} {'m1': 'Acknowledging', 'e11': 'Neutral', 'e12': 'Confused', 'm2': 'Kiss', 'e21': 'Embarrased', 'e22': 'Confused', 'd': '8', 't': '-1', 'quality': 'Just so so', 'dominance': 'Character two', 'intimacy': 'Medium'} {'m1': 'Nervously', 'e11': 'Mock', 'e12': 'Sad', 'm2': 'Taunt', 'e21': 'Excited', 'e22': 'Surprise', 'd': '8', 't': '-1', 'quality': 'Bad', 'dominance': 'Equal', 'intimacy': 'Medium'} {'m1': 'Thumbs', 'e11': 'Angry', 'e12': 'Tired', 'm2': 'Sad', 'e21': 'Curious', 'e22': 'Curious', 'd': '8', 't': '1', 'quality': 'Good', 'dominance': 'Character one', 'intimacy': 'Medium'} {'m1': 'Stomping', 'e11': 'Disgust', 'e12': 'Confused', 'm2': 'Threatening', 'e21': 'Surprise', 'e22': 'Tired', 'd': '4', 't': '0', 'quality': 'Bad', 'dominance': 'Character two', 'intimacy': 'Alienated'} {'m1': 'Taunt', 'e11': 'Surprise', 'e12': 'Madness', 'm2': 'Dismissing', 'e21': 'Delight', 'e22': 'Surprise', 'd': '8', 't': '0', 'quality': 'Bad', 'dominance': 'Equal', 'intimacy': 'Medium'} {'m1': 'Offensive', 'e11': 'Dissatisfied', 'e12': 'Concerned', 'm2': 'Acknowledging', 'e21': 'Curious', 'e22': 'Embarrased', 'd': '2', 't': '0', 'quality': 'Good', 'dominance': 'Equal', 'intimacy': 'Close'} {'m1': 'Pointing', 'e11': 'Confused', 'e12': 'Happy', 'm2': 'Sarcastic', 'e21': 'Tired', 'e22': 'Surprise', 'd': '2', 't': '-1', 'quality': 'Just so so', 'dominance': 'Character one', 'intimacy': 'Close'} {'m1': 'Stomping', 'e11': 'Angry', 'e12': 'Confused', 'm2': 'Stomping', 'e21': 'Sad', 'e22': 'Hate', 'd': '8', 't': '2', 'quality': 'Bad', 'dominance': 'Character two', 'intimacy': 'Close'} {'m1': 'Sad', 'e11': 'Happy', 'e12': 'Scared', 'm2': 'Laughing', 'e21': 'Disgust', 'e22': 'Mock', 'd': '4', 't': '2', 'quality': 'Bad', 'dominance': 'Character two', 'intimacy': 'Close'} {'m1': 'Thumbs', 'e11': 'Tired', 'e12': 'Surprise', 'm2': 'Cocky', 'e21': 'Angry', 'e22': 'Surprise', 'd': '8', 't': '0', 'quality': 'Just so so', 'dominance': 'Character one', 'intimacy': 'Medium'} {'m1': 'Pain', 'e11': 'Curious', 'e12': 'Surprise', 'm2': 'Crazy', 'e21': 'Disgust', 'e22': 'Angry', 'd': '4', 't': '0', 'quality': 'Bad', 'dominance': 'Equal', 'intimacy': 'Medium'} {'m1': 'Fist', 'e11': 'Curious', 'e12': 'Curious', 'm2': 'Neck', 'e21': 'Happy', 'e22': 'Curious', 'd': '2', 't': '-1', 'quality': 'Just so so', 'dominance': 'Equal', 'intimacy': 'Medium'} {'m1': 'Waving', 'e11': 'Sad', 'e12': 'Scared', 'm2': 'Forward', 'e21': 'Scared', 'e22': 'Excited', 'd': '4', 't': '2', 'quality': 'Good', 'dominance': 'Equal', 'intimacy': 'Close'} {'m1': 'Yelling', 'e11': 'Tired', 'e12': 'Annoyed', 'm2': 'Focus', 'e21': 'Surprise', 'e22': 'Disgust', 'd': '2', 't': '0', 'quality': 'Bad', 'dominance': 'Character one', 'intimacy': 'Medium'} {'m1': 'Pain', 'e11': 'Scared', 'e12': 'Scared', 'm2': 'Strong', 'e21': 'Surprise', 'e22': 'Dissatisfied', 'd': '4', 't': '0', 'quality': 'Bad', 'dominance': 'Equal', 'intimacy': 'Medium'} {'m1': 'Praying', 'e11': 'Hate', 'e12': 'Excited', 'm2': 'Singing', 'e21': 'Delight', 'e22': 'Annoyed', 'd': '8', 't': '0', 'quality': 'Good', 'dominance': 'Character two', 'intimacy': 'Medium'} {'m1': 'Victory', 'e11': 'Frustrated', 'e12': 'Frustrated', 'm2': 'Excited', 'e21': 'Disgust', 'e22': 'Neutral', 'd': '8', 't': '2', 'quality': 'Just so so', 'dominance': 'Equal', 'intimacy': 'Alienated'} {'m1': 'Loser', 'e11': 'Concerned', 'e12': 'Madness', 'm2': 'Crying', 'e21': 'Confused', 'e22': 'Tired', 'd': '2', 't': '2', 'quality': 'Bad', 'dominance': 'Character one', 'intimacy': 'Alienated'} {'m1': 'Clapping', 'e11': 'Hate', 'e12': 'Curious', 'm2': 'Talking', 'e21': 'Scared', 'e22': 'Surprise', 'd': '4', 't': '-1', 'quality': 'Good', 'dominance': 'Character two', 'intimacy': 'Close'} {'m1': 'Greeting', 'e11': 'Disgust', 'e12': 'Concerned', 'm2': 'Thumbs', 'e21': 'Tired', 'e22': 'Delight', 'd': '2', 't': '-1', 'quality': 'Bad', 'dominance': 'Character two', 'intimacy': 'Alienated'} {'m1': 'Agreeing', 'e11': 'Tired', 'e12': 'Disgust', 'm2': 'Threatening', 'e21': 'Delight', 'e22': 'Tired', 'd': '2', 't': '1', 'quality': 'Good', 'dominance': 'Equal', 'intimacy': 'Medium'} {'m1': 'Thankful', 'e11': 'Madness', 'e12': 'Madness', 'm2': 'Angry', 'e21': 'Embarrased', 'e22': 'Tired', 'd': '8', 't': '2', 'quality': 'Just so so', 'dominance': 'Equal', 'intimacy': 'Alienated'} {'m1': 'Crazy', 'e11': 'Embarrased', 'e12': 'Angry', 'm2': 'Offensive', 'e21': 'Mock', 'e22': 'Concerned', 'd': '8', 't': '2', 'quality': 'Good', 'dominance': 'Equal', 'intimacy': 'Medium'} {'m1': 'Greeting', 'e11': 'Frustrated', 'e12': 'Embarrased', 'm2': 'Praying', 'e21': 'Embarrased', 'e22': 'Confused', 'd': '2', 't': '2', 'quality': 'Bad', 'dominance': 'Character one', 'intimacy': 'Alienated'} {'m1': 'Disappointed', 'e11': 'Concerned', 'e12': 'Dissatisfied', 'm2': 'Bow', 'e21': 'Neutral', 'e22': 'Angry', 'd': '8', 't': '-1', 'quality': 'Just so so', 'dominance': 'Equal', 'intimacy': 'Medium'} {'m1': 'Pouting', 'e11': 'Delight', 'e12': 'Madness', 'm2': 'Neck', 'e21': 'Angry', 'e22': 'Neutral', 'd': '4', 't': '-1', 'quality': 'Good', 'dominance': 'Equal', 'intimacy': 'Alienated'} {'m1': 'Arguing', 'e11': 'Delight', 'e12': 'Delight', 'm2': 'Arguing', 'e21': 'Embarrased', 'e22': 'Delight', 'd': '8', 't': '0', 'quality': 'Just so so', 'dominance': 'Equal', 'intimacy': 'Medium'} {'m1': 'Thankful', 'e11': 'Neutral', 'e12': 'Hate', 'm2': 'Neck', 'e21': 'Happy', 'e22': 'Disgust', 'd': '8', 't': '0', 'quality': 'Bad', 'dominance': 'Equal', 'intimacy': 'Alienated'}\n"
     ]
    }
   ],
   "source": [
    "print(*survey)"
   ]
  },
  {
   "cell_type": "code",
   "execution_count": 31,
   "metadata": {},
   "outputs": [],
   "source": [
    "c1_motion_data = [G_INTEACT_KEY_WORDS.index(item['m1']) for item in survey]"
   ]
  },
  {
   "cell_type": "code",
   "execution_count": 33,
   "metadata": {},
   "outputs": [
    {
     "name": "stdout",
     "output_type": "stream",
     "text": [
      "[42, 66, 13, 49, 37, 32, 9, 1, 5, 22, 19, 22, 0, 3, 58, 56, 14, 16, 29, 54, 17, 58, 46, 45, 27, 19, 8, 0, 47, 0, 6, 62, 9, 26, 68, 43, 58, 3, 48, 34, 39, 0, 23, 23, 33, 39, 6, 6, 51, 27, 60, 34, 1, 67, 64, 30, 17, 46, 26, 7, 66, 46, 65, 7, 68, 18, 47, 22, 50, 22, 48, 25, 36, 30, 19, 22, 52, 30, 0, 31, 52, 53, 51, 32, 34, 53, 42, 52, 33, 20, 64, 68, 33, 36, 63, 29, 9, 50, 1, 59, 11, 50, 14, 35, 49, 59]\n"
     ]
    }
   ],
   "source": [
    "print(c1_motion_data)"
   ]
  },
  {
   "cell_type": "code",
   "execution_count": null,
   "metadata": {},
   "outputs": [],
   "source": []
  }
 ],
 "metadata": {
  "kernelspec": {
   "display_name": "Python 3",
   "language": "python",
   "name": "python3"
  },
  "language_info": {
   "codemirror_mode": {
    "name": "ipython",
    "version": 3
   },
   "file_extension": ".py",
   "mimetype": "text/x-python",
   "name": "python",
   "nbconvert_exporter": "python",
   "pygments_lexer": "ipython3",
   "version": "3.7.7"
  }
 },
 "nbformat": 4,
 "nbformat_minor": 4
}
