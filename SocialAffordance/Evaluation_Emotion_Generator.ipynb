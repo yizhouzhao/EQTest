{
 "cells": [
  {
   "cell_type": "code",
   "execution_count": 1,
   "metadata": {},
   "outputs": [],
   "source": [
    "from MotionGPT import *"
   ]
  },
  {
   "cell_type": "code",
   "execution_count": 2,
   "metadata": {},
   "outputs": [],
   "source": [
    "maker = FBXDataMaker(12345, radian=True)"
   ]
  },
  {
   "cell_type": "code",
   "execution_count": 3,
   "metadata": {},
   "outputs": [
    {
     "name": "stdout",
     "output_type": "stream",
     "text": [
      "has finger?  True    has root translate?  True\n"
     ]
    }
   ],
   "source": [
    "print(\"has finger? \", maker.has_finger, \"   has root translate? \", maker.has_translate)"
   ]
  },
  {
   "cell_type": "code",
   "execution_count": 4,
   "metadata": {},
   "outputs": [
    {
     "name": "stdout",
     "output_type": "stream",
     "text": [
      "(UndoToBeginning)Undo steps: 2\n",
      "None\n",
      "mixamorig:Hips\n",
      "scale:  0.8013302549603327\n",
      "None\n"
     ]
    }
   ],
   "source": [
    "maker.mc.UndoToBeginning(10000)\n",
    "print(maker.GetModelNameSpace())\n",
    "print(maker.GetTranslateScale())"
   ]
  },
  {
   "cell_type": "code",
   "execution_count": 5,
   "metadata": {},
   "outputs": [],
   "source": [
    "maker.sceenshots_folder = \"E:/researches/EQTest/SocialAffordance/sceenshots\""
   ]
  },
  {
   "cell_type": "code",
   "execution_count": 6,
   "metadata": {},
   "outputs": [],
   "source": [
    "maker.image_sizes = [[1024, 1024]]"
   ]
  },
  {
   "cell_type": "code",
   "execution_count": 10,
   "metadata": {},
   "outputs": [
    {
     "name": "stdout",
     "output_type": "stream",
     "text": [
      "PCA explained variance ratio: [0.21156491 0.18465255 0.14296822 0.09931681 0.09058293 0.06012527]\n"
     ]
    }
   ],
   "source": [
    "maker.camera_list = [\"persp\"]\n",
    "maker.EmotionPCA()"
   ]
  },
  {
   "cell_type": "code",
   "execution_count": 7,
   "metadata": {},
   "outputs": [],
   "source": [
    "\n",
    "\n",
    "# np.sum(explained_variance_ratio)\n",
    "\n",
    "# explained_variance_ratio = np.asarray([0.21156491, 0.18465255, 0.14296822, 0.09931681, 0.09058293, 0.06012527])*100\n",
    "\n",
    "# import seaborn as sns\n",
    "# import matplotlib.pyplot as plt\n",
    "# import pandas as pd\n",
    "# import matplotlib.ticker as mtick\n",
    "\n",
    "# var_data = pd.DataFrame({\"evr\":explained_variance_ratio, \"index\": [_ + 1 for _ in range(len(explained_variance_ratio))]})\n",
    "\n",
    "# var_cum_sum = np.cumsum(explained_variance_ratio)\n",
    "\n",
    "# plt.figure(figsize=(10,10)) \n",
    "# ax = sns.barplot(x = \"index\", y=\"evr\", data=var_data, palette=\"Blues_r\")\n",
    "# ax.yaxis.set_major_formatter(mtick.PercentFormatter())\n",
    "\n",
    "# ax2 = plt.plot(var_cum_sum, '-o')\n",
    "# #plt.axis(\"off\")"
   ]
  },
  {
   "cell_type": "code",
   "execution_count": 9,
   "metadata": {
    "scrolled": true
   },
   "outputs": [],
   "source": [
    "# maker.pca_components = np.clip(maker.pca_components, a_min = 0.0, a_max = 1.0)\n",
    "\n",
    "# maker.pca_components\n",
    "\n",
    "# c = BF_ListToJson(maker.pca_components[5])\n",
    "\n",
    "# maker.mc.SetMultipleAttributes(c)"
   ]
  },
  {
   "cell_type": "code",
   "execution_count": null,
   "metadata": {},
   "outputs": [],
   "source": [
    "i = 0"
   ]
  },
  {
   "cell_type": "code",
   "execution_count": null,
   "metadata": {},
   "outputs": [],
   "source": [
    "start_emotion = basic_emotions[i]"
   ]
  },
  {
   "cell_type": "code",
   "execution_count": null,
   "metadata": {},
   "outputs": [],
   "source": [
    "maker.GenerateMayaFace(maker.emotion2vad[start_emotion], frame = 0)"
   ]
  },
  {
   "cell_type": "code",
   "execution_count": null,
   "metadata": {},
   "outputs": [],
   "source": [
    "vad_score = maker.emotion2vad[start_emotion]"
   ]
  },
  {
   "cell_type": "code",
   "execution_count": null,
   "metadata": {},
   "outputs": [],
   "source": [
    "scores = maker.GenerateEmotionFromVAD(vad_score)"
   ]
  },
  {
   "cell_type": "code",
   "execution_count": null,
   "metadata": {},
   "outputs": [],
   "source": [
    "BF_ListToJson(scores)"
   ]
  },
  {
   "cell_type": "code",
   "execution_count": null,
   "metadata": {},
   "outputs": [],
   "source": [
    "maker.mc.SetMultipleAttributes(c)"
   ]
  },
  {
   "cell_type": "code",
   "execution_count": 11,
   "metadata": {},
   "outputs": [],
   "source": [
    "from mcmc import *"
   ]
  },
  {
   "cell_type": "code",
   "execution_count": 12,
   "metadata": {},
   "outputs": [
    {
     "name": "stdout",
     "output_type": "stream",
     "text": [
      "FBXDataLoader loading data...\n"
     ]
    },
    {
     "data": {
      "application/vnd.jupyter.widget-view+json": {
       "model_id": "61540cf363de49578d4e59b535f70e95",
       "version_major": 2,
       "version_minor": 0
      },
      "text/plain": [
       "HBox(children=(HTML(value=''), FloatProgress(value=0.0, max=149.0), HTML(value='')))"
      ]
     },
     "metadata": {},
     "output_type": "display_data"
    },
    {
     "name": "stdout",
     "output_type": "stream",
     "text": [
      "\n",
      "Hip Spine distance as scale:  3.971305111266949\n"
     ]
    },
    {
     "data": {
      "application/vnd.jupyter.widget-view+json": {
       "model_id": "e4db4b95c66244ffa708b42b508e5c27",
       "version_major": 2,
       "version_minor": 0
      },
      "text/plain": [
       "HBox(children=(HTML(value=''), FloatProgress(value=0.0, max=298.0), HTML(value='')))"
      ]
     },
     "metadata": {},
     "output_type": "display_data"
    },
    {
     "name": "stdout",
     "output_type": "stream",
     "text": [
      "\n"
     ]
    }
   ],
   "source": [
    "am = AnimationSampler()"
   ]
  },
  {
   "cell_type": "markdown",
   "metadata": {},
   "source": [
    "# Train"
   ]
  },
  {
   "cell_type": "code",
   "execution_count": 13,
   "metadata": {},
   "outputs": [],
   "source": [
    "am.train_parameters(iterations=1000)"
   ]
  },
  {
   "cell_type": "code",
   "execution_count": null,
   "metadata": {},
   "outputs": [],
   "source": [
    "good_survey = []\n",
    "medium_survey = []\n",
    "bad_survey = []\n",
    "for item in am.survey:\n",
    "    if item[\"quality\"] == \"Good\":\n",
    "        #good_survey.append(item)\n",
    "        good_survey.append(am.get_survey_item_score(item))\n",
    "#     elif item[\"quality\"] == \"Bad\":\n",
    "#         bad_survey.append(am.get_survey_item_score(item))\n",
    "#     else:\n",
    "#         medium_survey.append(am.get_survey_item_score(item))\n",
    "                           "
   ]
  },
  {
   "cell_type": "code",
   "execution_count": null,
   "metadata": {},
   "outputs": [],
   "source": []
  },
  {
   "cell_type": "code",
   "execution_count": null,
   "metadata": {},
   "outputs": [],
   "source": []
  }
 ],
 "metadata": {
  "kernelspec": {
   "display_name": "Python 3",
   "language": "python",
   "name": "python3"
  },
  "language_info": {
   "codemirror_mode": {
    "name": "ipython",
    "version": 3
   },
   "file_extension": ".py",
   "mimetype": "text/x-python",
   "name": "python",
   "nbconvert_exporter": "python",
   "pygments_lexer": "ipython3",
   "version": "3.7.9"
  }
 },
 "nbformat": 4,
 "nbformat_minor": 4
}
