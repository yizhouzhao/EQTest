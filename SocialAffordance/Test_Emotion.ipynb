{
 "metadata": {
  "language_info": {
   "codemirror_mode": {
    "name": "ipython",
    "version": 3
   },
   "file_extension": ".py",
   "mimetype": "text/x-python",
   "name": "python",
   "nbconvert_exporter": "python",
   "pygments_lexer": "ipython3",
   "version": "3.7.6-final"
  },
  "orig_nbformat": 2,
  "kernelspec": {
   "name": "python_defaultSpec_1597466005140",
   "display_name": "Python 3.7.6 64-bit ('base': conda)"
  }
 },
 "nbformat": 4,
 "nbformat_minor": 2,
 "cells": [
  {
   "cell_type": "markdown",
   "metadata": {},
   "source": [
    "## Test Emotion for Maya"
   ]
  },
  {
   "cell_type": "code",
   "execution_count": 2,
   "metadata": {},
   "outputs": [],
   "source": [
    "import socket\n",
    "import numpy as np\n",
    "import pandas as pd\n",
    "from DataAPI import MayaController\n",
    "import itertools\n",
    "import json\n",
    "import os\n",
    "from IPython.display import clear_output\n",
    "from csv import writer"
   ]
  },
  {
   "cell_type": "markdown",
   "metadata": {},
   "source": [
    "#### Open server\n",
    "\n",
    "import maya.cmds as cmds\n",
    "\n",
    "cmds.commandPort(n=\"localhost:12345\")\n",
    "\n",
    "cmds.commandPort(cl=True, n=\"localhost:12345\")"
   ]
  },
  {
   "cell_type": "code",
   "execution_count": 3,
   "metadata": {},
   "outputs": [],
   "source": [
    "controller = MayaController()"
   ]
  },
  {
   "cell_type": "markdown",
   "metadata": {},
   "source": [
    "### Data Interpolation"
   ]
  },
  {
   "cell_type": "code",
   "execution_count": 3,
   "metadata": {},
   "outputs": [
    {
     "output_type": "execute_result",
     "data": {
      "text/plain": "                    Name  Brow_L_X  Brow_L_Y  Brow_R_X  Brow_R_Y  Mouth_M_X  \\\n0                  Happy  0.025824      -0.2  0.025824     -0.20       0.40   \n1                 Scared  0.500000       0.1  0.500000      0.10       0.20   \n2                  Angry -0.600000      -0.4 -0.600000     -0.40       0.00   \n3                Curious  0.300000       0.0  0.300000      0.00       0.00   \n4                Neutral  0.000000       0.0  0.000000      0.00       0.00   \n..                   ...       ...       ...       ...       ...        ...   \n100  Confused-Frustrated -0.250000      -0.2 -0.150000     -0.20       0.05   \n101       Confused-Tired  0.000000      -0.4  0.100000     -0.40       0.05   \n102       Shy-Frustrated  0.000000      -0.2  0.150000     -0.15       0.10   \n103            Shy-Tired  0.250000      -0.4  0.400000     -0.35       0.10   \n104     Frustrated-Tired  0.250000      -0.5  0.250000     -0.50       0.00   \n\n     Mouth_M_Y  Mouth_M_Lower  Mouth_M_Upper     Mouth_L_X  Mouth_L_Y  \\\n0          0.0            0.0            0.0  3.000000e-01       1.00   \n1         -0.7            0.0            0.0  2.780000e-17       0.00   \n2          0.0           10.0           10.0  2.780000e-17      -0.20   \n3         -0.3            0.0            0.0  2.780000e-17       0.20   \n4          0.0            0.0            0.0  0.000000e+00       0.00   \n..         ...            ...            ...           ...        ...   \n100        0.0            7.5            2.5 -1.000000e-01      -0.05   \n101        0.0            8.5            3.5  1.387779e-17      -0.10   \n102        0.0            2.5            2.5 -1.000000e-01       0.30   \n103        0.0            3.5            3.5  1.387779e-17       0.25   \n104        0.0            6.0            6.0 -1.000000e-01      -0.05   \n\n        Mouth_R_X  Mouth_R_Y  Eye_L_S  Eue_R_S      V      A      D  \n0    3.000000e-01       1.00      0.0      0.0  1.000  0.735  0.772  \n1    2.780000e-17       0.00      0.0      0.0  0.146  0.828  0.185  \n2    2.780000e-17      -0.20      7.0      7.0  0.122  0.830  0.604  \n3    2.780000e-17       0.20      0.0      0.0  0.635  0.600  0.483  \n4    0.000000e+00       0.00      0.0      0.0  0.469  0.184  0.357  \n..            ...        ...      ...      ...    ...    ...    ...  \n100  3.000000e-01      -0.40      2.5      3.0    NaN    NaN    NaN  \n101  2.000000e-01      -0.25      6.0      6.5    NaN    NaN    NaN  \n102  5.000000e-02      -0.10      1.0      1.0    NaN    NaN    NaN  \n103 -5.000000e-02       0.05      4.5      4.5    NaN    NaN    NaN  \n104  1.000000e-01      -0.25      5.5      5.5    NaN    NaN    NaN  \n\n[105 rows x 18 columns]",
      "text/html": "<div>\n<style scoped>\n    .dataframe tbody tr th:only-of-type {\n        vertical-align: middle;\n    }\n\n    .dataframe tbody tr th {\n        vertical-align: top;\n    }\n\n    .dataframe thead th {\n        text-align: right;\n    }\n</style>\n<table border=\"1\" class=\"dataframe\">\n  <thead>\n    <tr style=\"text-align: right;\">\n      <th></th>\n      <th>Name</th>\n      <th>Brow_L_X</th>\n      <th>Brow_L_Y</th>\n      <th>Brow_R_X</th>\n      <th>Brow_R_Y</th>\n      <th>Mouth_M_X</th>\n      <th>Mouth_M_Y</th>\n      <th>Mouth_M_Lower</th>\n      <th>Mouth_M_Upper</th>\n      <th>Mouth_L_X</th>\n      <th>Mouth_L_Y</th>\n      <th>Mouth_R_X</th>\n      <th>Mouth_R_Y</th>\n      <th>Eye_L_S</th>\n      <th>Eue_R_S</th>\n      <th>V</th>\n      <th>A</th>\n      <th>D</th>\n    </tr>\n  </thead>\n  <tbody>\n    <tr>\n      <th>0</th>\n      <td>Happy</td>\n      <td>0.025824</td>\n      <td>-0.2</td>\n      <td>0.025824</td>\n      <td>-0.20</td>\n      <td>0.40</td>\n      <td>0.0</td>\n      <td>0.0</td>\n      <td>0.0</td>\n      <td>3.000000e-01</td>\n      <td>1.00</td>\n      <td>3.000000e-01</td>\n      <td>1.00</td>\n      <td>0.0</td>\n      <td>0.0</td>\n      <td>1.000</td>\n      <td>0.735</td>\n      <td>0.772</td>\n    </tr>\n    <tr>\n      <th>1</th>\n      <td>Scared</td>\n      <td>0.500000</td>\n      <td>0.1</td>\n      <td>0.500000</td>\n      <td>0.10</td>\n      <td>0.20</td>\n      <td>-0.7</td>\n      <td>0.0</td>\n      <td>0.0</td>\n      <td>2.780000e-17</td>\n      <td>0.00</td>\n      <td>2.780000e-17</td>\n      <td>0.00</td>\n      <td>0.0</td>\n      <td>0.0</td>\n      <td>0.146</td>\n      <td>0.828</td>\n      <td>0.185</td>\n    </tr>\n    <tr>\n      <th>2</th>\n      <td>Angry</td>\n      <td>-0.600000</td>\n      <td>-0.4</td>\n      <td>-0.600000</td>\n      <td>-0.40</td>\n      <td>0.00</td>\n      <td>0.0</td>\n      <td>10.0</td>\n      <td>10.0</td>\n      <td>2.780000e-17</td>\n      <td>-0.20</td>\n      <td>2.780000e-17</td>\n      <td>-0.20</td>\n      <td>7.0</td>\n      <td>7.0</td>\n      <td>0.122</td>\n      <td>0.830</td>\n      <td>0.604</td>\n    </tr>\n    <tr>\n      <th>3</th>\n      <td>Curious</td>\n      <td>0.300000</td>\n      <td>0.0</td>\n      <td>0.300000</td>\n      <td>0.00</td>\n      <td>0.00</td>\n      <td>-0.3</td>\n      <td>0.0</td>\n      <td>0.0</td>\n      <td>2.780000e-17</td>\n      <td>0.20</td>\n      <td>2.780000e-17</td>\n      <td>0.20</td>\n      <td>0.0</td>\n      <td>0.0</td>\n      <td>0.635</td>\n      <td>0.600</td>\n      <td>0.483</td>\n    </tr>\n    <tr>\n      <th>4</th>\n      <td>Neutral</td>\n      <td>0.000000</td>\n      <td>0.0</td>\n      <td>0.000000</td>\n      <td>0.00</td>\n      <td>0.00</td>\n      <td>0.0</td>\n      <td>0.0</td>\n      <td>0.0</td>\n      <td>0.000000e+00</td>\n      <td>0.00</td>\n      <td>0.000000e+00</td>\n      <td>0.00</td>\n      <td>0.0</td>\n      <td>0.0</td>\n      <td>0.469</td>\n      <td>0.184</td>\n      <td>0.357</td>\n    </tr>\n    <tr>\n      <th>...</th>\n      <td>...</td>\n      <td>...</td>\n      <td>...</td>\n      <td>...</td>\n      <td>...</td>\n      <td>...</td>\n      <td>...</td>\n      <td>...</td>\n      <td>...</td>\n      <td>...</td>\n      <td>...</td>\n      <td>...</td>\n      <td>...</td>\n      <td>...</td>\n      <td>...</td>\n      <td>...</td>\n      <td>...</td>\n      <td>...</td>\n    </tr>\n    <tr>\n      <th>100</th>\n      <td>Confused-Frustrated</td>\n      <td>-0.250000</td>\n      <td>-0.2</td>\n      <td>-0.150000</td>\n      <td>-0.20</td>\n      <td>0.05</td>\n      <td>0.0</td>\n      <td>7.5</td>\n      <td>2.5</td>\n      <td>-1.000000e-01</td>\n      <td>-0.05</td>\n      <td>3.000000e-01</td>\n      <td>-0.40</td>\n      <td>2.5</td>\n      <td>3.0</td>\n      <td>NaN</td>\n      <td>NaN</td>\n      <td>NaN</td>\n    </tr>\n    <tr>\n      <th>101</th>\n      <td>Confused-Tired</td>\n      <td>0.000000</td>\n      <td>-0.4</td>\n      <td>0.100000</td>\n      <td>-0.40</td>\n      <td>0.05</td>\n      <td>0.0</td>\n      <td>8.5</td>\n      <td>3.5</td>\n      <td>1.387779e-17</td>\n      <td>-0.10</td>\n      <td>2.000000e-01</td>\n      <td>-0.25</td>\n      <td>6.0</td>\n      <td>6.5</td>\n      <td>NaN</td>\n      <td>NaN</td>\n      <td>NaN</td>\n    </tr>\n    <tr>\n      <th>102</th>\n      <td>Shy-Frustrated</td>\n      <td>0.000000</td>\n      <td>-0.2</td>\n      <td>0.150000</td>\n      <td>-0.15</td>\n      <td>0.10</td>\n      <td>0.0</td>\n      <td>2.5</td>\n      <td>2.5</td>\n      <td>-1.000000e-01</td>\n      <td>0.30</td>\n      <td>5.000000e-02</td>\n      <td>-0.10</td>\n      <td>1.0</td>\n      <td>1.0</td>\n      <td>NaN</td>\n      <td>NaN</td>\n      <td>NaN</td>\n    </tr>\n    <tr>\n      <th>103</th>\n      <td>Shy-Tired</td>\n      <td>0.250000</td>\n      <td>-0.4</td>\n      <td>0.400000</td>\n      <td>-0.35</td>\n      <td>0.10</td>\n      <td>0.0</td>\n      <td>3.5</td>\n      <td>3.5</td>\n      <td>1.387779e-17</td>\n      <td>0.25</td>\n      <td>-5.000000e-02</td>\n      <td>0.05</td>\n      <td>4.5</td>\n      <td>4.5</td>\n      <td>NaN</td>\n      <td>NaN</td>\n      <td>NaN</td>\n    </tr>\n    <tr>\n      <th>104</th>\n      <td>Frustrated-Tired</td>\n      <td>0.250000</td>\n      <td>-0.5</td>\n      <td>0.250000</td>\n      <td>-0.50</td>\n      <td>0.00</td>\n      <td>0.0</td>\n      <td>6.0</td>\n      <td>6.0</td>\n      <td>-1.000000e-01</td>\n      <td>-0.05</td>\n      <td>1.000000e-01</td>\n      <td>-0.25</td>\n      <td>5.5</td>\n      <td>5.5</td>\n      <td>NaN</td>\n      <td>NaN</td>\n      <td>NaN</td>\n    </tr>\n  </tbody>\n</table>\n<p>105 rows × 18 columns</p>\n</div>"
     },
     "metadata": {},
     "execution_count": 3
    }
   ],
   "source": [
    "df = pd.read_csv(\"../data/emotions.csv\")\n",
    "df"
   ]
  },
  {
   "cell_type": "code",
   "execution_count": 14,
   "metadata": {},
   "outputs": [],
   "source": [
    "def print_json(j):\n",
    "    print(json.dumps(j, indent=4))\n",
    "\n",
    "def StoreDataToCSV(data: dict, file_path: str, name:str=\"N/A\", vad:list=None):\n",
    "    '''\n",
    "    Save the skeleton data to csv\n",
    "    '''\n",
    "    emo_lst = [name]\n",
    "    for attr_dict in data.values():\n",
    "        for attr in attr_dict.values():\n",
    "            emo_lst.append(attr)\n",
    "    if vad:\n",
    "        emo_lst += vad\n",
    "\n",
    "    with open(file_path, 'a') as write_obj:\n",
    "        csv_writer = writer(write_obj)\n",
    "        csv_writer.writerow(emo_lst)\n"
   ]
  },
  {
   "cell_type": "code",
   "execution_count": 15,
   "metadata": {},
   "outputs": [],
   "source": [
    "def EmotionInterpolation(load_dir: str, save_dir: str, n:int =1):\n",
    "    '''\n",
    "    Interpolate the emotions and save both the screenshots and the facial attributes as dictionaries\n",
    "    :param\n",
    "        load_dir: loading directory of the facial poses\n",
    "        save_dir: saving directory of the generated screenshots\n",
    "        n: number of interpolations between poses \n",
    "    :return: list of interpolated emotion attributes\n",
    "    '''\n",
    "    # Get every poses\n",
    "    poses_dir = os.listdir(load_dir)\n",
    "    count = 1\n",
    "\n",
    "    for strt_pose, end_pose in itertools.combinations(poses_dir, r=2):\n",
    "        # Get the facial attributes of the starting and ending poses\n",
    "        strt_dict = controller.GetFacialAttributesFromPose(os.path.join(os.path.join(load_dir, strt_pose), \"pose.json\"))\n",
    "        end_dict = controller.GetFacialAttributesFromPose(os.path.join(os.path.join(load_dir, end_pose), \"pose.json\"))\n",
    "        new_dict = strt_dict\n",
    "\n",
    "        # Interpolate new emotions\n",
    "        for i in range(n):\n",
    "            for joint, attr_dict in strt_dict.items():\n",
    "                for name, value in attr_dict.items():\n",
    "                    diff = (end_dict[joint][name] - value) / (n + 1)\n",
    "                    new_dict[joint][name] += diff\n",
    "            \n",
    "            index_str = strt_pose.split('.')[0]+'-'+end_pose.split('.')[0]\n",
    "            # Apply Emotion and save a screenshot\n",
    "            controller.SetFacialAttributes(new_dict)\n",
    "            controller.ScreenShot(os.path.join(save_dir, index_str))\n",
    "            # Save joint information to CSV\n",
    "            StoreDataToCSV(new_dict, \"../data/emotions.csv\", index_str)\n",
    "\n",
    "            # This is for debugging\n",
    "            clear_output(wait=True)\n",
    "            print(count)\n",
    "            count += 1\n"
   ]
  },
  {
   "cell_type": "code",
   "execution_count": 18,
   "metadata": {
    "tags": []
   },
   "outputs": [
    {
     "output_type": "stream",
     "name": "stdout",
     "text": "91\n"
    }
   ],
   "source": [
    "EmotionInterpolation(\"../StudioLibrary/Poses/Face\", \"../data/Facial_img\", 1)"
   ]
  },
  {
   "cell_type": "code",
   "execution_count": 20,
   "metadata": {},
   "outputs": [],
   "source": [
    "controller.Close()"
   ]
  },
  {
   "cell_type": "code",
   "execution_count": null,
   "metadata": {},
   "outputs": [],
   "source": []
  }
 ]
}