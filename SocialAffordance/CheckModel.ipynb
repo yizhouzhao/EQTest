{
 "cells": [
  {
   "cell_type": "code",
   "execution_count": 1,
   "metadata": {},
   "outputs": [
    {
     "data": {
      "text/plain": [
       "'E:\\\\researches\\\\EQTest\\\\SocialAffordance'"
      ]
     },
     "execution_count": 1,
     "metadata": {},
     "output_type": "execute_result"
    }
   ],
   "source": [
    "import os\n",
    "os.getcwd()"
   ]
  },
  {
   "cell_type": "code",
   "execution_count": 2,
   "metadata": {},
   "outputs": [],
   "source": [
    "import socket\n",
    "import numpy as np"
   ]
  },
  {
   "cell_type": "code",
   "execution_count": 3,
   "metadata": {},
   "outputs": [],
   "source": [
    "from DataAPI import * "
   ]
  },
  {
   "cell_type": "markdown",
   "metadata": {},
   "source": [
    "###  Open Maya server: run the follow command in the script editor in Maya\n",
    "\n",
    "### open server\n",
    "import maya.cmds as cmds\n",
    "\n",
    "cmds.commandPort(n=\"localhost:12345\")\n",
    "\n",
    "### close server\n",
    "\n",
    "cmds.commandPort(cl=True, n=\"localhost:12345\")\n"
   ]
  },
  {
   "cell_type": "code",
   "execution_count": 4,
   "metadata": {},
   "outputs": [],
   "source": [
    "mc = MayaController()"
   ]
  },
  {
   "cell_type": "code",
   "execution_count": 6,
   "metadata": {},
   "outputs": [
    {
     "name": "stdout",
     "output_type": "stream",
     "text": [
      "load file:  E:\\researches\\EQTest\\SocialAffordance/Data/High_Five/Skeletons_High_Five/1\n"
     ]
    }
   ],
   "source": [
    "sv = SkeletionVideo(1, 1)"
   ]
  },
  {
   "cell_type": "code",
   "execution_count": 7,
   "metadata": {},
   "outputs": [],
   "source": [
    "sv.LoadData()"
   ]
  },
  {
   "cell_type": "code",
   "execution_count": 14,
   "metadata": {},
   "outputs": [],
   "source": [
    "agents = list(sv.skeleton_data.keys())"
   ]
  },
  {
   "cell_type": "code",
   "execution_count": 17,
   "metadata": {},
   "outputs": [],
   "source": [
    "total_frames = len(sv.skeleton_data[agents[0]])"
   ]
  },
  {
   "cell_type": "code",
   "execution_count": 21,
   "metadata": {
    "scrolled": true
   },
   "outputs": [],
   "source": [
    "for frame in range(0, total_frames, total_frames//10):\n",
    "    mc.SetCurrentTimeFrame(frame/10)\n",
    "\n",
    "    for i in range(25):\n",
    "        if i >= 20:\n",
    "            continue\n",
    "        transform = sv.GetSkeletonTransform(agent_index=agents[0], frame_index=frame, joint_index=i)\n",
    "        transform = [10 * transform[0], 10 * transform[1], 10 * transform[2] - 30.0]\n",
    "\n",
    "        joint_name_in_maya = mc.GetAdvancedSkeletonJointNameFromIndex(i)\n",
    "        mc.SetObjectWorldTransform(joint_name_in_maya, transform)\n",
    "\n",
    "        mc.SetCurrentKeyFrameForTransformAndRotation(joint_name_in_maya)\n",
    "    "
   ]
  },
  {
   "cell_type": "code",
   "execution_count": 9,
   "metadata": {},
   "outputs": [
    {
     "data": {
      "text/plain": [
       "dict_keys([2, 5])"
      ]
     },
     "execution_count": 9,
     "metadata": {},
     "output_type": "execute_result"
    }
   ],
   "source": [
    "sv.skeleton_data.keys()"
   ]
  },
  {
   "cell_type": "code",
   "execution_count": null,
   "metadata": {},
   "outputs": [],
   "source": []
  },
  {
   "cell_type": "code",
   "execution_count": null,
   "metadata": {},
   "outputs": [],
   "source": []
  }
 ],
 "metadata": {
  "kernelspec": {
   "display_name": "Python 3",
   "language": "python",
   "name": "python3"
  },
  "language_info": {
   "codemirror_mode": {
    "name": "ipython",
    "version": 3
   },
   "file_extension": ".py",
   "mimetype": "text/x-python",
   "name": "python",
   "nbconvert_exporter": "python",
   "pygments_lexer": "ipython3",
   "version": "3.7.9"
  }
 },
 "nbformat": 4,
 "nbformat_minor": 4
}
