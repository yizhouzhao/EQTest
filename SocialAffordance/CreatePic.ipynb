{
 "cells": [
  {
   "cell_type": "code",
   "execution_count": 2,
   "metadata": {},
   "outputs": [
    {
     "data": {
      "text/plain": [
       "'E:\\\\researches\\\\EQTest\\\\SocialAffordance'"
      ]
     },
     "execution_count": 2,
     "metadata": {},
     "output_type": "execute_result"
    }
   ],
   "source": [
    "import numpy as np\n",
    "import os\n",
    "import socket\n",
    "from DataAPI import *\n",
    "os.getcwd()"
   ]
  },
  {
   "cell_type": "markdown",
   "metadata": {},
   "source": [
    "###  Open Maya server: run the follow command in the script editor in Maya\n",
    "\n",
    "### open server\n",
    "import maya.cmds as cmds\n",
    "\n",
    "cmds.commandPort(n=\"localhost:12345\")\n",
    "\n",
    "### close server\n",
    "\n",
    "cmds.commandPort(cl=True, n=\"localhost:12345\")"
   ]
  },
  {
   "cell_type": "code",
   "execution_count": null,
   "metadata": {},
   "outputs": [],
   "source": [
    "#controller = MayaController(PORT=12345)\n",
    "controllee = MayaController(PORT=12346)"
   ]
  },
  {
   "cell_type": "code",
   "execution_count": null,
   "metadata": {},
   "outputs": [],
   "source": [
    "skeleton = controllee.SendCommand(\"listRelatives -c -ad Character1_Hips\")[:-2].split(\"\\t\")\n",
    "skeleton.append('Character1_Hips')\n",
    "skeleton_ori = [\"mixamorig:\" + s[11:] for s in skeleton]\n",
    "len(skeleton_ori)"
   ]
  },
  {
   "cell_type": "code",
   "execution_count": null,
   "metadata": {},
   "outputs": [],
   "source": [
    "skl = 'Character1_Hips' # Skeleton name\n",
    "face = 'woman2_geo_rig_copy:face' # face name"
   ]
  },
  {
   "cell_type": "code",
   "execution_count": null,
   "metadata": {},
   "outputs": [],
   "source": [
    "def Preparation():\n",
    "    # Hide unnecessary models\n",
    "    controllee.SendCommand('hide woman2_geo_rig_copy:body;')\n",
    "    controllee.SendCommand('hide woman2_geo_rig_copy:mixamorig:FitSkeleton;')\n",
    "    controllee.SendCommand('hide woman2_geo_rig_copy:left;')\n",
    "    controllee.SendCommand('parent -w woman2_geo_rig_copy:hair;')\n",
    "    controllee.SendCommand('hide woman2_geo_rig_copy:hair;')\n",
    "    controllee.SendCommand('parent -w woman2_geo_rig_copy:eye_L;')\n",
    "    controllee.SendCommand('hide woman2_geo_rig_copy:eye_L;')\n",
    "    controllee.SendCommand('parent -w woman2_geo_rig_copy:eye_R;')\n",
    "    controllee.SendCommand('hide woman2_geo_rig_copy:eye_R;')\n",
    "\n",
    "    controllee.SendCommand('jointDisplayScale -a 7.5;') # Set Joint size\n",
    "    controllee.SendCommand('setAttr -lock off %s.translateX;' % face) # Unlock X\n",
    "    controllee.SendCommand('setAttr -lock off %s.translateY;' % face) # Unlock Y\n",
    "    controllee.SendCommand('setAttr -lock off %s.scaleX;' % face) # Unlock Scale X\n",
    "    controllee.SendCommand('setAttr -lock off %s.scaleY;' % face) # Unlock Scale Y\n",
    "    controllee.SendCommand('setAttr -lock off %s.scaleZ;' % face) # Unlock Scale Z\n",
    "    controllee.SendCommand('scale -a 13 13 13 %s;' % face) # Set face scale"
   ]
  },
  {
   "cell_type": "code",
   "execution_count": null,
   "metadata": {},
   "outputs": [],
   "source": [
    "def BF_ListToJson(data:list):\n",
    "    return {\"woman2_geo_rig_copy:Morpher\": \n",
    "        {\"Blink\": data[0]\n",
    "        ,\"EyelidUp\": data[1]\n",
    "        ,\"A\": data[2]\n",
    "        ,\"E\": data[3]\n",
    "        ,\"O\": data[4]\n",
    "        ,\"MouthOpen\": data[5]\n",
    "        ,\"FV\": data[6]\n",
    "        ,\"M\": data[7]\n",
    "        ,\"MouthUp\": data[8]\n",
    "        ,\"MouthWide\": data[9]\n",
    "        ,\"MouthWide2\": data[10]\n",
    "        ,\"MouthDown\": data[11]\n",
    "        ,\"MouthOneSideUp\": data[12]\n",
    "        ,\"EyebrowInDown\": data[13]\n",
    "        ,\"EyebrowOutDown\": data[14]\n",
    "        ,\"EyebrowUp\": data[15]\n",
    "        ,\"EyebrowSwag\": data[16]\n",
    "        }\n",
    "    }\n",
    "    # Usage:\n",
    "    # pred = controllee.SetMultipleAttributes(json) (TODO)\n",
    "    # controllee.SetMultipleAttributes(BF_ListToJson(pred))"
   ]
  },
  {
   "cell_type": "code",
   "execution_count": null,
   "metadata": {},
   "outputs": [],
   "source": [
    "def FormSkeleton(total_frame, dist_frame):\n",
    "    for i in range(0, total_frame, dist_frame):\n",
    "        controller.SetCurrentTimeFrame(i)\n",
    "        controllee.SetCurrentTimeFrame(i)\n",
    "        for i in range(len(skeleton)):\n",
    "            rot = controller.GetObjectLocalRoation(skeleton_ori[i])\n",
    "            controllee.SetObjectLocalRotation(skeleton[i], rot, isRelative=\"\")\n",
    "        controllee.SetCurrentKeyFrameForObjects(skeleton)\n",
    "\n",
    "    for i in range(0, total_frame, dist_frame):\n",
    "        controllee.SetCurrentTimeFrame(i)\n",
    "        skl_name = 'skl_temp' + str(i)\n",
    "        controllee.SendCommand('duplicate -n %s %s;' % (skl_name, skl)) # Duplicate skeleton\n",
    "        controllee.SendCommand('color -rgb 0 0 %f %s' % (i / 400, skl_name)) # Set color\n",
    "        controllee.SendCommand('move -absolute %d 0 0 %s;' % (i / dist_frame * 15, skl_name)) # Move created skeleton\n",
    "    \n",
    "    controllee.SendCommand('move -absolute %d 0 0 %s;' % (total_frame / dist_frame * 15, skl))  # Set last display frame\n",
    "    controllee.SetCurrentKeyFrameForPositionAndRotation(skl)\n",
    "    controllee.SendCommand('color -rgb 0 0 %f %s' % (total_frame / 400, skl))\n",
    "\n",
    "def FormFaces(total_frame, dist_frame):\n",
    "    for i in range(0, total_frame, dist_frame):\n",
    "        controllee.SetCurrentTimeFrame(i)\n",
    "        face_name = 'face_temp' + str(i)\n",
    "        controllee.SendCommand('duplicate -n %s %s;' % (face_name, face)) # Duplicate face \n",
    "        controllee.SendCommand('move -absolute %d 18 0 %s;' % (i / dist_frame * 15, face_name)) # move face\n",
    "    \n",
    "    controllee.SendCommand('move -absolute %d 18 0 %s;' % (total_frame / dist_frame * 15, face)) # move face\n",
    "\n",
    "\n",
    "def Reset(total_frame, dist_frame):\n",
    "    for i in range(0, total_frame, dist_frame):\n",
    "        controllee.SendCommand('delete skl_temp%d;' % i)\n",
    "        controllee.SendCommand('delete face_temp%d;' % i)"
   ]
  },
  {
   "cell_type": "markdown",
   "metadata": {},
   "source": [
    "#### Usage:\n",
    "Open 2 Maya windows (PORT = 12345 & 12346)\n",
    "\n",
    "12345: \n",
    "         \n",
    "         import Target file \n",
    "\n",
    "12346:   \n",
    "         \n",
    "         Open pure skeleton.mb\n",
    "\n",
    "         import woman2_geo_rig_copy.mb\n",
    "         \n",
    "         import background.mb"
   ]
  },
  {
   "cell_type": "code",
   "execution_count": null,
   "metadata": {},
   "outputs": [],
   "source": [
    "l = 40 # Total frame of the animation\n",
    "d = 8 # distance of frames of 2 screenshots\n",
    "\n",
    "Preparation()\n",
    "FormFaces(l, d)\n",
    "FormSkeleton(l, d)"
   ]
  },
  {
   "cell_type": "code",
   "execution_count": null,
   "metadata": {},
   "outputs": [],
   "source": [
    "# Reset Scene\n",
    "Reset(l, d)"
   ]
  },
  {
   "cell_type": "code",
   "execution_count": null,
   "metadata": {},
   "outputs": [],
   "source": [
    "controller.Close()\n",
    "controllee.Close()"
   ]
  },
  {
   "cell_type": "code",
   "execution_count": null,
   "metadata": {},
   "outputs": [],
   "source": []
  }
 ],
 "metadata": {
  "kernelspec": {
   "display_name": "Python 3",
   "language": "python",
   "name": "python3"
  },
  "language_info": {
   "codemirror_mode": {
    "name": "ipython",
    "version": 3
   },
   "file_extension": ".py",
   "mimetype": "text/x-python",
   "name": "python",
   "nbconvert_exporter": "python",
   "pygments_lexer": "ipython3",
   "version": "3.7.9"
  }
 },
 "nbformat": 4,
 "nbformat_minor": 2
}
