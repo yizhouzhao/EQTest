{
 "cells": [
  {
   "cell_type": "code",
   "execution_count": null,
   "metadata": {},
   "outputs": [],
   "source": [
    "from MotionGPT import *"
   ]
  },
  {
   "cell_type": "code",
   "execution_count": null,
   "metadata": {},
   "outputs": [],
   "source": [
    "loader = FBXDataLoader(\"FBXDataStand\", has_translate=True)"
   ]
  },
  {
   "cell_type": "code",
   "execution_count": null,
   "metadata": {
    "scrolled": true
   },
   "outputs": [],
   "source": [
    "loader.LoadData()"
   ]
  },
  {
   "cell_type": "code",
   "execution_count": null,
   "metadata": {},
   "outputs": [],
   "source": [
    "len(loader.raw_data)"
   ]
  },
  {
   "cell_type": "code",
   "execution_count": null,
   "metadata": {
    "scrolled": true
   },
   "outputs": [],
   "source": [
    "len(loader.raw_data[0])"
   ]
  },
  {
   "cell_type": "code",
   "execution_count": null,
   "metadata": {
    "scrolled": true
   },
   "outputs": [],
   "source": [
    "loader.raw_data[1][0]"
   ]
  },
  {
   "cell_type": "code",
   "execution_count": null,
   "metadata": {},
   "outputs": [],
   "source": [
    "loader.raw_data[1][30]"
   ]
  },
  {
   "cell_type": "code",
   "execution_count": null,
   "metadata": {},
   "outputs": [],
   "source": [
    "loader.raw_data[0][0][1][0:3]"
   ]
  },
  {
   "cell_type": "code",
   "execution_count": null,
   "metadata": {
    "scrolled": true
   },
   "outputs": [],
   "source": [
    "loader.PrepareTrainingData(12)"
   ]
  },
  {
   "cell_type": "code",
   "execution_count": null,
   "metadata": {
    "scrolled": true
   },
   "outputs": [],
   "source": [
    "len(loader.all_data)"
   ]
  },
  {
   "cell_type": "code",
   "execution_count": null,
   "metadata": {
    "scrolled": true
   },
   "outputs": [],
   "source": [
    "frame_data = loader.raw_data[0][0]"
   ]
  },
  {
   "cell_type": "code",
   "execution_count": null,
   "metadata": {},
   "outputs": [],
   "source": [
    "frame_data[0]"
   ]
  },
  {
   "cell_type": "code",
   "execution_count": null,
   "metadata": {},
   "outputs": [],
   "source": [
    "mirror_frame_data = []\n",
    "for i in range(len(G_MIXAMO_JOINTS)):\n",
    "    joint = G_MIXAMO_JOINTS[i]\n",
    "    if \"Left\" in joint:\n",
    "        mirror_joint = joint.replace(\"Left\", \"Right\")\n",
    "        mirror_index = G_MIXAMO_JOINTS.index(mirror_joint)\n",
    "        joint_data = [_ for _ in frame_data[mirror_index]]\n",
    "        \n",
    "        #mirror\n",
    "        joint_data[0] = -joint_data[0]\n",
    "        joint_data[-1] = -joint_data[-1]\n",
    "        joint_data[-2] = -joint_data[-2]\n",
    "        \n",
    "        mirror_frame_data.append(joint_data)\n",
    "        \n",
    "    elif \"Right\" in joint:\n",
    "        mirror_joint = joint.replace(\"Right\", \"Left\")\n",
    "        mirror_index = G_MIXAMO_JOINTS.index(mirror_joint)\n",
    "        joint_data = [_ for _ in frame_data[mirror_index]]\n",
    "        \n",
    "        #mirror\n",
    "        joint_data[0] = -joint_data[0]\n",
    "        joint_data[-1] = -joint_data[-1]\n",
    "        joint_data[-2] = -joint_data[-2]\n",
    "        \n",
    "        mirror_frame_data.append(joint_data)\n",
    "    \n",
    "    else:\n",
    "        joint_data = [_ for _ in frame_data[i]]\n",
    "        \n",
    "        #mirror\n",
    "        joint_data[0] = -joint_data[0]\n",
    "        joint_data[-1] = -joint_data[-1]\n",
    "        joint_data[-2] = -joint_data[-2]\n",
    "        \n",
    "        mirror_frame_data.append(joint_data)\n",
    "    \n",
    "        \n",
    "        "
   ]
  },
  {
   "cell_type": "code",
   "execution_count": null,
   "metadata": {},
   "outputs": [],
   "source": [
    "for i in range(len(frame_data)):\n",
    "    print(\"i----------\",G_MIXAMO_JOINTS[i])\n",
    "    print(frame_data[i])\n",
    "    print(mirror_frame_data[i])"
   ]
  },
  {
   "cell_type": "code",
   "execution_count": null,
   "metadata": {},
   "outputs": [],
   "source": [
    "mirror_frame_data"
   ]
  },
  {
   "cell_type": "code",
   "execution_count": null,
   "metadata": {
    "scrolled": false
   },
   "outputs": [],
   "source": [
    "len(loader.train_data)"
   ]
  },
  {
   "cell_type": "code",
   "execution_count": null,
   "metadata": {
    "scrolled": true
   },
   "outputs": [],
   "source": [
    "len(loader.test_data)"
   ]
  },
  {
   "cell_type": "code",
   "execution_count": null,
   "metadata": {
    "scrolled": true
   },
   "outputs": [],
   "source": [
    "loader.test_data[0]"
   ]
  },
  {
   "cell_type": "code",
   "execution_count": null,
   "metadata": {},
   "outputs": [],
   "source": [
    "len(loader.train_data[180])"
   ]
  },
  {
   "cell_type": "code",
   "execution_count": null,
   "metadata": {},
   "outputs": [],
   "source": [
    "from VRNN import *"
   ]
  },
  {
   "cell_type": "code",
   "execution_count": null,
   "metadata": {},
   "outputs": [],
   "source": [
    "input_dim = len(loader.train_data[0][1])\n",
    "h_dim = 64\n",
    "z_dim = 10\n",
    "n_layers = 2\n",
    "device = torch.device(\"cuda\" if torch.cuda.is_available() else \"cpu\")  #device"
   ]
  },
  {
   "cell_type": "code",
   "execution_count": null,
   "metadata": {},
   "outputs": [],
   "source": [
    "print(device)"
   ]
  },
  {
   "cell_type": "code",
   "execution_count": null,
   "metadata": {},
   "outputs": [],
   "source": [
    "model = VRNN(input_dim, h_dim, z_dim, n_layers, device)\n",
    "model.to(device)"
   ]
  },
  {
   "cell_type": "code",
   "execution_count": null,
   "metadata": {},
   "outputs": [],
   "source": [
    "batch_size = 16\n",
    "n_epochs = 100\n",
    "clip = 10\n",
    "learning_rate = 1e-3\n",
    "print_every = 10"
   ]
  },
  {
   "cell_type": "code",
   "execution_count": null,
   "metadata": {},
   "outputs": [],
   "source": [
    "optimizer = torch.optim.Adam(model.parameters(), lr=learning_rate)"
   ]
  },
  {
   "cell_type": "code",
   "execution_count": null,
   "metadata": {},
   "outputs": [],
   "source": [
    "for epoch in range(n_epochs):\n",
    "    batch_idx = 0   \n",
    "    for batch_data, pad_data in loader.next_batch(batch_size):\n",
    "        batch_idx += 1\n",
    "\n",
    "        batch_data = batch_data.to(device)\n",
    "        pad_data = pad_data.to(device)\n",
    "\n",
    "        optimizer.zero_grad()\n",
    "\n",
    "        kld_loss, nll_loss, _, _ = model(batch_data, pad_data)\n",
    "        loss = kld_loss + nll_loss\n",
    "        loss.backward()\n",
    "\n",
    "        #grad norm clipping, only in pytorch version >= 1.10\n",
    "        torch.nn.utils.clip_grad_norm(model.parameters(), clip)\n",
    "        optimizer.step()\n",
    "\n",
    "        #printing\n",
    "        if batch_idx % print_every == 0:\n",
    "            print('Train Epoch: {} [{}/{} ({:.0f}%)]\\t KLD Loss: {:.6f} \\t NLL Loss: {:.6f}'.format(\n",
    "                epoch, batch_idx * len(batch_data), len(loader.train_data),\n",
    "                100. * batch_idx / len(loader.train_data),\n",
    "                kld_loss.data / batch_size,\n",
    "                nll_loss.data / batch_size))"
   ]
  },
  {
   "cell_type": "code",
   "execution_count": null,
   "metadata": {},
   "outputs": [],
   "source": [
    "model.sample(20)"
   ]
  },
  {
   "cell_type": "markdown",
   "metadata": {},
   "source": [
    "-------------------------------------"
   ]
  },
  {
   "cell_type": "code",
   "execution_count": null,
   "metadata": {},
   "outputs": [],
   "source": [
    "from MotionGPT import *"
   ]
  },
  {
   "cell_type": "code",
   "execution_count": null,
   "metadata": {},
   "outputs": [],
   "source": [
    "maker = FBXDataMaker(12345, radian=True)"
   ]
  },
  {
   "cell_type": "code",
   "execution_count": null,
   "metadata": {},
   "outputs": [],
   "source": [
    "maker.mc.UndoToBeginning(10000)"
   ]
  },
  {
   "cell_type": "code",
   "execution_count": null,
   "metadata": {},
   "outputs": [],
   "source": [
    "maker.GetModelNameSpace()\n",
    "print(maker.namespace)"
   ]
  },
  {
   "cell_type": "code",
   "execution_count": null,
   "metadata": {
    "scrolled": true
   },
   "outputs": [],
   "source": [
    "maker.LoadModel(\"runs/2020_08_19_18_04_29_nr.pth\")"
   ]
  },
  {
   "cell_type": "code",
   "execution_count": null,
   "metadata": {},
   "outputs": [],
   "source": [
    "maker.SampleAnim(10)"
   ]
  },
  {
   "cell_type": "code",
   "execution_count": null,
   "metadata": {},
   "outputs": [],
   "source": [
    "#loader \n",
    "loader = FBXDataLoader(\"FBXDataStand\", radian=True)\n",
    "loader.LoadData()\n",
    "loader.PrepareTrainingData(12)"
   ]
  },
  {
   "cell_type": "code",
   "execution_count": null,
   "metadata": {},
   "outputs": [],
   "source": [
    "train_sample = torch.FloatTensor(loader.train_data[np.random.randint(2000)])"
   ]
  },
  {
   "cell_type": "code",
   "execution_count": null,
   "metadata": {},
   "outputs": [],
   "source": [
    "train_sample = train_sample.unsqueeze(1)"
   ]
  },
  {
   "cell_type": "code",
   "execution_count": null,
   "metadata": {
    "scrolled": true
   },
   "outputs": [],
   "source": [
    "train_sample.shape"
   ]
  },
  {
   "cell_type": "code",
   "execution_count": null,
   "metadata": {},
   "outputs": [],
   "source": [
    "a, b = next(iter(loader.next_batch()))"
   ]
  },
  {
   "cell_type": "code",
   "execution_count": null,
   "metadata": {},
   "outputs": [],
   "source": [
    "a.shape, b.shape"
   ]
  },
  {
   "cell_type": "code",
   "execution_count": null,
   "metadata": {},
   "outputs": [],
   "source": [
    "train_sample_mask = torch.LongTensor([[1]]*train_sample.size(0))"
   ]
  },
  {
   "cell_type": "code",
   "execution_count": null,
   "metadata": {},
   "outputs": [],
   "source": [
    "train_sample_mask.shape"
   ]
  },
  {
   "cell_type": "code",
   "execution_count": null,
   "metadata": {},
   "outputs": [],
   "source": [
    "train_sample = train_sample.to(maker.model.device)\n",
    "train_sample_mask = train_sample_mask.to(maker.model.device)\n"
   ]
  },
  {
   "cell_type": "code",
   "execution_count": null,
   "metadata": {},
   "outputs": [],
   "source": [
    "result = maker.model.forward(train_sample, train_sample_mask)"
   ]
  },
  {
   "cell_type": "code",
   "execution_count": null,
   "metadata": {
    "scrolled": true
   },
   "outputs": [],
   "source": [
    "for i in range(len(train_sample)):\n",
    "    maker.GenerateMayaPose(result[3][0][i][0], i * frame_gap)"
   ]
  },
  {
   "cell_type": "code",
   "execution_count": null,
   "metadata": {},
   "outputs": [],
   "source": [
    "result[3][0][1]"
   ]
  },
  {
   "cell_type": "code",
   "execution_count": null,
   "metadata": {},
   "outputs": [],
   "source": [
    "maker_ori = FBXDataMaker(12346, radian=True)"
   ]
  },
  {
   "cell_type": "code",
   "execution_count": null,
   "metadata": {},
   "outputs": [],
   "source": [
    "maker_ori.GetModelNameSpace()\n",
    "print(maker_ori.namespace)"
   ]
  },
  {
   "cell_type": "code",
   "execution_count": null,
   "metadata": {
    "scrolled": true
   },
   "outputs": [],
   "source": [
    "maker_ori.mc.UndoToBeginning(10000)"
   ]
  },
  {
   "cell_type": "code",
   "execution_count": null,
   "metadata": {},
   "outputs": [],
   "source": [
    "for i in range(len(train_sample)):\n",
    "    maker_ori.GenerateMayaPose(train_sample[i][0], i * frame_gap)"
   ]
  },
  {
   "cell_type": "code",
   "execution_count": null,
   "metadata": {},
   "outputs": [],
   "source": [
    "np.sqrt(3000/63)"
   ]
  },
  {
   "cell_type": "code",
   "execution_count": null,
   "metadata": {},
   "outputs": [],
   "source": [
    "70*0.6"
   ]
  },
  {
   "cell_type": "code",
   "execution_count": null,
   "metadata": {},
   "outputs": [],
   "source": []
  }
 ],
 "metadata": {
  "kernelspec": {
   "display_name": "Python 3",
   "language": "python",
   "name": "python3"
  },
  "language_info": {
   "codemirror_mode": {
    "name": "ipython",
    "version": 3
   },
   "file_extension": ".py",
   "mimetype": "text/x-python",
   "name": "python",
   "nbconvert_exporter": "python",
   "pygments_lexer": "ipython3",
   "version": "3.7.7"
  }
 },
 "nbformat": 4,
 "nbformat_minor": 4
}
