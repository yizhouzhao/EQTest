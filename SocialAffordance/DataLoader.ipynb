{
 "cells": [
  {
   "cell_type": "code",
   "execution_count": 1,
   "metadata": {},
   "outputs": [],
   "source": [
    "from MotionGPT import *"
   ]
  },
  {
   "cell_type": "code",
   "execution_count": 2,
   "metadata": {},
   "outputs": [],
   "source": [
    "loader = FBXDataLoader(\"FBXDataStand\", has_translate=True)"
   ]
  },
  {
   "cell_type": "code",
   "execution_count": 3,
   "metadata": {
    "scrolled": true
   },
   "outputs": [
    {
     "name": "stdout",
     "output_type": "stream",
     "text": [
      "FBXDataLoader loading data...\n"
     ]
    },
    {
     "data": {
      "application/vnd.jupyter.widget-view+json": {
       "model_id": "240180bc00424066b46e532922c05686",
       "version_major": 2,
       "version_minor": 0
      },
      "text/plain": [
       "HBox(children=(FloatProgress(value=0.0, max=149.0), HTML(value='')))"
      ]
     },
     "metadata": {},
     "output_type": "display_data"
    },
    {
     "name": "stdout",
     "output_type": "stream",
     "text": [
      "\n",
      "Hip Spine distance as scale:  3.971305111266949\n"
     ]
    }
   ],
   "source": [
    "loader.LoadData()"
   ]
  },
  {
   "cell_type": "code",
   "execution_count": 4,
   "metadata": {},
   "outputs": [
    {
     "data": {
      "text/plain": [
       "298"
      ]
     },
     "execution_count": 4,
     "metadata": {},
     "output_type": "execute_result"
    }
   ],
   "source": [
    "len(loader.raw_data)"
   ]
  },
  {
   "cell_type": "code",
   "execution_count": 5,
   "metadata": {
    "scrolled": true
   },
   "outputs": [
    {
     "data": {
      "text/plain": [
       "46"
      ]
     },
     "execution_count": 5,
     "metadata": {},
     "output_type": "execute_result"
    }
   ],
   "source": [
    "len(loader.raw_data[0])"
   ]
  },
  {
   "cell_type": "code",
   "execution_count": 6,
   "metadata": {
    "scrolled": true
   },
   "outputs": [
    {
     "data": {
      "text/plain": [
       "[[0.3,\n",
       "  69.21,\n",
       "  -0.42,\n",
       "  -0.06038839211900379,\n",
       "  -0.09477137838329208,\n",
       "  -0.05235987755982988],\n",
       " [0.55,\n",
       "  73.14,\n",
       "  -0.93,\n",
       "  0.05881759579220891,\n",
       "  0.022514747350726852,\n",
       "  0.04276056667386108],\n",
       " [0.75,\n",
       "  87.26,\n",
       "  -1.33,\n",
       "  0.02024581932313422,\n",
       "  0.0041887902047863905,\n",
       "  0.027401669256310976],\n",
       " [0.59,\n",
       "  98.66,\n",
       "  -1.54,\n",
       "  0.01972222054753592,\n",
       "  0.00471238898038469,\n",
       "  0.02757620218151041],\n",
       " [0.17,\n",
       "  108.6,\n",
       "  -1.64,\n",
       "  0.09826203688728076,\n",
       "  -0.0020943951023931952,\n",
       "  0.00767944870877505],\n",
       " [-0.33,\n",
       "  117.08,\n",
       "  -0.43,\n",
       "  -0.13212142437597074,\n",
       "  0.02356194490192345,\n",
       "  -0.004537856055185257],\n",
       " [-1.56, 142.14, -0.17, 0.0, 0.0, 0.0],\n",
       " [4.43,\n",
       "  107.73,\n",
       "  -1.45,\n",
       "  0.2436479635784084,\n",
       "  0.0879645943005142,\n",
       "  0.2832669375986797],\n",
       " [12.06,\n",
       "  104.04,\n",
       "  1.14,\n",
       "  1.2459905529987518,\n",
       "  0.09756390518648302,\n",
       "  0.28239427297268255],\n",
       " [14.62,\n",
       "  85.26,\n",
       "  1.95,\n",
       "  0.02617993877991494,\n",
       "  -0.00034906585039886593,\n",
       "  0.0024434609527920616],\n",
       " [16.96,\n",
       "  65.54,\n",
       "  3.17,\n",
       "  0.21013764194011728,\n",
       "  -0.5471607205002222,\n",
       "  -0.07801621756414652],\n",
       " [15.46,\n",
       "  63.29,\n",
       "  4.93,\n",
       "  -0.024783675378319475,\n",
       "  0.013788101090755204,\n",
       "  -0.16824973989225336],\n",
       " [14.36,\n",
       "  61.22,\n",
       "  6.01,\n",
       "  -0.1659808118646607,\n",
       "  0.14276793281313613,\n",
       "  -0.40107666210829696],\n",
       " [14.08,\n",
       "  58.51,\n",
       "  6.03,\n",
       "  -0.34470252726888007,\n",
       "  -0.11065387457644049,\n",
       "  0.0932005820564972],\n",
       " [14.36, 56.28, 6.23, 0.0, 0.0, 0.0],\n",
       " [16.6,\n",
       "  58.47,\n",
       "  5.37,\n",
       "  0.04468042885105484,\n",
       "  0.003839724354387525,\n",
       "  0.06562437987498679],\n",
       " [16.24,\n",
       "  55.66,\n",
       "  5.56,\n",
       "  0.32637657012293964,\n",
       "  0.004886921905584123,\n",
       "  -0.02757620218151041],\n",
       " [15.15,\n",
       "  53.22,\n",
       "  5.53,\n",
       "  0.1270599695451872,\n",
       "  0.0006981317007977319,\n",
       "  -0.011868238913561441],\n",
       " [13.94, 51.28, 5.41, 0.0, 0.0, 0.0],\n",
       " [17.02,\n",
       "  58.68,\n",
       "  3.65,\n",
       "  0.26249751949994715,\n",
       "  -0.0006981317007977319,\n",
       "  0.07609635538695278],\n",
       " [16.19,\n",
       "  55.53,\n",
       "  3.6,\n",
       "  0.22165681500327983,\n",
       "  0.0020943951023931952,\n",
       "  -0.023038346126325153],\n",
       " [14.53,\n",
       "  52.84,\n",
       "  3.32,\n",
       "  0.20559978588493202,\n",
       "  0.0005235987755982988,\n",
       "  -0.023212879051524582],\n",
       " [12.49, 51.12, 2.9, 0.0, 0.0, 0.0],\n",
       " [17.2,\n",
       "  58.82,\n",
       "  1.95,\n",
       "  0.39461894387591795,\n",
       "  0.00034906585039886593,\n",
       "  0.15079644737231007],\n",
       " [16.2,\n",
       "  56.04,\n",
       "  1.82,\n",
       "  0.3097959422289935,\n",
       "  0.0036651914291880917,\n",
       "  -0.027401669256310976],\n",
       " [14.42,\n",
       "  53.96,\n",
       "  1.46,\n",
       "  0.318871654339364,\n",
       "  0.004014257279586958,\n",
       "  -0.02565634000431664],\n",
       " [12.47, 52.75, 1.02, 0.0, 0.0, 0.0],\n",
       " [17.35,\n",
       "  59.28,\n",
       "  0.37,\n",
       "  0.44279003123096145,\n",
       "  0.0143116998663535,\n",
       "  0.1090830782496456],\n",
       " [16.22,\n",
       "  56.93,\n",
       "  0.12,\n",
       "  0.29042278753185646,\n",
       "  0.0031415926535897933,\n",
       "  -0.02600540585471551],\n",
       " [14.79,\n",
       "  55.38,\n",
       "  -0.22,\n",
       "  0.42690753503781304,\n",
       "  0.009075712110370514,\n",
       "  -0.029670597283903602],\n",
       " [13.28, 54.49, -0.6, 0.0, 0.0, 0.0],\n",
       " [-3.99,\n",
       "  107.37,\n",
       "  -1.9,\n",
       "  0.2815216083466853,\n",
       "  -0.08168140899333462,\n",
       "  -0.2452187599052033],\n",
       " [-11.4,\n",
       "  102.72,\n",
       "  -0.47,\n",
       "  1.139525468627098,\n",
       "  -0.22863813201125716,\n",
       "  -0.43528511544738585],\n",
       " [-14.47,\n",
       "  84.01,\n",
       "  0.15,\n",
       "  0.030019663134302467,\n",
       "  0.0027925268031909274,\n",
       "  -0.08656833089891874],\n",
       " [-16.1,\n",
       "  64.32,\n",
       "  2.51,\n",
       "  0.19582594207376378,\n",
       "  0.3225368457685521,\n",
       "  0.07766715171374766],\n",
       " [-14.15,\n",
       "  62.1,\n",
       "  3.8,\n",
       "  -0.028448866807507567,\n",
       "  -0.008901179185171082,\n",
       "  0.1308996938995747],\n",
       " [-12.74,\n",
       "  60.1,\n",
       "  4.63,\n",
       "  -0.1218239817892042,\n",
       "  -0.13753194505715316,\n",
       "  0.49253191491279974],\n",
       " [-12.45,\n",
       "  57.39,\n",
       "  4.44,\n",
       "  -0.40107666210829696,\n",
       "  0.11693705988362009,\n",
       "  -0.056025068989017976],\n",
       " [-12.8, 55.18, 4.67, 0.0, 0.0, 0.0],\n",
       " [-15.07,\n",
       "  57.17,\n",
       "  4.55,\n",
       "  0.03787364476827695,\n",
       "  -0.0036651914291880917,\n",
       "  -0.05253441048502932],\n",
       " [-14.68,\n",
       "  54.38,\n",
       "  4.65,\n",
       "  0.32759830059933565,\n",
       "  -0.004014257279586958,\n",
       "  0.022689280275926284],\n",
       " [-13.63,\n",
       "  51.97,\n",
       "  4.37,\n",
       "  0.13526301702956053,\n",
       "  -0.0006981317007977319,\n",
       "  0.009948376736367679],\n",
       " [-12.5, 50.08, 3.98, 0.0, 0.0, 0.0],\n",
       " [-15.93,\n",
       "  57.27,\n",
       "  2.96,\n",
       "  0.26895523773232616,\n",
       "  0.0020943951023931952,\n",
       "  -0.05078908123303499],\n",
       " [-15.11,\n",
       "  54.05,\n",
       "  2.71,\n",
       "  0.18413223608540177,\n",
       "  -0.0005235987755982988,\n",
       "  0.016406094968746697],\n",
       " [-13.61,\n",
       "  51.46,\n",
       "  2.07,\n",
       "  0.3769911184307752,\n",
       "  -0.004886921905584123,\n",
       "  0.024609142453120045],\n",
       " [-11.77, 49.79, 1.2, 0.0, 0.0, 0.0],\n",
       " [-16.63,\n",
       "  57.45,\n",
       "  1.46,\n",
       "  0.3256784384221419,\n",
       "  -0.0010471975511965976,\n",
       "  -0.13439035240356337],\n",
       " [-15.69,\n",
       "  54.71,\n",
       "  1.1,\n",
       "  0.4106759729942658,\n",
       "  -0.00645771823237902,\n",
       "  0.02775073510670984],\n",
       " [-14.07,\n",
       "  52.66,\n",
       "  0.34,\n",
       "  0.2942625118862439,\n",
       "  -0.0031415926535897933,\n",
       "  0.021642082724729686],\n",
       " [-12.24, 51.44, -0.56, 0.0, 0.0, 0.0],\n",
       " [-17.03,\n",
       "  57.97,\n",
       "  -0.04,\n",
       "  0.44453536048295567,\n",
       "  -0.012042771838760872,\n",
       "  -0.12950343049797924],\n",
       " [-15.99,\n",
       "  55.61,\n",
       "  -0.55,\n",
       "  0.30805061297699915,\n",
       "  -0.0031415926535897933,\n",
       "  0.021467549799530253],\n",
       " [-14.68,\n",
       "  54.08,\n",
       "  -1.21,\n",
       "  0.3611086222376268,\n",
       "  -0.0054105206811824215,\n",
       "  0.023212879051524582],\n",
       " [-13.3, 53.19, -1.94, 0.0, 0.0, 0.0],\n",
       " [7.5,\n",
       "  64.03,\n",
       "  0.88,\n",
       "  0.1340412865531645,\n",
       "  -0.28256880589788197,\n",
       "  0.11798425743481668],\n",
       " [10.14,\n",
       "  40.71,\n",
       "  6.25,\n",
       "  -0.2504547476611863,\n",
       "  -0.01815142422074103,\n",
       "  0.08028514559173915],\n",
       " [13.72,\n",
       "  7.89,\n",
       "  4.59,\n",
       "  0.02600540585471551,\n",
       "  -0.09861110273767962,\n",
       "  -0.05305800926062762],\n",
       " [16.35,\n",
       "  0.38,\n",
       "  14.76,\n",
       "  0.08604473212332044,\n",
       "  -0.0012217304763960308,\n",
       "  -0.0010471975511965976],\n",
       " [17.97, 0.88, 20.95, 0.0, 0.0, 0.0],\n",
       " [-7.52,\n",
       "  64.81,\n",
       "  -0.55,\n",
       "  -0.0853466004225227,\n",
       "  0.18587756533739608,\n",
       "  0.06771877497737998],\n",
       " [-7.41,\n",
       "  40.74,\n",
       "  -0.29,\n",
       "  -0.0747000919853573,\n",
       "  0.1656317460142619,\n",
       "  -0.06946410422937432],\n",
       " [-7.45,\n",
       "  7.83,\n",
       "  -3.45,\n",
       "  0.0879645943005142,\n",
       "  0.047647488579445195,\n",
       "  0.0019198621771937625],\n",
       " [-12.17,\n",
       "  0.35,\n",
       "  5.7,\n",
       "  0.1270599695451872,\n",
       "  0.0017453292519943296,\n",
       "  0.0013962634015954637],\n",
       " [-15.11, 1.11, 11.35, 0.0, 0.0, 0.0]]"
      ]
     },
     "execution_count": 6,
     "metadata": {},
     "output_type": "execute_result"
    }
   ],
   "source": [
    "loader.raw_data[1][0]"
   ]
  },
  {
   "cell_type": "code",
   "execution_count": null,
   "metadata": {},
   "outputs": [],
   "source": [
    "loader.raw_data[1][30]"
   ]
  },
  {
   "cell_type": "code",
   "execution_count": null,
   "metadata": {},
   "outputs": [],
   "source": [
    "loader.raw_data[0][0][1][0:3]"
   ]
  },
  {
   "cell_type": "code",
   "execution_count": null,
   "metadata": {
    "scrolled": true
   },
   "outputs": [],
   "source": [
    "loader.PrepareTrainingData(12)"
   ]
  },
  {
   "cell_type": "code",
   "execution_count": null,
   "metadata": {
    "scrolled": true
   },
   "outputs": [],
   "source": [
    "len(loader.all_data)"
   ]
  },
  {
   "cell_type": "code",
   "execution_count": null,
   "metadata": {
    "scrolled": true
   },
   "outputs": [],
   "source": [
    "frame_data = loader.raw_data[0][0]"
   ]
  },
  {
   "cell_type": "code",
   "execution_count": null,
   "metadata": {},
   "outputs": [],
   "source": [
    "frame_data[0]"
   ]
  },
  {
   "cell_type": "code",
   "execution_count": null,
   "metadata": {},
   "outputs": [],
   "source": [
    "mirror_frame_data = []\n",
    "for i in range(len(G_MIXAMO_JOINTS)):\n",
    "    joint = G_MIXAMO_JOINTS[i]\n",
    "    if \"Left\" in joint:\n",
    "        mirror_joint = joint.replace(\"Left\", \"Right\")\n",
    "        mirror_index = G_MIXAMO_JOINTS.index(mirror_joint)\n",
    "        joint_data = [_ for _ in frame_data[mirror_index]]\n",
    "        \n",
    "        #mirror\n",
    "        joint_data[0] = -joint_data[0]\n",
    "        joint_data[-1] = -joint_data[-1]\n",
    "        joint_data[-2] = -joint_data[-2]\n",
    "        \n",
    "        mirror_frame_data.append(joint_data)\n",
    "        \n",
    "    elif \"Right\" in joint:\n",
    "        mirror_joint = joint.replace(\"Right\", \"Left\")\n",
    "        mirror_index = G_MIXAMO_JOINTS.index(mirror_joint)\n",
    "        joint_data = [_ for _ in frame_data[mirror_index]]\n",
    "        \n",
    "        #mirror\n",
    "        joint_data[0] = -joint_data[0]\n",
    "        joint_data[-1] = -joint_data[-1]\n",
    "        joint_data[-2] = -joint_data[-2]\n",
    "        \n",
    "        mirror_frame_data.append(joint_data)\n",
    "    \n",
    "    else:\n",
    "        joint_data = [_ for _ in frame_data[i]]\n",
    "        \n",
    "        #mirror\n",
    "        joint_data[0] = -joint_data[0]\n",
    "        joint_data[-1] = -joint_data[-1]\n",
    "        joint_data[-2] = -joint_data[-2]\n",
    "        \n",
    "        mirror_frame_data.append(joint_data)\n",
    "    \n",
    "        \n",
    "        "
   ]
  },
  {
   "cell_type": "code",
   "execution_count": null,
   "metadata": {},
   "outputs": [],
   "source": [
    "for i in range(len(frame_data)):\n",
    "    print(\"i----------\",G_MIXAMO_JOINTS[i])\n",
    "    print(frame_data[i])\n",
    "    print(mirror_frame_data[i])"
   ]
  },
  {
   "cell_type": "code",
   "execution_count": null,
   "metadata": {},
   "outputs": [],
   "source": [
    "mirror_frame_data"
   ]
  },
  {
   "cell_type": "code",
   "execution_count": null,
   "metadata": {
    "scrolled": false
   },
   "outputs": [],
   "source": [
    "len(loader.train_data)"
   ]
  },
  {
   "cell_type": "code",
   "execution_count": null,
   "metadata": {
    "scrolled": true
   },
   "outputs": [],
   "source": [
    "len(loader.test_data)"
   ]
  },
  {
   "cell_type": "code",
   "execution_count": null,
   "metadata": {
    "scrolled": true
   },
   "outputs": [],
   "source": [
    "loader.test_data[0]"
   ]
  },
  {
   "cell_type": "code",
   "execution_count": null,
   "metadata": {},
   "outputs": [],
   "source": [
    "len(loader.train_data[180])"
   ]
  },
  {
   "cell_type": "code",
   "execution_count": null,
   "metadata": {},
   "outputs": [],
   "source": [
    "from VRNN import *"
   ]
  },
  {
   "cell_type": "code",
   "execution_count": null,
   "metadata": {},
   "outputs": [],
   "source": [
    "input_dim = len(loader.train_data[0][1])\n",
    "h_dim = 64\n",
    "z_dim = 10\n",
    "n_layers = 2\n",
    "device = torch.device(\"cuda\" if torch.cuda.is_available() else \"cpu\")  #device"
   ]
  },
  {
   "cell_type": "code",
   "execution_count": null,
   "metadata": {},
   "outputs": [],
   "source": [
    "print(device)"
   ]
  },
  {
   "cell_type": "code",
   "execution_count": null,
   "metadata": {},
   "outputs": [],
   "source": [
    "model = VRNN(input_dim, h_dim, z_dim, n_layers, device)\n",
    "model.to(device)"
   ]
  },
  {
   "cell_type": "code",
   "execution_count": null,
   "metadata": {},
   "outputs": [],
   "source": [
    "batch_size = 16\n",
    "n_epochs = 100\n",
    "clip = 10\n",
    "learning_rate = 1e-3\n",
    "print_every = 10"
   ]
  },
  {
   "cell_type": "code",
   "execution_count": null,
   "metadata": {},
   "outputs": [],
   "source": [
    "optimizer = torch.optim.Adam(model.parameters(), lr=learning_rate)"
   ]
  },
  {
   "cell_type": "code",
   "execution_count": null,
   "metadata": {},
   "outputs": [],
   "source": [
    "for epoch in range(n_epochs):\n",
    "    batch_idx = 0   \n",
    "    for batch_data, pad_data in loader.next_batch(batch_size):\n",
    "        batch_idx += 1\n",
    "\n",
    "        batch_data = batch_data.to(device)\n",
    "        pad_data = pad_data.to(device)\n",
    "\n",
    "        optimizer.zero_grad()\n",
    "\n",
    "        kld_loss, nll_loss, _, _ = model(batch_data, pad_data)\n",
    "        loss = kld_loss + nll_loss\n",
    "        loss.backward()\n",
    "\n",
    "        #grad norm clipping, only in pytorch version >= 1.10\n",
    "        torch.nn.utils.clip_grad_norm(model.parameters(), clip)\n",
    "        optimizer.step()\n",
    "\n",
    "        #printing\n",
    "        if batch_idx % print_every == 0:\n",
    "            print('Train Epoch: {} [{}/{} ({:.0f}%)]\\t KLD Loss: {:.6f} \\t NLL Loss: {:.6f}'.format(\n",
    "                epoch, batch_idx * len(batch_data), len(loader.train_data),\n",
    "                100. * batch_idx / len(loader.train_data),\n",
    "                kld_loss.data / batch_size,\n",
    "                nll_loss.data / batch_size))"
   ]
  },
  {
   "cell_type": "code",
   "execution_count": null,
   "metadata": {},
   "outputs": [],
   "source": [
    "model.sample(20)"
   ]
  },
  {
   "cell_type": "markdown",
   "metadata": {},
   "source": [
    "-------------------------------------"
   ]
  },
  {
   "cell_type": "code",
   "execution_count": null,
   "metadata": {},
   "outputs": [],
   "source": [
    "from MotionGPT import *"
   ]
  },
  {
   "cell_type": "code",
   "execution_count": null,
   "metadata": {},
   "outputs": [],
   "source": [
    "maker = FBXDataMaker(12345, radian=True)"
   ]
  },
  {
   "cell_type": "code",
   "execution_count": null,
   "metadata": {},
   "outputs": [],
   "source": [
    "maker.mc.UndoToBeginning(10000)"
   ]
  },
  {
   "cell_type": "code",
   "execution_count": null,
   "metadata": {},
   "outputs": [],
   "source": [
    "maker.GetModelNameSpace()\n",
    "print(maker.namespace)"
   ]
  },
  {
   "cell_type": "code",
   "execution_count": null,
   "metadata": {
    "scrolled": true
   },
   "outputs": [],
   "source": [
    "maker.LoadModel(\"runs/2020_08_19_18_04_29_nr.pth\")"
   ]
  },
  {
   "cell_type": "code",
   "execution_count": null,
   "metadata": {},
   "outputs": [],
   "source": [
    "maker.SampleAnim(10)"
   ]
  },
  {
   "cell_type": "code",
   "execution_count": null,
   "metadata": {},
   "outputs": [],
   "source": [
    "#loader \n",
    "loader = FBXDataLoader(\"FBXDataStand\", radian=True)\n",
    "loader.LoadData()\n",
    "loader.PrepareTrainingData(12)"
   ]
  },
  {
   "cell_type": "code",
   "execution_count": null,
   "metadata": {},
   "outputs": [],
   "source": [
    "train_sample = torch.FloatTensor(loader.train_data[np.random.randint(2000)])"
   ]
  },
  {
   "cell_type": "code",
   "execution_count": null,
   "metadata": {},
   "outputs": [],
   "source": [
    "train_sample = train_sample.unsqueeze(1)"
   ]
  },
  {
   "cell_type": "code",
   "execution_count": null,
   "metadata": {
    "scrolled": true
   },
   "outputs": [],
   "source": [
    "train_sample.shape"
   ]
  },
  {
   "cell_type": "code",
   "execution_count": null,
   "metadata": {},
   "outputs": [],
   "source": [
    "a, b = next(iter(loader.next_batch()))"
   ]
  },
  {
   "cell_type": "code",
   "execution_count": null,
   "metadata": {},
   "outputs": [],
   "source": [
    "a.shape, b.shape"
   ]
  },
  {
   "cell_type": "code",
   "execution_count": null,
   "metadata": {},
   "outputs": [],
   "source": [
    "train_sample_mask = torch.LongTensor([[1]]*train_sample.size(0))"
   ]
  },
  {
   "cell_type": "code",
   "execution_count": null,
   "metadata": {},
   "outputs": [],
   "source": [
    "train_sample_mask.shape"
   ]
  },
  {
   "cell_type": "code",
   "execution_count": null,
   "metadata": {},
   "outputs": [],
   "source": [
    "train_sample = train_sample.to(maker.model.device)\n",
    "train_sample_mask = train_sample_mask.to(maker.model.device)\n"
   ]
  },
  {
   "cell_type": "code",
   "execution_count": null,
   "metadata": {},
   "outputs": [],
   "source": [
    "result = maker.model.forward(train_sample, train_sample_mask)"
   ]
  },
  {
   "cell_type": "code",
   "execution_count": null,
   "metadata": {
    "scrolled": true
   },
   "outputs": [],
   "source": [
    "for i in range(len(train_sample)):\n",
    "    maker.GenerateMayaPose(result[3][0][i][0], i * frame_gap)"
   ]
  },
  {
   "cell_type": "code",
   "execution_count": null,
   "metadata": {},
   "outputs": [],
   "source": [
    "result[3][0][1]"
   ]
  },
  {
   "cell_type": "code",
   "execution_count": null,
   "metadata": {},
   "outputs": [],
   "source": [
    "maker_ori = FBXDataMaker(12346, radian=True)"
   ]
  },
  {
   "cell_type": "code",
   "execution_count": null,
   "metadata": {},
   "outputs": [],
   "source": [
    "maker_ori.GetModelNameSpace()\n",
    "print(maker_ori.namespace)"
   ]
  },
  {
   "cell_type": "code",
   "execution_count": null,
   "metadata": {
    "scrolled": true
   },
   "outputs": [],
   "source": [
    "maker_ori.mc.UndoToBeginning(10000)"
   ]
  },
  {
   "cell_type": "code",
   "execution_count": null,
   "metadata": {},
   "outputs": [],
   "source": [
    "for i in range(len(train_sample)):\n",
    "    maker_ori.GenerateMayaPose(train_sample[i][0], i * frame_gap)"
   ]
  },
  {
   "cell_type": "code",
   "execution_count": null,
   "metadata": {},
   "outputs": [],
   "source": [
    "np.sqrt(3000/63)"
   ]
  },
  {
   "cell_type": "code",
   "execution_count": 8,
   "metadata": {},
   "outputs": [
    {
     "data": {
      "text/plain": [
       "42.0"
      ]
     },
     "execution_count": 8,
     "metadata": {},
     "output_type": "execute_result"
    }
   ],
   "source": [
    "70*0.6"
   ]
  },
  {
   "cell_type": "code",
   "execution_count": null,
   "metadata": {},
   "outputs": [],
   "source": []
  }
 ],
 "metadata": {
  "kernelspec": {
   "display_name": "Python 3",
   "language": "python",
   "name": "python3"
  },
  "language_info": {
   "codemirror_mode": {
    "name": "ipython",
    "version": 3
   },
   "file_extension": ".py",
   "mimetype": "text/x-python",
   "name": "python",
   "nbconvert_exporter": "python",
   "pygments_lexer": "ipython3",
   "version": "3.7.7"
  }
 },
 "nbformat": 4,
 "nbformat_minor": 4
}
