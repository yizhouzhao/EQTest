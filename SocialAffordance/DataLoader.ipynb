{
 "cells": [
  {
   "cell_type": "code",
   "execution_count": 1,
   "metadata": {},
   "outputs": [],
   "source": [
    "from MotionGPT import *"
   ]
  },
  {
   "cell_type": "code",
   "execution_count": 2,
   "metadata": {},
   "outputs": [],
   "source": [
    "loader = FBXDataLoader(\"FBXData\")"
   ]
  },
  {
   "cell_type": "code",
   "execution_count": 3,
   "metadata": {},
   "outputs": [
    {
     "name": "stdout",
     "output_type": "stream",
     "text": [
      "FBXDataLoader loading data...\n"
     ]
    },
    {
     "data": {
      "application/vnd.jupyter.widget-view+json": {
       "model_id": "56076c20d6564425af7f876986313317",
       "version_major": 2,
       "version_minor": 0
      },
      "text/plain": [
       "HBox(children=(FloatProgress(value=0.0, max=232.0), HTML(value='')))"
      ]
     },
     "metadata": {},
     "output_type": "display_data"
    },
    {
     "name": "stdout",
     "output_type": "stream",
     "text": [
      "\n"
     ]
    }
   ],
   "source": [
    "loader.LoadData()"
   ]
  },
  {
   "cell_type": "code",
   "execution_count": 4,
   "metadata": {},
   "outputs": [
    {
     "data": {
      "text/plain": [
       "232"
      ]
     },
     "execution_count": 4,
     "metadata": {},
     "output_type": "execute_result"
    }
   ],
   "source": [
    "len(loader.raw_data)"
   ]
  },
  {
   "cell_type": "code",
   "execution_count": 5,
   "metadata": {},
   "outputs": [
    {
     "data": {
      "text/plain": [
       "24"
      ]
     },
     "execution_count": 5,
     "metadata": {},
     "output_type": "execute_result"
    }
   ],
   "source": [
    "len(loader.raw_data[0])"
   ]
  },
  {
   "cell_type": "code",
   "execution_count": 6,
   "metadata": {},
   "outputs": [
    {
     "data": {
      "application/vnd.jupyter.widget-view+json": {
       "model_id": "4a5ef9755c824dc6971fefe2d370f35f",
       "version_major": 2,
       "version_minor": 0
      },
      "text/plain": [
       "HBox(children=(FloatProgress(value=0.0, max=232.0), HTML(value='')))"
      ]
     },
     "metadata": {},
     "output_type": "display_data"
    },
    {
     "name": "stdout",
     "output_type": "stream",
     "text": [
      "\n"
     ]
    }
   ],
   "source": [
    "loader.PrepareTrainingData(12)"
   ]
  },
  {
   "cell_type": "code",
   "execution_count": 7,
   "metadata": {},
   "outputs": [
    {
     "data": {
      "text/plain": [
       "2566"
      ]
     },
     "execution_count": 7,
     "metadata": {},
     "output_type": "execute_result"
    }
   ],
   "source": [
    "len(loader.train_data)"
   ]
  },
  {
   "cell_type": "code",
   "execution_count": 12,
   "metadata": {},
   "outputs": [
    {
     "data": {
      "text/plain": [
       "array([ 3.700e-01,  8.564e+01, -2.800e-01, -4.320e+00, -4.338e+01,\n",
       "       -1.900e-01,  5.750e+00,  4.930e+00, -3.700e-01,  1.151e+01,\n",
       "        9.490e+00, -1.000e+00,  1.151e+01,  9.490e+00, -1.000e+00,\n",
       "       -1.440e+00, -4.200e-01,  9.000e-02,  7.610e+00,  1.590e+00,\n",
       "       -2.000e-02,  6.124e+01, -1.665e+01, -6.000e-01,  2.720e+00,\n",
       "       -2.060e+00,  4.177e+01, -2.027e+01,  1.628e+01, -3.430e+00,\n",
       "        1.014e+01, -4.630e+00, -8.170e+00,  5.747e+01,  2.330e+00,\n",
       "        2.244e+01,  2.660e+00,  1.740e+00, -3.593e+01,  6.830e+00,\n",
       "       -8.600e-01, -3.550e+00,  4.080e+01, -1.126e+01,  8.090e+00,\n",
       "       -4.990e+01,  6.240e+00, -6.040e+00,  4.320e+00, -2.500e+00,\n",
       "       -7.250e+00,  2.310e+00, -1.000e-01, -1.300e-01, -4.942e+01,\n",
       "        6.230e+00, -6.420e+00,  2.370e+01,  1.232e+01,  1.085e+01,\n",
       "        1.780e+00,  8.000e-02,  1.000e-01,  0.000e+00,  0.000e+00,\n",
       "        0.000e+00])"
      ]
     },
     "execution_count": 12,
     "metadata": {},
     "output_type": "execute_result"
    }
   ],
   "source": [
    "loader.train_data[0][0]"
   ]
  },
  {
   "cell_type": "code",
   "execution_count": null,
   "metadata": {},
   "outputs": [],
   "source": []
  }
 ],
 "metadata": {
  "kernelspec": {
   "display_name": "Python 3",
   "language": "python",
   "name": "python3"
  },
  "language_info": {
   "codemirror_mode": {
    "name": "ipython",
    "version": 3
   },
   "file_extension": ".py",
   "mimetype": "text/x-python",
   "name": "python",
   "nbconvert_exporter": "python",
   "pygments_lexer": "ipython3",
   "version": "3.7.7"
  }
 },
 "nbformat": 4,
 "nbformat_minor": 4
}
