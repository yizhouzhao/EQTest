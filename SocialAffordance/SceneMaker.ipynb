{
 "cells": [
  {
   "cell_type": "code",
   "execution_count": 1,
   "metadata": {},
   "outputs": [],
   "source": [
    "from SceneGenerator import *"
   ]
  },
  {
   "cell_type": "code",
   "execution_count": 2,
   "metadata": {},
   "outputs": [],
   "source": [
    "sm = SceneMaker(\"woman2_geo_rig_copy\", \"man5_geo_rig_copy\")"
   ]
  },
  {
   "cell_type": "code",
   "execution_count": 3,
   "metadata": {},
   "outputs": [
    {
     "name": "stdout",
     "output_type": "stream",
     "text": [
      "True True\n"
     ]
    }
   ],
   "source": [
    "print(sm.has_finger, sm.has_translate)"
   ]
  },
  {
   "cell_type": "code",
   "execution_count": 4,
   "metadata": {},
   "outputs": [
    {
     "name": "stdout",
     "output_type": "stream",
     "text": [
      "(UndoToBeginning)Undo steps: 536\n"
     ]
    }
   ],
   "source": [
    "sm.mc.UndoToBeginning(10000)"
   ]
  },
  {
   "cell_type": "code",
   "execution_count": 5,
   "metadata": {},
   "outputs": [
    {
     "name": "stdout",
     "output_type": "stream",
     "text": [
      "SceneGenerator:  [0.55]\n",
      "SceneGenerator:  [0.65]\n"
     ]
    }
   ],
   "source": [
    "sm.GetTranslateScales()"
   ]
  },
  {
   "cell_type": "code",
   "execution_count": 6,
   "metadata": {},
   "outputs": [
    {
     "data": {
      "text/plain": [
       "[0.8018573480436335, 0.8023633729480177]"
      ]
     },
     "execution_count": 6,
     "metadata": {},
     "output_type": "execute_result"
    }
   ],
   "source": [
    "sm.translate_scales"
   ]
  },
  {
   "cell_type": "code",
   "execution_count": 7,
   "metadata": {},
   "outputs": [],
   "source": [
    "sm.LoadModel(\"runs/2020_08_20_16_08_29_nr.pth\")"
   ]
  },
  {
   "cell_type": "code",
   "execution_count": 8,
   "metadata": {},
   "outputs": [
    {
     "data": {
      "text/plain": [
       "72"
      ]
     },
     "execution_count": 8,
     "metadata": {},
     "output_type": "execute_result"
    }
   ],
   "source": [
    "sm.model.x_dim"
   ]
  },
  {
   "cell_type": "code",
   "execution_count": 9,
   "metadata": {},
   "outputs": [],
   "source": [
    "sm.SetCurrentCharacter(1)"
   ]
  },
  {
   "cell_type": "code",
   "execution_count": 10,
   "metadata": {},
   "outputs": [],
   "source": [
    "# anim_seq = sm.model.sample(5)\n",
    "# print(anim_seq.shape)\n",
    "# print(anim_seq[0])\n",
    "# #sm.GenerateMayaPose(anim_seq[0], 0, sm.translate_scales[0], False)"
   ]
  },
  {
   "cell_type": "code",
   "execution_count": 11,
   "metadata": {},
   "outputs": [],
   "source": [
    "#sm.GenerateMayaPose(anim_seq[0], 0, sm.translate_scales[0], False)"
   ]
  },
  {
   "cell_type": "code",
   "execution_count": 12,
   "metadata": {},
   "outputs": [],
   "source": [
    "#sm.SampleAnim(5, frame_interval=frame_gap, translate_scale=sm.translate_scales[0]) "
   ]
  },
  {
   "cell_type": "code",
   "execution_count": 13,
   "metadata": {},
   "outputs": [],
   "source": [
    "#sm.SetCurrentCharacter(2)"
   ]
  },
  {
   "cell_type": "code",
   "execution_count": 14,
   "metadata": {},
   "outputs": [],
   "source": [
    "#sm.SampleAnim(10, frame_interval=frame_gap, translate_scale=sm.translate_scales[0]) "
   ]
  },
  {
   "cell_type": "code",
   "execution_count": 15,
   "metadata": {},
   "outputs": [
    {
     "name": "stdout",
     "output_type": "stream",
     "text": [
      "(UndoToBeginning)Undo steps: 0\n"
     ]
    }
   ],
   "source": [
    "sm.mc.UndoToBeginning(10000)"
   ]
  },
  {
   "cell_type": "code",
   "execution_count": 16,
   "metadata": {},
   "outputs": [],
   "source": [
    "from SceneGenerator import *"
   ]
  },
  {
   "cell_type": "code",
   "execution_count": 17,
   "metadata": {
    "scrolled": true
   },
   "outputs": [
    {
     "name": "stdout",
     "output_type": "stream",
     "text": [
      "FBXDataLoader loading data...\n"
     ]
    },
    {
     "data": {
      "application/vnd.jupyter.widget-view+json": {
       "model_id": "f0425795ca364a7a89ef7ee7c1933a4d",
       "version_major": 2,
       "version_minor": 0
      },
      "text/plain": [
       "HBox(children=(FloatProgress(value=0.0, max=149.0), HTML(value='')))"
      ]
     },
     "metadata": {},
     "output_type": "display_data"
    },
    {
     "name": "stdout",
     "output_type": "stream",
     "text": [
      "\n",
      "Hip Spine distance as scale:  3.971305111266949\n"
     ]
    },
    {
     "data": {
      "application/vnd.jupyter.widget-view+json": {
       "model_id": "b727dde2d61d4e09bf70756a2251af3e",
       "version_major": 2,
       "version_minor": 0
      },
      "text/plain": [
       "HBox(children=(FloatProgress(value=0.0, max=298.0), HTML(value='')))"
      ]
     },
     "metadata": {},
     "output_type": "display_data"
    },
    {
     "name": "stdout",
     "output_type": "stream",
     "text": [
      "\n"
     ]
    }
   ],
   "source": [
    "#loader \n",
    "loader = FBXDataLoader(\"FBXDataStand\", radian=True, has_translate=True, has_finger=True)\n",
    "loader.LoadData()\n",
    "loader.PrepareTrainingData(12)"
   ]
  },
  {
   "cell_type": "code",
   "execution_count": 18,
   "metadata": {},
   "outputs": [
    {
     "data": {
      "text/plain": [
       "3528"
      ]
     },
     "execution_count": 18,
     "metadata": {},
     "output_type": "execute_result"
    }
   ],
   "source": [
    "len(loader.all_data)"
   ]
  },
  {
   "cell_type": "code",
   "execution_count": 19,
   "metadata": {},
   "outputs": [],
   "source": [
    "#sample_idx = loader.all_files.index(\"Praying\")"
   ]
  },
  {
   "cell_type": "code",
   "execution_count": 23,
   "metadata": {
    "scrolled": false
   },
   "outputs": [
    {
     "name": "stdout",
     "output_type": "stream",
     "text": [
      "176 Charge\n"
     ]
    }
   ],
   "source": [
    "sample_idx = np.random.randint(len(loader.all_data)//2)\n",
    "print(sample_idx, loader.all_files[sample_idx])"
   ]
  },
  {
   "cell_type": "code",
   "execution_count": 24,
   "metadata": {},
   "outputs": [
    {
     "name": "stdout",
     "output_type": "stream",
     "text": [
      "1940 Charge\n"
     ]
    }
   ],
   "source": [
    "sample_idx2 = sample_idx + len(loader.all_data)// 2\n",
    "print(sample_idx2, loader.all_files[sample_idx2])"
   ]
  },
  {
   "cell_type": "code",
   "execution_count": 25,
   "metadata": {},
   "outputs": [
    {
     "name": "stdout",
     "output_type": "stream",
     "text": [
      "torch.Size([11, 1, 72])\n",
      "torch.Size([11, 1])\n"
     ]
    }
   ],
   "source": [
    "sample = torch.FloatTensor(loader.all_data[sample_idx])\n",
    "sample = sample.unsqueeze(1)\n",
    "print(sample.shape)\n",
    "\n",
    "sample_mask = torch.LongTensor([[1]]*sample.size(0))\n",
    "print(sample_mask.shape)\n",
    "\n",
    "sample = sample.to(sm.model.device)\n",
    "sample_mask = sample_mask.to(sm.model.device)"
   ]
  },
  {
   "cell_type": "code",
   "execution_count": 26,
   "metadata": {},
   "outputs": [],
   "source": [
    "sm.SetCurrentCharacter(1)"
   ]
  },
  {
   "cell_type": "code",
   "execution_count": 27,
   "metadata": {},
   "outputs": [
    {
     "name": "stdout",
     "output_type": "stream",
     "text": [
      "woman2_geo_rig_copy_LeftHandThumb2 -2.200000089679699\n",
      "woman2_geo_rig_copy_LeftHandIndex1 3.280000059969282\n",
      "woman2_geo_rig_copy_LeftHandMiddle1 11.820000089864845\n",
      "woman2_geo_rig_copy_RightHandThumb2 2.9699999716572054\n",
      "woman2_geo_rig_copy_RightHandIndex1 7.670000202053546\n",
      "woman2_geo_rig_copy_RightHandMiddle1 20.05999921494982\n",
      "woman2_geo_rig_copy_LeftHandThumb2 1.2400000330831875\n",
      "woman2_geo_rig_copy_LeftHandIndex1 -0.15999999609253868\n",
      "woman2_geo_rig_copy_LeftHandMiddle1 8.460000372024732\n",
      "woman2_geo_rig_copy_RightHandThumb2 9.429999932287847\n",
      "woman2_geo_rig_copy_RightHandIndex1 -0.8699999879245757\n",
      "woman2_geo_rig_copy_RightHandMiddle1 64.01999829812233\n",
      "woman2_geo_rig_copy_LeftHandThumb2 2.300000035544209\n",
      "woman2_geo_rig_copy_LeftHandIndex1 -1.2199999585329209\n",
      "woman2_geo_rig_copy_LeftHandMiddle1 7.419999910505447\n",
      "woman2_geo_rig_copy_RightHandThumb2 13.439999725134102\n",
      "woman2_geo_rig_copy_RightHandIndex1 -1.569999982502119\n",
      "woman2_geo_rig_copy_RightHandMiddle1 72.57000178038761\n",
      "woman2_geo_rig_copy_LeftHandThumb2 2.0700000319897884\n",
      "woman2_geo_rig_copy_LeftHandIndex1 -1.0199999600821943\n",
      "woman2_geo_rig_copy_LeftHandMiddle1 7.619999802234468\n",
      "woman2_geo_rig_copy_RightHandThumb2 16.399999659516173\n",
      "woman2_geo_rig_copy_RightHandIndex1 -1.339999978947698\n",
      "woman2_geo_rig_copy_RightHandMiddle1 72.84999855522311\n",
      "woman2_geo_rig_copy_LeftHandThumb2 1.8000000927782456\n",
      "woman2_geo_rig_copy_LeftHandIndex1 -0.7999999938029067\n",
      "woman2_geo_rig_copy_LeftHandMiddle1 7.829999944682034\n",
      "woman2_geo_rig_copy_RightHandThumb2 18.200000392624656\n",
      "woman2_geo_rig_copy_RightHandIndex1 -1.1300000499435439\n",
      "woman2_geo_rig_copy_RightHandMiddle1 73.12000276330288\n",
      "woman2_geo_rig_copy_LeftHandThumb2 1.5000000417413029\n",
      "woman2_geo_rig_copy_LeftHandIndex1 -0.5699999902484857\n",
      "woman2_geo_rig_copy_LeftHandMiddle1 8.059999734793044\n",
      "woman2_geo_rig_copy_RightHandThumb2 16.90000024261237\n",
      "woman2_geo_rig_copy_RightHandIndex1 -0.9300000514928171\n",
      "woman2_geo_rig_copy_RightHandMiddle1 73.38000074424859\n",
      "woman2_geo_rig_copy_LeftHandThumb2 1.19999999070436\n",
      "woman2_geo_rig_copy_LeftHandIndex1 -0.31999999218507735\n",
      "woman2_geo_rig_copy_LeftHandMiddle1 8.299999775622597\n",
      "woman2_geo_rig_copy_RightHandThumb2 7.479999707269424\n",
      "woman2_geo_rig_copy_RightHandIndex1 -0.669999989473849\n",
      "woman2_geo_rig_copy_RightHandMiddle1 64.77000088031392\n",
      "woman2_geo_rig_copy_LeftHandThumb2 0.9000000463891228\n",
      "woman2_geo_rig_copy_LeftHandIndex1 -0.05999999686717535\n",
      "woman2_geo_rig_copy_LeftHandMiddle1 8.550000067170696\n",
      "woman2_geo_rig_copy_RightHandThumb2 4.160000138529844\n",
      "woman2_geo_rig_copy_RightHandIndex1 6.859999957532095\n",
      "woman2_geo_rig_copy_RightHandMiddle1 19.259999648033734\n",
      "woman2_geo_rig_copy_LeftHandThumb2 0.739999983595518\n",
      "woman2_geo_rig_copy_LeftHandIndex1 0.22000000629992725\n",
      "woman2_geo_rig_copy_LeftHandMiddle1 8.830000257100785\n",
      "woman2_geo_rig_copy_RightHandThumb2 4.160000138529844\n",
      "woman2_geo_rig_copy_RightHandIndex1 9.619999573298323\n",
      "woman2_geo_rig_copy_RightHandMiddle1 15.540000295836114\n",
      "woman2_geo_rig_copy_LeftHandThumb2 1.19999999070436\n",
      "woman2_geo_rig_copy_LeftHandIndex1 0.5300000012305109\n",
      "woman2_geo_rig_copy_LeftHandMiddle1 9.130000094694315\n",
      "woman2_geo_rig_copy_RightHandThumb2 4.779999888267173\n",
      "woman2_geo_rig_copy_RightHandIndex1 9.869999864846422\n",
      "woman2_geo_rig_copy_RightHandMiddle1 15.8200004857662\n",
      "woman2_geo_rig_copy_LeftHandThumb2 -0.8500000200960147\n",
      "woman2_geo_rig_copy_LeftHandIndex1 2.0700000319897884\n",
      "woman2_geo_rig_copy_LeftHandMiddle1 10.640000387154164\n",
      "woman2_geo_rig_copy_RightHandThumb2 1.6599999978132018\n",
      "woman2_geo_rig_copy_RightHandIndex1 8.970000352065828\n",
      "woman2_geo_rig_copy_RightHandMiddle1 15.039999712739915\n"
     ]
    }
   ],
   "source": [
    "for i in range(len(sample)):\n",
    "    sm.GenerateMayaPose(sample[i][0], i * frame_gap, translate_scale=sm.translate_scales[1])"
   ]
  },
  {
   "cell_type": "code",
   "execution_count": 28,
   "metadata": {},
   "outputs": [],
   "source": [
    "sm.SetCurrentCharacter(2)"
   ]
  },
  {
   "cell_type": "code",
   "execution_count": 29,
   "metadata": {},
   "outputs": [
    {
     "name": "stdout",
     "output_type": "stream",
     "text": [
      "torch.Size([11, 1, 72])\n",
      "torch.Size([11, 1])\n"
     ]
    }
   ],
   "source": [
    "sample = torch.FloatTensor(loader.all_data[sample_idx2])\n",
    "sample = sample.unsqueeze(1)\n",
    "print(sample.shape)\n",
    "\n",
    "sample_mask = torch.LongTensor([[1]]*sample.size(0))\n",
    "print(sample_mask.shape)\n",
    "\n",
    "sample = sample.to(sm.model.device)\n",
    "sample_mask = sample_mask.to(sm.model.device)"
   ]
  },
  {
   "cell_type": "code",
   "execution_count": 30,
   "metadata": {},
   "outputs": [
    {
     "name": "stdout",
     "output_type": "stream",
     "text": [
      "man5_geo_rig_copy_LeftHandThumb2 2.9699999716572054\n",
      "man5_geo_rig_copy_LeftHandIndex1 7.670000202053546\n",
      "man5_geo_rig_copy_LeftHandMiddle1 20.05999921494982\n",
      "man5_geo_rig_copy_RightHandThumb2 -2.200000089679699\n",
      "man5_geo_rig_copy_RightHandIndex1 3.280000059969282\n",
      "man5_geo_rig_copy_RightHandMiddle1 11.820000089864845\n",
      "man5_geo_rig_copy_LeftHandThumb2 9.429999932287847\n",
      "man5_geo_rig_copy_LeftHandIndex1 -0.8699999879245757\n",
      "man5_geo_rig_copy_LeftHandMiddle1 64.01999829812233\n",
      "man5_geo_rig_copy_RightHandThumb2 1.2400000330831875\n",
      "man5_geo_rig_copy_RightHandIndex1 -0.15999999609253868\n",
      "man5_geo_rig_copy_RightHandMiddle1 8.460000372024732\n",
      "man5_geo_rig_copy_LeftHandThumb2 13.439999725134102\n",
      "man5_geo_rig_copy_LeftHandIndex1 -1.569999982502119\n",
      "man5_geo_rig_copy_LeftHandMiddle1 72.57000178038761\n",
      "man5_geo_rig_copy_RightHandThumb2 2.300000035544209\n",
      "man5_geo_rig_copy_RightHandIndex1 -1.2199999585329209\n",
      "man5_geo_rig_copy_RightHandMiddle1 7.419999910505447\n",
      "man5_geo_rig_copy_LeftHandThumb2 16.399999659516173\n",
      "man5_geo_rig_copy_LeftHandIndex1 -1.339999978947698\n",
      "man5_geo_rig_copy_LeftHandMiddle1 72.84999855522311\n",
      "man5_geo_rig_copy_RightHandThumb2 2.0700000319897884\n",
      "man5_geo_rig_copy_RightHandIndex1 -1.0199999600821943\n",
      "man5_geo_rig_copy_RightHandMiddle1 7.619999802234468\n",
      "man5_geo_rig_copy_LeftHandThumb2 18.200000392624656\n",
      "man5_geo_rig_copy_LeftHandIndex1 -1.1300000499435439\n",
      "man5_geo_rig_copy_LeftHandMiddle1 73.12000276330288\n",
      "man5_geo_rig_copy_RightHandThumb2 1.8000000927782456\n",
      "man5_geo_rig_copy_RightHandIndex1 -0.7999999938029067\n",
      "man5_geo_rig_copy_RightHandMiddle1 7.829999944682034\n",
      "man5_geo_rig_copy_LeftHandThumb2 16.90000024261237\n",
      "man5_geo_rig_copy_LeftHandIndex1 -0.9300000514928171\n",
      "man5_geo_rig_copy_LeftHandMiddle1 73.38000074424859\n",
      "man5_geo_rig_copy_RightHandThumb2 1.5000000417413029\n",
      "man5_geo_rig_copy_RightHandIndex1 -0.5699999902484857\n",
      "man5_geo_rig_copy_RightHandMiddle1 8.059999734793044\n",
      "man5_geo_rig_copy_LeftHandThumb2 7.479999707269424\n",
      "man5_geo_rig_copy_LeftHandIndex1 -0.669999989473849\n",
      "man5_geo_rig_copy_LeftHandMiddle1 64.77000088031392\n",
      "man5_geo_rig_copy_RightHandThumb2 1.19999999070436\n",
      "man5_geo_rig_copy_RightHandIndex1 -0.31999999218507735\n",
      "man5_geo_rig_copy_RightHandMiddle1 8.299999775622597\n",
      "man5_geo_rig_copy_LeftHandThumb2 4.160000138529844\n",
      "man5_geo_rig_copy_LeftHandIndex1 6.859999957532095\n",
      "man5_geo_rig_copy_LeftHandMiddle1 19.259999648033734\n",
      "man5_geo_rig_copy_RightHandThumb2 0.9000000463891228\n",
      "man5_geo_rig_copy_RightHandIndex1 -0.05999999686717535\n",
      "man5_geo_rig_copy_RightHandMiddle1 8.550000067170696\n",
      "man5_geo_rig_copy_LeftHandThumb2 4.160000138529844\n",
      "man5_geo_rig_copy_LeftHandIndex1 9.619999573298323\n",
      "man5_geo_rig_copy_LeftHandMiddle1 15.540000295836114\n",
      "man5_geo_rig_copy_RightHandThumb2 0.739999983595518\n",
      "man5_geo_rig_copy_RightHandIndex1 0.22000000629992725\n",
      "man5_geo_rig_copy_RightHandMiddle1 8.830000257100785\n",
      "man5_geo_rig_copy_LeftHandThumb2 4.779999888267173\n",
      "man5_geo_rig_copy_LeftHandIndex1 9.869999864846422\n",
      "man5_geo_rig_copy_LeftHandMiddle1 15.8200004857662\n",
      "man5_geo_rig_copy_RightHandThumb2 1.19999999070436\n",
      "man5_geo_rig_copy_RightHandIndex1 0.5300000012305109\n",
      "man5_geo_rig_copy_RightHandMiddle1 9.130000094694315\n",
      "man5_geo_rig_copy_LeftHandThumb2 1.6599999978132018\n",
      "man5_geo_rig_copy_LeftHandIndex1 8.970000352065828\n",
      "man5_geo_rig_copy_LeftHandMiddle1 15.039999712739915\n",
      "man5_geo_rig_copy_RightHandThumb2 -0.8500000200960147\n",
      "man5_geo_rig_copy_RightHandIndex1 2.0700000319897884\n",
      "man5_geo_rig_copy_RightHandMiddle1 10.640000387154164\n"
     ]
    }
   ],
   "source": [
    "for i in range(len(sample)):\n",
    "    sm.GenerateMayaPose(sample[i][0], i * frame_gap, translate_scale=sm.translate_scales[0])"
   ]
  },
  {
   "cell_type": "code",
   "execution_count": null,
   "metadata": {},
   "outputs": [],
   "source": []
  },
  {
   "cell_type": "code",
   "execution_count": null,
   "metadata": {},
   "outputs": [],
   "source": []
  },
  {
   "cell_type": "code",
   "execution_count": null,
   "metadata": {},
   "outputs": [],
   "source": []
  },
  {
   "cell_type": "code",
   "execution_count": 31,
   "metadata": {
    "scrolled": true
   },
   "outputs": [],
   "source": [
    "sample_result = sm.model.forward(sample, sample_mask)"
   ]
  },
  {
   "cell_type": "code",
   "execution_count": 32,
   "metadata": {},
   "outputs": [],
   "source": [
    "sm.SetCurrentCharacter(1)"
   ]
  },
  {
   "cell_type": "code",
   "execution_count": 33,
   "metadata": {},
   "outputs": [
    {
     "name": "stdout",
     "output_type": "stream",
     "text": [
      "woman2_geo_rig_copy_LeftHandThumb2 -2.979178251797822\n",
      "woman2_geo_rig_copy_LeftHandIndex1 8.714301121429\n",
      "woman2_geo_rig_copy_LeftHandMiddle1 18.983055967757227\n",
      "woman2_geo_rig_copy_RightHandThumb2 -2.130925959716537\n",
      "woman2_geo_rig_copy_RightHandIndex1 7.90433801606116\n",
      "woman2_geo_rig_copy_RightHandMiddle1 18.666705511064333\n",
      "woman2_geo_rig_copy_LeftHandThumb2 -2.1342701910889046\n",
      "woman2_geo_rig_copy_LeftHandIndex1 15.85867130929952\n",
      "woman2_geo_rig_copy_LeftHandMiddle1 36.97224427919673\n",
      "woman2_geo_rig_copy_RightHandThumb2 -1.7072433490851222\n",
      "woman2_geo_rig_copy_RightHandIndex1 -8.018754783716275\n",
      "woman2_geo_rig_copy_RightHandMiddle1 3.612216405773882\n",
      "woman2_geo_rig_copy_LeftHandThumb2 -4.499230875168636\n",
      "woman2_geo_rig_copy_LeftHandIndex1 13.792967679741082\n",
      "woman2_geo_rig_copy_LeftHandMiddle1 39.07743835498889\n",
      "woman2_geo_rig_copy_RightHandThumb2 -2.8011049748518344\n",
      "woman2_geo_rig_copy_RightHandIndex1 -13.37716539986457\n",
      "woman2_geo_rig_copy_RightHandMiddle1 -2.9727047265685305\n",
      "woman2_geo_rig_copy_LeftHandThumb2 2.5629693622222818\n",
      "woman2_geo_rig_copy_LeftHandIndex1 32.74428888106714\n",
      "woman2_geo_rig_copy_LeftHandMiddle1 44.90770149089012\n",
      "woman2_geo_rig_copy_RightHandThumb2 1.722236681530358\n",
      "woman2_geo_rig_copy_RightHandIndex1 -4.503257271684358\n",
      "woman2_geo_rig_copy_RightHandMiddle1 10.680566588182161\n",
      "woman2_geo_rig_copy_LeftHandThumb2 5.715091205456\n",
      "woman2_geo_rig_copy_LeftHandIndex1 11.166352693841917\n",
      "woman2_geo_rig_copy_LeftHandMiddle1 55.551967331180954\n",
      "woman2_geo_rig_copy_RightHandThumb2 -2.2097348167942594\n",
      "woman2_geo_rig_copy_RightHandIndex1 -10.073850275720037\n",
      "woman2_geo_rig_copy_RightHandMiddle1 -3.2295048983222006\n",
      "woman2_geo_rig_copy_LeftHandThumb2 0.9403975204002806\n",
      "woman2_geo_rig_copy_LeftHandIndex1 9.525363887253212\n",
      "woman2_geo_rig_copy_LeftHandMiddle1 70.54442721975029\n",
      "woman2_geo_rig_copy_RightHandThumb2 0.7494531788502272\n",
      "woman2_geo_rig_copy_RightHandIndex1 4.460875947884429\n",
      "woman2_geo_rig_copy_RightHandMiddle1 11.574109010876155\n",
      "woman2_geo_rig_copy_LeftHandThumb2 1.8937967327725036\n",
      "woman2_geo_rig_copy_LeftHandIndex1 18.087787214750513\n",
      "woman2_geo_rig_copy_LeftHandMiddle1 62.72491929940704\n",
      "woman2_geo_rig_copy_RightHandThumb2 -4.3255451409907355\n",
      "woman2_geo_rig_copy_RightHandIndex1 -2.5043477695667664\n",
      "woman2_geo_rig_copy_RightHandMiddle1 6.575082458286421\n",
      "woman2_geo_rig_copy_LeftHandThumb2 -4.310894385221058\n",
      "woman2_geo_rig_copy_LeftHandIndex1 25.11979139926422\n",
      "woman2_geo_rig_copy_LeftHandMiddle1 31.709043938757475\n",
      "woman2_geo_rig_copy_RightHandThumb2 -4.312851234418266\n",
      "woman2_geo_rig_copy_RightHandIndex1 5.432800767719843\n",
      "woman2_geo_rig_copy_RightHandMiddle1 17.92382340108248\n",
      "woman2_geo_rig_copy_LeftHandThumb2 -4.245564479583532\n",
      "woman2_geo_rig_copy_LeftHandIndex1 14.900233551753944\n",
      "woman2_geo_rig_copy_LeftHandMiddle1 20.62860563316421\n",
      "woman2_geo_rig_copy_RightHandThumb2 -1.6837707636721386\n",
      "woman2_geo_rig_copy_RightHandIndex1 13.241026069327875\n",
      "woman2_geo_rig_copy_RightHandMiddle1 19.03250653734812\n",
      "woman2_geo_rig_copy_LeftHandThumb2 -3.5976185839702723\n",
      "woman2_geo_rig_copy_LeftHandIndex1 3.8187365668393265\n",
      "woman2_geo_rig_copy_LeftHandMiddle1 14.978427264919542\n",
      "woman2_geo_rig_copy_RightHandThumb2 -0.42450266021863936\n",
      "woman2_geo_rig_copy_RightHandIndex1 5.0854958937084485\n",
      "woman2_geo_rig_copy_RightHandMiddle1 15.421803872249043\n",
      "woman2_geo_rig_copy_LeftHandThumb2 -3.068995239383489\n",
      "woman2_geo_rig_copy_LeftHandIndex1 6.465639775894368\n",
      "woman2_geo_rig_copy_LeftHandMiddle1 18.221203007355665\n",
      "woman2_geo_rig_copy_RightHandThumb2 1.3418064572614605\n",
      "woman2_geo_rig_copy_RightHandIndex1 4.5216501173455566\n",
      "woman2_geo_rig_copy_RightHandMiddle1 17.36800651208894\n"
     ]
    }
   ],
   "source": [
    "for i in range(len(sample)):\n",
    "    sm.GenerateMayaPose(sample_result[3][0][i][0], i * frame_gap, translate_scale=sm.translate_scales[0])"
   ]
  },
  {
   "cell_type": "code",
   "execution_count": null,
   "metadata": {},
   "outputs": [],
   "source": []
  },
  {
   "cell_type": "code",
   "execution_count": null,
   "metadata": {},
   "outputs": [],
   "source": []
  },
  {
   "cell_type": "code",
   "execution_count": null,
   "metadata": {},
   "outputs": [],
   "source": []
  }
 ],
 "metadata": {
  "kernelspec": {
   "display_name": "Python 3",
   "language": "python",
   "name": "python3"
  },
  "language_info": {
   "codemirror_mode": {
    "name": "ipython",
    "version": 3
   },
   "file_extension": ".py",
   "mimetype": "text/x-python",
   "name": "python",
   "nbconvert_exporter": "python",
   "pygments_lexer": "ipython3",
   "version": "3.7.7"
  }
 },
 "nbformat": 4,
 "nbformat_minor": 4
}
