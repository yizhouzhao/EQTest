{
 "cells": [
  {
   "cell_type": "code",
   "execution_count": 1,
   "metadata": {},
   "outputs": [],
   "source": [
    "from mcmc import *"
   ]
  },
  {
   "cell_type": "code",
   "execution_count": 2,
   "metadata": {
    "scrolled": true
   },
   "outputs": [
    {
     "name": "stdout",
     "output_type": "stream",
     "text": [
      "FBXDataLoader loading data...\n"
     ]
    },
    {
     "data": {
      "application/vnd.jupyter.widget-view+json": {
       "model_id": "08d387f7b9594276bced9ca3396d45a1",
       "version_major": 2,
       "version_minor": 0
      },
      "text/plain": [
       "HBox(children=(HTML(value=''), FloatProgress(value=0.0, max=149.0), HTML(value='')))"
      ]
     },
     "metadata": {},
     "output_type": "display_data"
    },
    {
     "name": "stdout",
     "output_type": "stream",
     "text": [
      "\n",
      "Hip Spine distance as scale:  3.971305111266949\n"
     ]
    },
    {
     "data": {
      "application/vnd.jupyter.widget-view+json": {
       "model_id": "afadadf24b4f404191420a58405d4ac0",
       "version_major": 2,
       "version_minor": 0
      },
      "text/plain": [
       "HBox(children=(HTML(value=''), FloatProgress(value=0.0, max=298.0), HTML(value='')))"
      ]
     },
     "metadata": {},
     "output_type": "display_data"
    },
    {
     "name": "stdout",
     "output_type": "stream",
     "text": [
      "\n"
     ]
    }
   ],
   "source": [
    "am = AnimationSampler()"
   ]
  },
  {
   "cell_type": "code",
   "execution_count": 3,
   "metadata": {
    "scrolled": true
   },
   "outputs": [
    {
     "data": {
      "text/plain": [
       "array([[-0.03317049, -0.05635794, -0.1606347 , -0.03727436, -0.08278826,\n",
       "        -0.11402394,  0.1168284 , -0.00763654, -0.03155163, -0.05764893]],\n",
       "      dtype=float32)"
      ]
     },
     "execution_count": 3,
     "metadata": {},
     "output_type": "execute_result"
    }
   ],
   "source": [
    "am.find_motion_encode(\"Bow\")"
   ]
  },
  {
   "cell_type": "code",
   "execution_count": 4,
   "metadata": {},
   "outputs": [],
   "source": [
    "from Raven.BuildTree2 import *"
   ]
  },
  {
   "cell_type": "code",
   "execution_count": 5,
   "metadata": {},
   "outputs": [],
   "source": [
    "scene = build_scene()"
   ]
  },
  {
   "cell_type": "code",
   "execution_count": 6,
   "metadata": {},
   "outputs": [
    {
     "data": {
      "text/plain": [
       "{}"
      ]
     },
     "execution_count": 6,
     "metadata": {},
     "output_type": "execute_result"
    }
   ],
   "source": [
    "scene.node_dict"
   ]
  },
  {
   "cell_type": "code",
   "execution_count": 7,
   "metadata": {},
   "outputs": [],
   "source": [
    "pg = scene.sample()"
   ]
  },
  {
   "cell_type": "code",
   "execution_count": 8,
   "metadata": {},
   "outputs": [
    {
     "data": {
      "text/plain": [
       "{'init frame': Frame.init frame,\n",
       " 'transform': Layout.transform,\n",
       " 'relation': Layout.relation,\n",
       " 'animation1': Animation.animation1,\n",
       " 'motion1': Layout.motion1,\n",
       " 'emotion1': Layout.emotion1,\n",
       " 'motion2': Layout.motion2,\n",
       " 'emotion2': Layout.emotion2,\n",
       " 'animation2': Animation.animation2}"
      ]
     },
     "execution_count": 8,
     "metadata": {},
     "output_type": "execute_result"
    }
   ],
   "source": [
    "pg.node_dict"
   ]
  },
  {
   "cell_type": "code",
   "execution_count": 9,
   "metadata": {},
   "outputs": [
    {
     "data": {
      "text/plain": [
       "[0.038741, 0.24213999999999997, 0.0, 0.0, 0.0, 0.0, -2.9189385332046727]"
      ]
     },
     "execution_count": 9,
     "metadata": {},
     "output_type": "execute_result"
    }
   ],
   "source": [
    "get_survey_score_list(am.survey[0])"
   ]
  },
  {
   "cell_type": "code",
   "execution_count": 10,
   "metadata": {},
   "outputs": [],
   "source": [
    "am.train_parameters(iterations=1000)"
   ]
  },
  {
   "cell_type": "code",
   "execution_count": 11,
   "metadata": {},
   "outputs": [
    {
     "name": "stdout",
     "output_type": "stream",
     "text": [
      "learned parameters: tensor([-10.8922,  12.7377,  39.9152,  39.3974,  11.3589,   2.4343,  48.6865])\n"
     ]
    }
   ],
   "source": [
    "print(\"learned parameters:\", am.thetas)"
   ]
  },
  {
   "cell_type": "code",
   "execution_count": 12,
   "metadata": {},
   "outputs": [
    {
     "data": {
      "text/plain": [
       "-190.9762138779314"
      ]
     },
     "execution_count": 12,
     "metadata": {},
     "output_type": "execute_result"
    }
   ],
   "source": [
    "am.get_survey_item_score(am.survey[5])"
   ]
  },
  {
   "cell_type": "code",
   "execution_count": 13,
   "metadata": {
    "scrolled": true
   },
   "outputs": [
    {
     "data": {
      "text/plain": [
       "{'m1': 'Offensive',\n",
       " 'e11': 'Embarrased',\n",
       " 'e12': 'Surprise',\n",
       " 'm2': 'Clapping',\n",
       " 'e21': 'Surprise',\n",
       " 'e22': 'Confused',\n",
       " 'd': '2',\n",
       " 't': '2',\n",
       " 'quality': 'Bad',\n",
       " 'dominance': 'Character one',\n",
       " 'intimacy': 'Alienated'}"
      ]
     },
     "execution_count": 13,
     "metadata": {},
     "output_type": "execute_result"
    }
   ],
   "source": [
    "am.survey[5]"
   ]
  },
  {
   "cell_type": "code",
   "execution_count": 14,
   "metadata": {},
   "outputs": [],
   "source": [
    "am.survey[4]['intimacy'] = \"Medium\""
   ]
  },
  {
   "cell_type": "code",
   "execution_count": 15,
   "metadata": {},
   "outputs": [
    {
     "data": {
      "text/plain": [
       "1240"
      ]
     },
     "execution_count": 15,
     "metadata": {},
     "output_type": "execute_result"
    }
   ],
   "source": [
    "len(am.survey)"
   ]
  },
  {
   "cell_type": "code",
   "execution_count": 16,
   "metadata": {},
   "outputs": [],
   "source": [
    "good_survey = []\n",
    "medium_survey = []\n",
    "bad_survey = []\n",
    "for item in am.survey:\n",
    "    if item[\"quality\"] == \"Good\":\n",
    "        #good_survey.append(item)\n",
    "        good_survey.append(am.get_survey_item_score(item))\n",
    "    elif item[\"quality\"] == \"Bad\":\n",
    "        bad_survey.append(am.get_survey_item_score(item))\n",
    "    else:\n",
    "        medium_survey.append(am.get_survey_item_score(item))\n",
    "                           \n",
    "        "
   ]
  },
  {
   "cell_type": "code",
   "execution_count": 17,
   "metadata": {},
   "outputs": [
    {
     "data": {
      "text/plain": [
       "-57.42162854945841"
      ]
     },
     "execution_count": 17,
     "metadata": {},
     "output_type": "execute_result"
    }
   ],
   "source": [
    "np.mean(good_survey)"
   ]
  },
  {
   "cell_type": "code",
   "execution_count": 18,
   "metadata": {},
   "outputs": [
    {
     "data": {
      "text/plain": [
       "-64.88611736339901"
      ]
     },
     "execution_count": 18,
     "metadata": {},
     "output_type": "execute_result"
    }
   ],
   "source": [
    "np.mean(medium_survey)"
   ]
  },
  {
   "cell_type": "code",
   "execution_count": 19,
   "metadata": {},
   "outputs": [
    {
     "data": {
      "text/plain": [
       "-58.39539470415249"
      ]
     },
     "execution_count": 19,
     "metadata": {},
     "output_type": "execute_result"
    }
   ],
   "source": [
    "np.mean(bad_survey)"
   ]
  },
  {
   "cell_type": "code",
   "execution_count": 20,
   "metadata": {},
   "outputs": [],
   "source": [
    "random_survey = []\n",
    "for _ in range(100):\n",
    "    random_survey.append(np.sum(get_pg_score_list(am.scene.sample()) * am.thetas.data.numpy()))"
   ]
  },
  {
   "cell_type": "code",
   "execution_count": 21,
   "metadata": {},
   "outputs": [
    {
     "data": {
      "text/plain": [
       "-102.46077079954966"
      ]
     },
     "execution_count": 21,
     "metadata": {},
     "output_type": "execute_result"
    }
   ],
   "source": [
    "np.mean(random_survey)"
   ]
  },
  {
   "cell_type": "code",
   "execution_count": 22,
   "metadata": {},
   "outputs": [
    {
     "data": {
      "text/plain": [
       "{'m1': 'Nervously',\n",
       " 'e11': 'Mock',\n",
       " 'e12': 'Sad',\n",
       " 'm2': 'Taunt',\n",
       " 'e21': 'Excited',\n",
       " 'e22': 'Surprise',\n",
       " 'd': '8',\n",
       " 't': '-1',\n",
       " 'quality': 'Bad',\n",
       " 'dominance': 'Equal',\n",
       " 'intimacy': 'Medium'}"
      ]
     },
     "execution_count": 22,
     "metadata": {},
     "output_type": "execute_result"
    }
   ],
   "source": [
    "am.survey[np.random.randint(100)]"
   ]
  },
  {
   "cell_type": "code",
   "execution_count": 30,
   "metadata": {},
   "outputs": [],
   "source": [
    "reverse_intimacy = {\"Close\":\"Alienated\", \"Alienated\": \"Close\", \"Medium\":\"Medium\"}"
   ]
  },
  {
   "cell_type": "code",
   "execution_count": 37,
   "metadata": {},
   "outputs": [],
   "source": [
    "reverse_dominance = {\"Character two\":\"Character one\", \"Character one\": \"Character two\", \"Equal\":\"Equal\"}"
   ]
  },
  {
   "cell_type": "code",
   "execution_count": 74,
   "metadata": {},
   "outputs": [],
   "source": [
    "s1 = []\n",
    "s2 = []\n",
    "acc = []\n",
    "for item in am.survey:\n",
    "    if item[\"quality\"] == \"Good\":\n",
    "        if item[\"dominance\"] == \"Equal\":\n",
    "            continue\n",
    "        #good_survey.append(item)\n",
    "        #print(item)\n",
    "        #print(am.get_survey_item_score(item))\n",
    "        score_ori = am.get_survey_item_score(item)\n",
    "        s1.append(score_ori)\n",
    "        \n",
    "        #item['intimacy'] = reverse_intimacy[item['intimacy']]\n",
    "        item['dominance'] = reverse_dominance[item['dominance']]\n",
    "        \n",
    "        #print(am.get_survey_item_score(item))\n",
    "        score_reversed = am.get_survey_item_score(item)\n",
    "        s2.append(score_reversed)\n",
    "        \n",
    "        #item['intimacy'] = reverse_intimacy[item['intimacy']]\n",
    "        item['dominance'] = reverse_dominance[item['dominance']]\n",
    "        \n",
    "        acc.append(1.0 if score_ori >= score_reversed else 0.0)\n",
    "        \n",
    "        "
   ]
  },
  {
   "cell_type": "code",
   "execution_count": 75,
   "metadata": {},
   "outputs": [
    {
     "data": {
      "text/plain": [
       "0.4358974358974359"
      ]
     },
     "execution_count": 75,
     "metadata": {},
     "output_type": "execute_result"
    }
   ],
   "source": [
    "np.mean(acc)"
   ]
  },
  {
   "cell_type": "code",
   "execution_count": null,
   "metadata": {},
   "outputs": [],
   "source": []
  },
  {
   "cell_type": "code",
   "execution_count": 67,
   "metadata": {},
   "outputs": [
    {
     "data": {
      "text/plain": [
       "0.8145161290322581"
      ]
     },
     "execution_count": 67,
     "metadata": {},
     "output_type": "execute_result"
    }
   ],
   "source": [
    "0.8145161290322581"
   ]
  },
  {
   "cell_type": "code",
   "execution_count": 76,
   "metadata": {},
   "outputs": [
    {
     "data": {
      "text/plain": [
       "0.4358974358974359"
      ]
     },
     "execution_count": 76,
     "metadata": {},
     "output_type": "execute_result"
    }
   ],
   "source": [
    "0.4358974358974359"
   ]
  },
  {
   "cell_type": "code",
   "execution_count": null,
   "metadata": {},
   "outputs": [],
   "source": []
  }
 ],
 "metadata": {
  "kernelspec": {
   "display_name": "Python 3",
   "language": "python",
   "name": "python3"
  },
  "language_info": {
   "codemirror_mode": {
    "name": "ipython",
    "version": 3
   },
   "file_extension": ".py",
   "mimetype": "text/x-python",
   "name": "python",
   "nbconvert_exporter": "python",
   "pygments_lexer": "ipython3",
   "version": "3.7.9"
  }
 },
 "nbformat": 4,
 "nbformat_minor": 4
}
