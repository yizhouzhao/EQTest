{
 "cells": [
  {
   "cell_type": "code",
   "execution_count": 1,
   "metadata": {
    "scrolled": true
   },
   "outputs": [],
   "source": [
    "from MotionGPT import *"
   ]
  },
  {
   "cell_type": "code",
   "execution_count": 3,
   "metadata": {},
   "outputs": [
    {
     "data": {
      "text/plain": [
       "65"
      ]
     },
     "execution_count": 3,
     "metadata": {},
     "output_type": "execute_result"
    }
   ],
   "source": [
    "len(G_MIXAMO_JOINTS)"
   ]
  },
  {
   "cell_type": "code",
   "execution_count": 2,
   "metadata": {},
   "outputs": [
    {
     "data": {
      "text/plain": [
       "21"
      ]
     },
     "execution_count": 2,
     "metadata": {},
     "output_type": "execute_result"
    }
   ],
   "source": [
    "len(G_TRAINING_JOINTS_INDEX)"
   ]
  },
  {
   "cell_type": "code",
   "execution_count": null,
   "metadata": {},
   "outputs": [],
   "source": [
    "maker = FBXDataMaker()\n",
    "maker.mc.SetNewScene()"
   ]
  },
  {
   "cell_type": "code",
   "execution_count": null,
   "metadata": {},
   "outputs": [],
   "source": [
    "maker.LoadFBXModelNames(\"E:/Temp/MixamoFBX/1_11\")"
   ]
  },
  {
   "cell_type": "code",
   "execution_count": null,
   "metadata": {},
   "outputs": [],
   "source": [
    "print(len(maker.fbx_name_list))"
   ]
  },
  {
   "cell_type": "code",
   "execution_count": null,
   "metadata": {
    "scrolled": true
   },
   "outputs": [],
   "source": [
    "maker.WriteAllFBX(\"FBXData\")"
   ]
  },
  {
   "cell_type": "code",
   "execution_count": null,
   "metadata": {},
   "outputs": [],
   "source": [
    "# maker.FBXLoader(\"C:/Users/Yizhou Zhao/Desktop/FBX/MIXAMO/Waving.fbx\")\n",
    "\n",
    "# maker.GetModelNameSpace()\n",
    "# print(maker.namespace)\n",
    "\n",
    "# maker.WriteOneFrame(\"FBXData/panda.txt\")\n",
    "\n",
    "# maker.WriteAllFBX(\"FBXData\")"
   ]
  },
  {
   "cell_type": "code",
   "execution_count": null,
   "metadata": {},
   "outputs": [],
   "source": [
    "import pyautogui \n"
   ]
  },
  {
   "cell_type": "code",
   "execution_count": null,
   "metadata": {},
   "outputs": [],
   "source": [
    "pyautogui.moveTo(100, 100, duration = 0.2) "
   ]
  },
  {
   "cell_type": "code",
   "execution_count": null,
   "metadata": {},
   "outputs": [],
   "source": [
    "pyautogui.click(100, 100) "
   ]
  },
  {
   "cell_type": "markdown",
   "metadata": {},
   "source": [
    "---------------------------------"
   ]
  },
  {
   "cell_type": "code",
   "execution_count": null,
   "metadata": {},
   "outputs": [],
   "source": [
    "from ctypes import windll, Structure, c_long, byref\n",
    "\n",
    "class POINT(Structure):\n",
    "    _fields_ = [(\"x\", c_long), (\"y\", c_long)]\n",
    "\n",
    "def queryMousePosition():\n",
    "    pt = POINT()\n",
    "    windll.user32.GetCursorPos(byref(pt))\n",
    "    return { \"x\": pt.x, \"y\": pt.y}\n",
    "\n",
    "pos = queryMousePosition()\n",
    "print(pos)"
   ]
  },
  {
   "cell_type": "code",
   "execution_count": null,
   "metadata": {},
   "outputs": [],
   "source": [
    "Four_K_Resolution = [3840, 2160]"
   ]
  },
  {
   "cell_type": "code",
   "execution_count": null,
   "metadata": {},
   "outputs": [],
   "source": [
    "import pyautogui \n",
    "import time \n",
    "print(pyautogui.position()) "
   ]
  },
  {
   "cell_type": "code",
   "execution_count": null,
   "metadata": {},
   "outputs": [],
   "source": [
    "start_position = [250, 600]\n",
    "download_position = [3557, 454]\n",
    "frame_per_second_position = [1778, 779]\n",
    "frame_select_rel_position = 30\n",
    "with_skin_position = [2279, 631]\n",
    "skin_select_rel_position = 60\n",
    "download_button_position = [2509, 902]\n",
    "\n",
    "#page\n",
    "scroll_pos = [1907, 736]\n",
    "scroll_drag = 800\n",
    "\n",
    "next_page_pos = [1157, 1720]\n",
    "next_page_pos2 = [1241, 1717]\n",
    "\n",
    "second_page_offset = 70"
   ]
  },
  {
   "cell_type": "code",
   "execution_count": null,
   "metadata": {},
   "outputs": [],
   "source": [
    "def download_one_file(pos):\n",
    "    #download one data\n",
    "    pyautogui.moveTo(pos, duration = 0.2) \n",
    "    pyautogui.click()\n",
    "    time.sleep(1)\n",
    "    pyautogui.moveTo(download_position, duration = 0.2) \n",
    "    pyautogui.click()\n",
    "\n",
    "    pyautogui.moveTo(frame_per_second_position, duration = 0.2) \n",
    "    pyautogui.click()\n",
    "    pyautogui.moveRel(0, frame_select_rel_position, duration = 0.2)\n",
    "    pyautogui.click()\n",
    "\n",
    "    pyautogui.moveTo(with_skin_position, duration = 0.2) \n",
    "    pyautogui.click()\n",
    "    pyautogui.moveRel(0, skin_select_rel_position, duration = 0.2)\n",
    "    pyautogui.click()\n",
    "\n",
    "    pyautogui.moveTo(download_button_position, duration = 0.2) \n",
    "    pyautogui.click()"
   ]
  },
  {
   "cell_type": "code",
   "execution_count": null,
   "metadata": {},
   "outputs": [],
   "source": [
    "next_column = 280\n",
    "next_row = 380"
   ]
  },
  {
   "cell_type": "code",
   "execution_count": null,
   "metadata": {},
   "outputs": [],
   "source": [
    "def download_one_page(page_count):\n",
    "    page_start_position = start_position\n",
    "    if page_count >= 2:\n",
    "        page_start_position[1] += second_page_offset\n",
    "    for i in range(4):\n",
    "        for j in range(6):\n",
    "            pos = [page_start_position[0] + j * next_column, page_start_position[1] + i * next_row]\n",
    "            download_one_file(pos)\n",
    "            time.sleep(6)\n",
    "    \n",
    "    #next page\n",
    "    pyautogui.moveTo(scroll_pos,duration = 0.2)\n",
    "    pyautogui.dragRel(0, scroll_drag, duration = 0.2)\n",
    "    pyautogui.moveTo(next_page_pos2, duration = 0.2)\n",
    "    pyautogui.click()\n",
    "    time.sleep(2)"
   ]
  },
  {
   "cell_type": "code",
   "execution_count": null,
   "metadata": {},
   "outputs": [],
   "source": [
    "#download_one_page(4)\n",
    "download_one_page(11)\n",
    "\n"
   ]
  },
  {
   "cell_type": "code",
   "execution_count": null,
   "metadata": {},
   "outputs": [],
   "source": [
    "pyautogui.moveTo(scroll_pos,duration = 0.2)\n",
    "pyautogui.dragRel(0, scroll_drag, duration = 0.2)\n",
    "pyautogui.moveTo(next_page_pos, duration = 0.2)\n",
    "pyautogui.click()"
   ]
  },
  {
   "cell_type": "code",
   "execution_count": null,
   "metadata": {},
   "outputs": [],
   "source": [
    "for page in range(3, 10):\n",
    "    download_one_page(page)"
   ]
  },
  {
   "cell_type": "code",
   "execution_count": null,
   "metadata": {},
   "outputs": [],
   "source": []
  }
 ],
 "metadata": {
  "kernelspec": {
   "display_name": "Python 3",
   "language": "python",
   "name": "python3"
  },
  "language_info": {
   "codemirror_mode": {
    "name": "ipython",
    "version": 3
   },
   "file_extension": ".py",
   "mimetype": "text/x-python",
   "name": "python",
   "nbconvert_exporter": "python",
   "pygments_lexer": "ipython3",
   "version": "3.7.7"
  }
 },
 "nbformat": 4,
 "nbformat_minor": 4
}
