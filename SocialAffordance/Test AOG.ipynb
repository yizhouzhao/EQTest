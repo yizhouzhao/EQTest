{
 "cells": [
  {
   "cell_type": "code",
   "execution_count": null,
   "metadata": {},
   "outputs": [],
   "source": [
    "from Raven.AoT import *"
   ]
  },
  {
   "cell_type": "code",
   "execution_count": null,
   "metadata": {},
   "outputs": [],
   "source": [
    "scene = Scene(\"scene\", is_pg=False)\n",
    "animation = Animation(\"animation\", is_pg=False)\n",
    "initFrame = InitFrame(\"init frame\", is_pg=False)\n",
    "relativeTransform = RelativeTransform(\"relative transform\", is_pg=False)\n",
    "initPose = Pose(\"init pose\", is_pg=False)\n",
    "relation = Relation(\"relation\", is_pg=False)\n",
    "body = Body(\"body\", is_pg=False)\n",
    "emotion = Emotion(\"emotion\", is_pg=False)"
   ]
  },
  {
   "cell_type": "code",
   "execution_count": null,
   "metadata": {},
   "outputs": [],
   "source": [
    "r = relativeTransform._sample()"
   ]
  },
  {
   "cell_type": "code",
   "execution_count": null,
   "metadata": {},
   "outputs": [],
   "source": [
    "r.position_leaf.relativePosition"
   ]
  },
  {
   "cell_type": "code",
   "execution_count": null,
   "metadata": {},
   "outputs": [],
   "source": []
  }
 ],
 "metadata": {
  "kernelspec": {
   "display_name": "Python 3",
   "language": "python",
   "name": "python3"
  },
  "language_info": {
   "codemirror_mode": {
    "name": "ipython",
    "version": 3
   },
   "file_extension": ".py",
   "mimetype": "text/x-python",
   "name": "python",
   "nbconvert_exporter": "python",
   "pygments_lexer": "ipython3",
   "version": "3.7.6"
  }
 },
 "nbformat": 4,
 "nbformat_minor": 4
}
