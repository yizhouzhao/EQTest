{
 "cells": [
  {
   "cell_type": "markdown",
   "metadata": {},
   "source": [
    "# Test\n",
    "\n",
    "------------------------------------------"
   ]
  },
  {
   "cell_type": "code",
   "execution_count": 1,
   "metadata": {},
   "outputs": [],
   "source": [
    "# from BuildAnimation import *\n",
    "\n",
    "# ab = AnimationBuilder(build_single_person_scene_two_poses)\n",
    "\n",
    "# ab.maya_controller.UndoToBeginning(max_step=1000)\n",
    "\n",
    "# ab.BuildScene()\n",
    "\n",
    "# ab.BuildDefaultFrame()\n",
    "\n",
    "# endFrame_node = ab.pg.node_dict[\"end frame\"]\n",
    "\n",
    "# endFrame_node.next_frame\n",
    "\n",
    "# ab.maya_controller.SetCurrentTimeFrame(endFrame_node.next_frame)\n",
    "\n",
    "# ab.BuildFrame(endFrame_node)\n",
    "\n",
    "# ab.maya_controller.ScreenShot(\"E:/Temp/Test0\")\n",
    "\n",
    "# ab.pg.node_dict\n",
    "\n",
    "# endBody = ab.pg.node_dict['end body']\n",
    "\n",
    "# endBody.chest_leaf.selected_file"
   ]
  },
  {
   "cell_type": "markdown",
   "metadata": {},
   "source": [
    "# Test AOG2"
   ]
  },
  {
   "cell_type": "code",
   "execution_count": 2,
   "metadata": {},
   "outputs": [],
   "source": [
    "from Raven.BuildTree2 import *"
   ]
  },
  {
   "cell_type": "code",
   "execution_count": 3,
   "metadata": {},
   "outputs": [],
   "source": [
    "scene = build_scene()"
   ]
  },
  {
   "cell_type": "code",
   "execution_count": 4,
   "metadata": {},
   "outputs": [
    {
     "data": {
      "text/plain": [
       "{}"
      ]
     },
     "execution_count": 4,
     "metadata": {},
     "output_type": "execute_result"
    }
   ],
   "source": [
    "scene.node_dict"
   ]
  },
  {
   "cell_type": "code",
   "execution_count": 5,
   "metadata": {},
   "outputs": [],
   "source": [
    "pg = scene.sample()"
   ]
  },
  {
   "cell_type": "code",
   "execution_count": 6,
   "metadata": {},
   "outputs": [
    {
     "data": {
      "text/plain": [
       "{'init frame': Frame.init frame,\n",
       " 'transform': Layout.transform,\n",
       " 'relation': Layout.relation,\n",
       " 'animation1': Animation.animation1,\n",
       " 'motion1': Layout.motion1,\n",
       " 'emotion1': Layout.emotion1,\n",
       " 'motion2': Layout.motion2,\n",
       " 'emotion2': Layout.emotion2,\n",
       " 'animation2': Animation.animation2}"
      ]
     },
     "execution_count": 6,
     "metadata": {},
     "output_type": "execute_result"
    }
   ],
   "source": [
    "pg.node_dict"
   ]
  },
  {
   "cell_type": "code",
   "execution_count": 7,
   "metadata": {},
   "outputs": [
    {
     "data": {
      "text/plain": [
       "[4, 1]"
      ]
     },
     "execution_count": 7,
     "metadata": {},
     "output_type": "execute_result"
    }
   ],
   "source": [
    "pg.node_dict['transform'].position_leaf.relativePosition"
   ]
  },
  {
   "cell_type": "code",
   "execution_count": 9,
   "metadata": {},
   "outputs": [
    {
     "name": "stdout",
     "output_type": "stream",
     "text": [
      "same\n",
      "society\n"
     ]
    }
   ],
   "source": [
    "print(pg.node_dict['relation'].generation)\n",
    "print(pg.node_dict['relation'].relation)"
   ]
  },
  {
   "cell_type": "code",
   "execution_count": 11,
   "metadata": {
    "scrolled": true
   },
   "outputs": [
    {
     "name": "stdout",
     "output_type": "stream",
     "text": [
      "Pouting\n",
      "-19.82465329223041\n",
      "Whatever\n",
      "-7.470285044652947\n"
     ]
    }
   ],
   "source": [
    "print(pg.node_dict['motion1'].selected_motion)\n",
    "print(pg.node_dict['motion1'].start_time)\n",
    "print(pg.node_dict['motion2'].selected_motion)\n",
    "print(pg.node_dict['motion2'].start_time)"
   ]
  },
  {
   "cell_type": "code",
   "execution_count": 12,
   "metadata": {},
   "outputs": [
    {
     "name": "stdout",
     "output_type": "stream",
     "text": [
      "Curious\n",
      "Annoyed\n",
      "3.265751842796732\n",
      "Neutral\n",
      "Scared\n",
      "-4.468320524591327\n"
     ]
    }
   ],
   "source": [
    "print(pg.node_dict['emotion1'].start_emotion)\n",
    "print(pg.node_dict['emotion1'].end_emotion)\n",
    "print(pg.node_dict['emotion1'].start_time)\n",
    "print(pg.node_dict['emotion2'].start_emotion)\n",
    "print(pg.node_dict['emotion2'].end_emotion)\n",
    "print(pg.node_dict['emotion2'].start_time)"
   ]
  },
  {
   "cell_type": "code",
   "execution_count": 13,
   "metadata": {},
   "outputs": [
    {
     "data": {
      "text/plain": [
       "'E:\\\\researches\\\\EQTest\\\\SocialAffordance'"
      ]
     },
     "execution_count": 13,
     "metadata": {},
     "output_type": "execute_result"
    }
   ],
   "source": [
    "import os\n",
    "os.getcwd()"
   ]
  },
  {
   "cell_type": "code",
   "execution_count": 19,
   "metadata": {},
   "outputs": [],
   "source": [
    "VAD_DICT = {}"
   ]
  },
  {
   "cell_type": "code",
   "execution_count": 20,
   "metadata": {},
   "outputs": [],
   "source": [
    "with open(\"../data/NRC-VAD-Lexicon.txt\") as f:\n",
    "    for c, line in enumerate(f.readlines()):\n",
    "        if c == 0:\n",
    "            continue\n",
    "        line_info = line.strip().split(\"\\t\")\n",
    "        #print(line_info)\n",
    "        VAD_DICT[line_info[0]] = [float(line_info[1]), float(line_info[2]), float(line_info[3])]"
   ]
  },
  {
   "cell_type": "code",
   "execution_count": 120,
   "metadata": {},
   "outputs": [
    {
     "data": {
      "text/plain": [
       "[0.323, 0.939, 0.565]"
      ]
     },
     "execution_count": 120,
     "metadata": {},
     "output_type": "execute_result"
    }
   ],
   "source": [
    "VAD_DICT[\"Yelling\".lower()]"
   ]
  },
  {
   "cell_type": "code",
   "execution_count": 48,
   "metadata": {},
   "outputs": [
    {
     "data": {
      "text/plain": [
       "'ABC'"
      ]
     },
     "execution_count": 48,
     "metadata": {},
     "output_type": "execute_result"
    }
   ],
   "source": [
    "\"ABC\""
   ]
  },
  {
   "cell_type": "code",
   "execution_count": 26,
   "metadata": {},
   "outputs": [
    {
     "ename": "KeyError",
     "evalue": "'acknowledg'",
     "output_type": "error",
     "traceback": [
      "\u001b[1;31m---------------------------------------------------------------------------\u001b[0m",
      "\u001b[1;31mKeyError\u001b[0m                                  Traceback (most recent call last)",
      "\u001b[1;32m<ipython-input-26-c793a60a8165>\u001b[0m in \u001b[0;36m<module>\u001b[1;34m\u001b[0m\n\u001b[1;32m----> 1\u001b[1;33m \u001b[0mVAD_DICT\u001b[0m\u001b[1;33m[\u001b[0m\u001b[1;34m\"acknowledg\"\u001b[0m\u001b[1;33m]\u001b[0m\u001b[1;33m\u001b[0m\u001b[1;33m\u001b[0m\u001b[0m\n\u001b[0m",
      "\u001b[1;31mKeyError\u001b[0m: 'acknowledg'"
     ]
    }
   ],
   "source": [
    "VAD_DICT[\"acknowledg\"]"
   ]
  },
  {
   "cell_type": "code",
   "execution_count": null,
   "metadata": {},
   "outputs": [],
   "source": []
  }
 ],
 "metadata": {
  "kernelspec": {
   "display_name": "Python 3",
   "language": "python",
   "name": "python3"
  },
  "language_info": {
   "codemirror_mode": {
    "name": "ipython",
    "version": 3
   },
   "file_extension": ".py",
   "mimetype": "text/x-python",
   "name": "python",
   "nbconvert_exporter": "python",
   "pygments_lexer": "ipython3",
   "version": "3.7.7"
  }
 },
 "nbformat": 4,
 "nbformat_minor": 4
}
