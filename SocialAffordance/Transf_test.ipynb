{
 "cells": [
  {
   "cell_type": "code",
   "execution_count": null,
   "metadata": {},
   "outputs": [],
   "source": [
    "#%load_ext autoreload"
   ]
  },
  {
   "cell_type": "code",
   "execution_count": null,
   "metadata": {},
   "outputs": [],
   "source": [
    "# from SeqTransformer import *\n",
    "\n",
    "# input_dim = 198\n",
    "\n",
    "# model = build_seq_transformer(input_dim)\n",
    "\n",
    "# a_input = torch.randn(5, 15, input_dim)\n",
    "# b_input = torch.randn(5, 10, input_dim)\n",
    "# output = model(a_input, b_input)\n",
    "\n",
    "# output[0].shape"
   ]
  },
  {
   "cell_type": "code",
   "execution_count": null,
   "metadata": {},
   "outputs": [],
   "source": [
    "from SeqTransformer import *\n",
    "\n",
    "input_dim = 198\n",
    "\n",
    "model = build_seq_vae(input_dim, 2)"
   ]
  },
  {
   "cell_type": "code",
   "execution_count": null,
   "metadata": {
    "scrolled": true
   },
   "outputs": [],
   "source": [
    "a_input = torch.randn(4, 16, input_dim)\n",
    "b_input = torch.randn(4, 12, input_dim)\n",
    "output,_ = model(a_input, b_input)"
   ]
  },
  {
   "cell_type": "code",
   "execution_count": null,
   "metadata": {
    "scrolled": true
   },
   "outputs": [],
   "source": [
    "output.shape"
   ]
  },
  {
   "cell_type": "code",
   "execution_count": null,
   "metadata": {},
   "outputs": [],
   "source": [
    "model.encoder.config"
   ]
  },
  {
   "cell_type": "code",
   "execution_count": null,
   "metadata": {
    "scrolled": true
   },
   "outputs": [],
   "source": [
    "import numpy as np\n",
    "model_parameters = filter(lambda p: p.requires_grad, model.parameters())\n",
    "params = sum([np.prod(p.size()) for p in model_parameters])\n",
    "print(params)"
   ]
  },
  {
   "cell_type": "markdown",
   "metadata": {},
   "source": [
    "----------------------------------------"
   ]
  },
  {
   "cell_type": "code",
   "execution_count": null,
   "metadata": {},
   "outputs": [],
   "source": [
    "from MotionGPT import *"
   ]
  },
  {
   "cell_type": "code",
   "execution_count": null,
   "metadata": {},
   "outputs": [],
   "source": [
    "device = torch.device(\"cuda\" if torch.cuda.is_available() else \"cpu\")  # device"
   ]
  },
  {
   "cell_type": "code",
   "execution_count": null,
   "metadata": {},
   "outputs": [],
   "source": [
    "loader = FBXDataLoader(\"FBXDataStand//\", has_translate=True)"
   ]
  },
  {
   "cell_type": "code",
   "execution_count": null,
   "metadata": {},
   "outputs": [],
   "source": [
    "loader.LoadData()"
   ]
  },
  {
   "cell_type": "code",
   "execution_count": null,
   "metadata": {},
   "outputs": [],
   "source": [
    "#loader.raw_files"
   ]
  },
  {
   "cell_type": "code",
   "execution_count": null,
   "metadata": {
    "scrolled": true
   },
   "outputs": [],
   "source": [
    "print(len(loader.raw_data),len(loader.raw_data[0]),len(loader.raw_data[0][0]),len(loader.raw_data[0][0][0]))"
   ]
  },
  {
   "cell_type": "code",
   "execution_count": null,
   "metadata": {},
   "outputs": [],
   "source": [
    "count_length = 0\n",
    "for item in loader.raw_data:\n",
    "    count_length += len(item)\n",
    "print(count_length)"
   ]
  },
  {
   "cell_type": "code",
   "execution_count": null,
   "metadata": {},
   "outputs": [],
   "source": [
    "36622 / 24"
   ]
  },
  {
   "cell_type": "code",
   "execution_count": null,
   "metadata": {},
   "outputs": [],
   "source": [
    "loader.translate_scale"
   ]
  },
  {
   "cell_type": "code",
   "execution_count": null,
   "metadata": {},
   "outputs": [],
   "source": [
    "loader.PrepareTrainingData(training_joint_index=[i for i in range(len(G_MIXAMO_JOINTS))])"
   ]
  },
  {
   "cell_type": "code",
   "execution_count": null,
   "metadata": {},
   "outputs": [],
   "source": [
    "print(len(loader.all_data),len(loader.all_data[0]),len(loader.all_data[0][0]))\n",
    "print(len(loader.all_data),len(loader.all_data[-1]),len(loader.all_data[-1][0]))"
   ]
  },
  {
   "cell_type": "code",
   "execution_count": null,
   "metadata": {},
   "outputs": [],
   "source": [
    "print(len(loader.train_data),len(loader.train_data[0]),len(loader.train_data[0][1]))"
   ]
  },
  {
   "cell_type": "code",
   "execution_count": null,
   "metadata": {},
   "outputs": [],
   "source": [
    "#build model for training\n",
    "if torch.cuda.is_available():\n",
    "    model = model.cuda()\n",
    "\n",
    "optim = torch.optim.Adam(model.parameters(), lr=1e-3)"
   ]
  },
  {
   "cell_type": "code",
   "execution_count": null,
   "metadata": {},
   "outputs": [],
   "source": [
    "epochs = 1"
   ]
  },
  {
   "cell_type": "code",
   "execution_count": null,
   "metadata": {},
   "outputs": [],
   "source": [
    "for epoch in range(epochs): \n",
    "    for batch_x, batch_mask in loader.next_batch(batch_size=4):\n",
    "        if len(batch_x[0]) < 2:\n",
    "            continue\n",
    "\n",
    "        batch_x = batch_x.to(device)\n",
    "        batch_mask = batch_mask.to(device)\n",
    "\n",
    "        batch_x_decoder_input = batch_x[:,1:, :] # Batch x (Length - 1) x Dim\n",
    "        batch_x_encoder_input = batch_x[:,:-1, :] # Batch x (Length - 1) x Dim\n",
    "\n",
    "        batch_mask_encoder_input = batch_mask[:, 1:] # Batch x (Length - 1)\n",
    "\n",
    "        batch_output, gaussian_params = model(batch_x_encoder_input, batch_x_decoder_input)\n",
    "        \n",
    "        mse_loss = calculate_mse_loss(batch_output, batch_x_decoder_input, batch_mask_encoder_input)\n",
    "\n",
    "        kld_loss = calculate_kld_gauss(*gaussian_params, batch_mask_encoder_input)    \n",
    "\n",
    "        total_loss = mse_loss + kld_loss\n",
    "\n",
    "        optim.zero_grad()\n",
    "        total_loss.backward()\n",
    "        optim.step()\n",
    "        \n",
    "        break\n",
    "\n",
    "        print(total_loss)\n",
    "                                    "
   ]
  },
  {
   "cell_type": "code",
   "execution_count": null,
   "metadata": {
    "scrolled": false
   },
   "outputs": [],
   "source": [
    "mse_loss"
   ]
  },
  {
   "cell_type": "code",
   "execution_count": null,
   "metadata": {},
   "outputs": [],
   "source": [
    "batch_mask.shape"
   ]
  },
  {
   "cell_type": "code",
   "execution_count": null,
   "metadata": {
    "scrolled": true
   },
   "outputs": [],
   "source": [
    "torch.sum(batch_mask)"
   ]
  },
  {
   "cell_type": "code",
   "execution_count": null,
   "metadata": {},
   "outputs": [],
   "source": [
    "batch_x.shape"
   ]
  },
  {
   "cell_type": "code",
   "execution_count": null,
   "metadata": {},
   "outputs": [],
   "source": [
    "torch.max(batch_x_decoder_input)"
   ]
  },
  {
   "cell_type": "code",
   "execution_count": null,
   "metadata": {},
   "outputs": [],
   "source": [
    "from Params import *\n",
    "from VRNN import *"
   ]
  },
  {
   "cell_type": "code",
   "execution_count": null,
   "metadata": {},
   "outputs": [],
   "source": [
    "input_dim = len(loader.train_data[0][1])\n",
    "device = torch.device(\"cuda\" if torch.cuda.is_available() else \"cpu\")  # device\n",
    "\n",
    "print(\"Training data dim:\", input_dim)\n",
    "print(\"Training on device: \", device)\n",
    "#Build model\n",
    "model2 = VRNN(input_dim, h_dim, z_dim, n_layers, device)\n",
    "model2.to(device)\n",
    "optimizer = torch.optim.Adam(model2.parameters(), lr=learning_rate)\n"
   ]
  },
  {
   "cell_type": "code",
   "execution_count": null,
   "metadata": {},
   "outputs": [],
   "source": [
    "epochs = 1"
   ]
  },
  {
   "cell_type": "code",
   "execution_count": null,
   "metadata": {},
   "outputs": [],
   "source": [
    "#Train\n",
    "for epoch in range(epochs):\n",
    "    batch_idx = 0\n",
    "    model.train()\n",
    "    for batch_data, pad_data in loader.next_batch(batch_size=4, batch_first=False):\n",
    "        batch_idx += 1\n",
    "\n",
    "        batch_data = batch_data.to(device)\n",
    "        pad_data = pad_data.to(device)\n",
    "\n",
    "        optimizer.zero_grad()\n",
    "\n",
    "        kld_loss, mse_loss, _, _ = model2(batch_data, pad_data)\n",
    "        #kld_loss = kld_loss / torch.sum(pad_data)\n",
    "        #mse_loss = mse_loss / torch.sum(pad_data)\n",
    "\n",
    "        #print(torch.sum(pad_data))\n",
    "        #print(torch.sum(pad_data))\n",
    "\n",
    "        loss = kld_loss + mse_loss\n",
    "        loss.backward()\n",
    "\n",
    "        # grad norm clipping, only in pytorch version >= 1.10\n",
    "        torch.nn.utils.clip_grad_norm_(model.parameters(), clip)\n",
    "        optimizer.step()\n",
    "        \n",
    "        break"
   ]
  },
  {
   "cell_type": "code",
   "execution_count": null,
   "metadata": {},
   "outputs": [],
   "source": [
    "batch_data.shape"
   ]
  },
  {
   "cell_type": "code",
   "execution_count": null,
   "metadata": {},
   "outputs": [],
   "source": [
    "torch.max(batch_data)"
   ]
  },
  {
   "cell_type": "code",
   "execution_count": null,
   "metadata": {},
   "outputs": [],
   "source": [
    "mse_loss"
   ]
  },
  {
   "cell_type": "code",
   "execution_count": null,
   "metadata": {},
   "outputs": [],
   "source": [
    "pad_data.shape"
   ]
  },
  {
   "cell_type": "code",
   "execution_count": null,
   "metadata": {},
   "outputs": [],
   "source": [
    "a = torch.randn(4,14,198)\n",
    "b = torch.randn(4,14,198)\n",
    "c = torch.empty(4, 14).random_(2)"
   ]
  },
  {
   "cell_type": "code",
   "execution_count": null,
   "metadata": {},
   "outputs": [],
   "source": [
    "calculate_mse_loss(a, b, c)"
   ]
  },
  {
   "cell_type": "code",
   "execution_count": null,
   "metadata": {},
   "outputs": [],
   "source": [
    "a1 = a[:,0,:]\n",
    "b1 = b[:,0,:]\n",
    "c1 = c[:,0]"
   ]
  },
  {
   "cell_type": "code",
   "execution_count": null,
   "metadata": {},
   "outputs": [],
   "source": []
  },
  {
   "cell_type": "code",
   "execution_count": null,
   "metadata": {},
   "outputs": [],
   "source": []
  }
 ],
 "metadata": {
  "kernelspec": {
   "display_name": "Python 3",
   "language": "python",
   "name": "python3"
  },
  "language_info": {
   "codemirror_mode": {
    "name": "ipython",
    "version": 3
   },
   "file_extension": ".py",
   "mimetype": "text/x-python",
   "name": "python",
   "nbconvert_exporter": "python",
   "pygments_lexer": "ipython3",
   "version": "3.7.9"
  }
 },
 "nbformat": 4,
 "nbformat_minor": 4
}
