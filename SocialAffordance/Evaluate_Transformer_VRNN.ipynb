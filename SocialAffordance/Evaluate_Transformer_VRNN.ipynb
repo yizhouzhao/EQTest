{
 "cells": [
  {
   "cell_type": "code",
   "execution_count": 1,
   "metadata": {},
   "outputs": [],
   "source": [
    "from MotionGPT import *"
   ]
  },
  {
   "cell_type": "code",
   "execution_count": 2,
   "metadata": {},
   "outputs": [
    {
     "data": {
      "text/plain": [
       "'1.7.0'"
      ]
     },
     "execution_count": 2,
     "metadata": {},
     "output_type": "execute_result"
    }
   ],
   "source": [
    "torch.__version__"
   ]
  },
  {
   "cell_type": "code",
   "execution_count": 3,
   "metadata": {},
   "outputs": [],
   "source": [
    "device = torch.device(\"cuda\" if torch.cuda.is_available() else \"cpu\")  # device"
   ]
  },
  {
   "cell_type": "code",
   "execution_count": 4,
   "metadata": {},
   "outputs": [
    {
     "name": "stdout",
     "output_type": "stream",
     "text": [
      "FBXDataLoader loading data...\n"
     ]
    },
    {
     "data": {
      "application/vnd.jupyter.widget-view+json": {
       "model_id": "70f40677a8f84cd7821035b6e5205168",
       "version_major": 2,
       "version_minor": 0
      },
      "text/plain": [
       "HBox(children=(HTML(value=''), FloatProgress(value=0.0, max=149.0), HTML(value='')))"
      ]
     },
     "metadata": {},
     "output_type": "display_data"
    },
    {
     "name": "stdout",
     "output_type": "stream",
     "text": [
      "\n",
      "Hip Spine distance as scale:  3.971305111266949\n"
     ]
    }
   ],
   "source": [
    "loader = FBXDataLoader(\"FBXDataStand//\", has_translate=True)\n",
    "loader.LoadData()"
   ]
  },
  {
   "cell_type": "code",
   "execution_count": 5,
   "metadata": {},
   "outputs": [
    {
     "name": "stdout",
     "output_type": "stream",
     "text": [
      "298 46 65 6\n"
     ]
    }
   ],
   "source": [
    "print(len(loader.raw_data),len(loader.raw_data[0]),len(loader.raw_data[0][0]),len(loader.raw_data[0][0][0]))"
   ]
  },
  {
   "cell_type": "code",
   "execution_count": 6,
   "metadata": {},
   "outputs": [
    {
     "data": {
      "text/plain": [
       "19.856525556334745"
      ]
     },
     "execution_count": 6,
     "metadata": {},
     "output_type": "execute_result"
    }
   ],
   "source": [
    "loader.translate_scale"
   ]
  },
  {
   "cell_type": "code",
   "execution_count": 7,
   "metadata": {},
   "outputs": [
    {
     "data": {
      "application/vnd.jupyter.widget-view+json": {
       "model_id": "d7f7f2b78182416aafa9a983a897097f",
       "version_major": 2,
       "version_minor": 0
      },
      "text/plain": [
       "HBox(children=(HTML(value=''), FloatProgress(value=0.0, max=298.0), HTML(value='')))"
      ]
     },
     "metadata": {},
     "output_type": "display_data"
    },
    {
     "name": "stdout",
     "output_type": "stream",
     "text": [
      "\n"
     ]
    }
   ],
   "source": [
    "loader.PrepareTrainingData(training_joint_index=[i for i in range(len(G_MIXAMO_JOINTS))])"
   ]
  },
  {
   "cell_type": "code",
   "execution_count": 8,
   "metadata": {},
   "outputs": [
    {
     "name": "stdout",
     "output_type": "stream",
     "text": [
      "3528 4 198\n",
      "3528 8 198\n"
     ]
    }
   ],
   "source": [
    "print(len(loader.all_data),len(loader.all_data[0]),len(loader.all_data[0][0]))\n",
    "print(len(loader.all_data),len(loader.all_data[-1]),len(loader.all_data[-1][0]))"
   ]
  },
  {
   "cell_type": "code",
   "execution_count": 9,
   "metadata": {},
   "outputs": [
    {
     "name": "stdout",
     "output_type": "stream",
     "text": [
      "2822 9 198\n"
     ]
    }
   ],
   "source": [
    "print(len(loader.train_data),len(loader.train_data[0]),len(loader.train_data[0][1]))"
   ]
  },
  {
   "cell_type": "markdown",
   "metadata": {},
   "source": [
    "# Transformer"
   ]
  },
  {
   "cell_type": "code",
   "execution_count": 117,
   "metadata": {},
   "outputs": [],
   "source": [
    "from SeqTransformer import *\n",
    "\n",
    "input_dim = 198\n",
    "\n",
    "model = build_seq_vae(input_dim, 2)"
   ]
  },
  {
   "cell_type": "code",
   "execution_count": 118,
   "metadata": {},
   "outputs": [
    {
     "name": "stdout",
     "output_type": "stream",
     "text": [
      "6266118\n"
     ]
    }
   ],
   "source": [
    "import numpy as np\n",
    "model_parameters = filter(lambda p: p.requires_grad, model.parameters())\n",
    "params = sum([np.prod(p.size()) for p in model_parameters])\n",
    "print(params)"
   ]
  },
  {
   "cell_type": "code",
   "execution_count": 119,
   "metadata": {},
   "outputs": [
    {
     "data": {
      "text/plain": [
       "<All keys matched successfully>"
      ]
     },
     "execution_count": 119,
     "metadata": {},
     "output_type": "execute_result"
    }
   ],
   "source": [
    "model.load_state_dict(torch.load(\"record/2020_12_08_11_06_18.pt\").state_dict())"
   ]
  },
  {
   "cell_type": "code",
   "execution_count": 120,
   "metadata": {},
   "outputs": [],
   "source": [
    "#build model for training\n",
    "if torch.cuda.is_available():\n",
    "    model = model.cuda()"
   ]
  },
  {
   "cell_type": "code",
   "execution_count": 135,
   "metadata": {},
   "outputs": [],
   "source": [
    "batch_x, batch_mask = next(iter(loader.next_batch(batch_size=16)))"
   ]
  },
  {
   "cell_type": "code",
   "execution_count": 136,
   "metadata": {},
   "outputs": [],
   "source": [
    "batch_x = batch_x.to(device)\n",
    "batch_mask = batch_mask.to(device)\n",
    "\n",
    "batch_x_decoder_input = batch_x[:,1:, :] # Batch x (Length - 1) x Dim\n",
    "batch_x_encoder_input = batch_x[:,:-1, :] # Batch x (Length - 1) x Dim\n",
    "\n",
    "batch_mask_encoder_input = batch_mask[:, 1:] # Batch x (Length - 1)\n",
    "\n",
    "batch_output, gaussian_params = model(batch_x_encoder_input, batch_x_decoder_input)\n"
   ]
  },
  {
   "cell_type": "code",
   "execution_count": 137,
   "metadata": {},
   "outputs": [
    {
     "data": {
      "text/plain": [
       "torch.Size([16, 32, 198])"
      ]
     },
     "execution_count": 137,
     "metadata": {},
     "output_type": "execute_result"
    }
   ],
   "source": [
    "batch_x_decoder_input.shape"
   ]
  },
  {
   "cell_type": "code",
   "execution_count": 138,
   "metadata": {},
   "outputs": [
    {
     "data": {
      "text/plain": [
       "torch.Size([16, 32, 198])"
      ]
     },
     "execution_count": 138,
     "metadata": {},
     "output_type": "execute_result"
    }
   ],
   "source": [
    "batch_output.shape"
   ]
  },
  {
   "cell_type": "code",
   "execution_count": 139,
   "metadata": {},
   "outputs": [
    {
     "data": {
      "text/plain": [
       "tensor(1096.7168, device='cuda:0', grad_fn=<MeanBackward0>)"
      ]
     },
     "execution_count": 139,
     "metadata": {},
     "output_type": "execute_result"
    }
   ],
   "source": [
    "torch.mean((batch_output - batch_x_decoder_input)**2)"
   ]
  },
  {
   "cell_type": "code",
   "execution_count": 141,
   "metadata": {},
   "outputs": [],
   "source": [
    "differences = (batch_output - batch_x_decoder_input)**2"
   ]
  },
  {
   "cell_type": "code",
   "execution_count": 142,
   "metadata": {},
   "outputs": [
    {
     "data": {
      "text/plain": [
       "torch.Size([16, 32, 198])"
      ]
     },
     "execution_count": 142,
     "metadata": {},
     "output_type": "execute_result"
    }
   ],
   "source": [
    "differences.shape"
   ]
  },
  {
   "cell_type": "code",
   "execution_count": 127,
   "metadata": {},
   "outputs": [],
   "source": [
    "differences = differences.view(-1).data.cpu()"
   ]
  },
  {
   "cell_type": "code",
   "execution_count": 128,
   "metadata": {},
   "outputs": [],
   "source": [
    "differences = np.asarray(differences)"
   ]
  },
  {
   "cell_type": "code",
   "execution_count": 130,
   "metadata": {},
   "outputs": [
    {
     "data": {
      "text/plain": [
       "array([1.59631670e-02, 2.06513405e-02, 2.79721804e-02, 2.14542844e-03,\n",
       "       7.87983894e-01, 4.00245428e-01, 3.67561054e+00, 1.27786171e+00,\n",
       "       6.20582163e-01, 7.49583900e-01, 2.61193252e+00, 2.11998248e+00,\n",
       "       6.06320381e-01, 2.37586570e+00, 1.93475866e+00, 2.67087784e+01,\n",
       "       1.51021138e-01, 8.15830994e+00, 1.42563945e-02, 3.13615952e+01],\n",
       "      dtype=float32)"
      ]
     },
     "execution_count": 130,
     "metadata": {},
     "output_type": "execute_result"
    }
   ],
   "source": [
    "differences[:20]"
   ]
  },
  {
   "cell_type": "code",
   "execution_count": 131,
   "metadata": {},
   "outputs": [],
   "source": [
    "import seaborn as sns\n",
    "import matplotlib.pyplot as plt"
   ]
  },
  {
   "cell_type": "code",
   "execution_count": 132,
   "metadata": {
    "scrolled": false
   },
   "outputs": [
    {
     "data": {
      "image/png": "[encoded data removed]",
      "text/plain": [
       "<Figure size 360x360 with 1 Axes>"
      ]
     },
     "metadata": {},
     "output_type": "display_data"
    }
   ],
   "source": [
    "penguins = sns.load_dataset(\"penguins\")\n",
    "sns.displot(penguins[\"flipper_length_mm\"])\n",
    "plt.show()"
   ]
  },
  {
   "cell_type": "code",
   "execution_count": 133,
   "metadata": {},
   "outputs": [
    {
     "data": {
      "image/png": "[encoded data removed]",
      "text/plain": [
       "<Figure size 360x360 with 1 Axes>"
      ]
     },
     "metadata": {},
     "output_type": "display_data"
    }
   ],
   "source": [
    "sns.displot(differences[:1000])\n",
    "plt.xlim(0, 50)\n",
    "plt.show()"
   ]
  },
  {
   "cell_type": "code",
   "execution_count": null,
   "metadata": {},
   "outputs": [],
   "source": [
    "sns.kdeplot(differences[:1000])\n",
    "plt.xlim(0, 50)\n",
    "plt.show()"
   ]
  },
  {
   "cell_type": "code",
   "execution_count": 34,
   "metadata": {},
   "outputs": [
    {
     "data": {
      "text/plain": [
       "array([7.87730154e-04, 7.41467206e-03, 9.46347974e-03, 1.05869389e+00,\n",
       "       3.42653058e-02, 7.05535746e+00, 8.03598285e-01, 1.35121429e+00,\n",
       "       3.35250258e-01, 3.68032664e-01, 1.40647745e+00, 1.00323362e-02,\n",
       "       1.91124126e-01, 1.07175112e+00, 3.22156027e-02, 2.14281138e-02,\n",
       "       2.16956615e+00, 1.15328457e-03, 1.00679596e+02, 6.31560211e+01,\n",
       "       1.20750022e+00, 5.77243185e-03, 1.36477044e-02, 2.99021993e-02,\n",
       "       6.63199544e-01, 1.12441702e+01, 5.93239861e+01, 4.51141319e+01,\n",
       "       1.02779984e+02, 1.45010865e+00, 1.87569812e-01, 1.89181197e+00,\n",
       "       1.11477697e+00, 1.19423304e+01, 3.94791565e+01, 1.04445229e+01,\n",
       "       3.29564056e+01, 1.90526905e+01, 7.80996227e+00, 2.52978992e+00,\n",
       "       6.17987967e+00, 1.90590302e+02, 1.20056610e+01, 4.02211189e+00,\n",
       "       9.09791565e+00, 2.98524778e-02, 2.13535340e-03, 1.03440741e-02,\n",
       "       9.80618134e+01, 1.43164426e-01, 2.26943092e+01, 5.66130486e+01,\n",
       "       2.51757074e-02, 1.13209255e-01, 5.92404509e+00, 1.13065131e-01,\n",
       "       7.21947402e-02, 6.27153413e-03, 1.89408404e-03, 1.32191658e-03,\n",
       "       6.40025663e+00, 3.72816734e-02, 3.07616925e+00, 1.19712371e-02,\n",
       "       1.82615608e-01, 9.55403969e-02, 5.37636900e+00, 5.31255305e-02,\n",
       "       3.20343703e-01, 5.79706952e-03, 4.82689915e-03, 6.93888776e-03,\n",
       "       6.49539709e+00, 1.46090686e+00, 4.14189585e-02, 2.28560495e+00,\n",
       "       2.70461547e-03, 6.22644067e-01, 1.53707892e-01, 5.81650063e-02,\n",
       "       4.14609414e-04, 1.50781935e-02, 9.50634785e-06, 7.48205036e-02,\n",
       "       2.20365238e+00, 1.50026500e+00, 9.06173515e+00, 2.23470235e+00,\n",
       "       1.48877110e-02, 5.39979219e+00, 2.69552255e+00, 1.39357406e-03,\n",
       "       2.85230274e-03, 1.19098273e-04, 1.91544779e-02, 6.02044761e-02,\n",
       "       1.07804416e-02, 1.91122341e+01, 1.09121132e+02, 1.36487379e+01,\n",
       "       7.31820908e+01, 3.60527068e-01, 5.10407627e-01, 4.94938307e-02,\n",
       "       2.22586370e+00, 7.55673523e+01, 3.50801926e+01, 2.95016021e-01,\n",
       "       2.51203537e-01, 4.73493290e+00, 1.56714125e+01, 6.63401556e+00,\n",
       "       1.21885724e-02, 5.44068310e-03, 4.58556290e+01, 3.26248169e+00,\n",
       "       1.51933838e+02, 7.33601395e-03, 2.10028677e-03, 4.30948846e-03,\n",
       "       4.15120621e+01, 5.75161994e-01, 8.48149657e-01, 6.40898438e+01,\n",
       "       1.88678890e-01, 9.90686059e-01, 3.98842125e+01, 3.32123861e-02,\n",
       "       5.19397259e-01, 4.57062013e-02, 2.24272651e-03, 7.06771214e-04,\n",
       "       8.84452248e+00, 4.67219390e-02, 1.76329327e+01, 1.23856640e+01,\n",
       "       3.24735371e-03, 1.92753136e-01, 1.06528592e+00, 4.48583579e-03,\n",
       "       4.00630347e-02, 1.87036709e-03, 1.62828658e-02, 4.97244619e-05,\n",
       "       1.03655624e+00, 5.14537752e-01, 1.20846868e+00, 9.30595934e-01,\n",
       "       3.63437133e-03, 1.36799023e-01, 6.85068741e+01, 1.98678412e-02,\n",
       "       7.65785933e-01, 2.55336463e-02, 2.61148568e-02, 2.95455344e-02,\n",
       "       1.65382363e-02, 2.19343393e-03, 5.12806356e-01, 6.63831282e+00,\n",
       "       1.11812852e-01, 5.55270433e+00, 5.27726936e+01, 6.42126752e-03,\n",
       "       5.44799447e-01, 1.06230099e-02, 2.24858668e-04, 5.37836105e-02,\n",
       "       6.74355412e+00, 3.23980446e+01, 3.13829842e+01, 1.38256683e+01,\n",
       "       1.32640438e+01, 8.22336435e-01, 6.34079313e+00, 2.39229202e+00,\n",
       "       1.14096212e+01, 3.92486334e+00, 1.18534124e+00, 5.26121003e-04,\n",
       "       1.16084260e-03, 1.33885397e-02, 4.25980799e-03, 3.16061091e+00,\n",
       "       8.64359188e+00, 2.55927181e+00, 1.08371439e+01, 2.28351707e+01,\n",
       "       1.43987715e+00, 6.41935050e-01, 3.20144539e+01, 1.58151686e+00,\n",
       "       6.88477337e-01, 6.67888939e-01, 4.99841012e-02, 6.21541450e-03,\n",
       "       9.42772604e-04, 1.30341528e-02, 3.47020221e-03, 6.84880419e-03,\n",
       "       1.04341861e-02, 1.43186855e+00, 3.35637838e-01, 6.29515409e+00,\n",
       "       2.93326020e-01, 1.42129016e+00, 2.74475873e-01, 1.38950376e-02,\n",
       "       1.45042622e+00, 1.86785404e-02, 1.16357405e-03, 1.16126001e+00,\n",
       "       2.20454428e-02, 2.23882213e-01, 2.05948997e+00, 7.09508033e-03,\n",
       "       1.20624611e+02, 6.13779984e+01, 2.16327071e+00, 5.42368647e-03,\n",
       "       1.62044354e-02, 2.66364738e-02, 1.05466914e+00, 1.36529560e+01,\n",
       "       6.81993561e+01, 4.35725708e+01, 1.10578827e+02, 2.41511440e+00,\n",
       "       1.90131858e-01, 2.16627836e+00, 2.97269869e+00, 1.90326653e+01,\n",
       "       2.22825356e+01, 3.03731785e+01, 4.25843620e+01, 2.06252232e+01,\n",
       "       2.47054062e+01, 1.76572514e+00, 7.54583073e+00, 1.86758362e+02,\n",
       "       1.27497501e+01, 3.06182408e+00, 1.98572311e+01, 2.97565330e-02,\n",
       "       2.48332298e-03, 1.10528655e-02, 9.30615387e+01, 8.90075192e-02,\n",
       "       2.64521179e+01, 6.43278427e+01, 3.42725553e-02, 1.32008776e-01,\n",
       "       5.78807735e+00, 1.14017524e-01, 7.43384659e-02, 7.15635205e-03,\n",
       "       2.60123401e-03, 2.00531865e-03, 1.03905420e+01, 2.58392654e-02,\n",
       "       3.32740569e+00, 4.72850353e-01, 2.58251309e-01, 5.88475689e-02,\n",
       "       6.32542801e+00, 5.68683892e-02, 3.12885255e-01, 5.21716895e-03,\n",
       "       5.33883134e-03, 5.34678157e-03, 5.82841587e+00, 1.26249731e+00,\n",
       "       7.26090548e-06, 5.78096211e-01, 1.37123058e-03, 8.79035234e-01,\n",
       "       1.18617550e-01, 4.52076793e-02, 4.28035783e-05, 1.49061326e-02,\n",
       "       7.84238291e-05, 7.70285800e-02, 4.30469401e-02, 1.24889541e+00,\n",
       "       7.46881104e+00, 2.38437963e+00, 2.67270505e-02, 6.01918650e+00,\n",
       "       3.44511104e+00, 3.34977172e-03, 3.22928187e-03, 3.12145380e-06,\n",
       "       2.08984446e-02, 6.32494539e-02, 8.87271985e-02, 2.02860184e+01,\n",
       "       1.10757233e+02, 1.74518070e+01, 4.96452141e+01, 4.08608615e-01,\n",
       "       4.24269885e-01, 7.86696151e-02, 2.32470179e+00, 7.82245789e+01,\n",
       "       3.58268547e+01, 6.69688210e-02, 1.63766336e+00, 3.23719811e+00,\n",
       "       3.87188148e+01, 2.92821288e+00, 3.17663044e-01, 3.34214211e+00,\n",
       "       3.80920868e+01, 2.36200905e+00, 1.25328918e+02, 7.62259122e-03,\n",
       "       3.16935359e-03, 4.74373670e-03, 3.98214149e+01, 4.49513793e-01,\n",
       "       1.08336806e+00, 7.04253311e+01, 2.31839299e-01, 1.01212168e+00,\n",
       "       3.81137085e+01, 2.98722740e-02, 5.05117357e-01, 4.19873074e-02,\n",
       "       2.10940791e-03, 8.35963234e-04, 5.05201674e+00, 2.25831009e-02,\n",
       "       1.71863422e+01, 1.61559715e+01, 1.15683349e-02, 2.49950409e-01,\n",
       "       1.09158278e+00, 2.42343382e-03, 3.70045863e-02, 3.00596235e-03,\n",
       "       1.52481236e-02, 7.40896867e-05, 2.50797343e+00, 3.56166005e-01,\n",
       "       2.00007033e+00, 4.72748041e-01, 6.37340313e-03, 2.10588306e-01,\n",
       "       7.03264313e+01, 2.24275682e-02, 7.26177037e-01, 2.62987390e-02,\n",
       "       2.59185378e-02, 3.25288214e-02, 1.99242644e-02, 1.21915422e-01,\n",
       "       2.50513935e+00, 8.40127182e+00, 1.05694681e-01, 5.22817373e+00,\n",
       "       5.06954842e+01, 7.65853561e-03, 5.14972687e-01, 1.25254979e-02,\n",
       "       5.78285370e-04, 5.45293093e-02, 6.64878893e+00, 3.21199570e+01,\n",
       "       2.70712585e+01, 1.90358009e+01, 9.92403889e+00, 1.10327411e+00,\n",
       "       9.07059383e+00, 3.85893130e+00, 8.41573429e+00, 3.35803533e+00,\n",
       "       1.00587773e+00, 4.00617113e-03, 6.20236213e-04, 1.48323448e-02,\n",
       "       5.22624096e-03, 2.80382633e+00, 1.05266695e+01, 5.99825191e+00,\n",
       "       1.80750904e+01, 2.19125481e+01, 1.25240743e+00, 1.66529346e+00,\n",
       "       3.12201309e+01, 4.36584145e-01, 9.48112905e-01, 5.58531165e-01,\n",
       "       4.28001359e-02, 7.01514725e-03, 8.16940505e-04, 1.60291065e-02,\n",
       "       8.28199927e-03, 1.46438345e-01, 1.86689109e-01, 2.22342297e-01,\n",
       "       3.98553009e+01, 4.17013311e+00, 1.07066479e+01, 8.35097218e+00,\n",
       "       4.63960409e+00, 1.75603902e+00, 3.94672894e+00, 6.95327163e-01,\n",
       "       5.80568552e-01, 5.58708858e+00, 3.16872072e+00, 4.11560392e+00,\n",
       "       3.86074209e+00, 9.74417552e-02, 1.25988663e+02, 7.19928894e+01,\n",
       "       6.18351936e+00, 2.16851731e-06, 1.77423991e-02, 7.20946630e-03,\n",
       "       1.03625231e+01, 2.98772168e+00, 1.34194656e+02, 7.48385193e+02,\n",
       "       8.88670837e+02, 2.61816681e+02, 2.67005205e+00, 1.62808355e-02,\n",
       "       8.04376526e+01, 1.17358231e+02, 1.07068033e+01, 3.08668823e+02,\n",
       "       1.87473877e+02, 1.07829895e+01, 3.99723091e+01, 4.42843390e+00,\n",
       "       2.95185108e+01, 6.97647667e+00, 1.09112597e+01, 4.45426106e-01,\n",
       "       2.31427811e+02, 4.37314510e-02, 1.12937115e-01, 1.87686150e-04,\n",
       "       2.41799641e+01, 5.63661337e+00, 7.95453568e+01, 8.07385817e-02,\n",
       "       1.81608662e-01, 6.99573398e-01, 7.32224658e-02, 5.02115525e-02,\n",
       "       5.04629016e-01, 4.12839912e-02, 2.08744803e-03, 1.75596923e-02,\n",
       "       7.22069442e-01, 3.31281386e-02, 3.97230797e+01, 3.21491480e+00,\n",
       "       2.15988517e-01, 5.26413381e-01, 6.06118660e+01, 2.29359837e-03,\n",
       "       1.38567507e+00, 9.16097090e-02, 2.33177468e-02, 1.11579105e-01,\n",
       "       4.23299522e+01, 1.21675432e+00, 2.78288002e+01, 1.74653232e-01,\n",
       "       5.35992086e-01, 9.20227289e-01, 7.69659567e+00, 7.06248999e-01,\n",
       "       9.61594343e-01, 3.81367136e-06, 5.16082044e-04, 1.13421353e-02,\n",
       "       3.17908344e+01, 6.31770372e+00, 1.95745411e+01, 2.29670286e+00,\n",
       "       1.32040054e-01, 2.01472702e+01, 1.04295340e+01, 1.31058916e-01,\n",
       "       6.72272623e-01, 1.46133453e-01, 1.60111468e-02, 2.68717054e-02,\n",
       "       9.04522552e+01, 2.99150157e+00, 3.01393547e+01, 3.47997223e+02,\n",
       "       2.13568344e+01, 2.39974365e+01, 1.02143532e+02, 2.49848866e+00,\n",
       "       1.96357876e-01, 5.19516052e+02, 7.57629395e+02, 1.87750549e+01,\n",
       "       5.68978405e+00, 6.35542870e+00, 3.13660278e+02, 1.06873429e+00,\n",
       "       2.26812592e+01, 3.54677277e+01, 4.52231312e+00, 1.29674625e+00,\n",
       "       5.36568947e+01, 1.09313801e-03, 1.01328976e-01, 1.14723435e-02,\n",
       "       4.11703491e+01, 9.96545434e-01, 9.45324421e+00, 1.32020531e+01,\n",
       "       2.16105175e+00, 1.31965244e+00, 4.40225182e+01, 6.02213480e-03,\n",
       "       1.33232582e+00, 2.05227882e-01, 2.72852625e-03, 1.26230635e-03,\n",
       "       5.26094246e+00, 6.71823649e-03, 2.52504673e+01, 9.03613091e+00,\n",
       "       1.99584770e+00, 1.60804931e-02, 1.60600452e+01, 3.11681330e-01,\n",
       "       1.79944170e+00, 5.16075790e-02, 2.53976025e-02, 6.98035657e-02,\n",
       "       4.67245636e+01, 8.14121819e+00, 2.36914120e+01, 2.15366936e+01,\n",
       "       4.52237177e+00, 2.66611934e-01, 1.52088409e+02, 5.23970902e-01,\n",
       "       2.85283852e+00, 8.40167329e-03, 6.42434647e-03, 3.08788829e-02,\n",
       "       6.90962362e+00, 1.94693565e+00, 2.46964569e+01, 5.02384710e+00,\n",
       "       8.46072793e-01, 3.15495185e-04, 1.77129959e+02, 8.80911469e-01,\n",
       "       2.78097415e+00, 3.43400873e-02, 2.49491055e-02, 8.42079462e-04,\n",
       "       4.84281082e+01, 5.72151375e+01, 6.29501057e+00, 4.38490753e+01,\n",
       "       2.68099213e+01, 1.36408873e+01, 2.36098461e+01, 7.37858868e+00,\n",
       "       1.19872150e+01, 8.96386337e+00, 2.62462950e+00, 1.89174664e+00,\n",
       "       4.93660104e-03, 3.40995975e-02, 3.75835079e-04, 2.56908970e+01,\n",
       "       8.56370068e+00, 2.34400749e+01, 6.81300201e+01, 1.04232302e+01,\n",
       "       3.07210302e+00, 4.19700966e+01, 3.07170658e+01, 5.46253681e+00,\n",
       "       1.57204399e+01, 1.25596559e+00, 2.45164812e-01, 2.03122329e-02,\n",
       "       1.05419080e-03, 2.29187384e-02, 4.68110666e-03, 2.79450566e-01,\n",
       "       2.27416798e-01, 9.29929495e-01, 3.57928162e+01, 3.09104023e+01,\n",
       "       8.63944709e-01, 4.22350264e+00, 9.94068623e+00, 2.86232471e+00,\n",
       "       7.79408365e-02, 3.02476227e-01, 2.95583773e+00, 3.96919101e-02,\n",
       "       3.21207809e+00, 8.45119858e+01, 1.57609999e+00, 6.84630573e-01,\n",
       "       1.19900990e+01, 8.03907242e+01, 7.36838067e-03, 4.91929706e-04,\n",
       "       5.24108894e-02, 1.50049441e-02, 3.62391701e+01, 3.10451984e-01,\n",
       "       9.69046555e+01, 7.20585876e+02, 1.01554559e+03, 3.19551697e+02,\n",
       "       7.80633748e-01, 8.30924429e-04, 1.06228390e+01, 7.44075562e+02,\n",
       "       2.15241261e+01, 5.39492615e+02, 6.03090286e+01, 1.64732313e+00,\n",
       "       2.40101957e+00, 1.69071960e+00, 3.38732948e+01, 4.01626730e+00,\n",
       "       8.77958012e+00, 2.04497528e+00, 1.72820969e+02, 2.30439119e-02,\n",
       "       1.44731015e-01, 3.16679291e-03, 2.22097740e+01, 2.02434184e-03,\n",
       "       2.79800034e+01, 1.25613113e+02, 1.04128385e+00, 1.03590987e-03,\n",
       "       2.33037701e+01, 5.84000163e-02, 1.63730141e-02, 7.37825111e-02,\n",
       "       2.56457436e-03, 2.06146360e-04, 6.73244324e+01, 1.13244581e+00,\n",
       "       2.94249821e+01, 4.87663078e+01, 1.68927062e+00, 1.81102931e-01,\n",
       "       1.53448807e+02, 4.16163867e-03, 2.61926937e+00, 1.43176705e-01,\n",
       "       4.73035946e-02, 1.60956293e-01, 9.87121353e+01, 4.78413010e+00,\n",
       "       6.33693695e+00, 2.35740585e+01, 6.40133545e-02, 2.78308702e+00,\n",
       "       8.11932278e+00, 9.35682178e-01, 5.32536507e-01, 1.76484406e-03,\n",
       "       2.72773253e-03, 4.64824028e-02, 4.39238396e+01, 1.01298273e+00,\n",
       "       2.57793350e+01, 2.26302834e+01, 1.48426034e-02, 2.03764973e+01,\n",
       "       4.21122074e+00, 1.51757821e-01, 1.84404403e-01, 2.74917275e-01,\n",
       "       3.95946838e-02, 2.42624283e-02, 1.97466431e+02, 5.58826828e+01,\n",
       "       2.40875745e+00, 1.38758972e+02, 7.87638626e+01, 6.95059169e-03,\n",
       "       6.11786652e+01, 5.93935072e-01, 1.32499647e+00, 1.95240662e+02,\n",
       "       7.06419556e+02, 6.28857231e+01, 2.39726086e+01, 7.63101349e+01,\n",
       "       1.13594284e+02, 3.87871909e+00, 2.86822567e+01, 4.32973785e+01,\n",
       "       1.82671344e+00, 4.30028868e+00, 7.04589005e+01, 5.30317007e-03,\n",
       "       1.76000297e-01, 3.51527818e-02, 1.16400042e+01, 5.67532873e+00,\n",
       "       9.38549347e+01, 3.07843566e+00, 1.41871381e+00, 6.54981077e-01,\n",
       "       4.40047646e+01, 1.73380319e-02, 1.01133823e+00, 2.14046985e-01,\n",
       "       2.18345430e-02, 6.26102882e-03, 9.33680801e+01, 1.43715478e-02,\n",
       "       3.40561562e+01, 3.89754581e+00, 1.51320124e+00, 5.57660997e-01,\n",
       "       1.21800318e-01, 4.86525953e-01, 1.08911109e+00, 7.34272599e-03,\n",
       "       5.32261748e-03, 1.48380592e-01, 2.62117714e-01, 1.17848120e+01,\n",
       "       1.19890223e+01, 6.26188316e+01, 4.64374638e+00, 7.93429911e-01,\n",
       "       9.43269806e+01, 7.84615457e-01, 2.18142366e+00, 9.47238412e-04,\n",
       "       5.26954280e-03, 3.67217734e-02, 9.40650761e-01, 1.02471030e+00,\n",
       "       1.95227871e+01, 3.39465675e+01, 9.73643482e-01, 3.36749572e-03,\n",
       "       1.07771408e+02, 8.43880951e-01, 2.25028157e+00, 5.76928258e-02,\n",
       "       1.89571641e-02, 4.52064537e-03, 3.11961079e+00, 4.63899918e+01,\n",
       "       5.77774572e+00, 1.41277054e+02, 1.99874172e+01, 1.85408611e+01,\n",
       "       1.36220169e+01, 2.08338108e+01, 1.30161285e+00, 2.67065067e+01,\n",
       "       3.90078235e+00, 2.04711962e+00, 4.79902694e-04, 4.50271778e-02,\n",
       "       1.15569844e-03, 4.73986912e+00, 1.32590675e+01, 9.89413548e+00,\n",
       "       1.77190155e+02, 5.54405117e+00, 5.76533973e-01, 8.15052700e+00,\n",
       "       2.49133635e+00, 7.46118546e+00, 1.00838327e+01, 1.02219987e+00,\n",
       "       6.86750531e-01, 1.70262177e-02, 3.39181907e-03, 3.48529220e-02,\n",
       "       1.03499657e-02, 2.08695218e-01, 3.21546078e-01, 8.65134907e+00,\n",
       "       1.29161634e+01, 1.81503952e+00, 1.27828753e+00, 2.97138429e+00,\n",
       "       3.46129656e+00, 1.05366173e+01, 1.46349207e-01, 1.12731826e+00,\n",
       "       1.40053415e+01, 1.03764284e+00, 4.79359627e+00, 1.29504990e+02,\n",
       "       7.70022869e+00, 6.09120429e-01, 7.88844376e+01, 1.07432472e+02,\n",
       "       6.99504700e+01, 6.53371681e-03, 2.74307895e-02, 1.10653639e-02,\n",
       "       4.34594612e+01, 2.15237245e-01, 3.15779896e+01, 9.39561951e+02,\n",
       "       6.40799133e+02, 1.14300171e+02, 6.49990177e+00, 2.02185810e-01,\n",
       "       3.44980583e+01, 7.08100464e+02, 5.96814108e+00, 4.07247650e+02,\n",
       "       5.58778038e+01, 2.73487015e+01, 3.72622275e+00, 5.35382414e+00,\n",
       "       3.39289322e+01, 7.67904282e+00, 1.18485680e+01, 2.76004732e-01,\n",
       "       1.96641602e+02, 2.22899225e-02, 6.35933876e-02, 4.30085900e-04,\n",
       "       7.39954805e+00, 2.89692253e-01, 1.34676142e+01, 6.62408371e+01,\n",
       "       6.62818909e-01, 1.29847145e-02, 4.36889191e+01, 3.36435670e-03,\n",
       "       2.97453981e-02, 4.64274622e-02, 1.31381676e-02, 2.17281543e-02,\n",
       "       2.61872649e+00, 3.45926428e+00, 7.85076046e+00, 2.11735001e+01,\n",
       "       8.91787708e-01, 3.39095481e-02, 2.39804440e+01, 1.35116324e-01,\n",
       "       1.03002632e+00, 5.41755855e-02, 8.25588778e-03, 1.04526959e-01,\n",
       "       2.39511719e+01, 6.12715864e+00, 3.35110593e+00, 6.95916748e+00,\n",
       "       6.96554407e-02, 1.57349730e+00, 6.24782681e-01, 1.08102202e+00,\n",
       "       5.00792265e-01, 1.44905155e-03, 9.91804409e-04, 9.70134232e-03,\n",
       "       2.23880196e+01, 2.74888802e+00, 1.48819656e+01, 1.45072460e+01,\n",
       "       1.74045805e-02, 1.40627794e+01, 6.41392946e+00, 1.68901727e-01,\n",
       "       9.44930911e-01, 1.43414542e-01, 1.83935557e-02, 4.73003909e-02,\n",
       "       1.68697586e+02, 1.91095543e+01, 3.18438959e+00, 2.04722977e+02,\n",
       "       5.94651451e+01, 2.80554295e+01, 4.81487579e+01, 1.82721233e+00,\n",
       "       8.48833656e+00, 5.08369980e+01, 5.92814575e+02, 2.08921149e-01,\n",
       "       1.90166168e+01, 4.47809753e+01, 1.18240028e+02, 6.53409734e-02,\n",
       "       2.22739143e+01, 2.72743797e+01, 2.63754129e+00, 1.22696674e+00,\n",
       "       5.23322372e+01, 6.09404314e-03, 1.28207684e-01, 2.79158950e-02,\n",
       "       6.77777752e-02, 1.40584641e+01, 7.32735596e+01, 5.13308239e+00,\n",
       "       1.22549415e+00, 1.88712135e-01, 9.33604126e+01, 4.07066271e-02,\n",
       "       2.32349229e+00, 2.07416862e-01, 5.67039102e-03, 6.51642564e-04,\n",
       "       3.50167999e+01, 1.73923898e+00, 3.70702629e+01, 9.54765320e+00,\n",
       "       3.82065207e-01, 1.12266195e+00, 4.59684868e+01, 3.28937024e-01,\n",
       "       2.63646603e+00, 6.54223189e-02, 2.59339809e-02, 6.73220456e-02,\n",
       "       2.40235119e+01, 3.12431049e+00, 1.81254177e+01, 1.60599003e+01,\n",
       "       3.20039964e+00, 7.93566287e-01, 1.56135864e+02, 4.16367829e-01,\n",
       "       3.22542763e+00, 1.23918066e-02, 4.16259700e-03, 8.00450593e-02,\n",
       "       3.66980523e-01, 8.88444558e-02, 2.08839130e+01, 4.80873413e+01,\n",
       "       8.21854472e-01, 3.66456717e-01, 2.67553772e+02, 1.23833895e+00,\n",
       "       4.48484850e+00, 4.33317460e-02, 1.62435193e-02, 1.48632168e-03,\n",
       "       6.42167997e+00, 3.56259308e+01, 7.07023680e-01, 1.28033020e+02,\n",
       "       2.27227631e+01, 1.25432987e+01, 7.03357172e+00, 1.55352354e-01,\n",
       "       1.08368969e+01, 9.69473076e+00, 2.15331030e+00, 2.09510946e+00,\n",
       "       2.65240378e-04, 3.07751931e-02, 8.68528988e-03, 1.49176846e+01,\n",
       "       1.91739674e+01, 1.94220276e+01, 1.55036545e+02, 1.06491795e+01,\n",
       "       2.30805659e+00, 1.76289253e+01, 2.89794197e+01, 1.71298962e+01,\n",
       "       2.37283077e+01, 2.80729508e+00, 1.24003425e-01, 6.34997338e-02,\n",
       "       8.01146825e-07, 3.95065919e-02, 2.05022795e-03, 2.27040499e-01,\n",
       "       2.32467830e-01, 6.67689133e+00, 1.11544895e+01, 7.27209234e+00,\n",
       "       9.85755980e-01, 3.40966731e-01, 1.07320464e+00, 2.77921581e+00],\n",
       "      dtype=float32)"
      ]
     },
     "execution_count": 34,
     "metadata": {},
     "output_type": "execute_result"
    }
   ],
   "source": [
    "differences[:1000]"
   ]
  },
  {
   "cell_type": "markdown",
   "metadata": {},
   "source": [
    "# VRNN"
   ]
  },
  {
   "cell_type": "code",
   "execution_count": 10,
   "metadata": {},
   "outputs": [],
   "source": [
    "input_dim = len(loader.train_data[0][1])\n",
    "device = torch.device(\"cuda\" if torch.cuda.is_available() else \"cpu\")  # device"
   ]
  },
  {
   "cell_type": "code",
   "execution_count": 11,
   "metadata": {},
   "outputs": [],
   "source": [
    "from Params import *\n",
    "from VRNN import *"
   ]
  },
  {
   "cell_type": "code",
   "execution_count": 12,
   "metadata": {},
   "outputs": [],
   "source": [
    "model = VRNN(input_dim, h_dim, z_dim, n_layers, device)\n",
    "#model.to(device)\n",
    "#optimizer = torch.optim.Adam(model.parameters(), lr=learning_rate)"
   ]
  },
  {
   "cell_type": "code",
   "execution_count": 13,
   "metadata": {},
   "outputs": [
    {
     "data": {
      "text/plain": [
       "<All keys matched successfully>"
      ]
     },
     "execution_count": 13,
     "metadata": {},
     "output_type": "execute_result"
    }
   ],
   "source": [
    "model.load_state_dict(torch.load(\"runs/2020_12_14_16_33_16_nr.pth\").state_dict())"
   ]
  },
  {
   "cell_type": "code",
   "execution_count": 14,
   "metadata": {},
   "outputs": [],
   "source": [
    "for batch_data, pad_data in loader.next_batch(batch_size, train_mode=False):\n",
    "    batch_data = batch_data.to(device)\n",
    "    pad_data = pad_data.to(device)\n",
    "\n",
    "    kld_loss, mse_loss, _, _ = model(batch_data, pad_data)\n",
    "    \n",
    "    break"
   ]
  },
  {
   "cell_type": "code",
   "execution_count": 16,
   "metadata": {},
   "outputs": [
    {
     "data": {
      "text/plain": [
       "tensor(1716.9915, device='cuda:0', grad_fn=<DivBackward0>)"
      ]
     },
     "execution_count": 16,
     "metadata": {},
     "output_type": "execute_result"
    }
   ],
   "source": [
    "mse_loss / len(batch_data)"
   ]
  },
  {
   "cell_type": "code",
   "execution_count": 17,
   "metadata": {},
   "outputs": [],
   "source": [
    "x_rec = model.reconstruct(batch_data)"
   ]
  },
  {
   "cell_type": "code",
   "execution_count": 18,
   "metadata": {},
   "outputs": [
    {
     "data": {
      "text/plain": [
       "torch.Size([32, 42, 198])"
      ]
     },
     "execution_count": 18,
     "metadata": {},
     "output_type": "execute_result"
    }
   ],
   "source": [
    "batch_data.shape"
   ]
  },
  {
   "cell_type": "code",
   "execution_count": 19,
   "metadata": {},
   "outputs": [
    {
     "data": {
      "text/plain": [
       "torch.Size([32, 42, 198])"
      ]
     },
     "execution_count": 19,
     "metadata": {},
     "output_type": "execute_result"
    }
   ],
   "source": [
    "x_rec.shape"
   ]
  },
  {
   "cell_type": "code",
   "execution_count": 36,
   "metadata": {},
   "outputs": [],
   "source": [
    "differences = (x_rec - batch_data)**2"
   ]
  },
  {
   "cell_type": "code",
   "execution_count": 27,
   "metadata": {},
   "outputs": [],
   "source": [
    "differences = differences.view(-1).data.cpu()"
   ]
  },
  {
   "cell_type": "code",
   "execution_count": 31,
   "metadata": {},
   "outputs": [],
   "source": [
    "differences = np.asarray(differences)"
   ]
  },
  {
   "cell_type": "code",
   "execution_count": 37,
   "metadata": {},
   "outputs": [
    {
     "data": {
      "text/plain": [
       "torch.Size([32, 42, 198])"
      ]
     },
     "execution_count": 37,
     "metadata": {},
     "output_type": "execute_result"
    }
   ],
   "source": [
    "differences.shape"
   ]
  },
  {
   "cell_type": "code",
   "execution_count": 143,
   "metadata": {},
   "outputs": [],
   "source": [
    "differences = differences.view(-1, 198)"
   ]
  },
  {
   "cell_type": "code",
   "execution_count": 144,
   "metadata": {},
   "outputs": [],
   "source": [
    "differences = np.asarray(differences.data.cpu())"
   ]
  },
  {
   "cell_type": "code",
   "execution_count": 146,
   "metadata": {},
   "outputs": [
    {
     "data": {
      "text/plain": [
       "(512, 198)"
      ]
     },
     "execution_count": 146,
     "metadata": {},
     "output_type": "execute_result"
    }
   ],
   "source": [
    "differences.shape"
   ]
  },
  {
   "cell_type": "code",
   "execution_count": 60,
   "metadata": {},
   "outputs": [],
   "source": [
    "import pandas as pd"
   ]
  },
  {
   "cell_type": "code",
   "execution_count": 105,
   "metadata": {},
   "outputs": [],
   "source": [
    "dataset = pd.DataFrame(np.sqrt(differences))\n",
    "\n",
    "s = pd.DataFrame(dataset.unstack())\n",
    "\n",
    "s = s.droplevel(1)\n",
    "\n",
    "s.reset_index(inplace=True)\n",
    "\n",
    "s['model'] = \"VRNN\"\n",
    "\n",
    "s.head()\n",
    "\n",
    "len(s)\n",
    "\n",
    "body_part = []\n",
    "for i in range(len(s)):\n",
    "    joint_index = s['index'][i]\n",
    "    if joint_index < 4:\n",
    "        body_part.append(\"Body\")\n",
    "    elif joint_index < 7:\n",
    "        body_part.append(\"Head\")\n",
    "    elif (joint_index >= 7 and joint_index < 11) or (joint_index >= 31 and joint_index < 35):\n",
    "        body_part.append(\"Arm\")\n",
    "    elif joint_index >= 55:\n",
    "        body_part.append(\"Leg\")\n",
    "    else:\n",
    "        body_part.append(\"Hand\")\n",
    "\n",
    "s[\"Body part\"] = body_part\n",
    "\n",
    "s.columns = ['index', 'error', 'model', 'body part']\n",
    "\n",
    "s.head()"
   ]
  },
  {
   "cell_type": "code",
   "execution_count": 155,
   "metadata": {},
   "outputs": [
    {
     "data": {
      "image/png": "[encoded data removed]",
      "text/plain": [
       "<Figure size 432x432 with 1 Axes>"
      ]
     },
     "metadata": {},
     "output_type": "display_data"
    }
   ],
   "source": [
    "\n",
    "sns.boxplot(x=\"body part\", y=\"error\", data=s,showfliers=False)\n",
    "plt.ylim(0, 10)\n",
    "plt.show()"
   ]
  },
  {
   "cell_type": "code",
   "execution_count": 147,
   "metadata": {},
   "outputs": [
    {
     "data": {
      "text/html": [
       "<div>\n",
       "<style scoped>\n",
       "    .dataframe tbody tr th:only-of-type {\n",
       "        vertical-align: middle;\n",
       "    }\n",
       "\n",
       "    .dataframe tbody tr th {\n",
       "        vertical-align: top;\n",
       "    }\n",
       "\n",
       "    .dataframe thead th {\n",
       "        text-align: right;\n",
       "    }\n",
       "</style>\n",
       "<table border=\"1\" class=\"dataframe\">\n",
       "  <thead>\n",
       "    <tr style=\"text-align: right;\">\n",
       "      <th></th>\n",
       "      <th>index</th>\n",
       "      <th>error</th>\n",
       "      <th>model</th>\n",
       "      <th>body part</th>\n",
       "    </tr>\n",
       "  </thead>\n",
       "  <tbody>\n",
       "    <tr>\n",
       "      <th>0</th>\n",
       "      <td>0</td>\n",
       "      <td>0.131832</td>\n",
       "      <td>Transformer-VAE</td>\n",
       "      <td>Body</td>\n",
       "    </tr>\n",
       "    <tr>\n",
       "      <th>1</th>\n",
       "      <td>0</td>\n",
       "      <td>0.015932</td>\n",
       "      <td>Transformer-VAE</td>\n",
       "      <td>Body</td>\n",
       "    </tr>\n",
       "    <tr>\n",
       "      <th>2</th>\n",
       "      <td>0</td>\n",
       "      <td>0.053306</td>\n",
       "      <td>Transformer-VAE</td>\n",
       "      <td>Body</td>\n",
       "    </tr>\n",
       "    <tr>\n",
       "      <th>3</th>\n",
       "      <td>0</td>\n",
       "      <td>0.142861</td>\n",
       "      <td>Transformer-VAE</td>\n",
       "      <td>Body</td>\n",
       "    </tr>\n",
       "    <tr>\n",
       "      <th>4</th>\n",
       "      <td>0</td>\n",
       "      <td>0.112027</td>\n",
       "      <td>Transformer-VAE</td>\n",
       "      <td>Body</td>\n",
       "    </tr>\n",
       "  </tbody>\n",
       "</table>\n",
       "</div>"
      ],
      "text/plain": [
       "   index     error            model body part\n",
       "0      0  0.131832  Transformer-VAE      Body\n",
       "1      0  0.015932  Transformer-VAE      Body\n",
       "2      0  0.053306  Transformer-VAE      Body\n",
       "3      0  0.142861  Transformer-VAE      Body\n",
       "4      0  0.112027  Transformer-VAE      Body"
      ]
     },
     "execution_count": 147,
     "metadata": {},
     "output_type": "execute_result"
    }
   ],
   "source": [
    "dataset = pd.DataFrame(np.sqrt(differences))\n",
    "\n",
    "s2 = pd.DataFrame(dataset.unstack())\n",
    "\n",
    "s2 = s2.droplevel(1)\n",
    "\n",
    "s2.reset_index(inplace=True)\n",
    "\n",
    "s2['model'] = \"Transformer-VAE\"\n",
    "\n",
    "s2.head()\n",
    "\n",
    "len(s2)\n",
    "\n",
    "body_part = []\n",
    "for i in range(len(s2)):\n",
    "    joint_index = s['index'][i]\n",
    "    if joint_index < 4:\n",
    "        body_part.append(\"Body\")\n",
    "    elif joint_index < 7:\n",
    "        body_part.append(\"Head\")\n",
    "    elif (joint_index >= 7 and joint_index < 11) or (joint_index >= 31 and joint_index < 35):\n",
    "        body_part.append(\"Arm\")\n",
    "    elif joint_index >= 55:\n",
    "        body_part.append(\"Leg\")\n",
    "    else:\n",
    "        body_part.append(\"Hand\")\n",
    "\n",
    "s2[\"Body part\"] = body_part\n",
    "\n",
    "s2.columns = ['index', 'error', 'model', 'body part']\n",
    "\n",
    "s2.head()"
   ]
  },
  {
   "cell_type": "code",
   "execution_count": 149,
   "metadata": {},
   "outputs": [
    {
     "data": {
      "image/png": "[encoded data removed]",
      "text/plain": [
       "<Figure size 432x288 with 1 Axes>"
      ]
     },
     "metadata": {},
     "output_type": "display_data"
    }
   ],
   "source": [
    "sns.boxplot(x=\"body part\", y=\"error\", data=s2,showfliers=False)\n",
    "plt.ylim(0, 10)\n",
    "plt.show()"
   ]
  },
  {
   "cell_type": "code",
   "execution_count": 150,
   "metadata": {},
   "outputs": [],
   "source": [
    "ss = pd.concat([s, s2], axis=0, sort=False)"
   ]
  },
  {
   "cell_type": "code",
   "execution_count": 158,
   "metadata": {},
   "outputs": [
    {
     "data": {
      "image/png": "[encoded data removed]",
      "text/plain": [
       "<Figure size 864x432 with 1 Axes>"
      ]
     },
     "metadata": {},
     "output_type": "display_data"
    }
   ],
   "source": [
    "plt.figure(figsize=(12,6))\n",
    "sns.boxplot(x=\"body part\", y=\"error\", hue=\"model\", data=ss,showfliers=False)\n",
    "plt.ylim(0, 10)\n",
    "plt.legend(loc='upper left')\n",
    "plt.show()"
   ]
  },
  {
   "cell_type": "code",
   "execution_count": 160,
   "metadata": {},
   "outputs": [
    {
     "data": {
      "text/plain": [
       "(512, 198)"
      ]
     },
     "execution_count": 160,
     "metadata": {},
     "output_type": "execute_result"
    }
   ],
   "source": [
    "differences.shape"
   ]
  },
  {
   "cell_type": "code",
   "execution_count": 167,
   "metadata": {},
   "outputs": [
    {
     "name": "stdout",
     "output_type": "stream",
     "text": [
      "0.5689108345358346\n",
      "0.45243450126262624\n"
     ]
    }
   ],
   "source": [
    "print(np.mean(s['error'] < 1.0))\n",
    "print(np.mean(s2['error'] < 1.0))\n"
   ]
  },
  {
   "cell_type": "code",
   "execution_count": 168,
   "metadata": {},
   "outputs": [
    {
     "name": "stdout",
     "output_type": "stream",
     "text": [
      "0.8729933261183261\n",
      "0.7451665088383839\n"
     ]
    }
   ],
   "source": [
    "print(np.mean(s['error'] < 5.0))\n",
    "print(np.mean(s2['error'] < 5.0))"
   ]
  },
  {
   "cell_type": "code",
   "execution_count": 166,
   "metadata": {},
   "outputs": [
    {
     "name": "stdout",
     "output_type": "stream",
     "text": [
      "0.03298986892736893\n",
      "0.15471117424242425\n"
     ]
    }
   ],
   "source": [
    "print(np.mean(s['error'] > 10.0))\n",
    "print(np.mean(s2['error'] > 10.0))"
   ]
  },
  {
   "cell_type": "code",
   "execution_count": null,
   "metadata": {},
   "outputs": [],
   "source": []
  }
 ],
 "metadata": {
  "kernelspec": {
   "display_name": "Python 3",
   "language": "python",
   "name": "python3"
  },
  "language_info": {
   "codemirror_mode": {
    "name": "ipython",
    "version": 3
   },
   "file_extension": ".py",
   "mimetype": "text/x-python",
   "name": "python",
   "nbconvert_exporter": "python",
   "pygments_lexer": "ipython3",
   "version": "3.7.9"
  }
 },
 "nbformat": 4,
 "nbformat_minor": 4
}
