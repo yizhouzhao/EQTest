{
 "cells": [
  {
   "cell_type": "markdown",
   "metadata": {},
   "source": [
    "# Get"
   ]
  },
  {
   "cell_type": "markdown",
   "metadata": {},
   "source": [
    "# Maya external socket command"
   ]
  },
  {
   "cell_type": "markdown",
   "metadata": {},
   "source": [
    "## 1. Maya server: run the follow command in the script editor(Python) in Maya\n",
    "\n",
    "### open server\n",
    "import maya.cmds as cmds\n",
    "\n",
    "cmds.commandPort(n=\"localhost:12345\")\n",
    "\n",
    "### close server\n",
    "\n",
    "cmds.commandPort(cl=True, n=\"localhost:12345\")\n"
   ]
  },
  {
   "cell_type": "code",
   "execution_count": 1,
   "metadata": {},
   "outputs": [],
   "source": [
    "import socket\n",
    "import numpy as np"
   ]
  },
  {
   "cell_type": "code",
   "execution_count": 2,
   "metadata": {},
   "outputs": [],
   "source": [
    "# connect to Maya server\n",
    "HOST = '127.0.0.1'                 # Symbolic name meaning the local host\n",
    "PORT = 12345              # Arbitrary non-privileged port\n",
    "\n",
    "ADDR=(HOST,PORT)\n",
    "\n",
    "client = socket.socket(socket.AF_INET, socket.SOCK_STREAM)\n",
    "client.connect(ADDR)"
   ]
  },
  {
   "cell_type": "code",
   "execution_count": 3,
   "metadata": {},
   "outputs": [],
   "source": [
    "def SendCommand(command:str):\n",
    "    #client = socket.socket(socket.AF_INET, socket.SOCK_STREAM)\n",
    "    #client.connect(ADDR)\n",
    "    command = command.encode() # the command from external editor to maya\n",
    "\n",
    "    MyMessage = command\n",
    "    client.send(MyMessage)\n",
    "    data = client.recv(1024)#receive the result info\n",
    "    #client.close()\n",
    "    #print(data)\n",
    "    #ret = str(data.decode(encoding=\"ASCII\"))\n",
    "    ret = data.decode(\"utf-8\")\n",
    "    return ret"
   ]
  },
  {
   "cell_type": "code",
   "execution_count": 4,
   "metadata": {
    "scrolled": false
   },
   "outputs": [
    {
     "output_type": "execute_result",
     "data": {
      "text/plain": "'pCube1\\tpolyCube1\\n\\x00'"
     },
     "metadata": {},
     "execution_count": 4
    }
   ],
   "source": [
    "#Test one: send command \n",
    "command = \"polyCube()\"\n",
    "SendCommand(command)"
   ]
  },
  {
   "cell_type": "code",
   "execution_count": 5,
   "metadata": {},
   "outputs": [],
   "source": [
    "def GetObjectWorldTransform(object_name:str):\n",
    "    '''\n",
    "    Get Object world location\n",
    "    return: cordindate [x,y,z]\n",
    "    '''\n",
    "    send_message = \"xform -q -t -ws \" + object_name + \";\"\n",
    "    recv_message = SendCommand(send_message)\n",
    "    recv_message = recv_message.rstrip('\\x00').rstrip('\\n').split('\\t')\n",
    "    return [np.around(float(_), decimals = 2) for _ in recv_message]"
   ]
  },
  {
   "cell_type": "code",
   "execution_count": 6,
   "metadata": {},
   "outputs": [
    {
     "output_type": "execute_result",
     "data": {
      "text/plain": "[2.06, 0.0, -5.34]"
     },
     "metadata": {},
     "execution_count": 6
    }
   ],
   "source": [
    "#Test two: get object world location\n",
    "GetObjectWorldTransform(\"Main\")\n",
    "#GetObjectWorldTransform(\"Root_M\")\n"
   ]
  },
  {
   "cell_type": "code",
   "execution_count": 7,
   "metadata": {},
   "outputs": [],
   "source": [
    "#['blink','translateX']"
   ]
  },
  {
   "cell_type": "code",
   "execution_count": 8,
   "metadata": {},
   "outputs": [],
   "source": [
    "def GetObjectAttribute(object_name:str, attr_name:str):\n",
    "    '''\n",
    "    Get attribute value\n",
    "    return [float]\n",
    "    '''\n",
    "    send_message = \"getAttr \" + object_name + \".\" + attr_name + \";\"\n",
    "    recv_message = SendCommand(send_message)\n",
    "    recv_message = recv_message.rstrip('\\x00').rstrip('\\n').split('\\t')\n",
    "    return [np.around(float(_), decimals = 2) for _ in recv_message]"
   ]
  },
  {
   "cell_type": "code",
   "execution_count": 9,
   "metadata": {},
   "outputs": [
    {
     "output_type": "execute_result",
     "data": {
      "text/plain": "[0.0]"
     },
     "metadata": {},
     "execution_count": 9
    }
   ],
   "source": [
    "#Test Three: get object attribute\n",
    "GetObjectAttribute(\"ctrlEye_L\",\"blink\")"
   ]
  },
  {
   "cell_type": "code",
   "execution_count": 10,
   "metadata": {},
   "outputs": [],
   "source": [
    "def GetBodyInformation(joint_list : list):\n",
    "    BODY_INFO_DIC = {}\n",
    "    for joint_name in joint_list:\n",
    "        \n",
    "        info_dict = {}\n",
    "        world_transform = GetObjectWorldTransform(joint_name)\n",
    "        info_dict[\"world_transform\"] = world_transform\n",
    "        \n",
    "        local_transform = GetObjectAttribute(joint_name, \"translate\")\n",
    "        info_dict[\"local_transform\"] = local_transform\n",
    "        \n",
    "        local_rotation = GetObjectAttribute(joint_name, \"rotate\")\n",
    "        info_dict[\"local_rotation\"] = local_rotation\n",
    "        \n",
    "        BODY_INFO_DIC[joint_name] = info_dict\n",
    "    \n",
    "    return BODY_INFO_DIC\n"
   ]
  },
  {
   "cell_type": "code",
   "execution_count": 11,
   "metadata": {},
   "outputs": [],
   "source": [
    "BODY_JOINT_LIST = [\"Main\",\"FKRoot_M\", \"FKSpine1_M\", \"FKChest_M\", \"Neck_M\",\n",
    "                   \"FKShoulder_R\", \"FKShoulder_L\", \"FKElbow_R\", \"FKElbow_L\", \"FKWrist_R\", \"FKWrist_L\", \"IKLeg_R\", \"IKLeg_L\"]"
   ]
  },
  {
   "cell_type": "code",
   "execution_count": 12,
   "metadata": {},
   "outputs": [],
   "source": [
    "# Test three: get body joint\n",
    "body_joint_info_dict = GetBodyInformation(BODY_JOINT_LIST)"
   ]
  },
  {
   "cell_type": "code",
   "execution_count": 13,
   "metadata": {},
   "outputs": [
    {
     "output_type": "execute_result",
     "data": {
      "text/plain": "{'Main': {'world_transform': [2.06, 0.0, -5.34],\n  'local_transform': [2.06, 0.0, -5.34],\n  'local_rotation': [0.0, 0.0, 0.0]},\n 'FKRoot_M': {'world_transform': [2.06, 9.83, -5.34],\n  'local_transform': [0.0, 0.0, 0.0],\n  'local_rotation': [0.0, 0.0, 0.0]},\n 'FKSpine1_M': {'world_transform': [2.06, 11.76, -5.34],\n  'local_transform': [0.0, 0.0, 0.0],\n  'local_rotation': [0.0, 0.0, 0.0]},\n 'FKChest_M': {'world_transform': [2.06, 14.0, -5.34],\n  'local_transform': [0.0, 0.0, 0.0],\n  'local_rotation': [0.0, 0.0, 0.0]},\n 'Neck_M': {'world_transform': [2.06, 15.88, -5.4],\n  'local_transform': [1.88, 0.0, 0.0],\n  'local_rotation': [0.0, 0.0, -0.0]},\n 'FKShoulder_R': {'world_transform': [-0.11, 15.13, -5.41],\n  'local_transform': [0.0, 0.0, 0.0],\n  'local_rotation': [0.0, 90.0, 0.0]},\n 'FKShoulder_L': {'world_transform': [4.23, 15.13, -5.41],\n  'local_transform': [0.0, 0.0, 0.0],\n  'local_rotation': [0.0, 90.0, 0.0]},\n 'FKElbow_R': {'world_transform': [-0.11, 12.31, -5.41],\n  'local_transform': [0.0, 0.0, 0.0],\n  'local_rotation': [0.0, 0.0, 5.0]},\n 'FKElbow_L': {'world_transform': [4.23, 12.31, -5.41],\n  'local_transform': [0.0, 0.0, 0.0],\n  'local_rotation': [0.0, 0.0, 5.0]},\n 'FKWrist_R': {'world_transform': [-0.13, 9.32, -4.97],\n  'local_transform': [0.0, 0.0, 0.0],\n  'local_rotation': [0.0, 0.0, 0.0]},\n 'FKWrist_L': {'world_transform': [4.25, 9.32, -4.97],\n  'local_transform': [0.0, 0.0, 0.0],\n  'local_rotation': [0.0, 0.0, 0.0]},\n 'IKLeg_R': {'world_transform': [1.31, 1.06, -5.43],\n  'local_transform': [0.0, 0.0, 0.0],\n  'local_rotation': [0.0, 0.0, 0.0]},\n 'IKLeg_L': {'world_transform': [2.81, 1.06, -5.43],\n  'local_transform': [0.0, 0.0, 0.0],\n  'local_rotation': [0.0, 0.0, 0.0]}}"
     },
     "metadata": {},
     "execution_count": 13
    }
   ],
   "source": [
    "body_joint_info_dict"
   ]
  },
  {
   "cell_type": "code",
   "execution_count": 14,
   "metadata": {},
   "outputs": [],
   "source": [
    "def GetFingerCurlInformation():    \n",
    "    info_dict = {\"right_fingers\":{}, \"left_fingers\":{}}\n",
    "    \n",
    "    thumb_curl = GetObjectAttribute(\"Fingers_R\", \"thumbCurl\")\n",
    "    info_dict[\"right_fingers\"][\"thumb_curl\"] = thumb_curl\n",
    "    \n",
    "    index_curl = GetObjectAttribute(\"Fingers_R\", \"indexCurl\")\n",
    "    info_dict[\"right_fingers\"][\"index_curl\"] = index_curl\n",
    "    \n",
    "    middle_curl = GetObjectAttribute(\"Fingers_R\", \"middleCurl\")\n",
    "    info_dict[\"right_fingers\"][\"middle_curl\"] = middle_curl\n",
    "    \n",
    "    ring_curl = GetObjectAttribute(\"Fingers_R\", \"ringCurl\")\n",
    "    info_dict[\"right_fingers\"][\"ring_curl\"] = ring_curl\n",
    "    \n",
    "    pinky_curl = GetObjectAttribute(\"Fingers_R\", \"pinkyCurl\")\n",
    "    info_dict[\"right_fingers\"][\"pinky_curl\"] = pinky_curl\n",
    "    \n",
    "    thumb_curl = GetObjectAttribute(\"Fingers_L\", \"thumbCurl\")\n",
    "    info_dict[\"left_fingers\"][\"thumb_curl\"] = thumb_curl\n",
    "\n",
    "    index_curl = GetObjectAttribute(\"Fingers_L\", \"indexCurl\")\n",
    "    info_dict[\"left_fingers\"][\"index_curl\"] = index_curl\n",
    "\n",
    "    middle_curl = GetObjectAttribute(\"Fingers_L\", \"middleCurl\")\n",
    "    info_dict[\"left_fingers\"][\"middle_curl\"] = middle_curl\n",
    "\n",
    "    ring_curl = GetObjectAttribute(\"Fingers_L\", \"ringCurl\")\n",
    "    info_dict[\"left_fingers\"][\"ring_curl\"] = ring_curl\n",
    "\n",
    "    pinky_curl = GetObjectAttribute(\"Fingers_L\", \"pinkyCurl\")\n",
    "    info_dict[\"left_fingers\"][\"pinky_curl\"] = pinky_curl\n",
    "    \n",
    "    return info_dict  "
   ]
  },
  {
   "cell_type": "code",
   "execution_count": 15,
   "metadata": {},
   "outputs": [],
   "source": [
    "# Test four: get body joint\n",
    "finger_curl_info_dict = GetFingerCurlInformation()"
   ]
  },
  {
   "cell_type": "code",
   "execution_count": 16,
   "metadata": {},
   "outputs": [
    {
     "output_type": "execute_result",
     "data": {
      "text/plain": "{'right_fingers': {'thumb_curl': [2.0],\n  'index_curl': [2.0],\n  'middle_curl': [2.0],\n  'ring_curl': [2.0],\n  'pinky_curl': [2.0]},\n 'left_fingers': {'thumb_curl': [2.0],\n  'index_curl': [2.0],\n  'middle_curl': [2.0],\n  'ring_curl': [2.0],\n  'pinky_curl': [2.0]}}"
     },
     "metadata": {},
     "execution_count": 16
    }
   ],
   "source": [
    "finger_curl_info_dict"
   ]
  },
  {
   "cell_type": "code",
   "execution_count": 17,
   "metadata": {},
   "outputs": [],
   "source": [
    "def GetFaceInformation():\n",
    "    info_dict = {}\n",
    "    eyebrow_r_x = GetObjectAttribute(\"ctrlBrow_R\", \"translateX\")\n",
    "    eyebrow_r_y = GetObjectAttribute(\"ctrlBrow_R\", \"translateY\")\n",
    "    eyebrow_l_x = GetObjectAttribute(\"ctrlBrow_L\", \"translateX\")\n",
    "    eyebrow_l_y = GetObjectAttribute(\"ctrlBrow_L\", \"translateY\")\n",
    "    \n",
    "    info_dict[\"eye_brow\"] = {\"eyebrow_r_x\":eyebrow_r_x, \"eyebrow_r_y\":eyebrow_r_y, \n",
    "                            \"eyebrow_l_x\":eyebrow_l_x, \"eyebrow_l_y\":eyebrow_l_y}\n",
    "    \n",
    "    eye_r_x = GetObjectAttribute(\"ctrlEye_R\", \"translateX\")\n",
    "    eye_r_y = GetObjectAttribute(\"ctrlEye_R\", \"translateY\")\n",
    "    eye_r_blink = GetObjectAttribute(\"ctrlEye_R\", \"blink\")\n",
    "    \n",
    "    \n",
    "    eye_l_x = GetObjectAttribute(\"ctrlEye_L\", \"translateX\")\n",
    "    eye_l_y = GetObjectAttribute(\"ctrlEye_L\", \"translateY\")\n",
    "    eye_l_blink = GetObjectAttribute(\"ctrlEye_L\", \"blink\")\n",
    "    \n",
    "    info_dict[\"eye\"] = {\"eye_r_x\":eye_r_x, \"eye_r_y\":eye_r_y, \"eye_r_blink\":eye_r_blink, \n",
    "                        \"eye_l_x\":eye_l_x, \"eye_l_y\":eye_l_y, \"eye_l_blink\":eye_l_blink}\n",
    "    \n",
    "    mouth_x = GetObjectAttribute(\"ctrlMouth_M\", \"translateX\")\n",
    "    mouth_y = GetObjectAttribute(\"ctrlMouth_M\", \"translateY\")\n",
    "    \n",
    "    info_dict[\"mouth\"] = {\"mouth_x\":mouth_x, \"mouth_y\":mouth_y}\n",
    "    \n",
    "    mouth_corner_L = GetObjectAttribute(\"ctrlMouthCorner_L\", \"translateY\")\n",
    "    mouth_corner_R = GetObjectAttribute(\"ctrlMouthCorner_R\", \"translateY\")\n",
    "    \n",
    "    info_dict[\"mouth_corner\"] = {\"mouth_corner_L\":mouth_corner_L, \"mouth_corner_R\":mouth_corner_R}\n",
    "    \n",
    "    return info_dict"
   ]
  },
  {
   "cell_type": "code",
   "execution_count": 18,
   "metadata": {},
   "outputs": [],
   "source": [
    "# Test four: get face emotions\n",
    "face_info_dict = GetFaceInformation()"
   ]
  },
  {
   "cell_type": "code",
   "execution_count": 19,
   "metadata": {},
   "outputs": [
    {
     "output_type": "execute_result",
     "data": {
      "text/plain": "{'eye_brow': {'eyebrow_r_x': [0.0],\n  'eyebrow_r_y': [0.0],\n  'eyebrow_l_x': [0.0],\n  'eyebrow_l_y': [0.0]},\n 'eye': {'eye_r_x': [0.0],\n  'eye_r_y': [0.0],\n  'eye_r_blink': [0.0],\n  'eye_l_x': [0.0],\n  'eye_l_y': [0.0],\n  'eye_l_blink': [0.0]},\n 'mouth': {'mouth_x': [0.0], 'mouth_y': [0.0]},\n 'mouth_corner': {'mouth_corner_L': [0.0], 'mouth_corner_R': [0.0]}}"
     },
     "metadata": {},
     "execution_count": 19
    }
   ],
   "source": [
    "face_info_dict"
   ]
  },
  {
   "cell_type": "code",
   "execution_count": 20,
   "metadata": {},
   "outputs": [],
   "source": [
    "client.close()"
   ]
  },
  {
   "cell_type": "code",
   "execution_count": null,
   "metadata": {},
   "outputs": [],
   "source": []
  }
 ],
 "metadata": {
  "kernelspec": {
   "display_name": "Python 3",
   "language": "python",
   "name": "python3"
  },
  "language_info": {
   "codemirror_mode": {
    "name": "ipython",
    "version": 3
   },
   "file_extension": ".py",
   "mimetype": "text/x-python",
   "name": "python",
   "nbconvert_exporter": "python",
   "pygments_lexer": "ipython3",
   "version": "3.7.6"
  }
 },
 "nbformat": 4,
 "nbformat_minor": 4
}